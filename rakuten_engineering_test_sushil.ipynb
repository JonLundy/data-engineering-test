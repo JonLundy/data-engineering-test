{
 "cells": [
  {
   "cell_type": "markdown",
   "metadata": {},
   "source": [
    "# Rakuten USA - Data Engineering Test\n",
    "\n",
    "### Goal\n",
    "The goal of this test is not ment to be exhaustive, but we do want to test your skills in analytical thinking, SQL, data wrangling, data analysis, and data visualization. \n",
    "\n",
    "**Please remember:** The better that you do on this assignment, the less questions we will have during your on-site interviews. :)\n",
    "\n",
    "### Expectations\n",
    "You can expect this test to use the following technologies:\n",
    "- Python3\n",
    "- Jupyter Notebook\n",
    "- PySpark\n",
    "- PySpark SQL\n",
    "\n",
    "This test will cover the following areas: \n",
    "- Data Cleaning/Wrangling\n",
    "- Exploratory Data Analysis (EDA)\n",
    "- Data Visualization\n",
    "\n",
    "This test should take you no more than 2-4 hours.\n",
    "\n",
    "### What to turn in, and where to send your test\n",
    "Please email stirling.waite@rakuten with your finished notebook\n",
    "- rakuten_engineer_test.ipynb\n",
    " \n",
    "### Questions?\n",
    "Feel free to email me or call me with any questions about this test\n",
    "- Email: stirling.waite@rakuten.com\n",
    "- Phone: 801-856-1426\n",
    "- LinkedIn Chat: https://www.linkedin.com/in/stirlingwaite/\n",
    "- Gchat: stirlingw@gmail.com"
   ]
  },
  {
   "cell_type": "code",
   "execution_count": null,
   "metadata": {},
   "outputs": [],
   "source": []
  },
  {
   "cell_type": "code",
   "execution_count": null,
   "metadata": {},
   "outputs": [],
   "source": []
  },
  {
   "cell_type": "markdown",
   "metadata": {},
   "source": [
    "# About The Dataset\n",
    "\n",
    "Below you will find a modified free Kaggle competition dataset from https://www.kaggle.com/mayank811/employee-reviews/data using scraped data from Glassdoor.com.\n",
    "\n",
    "## Context\n",
    "- Over 67k employee reviews for Google, Amazon, Facebook, Apple, Microsoft, and Netflix.\n",
    "- Web scraped from Glassdoor\n",
    "\n",
    "## Content\n",
    "This dataset contains employee reviews separated into the following categories:\n",
    "\n",
    "- **Index:** index\n",
    "- **Company:** Company name\n",
    "- **Location:** This dataset is global, as such it may include the country's name in parenthesis [i.e \"Toronto, ON(Canada)\"]. However, if the location is in the USA then it will only include the city and state[i.e \"Los Angeles, CA\" ]\n",
    "- **Date Posted:** in the following format MM DD, YYYY\n",
    "- **Job-Title:** This string will also include whether the reviewer is a 'Current' or 'Former' Employee at the time of the review\n",
    "- **Summary:** Short summary of employee review\n",
    "- **Pros:** Pros\n",
    "- **Cons:** Cons\n",
    "- **Overall Rating:** 1-5\n",
    "- **Work/Life Balance Rating:** 1-5\n",
    "- **Culture and Values Rating:** 1-5\n",
    "- **Career Opportunities Rating:** 1-5\n",
    "- **Comp & Benefits Rating:** 1-5\n",
    "- **Senior Management Rating:** 1-5\n",
    "- **Helpful Review Count:** 1-5\n",
    "\n",
    "**Link to Review:** This will provide you with a direct link to the page that contains the review. However it is likely that this link will be outdated\n",
    "\n",
    "**NOTE:** 'none' is placed in all cells where no data value was found.\n",
    "\n"
   ]
  },
  {
   "cell_type": "code",
   "execution_count": 6,
   "metadata": {},
   "outputs": [],
   "source": [
    "import os \n"
   ]
  },
  {
   "cell_type": "code",
   "execution_count": 7,
   "metadata": {},
   "outputs": [
    {
     "data": {
      "text/plain": [
       "'C:\\\\Users\\\\Sushil\\\\Downloads'"
      ]
     },
     "execution_count": 7,
     "metadata": {},
     "output_type": "execute_result"
    }
   ],
   "source": [
    "os.getcwd()"
   ]
  },
  {
   "cell_type": "markdown",
   "metadata": {},
   "source": [
    "# PySpark Initialization"
   ]
  },
  {
   "cell_type": "code",
   "execution_count": 110,
   "metadata": {},
   "outputs": [],
   "source": [
    "import re\n",
    "import pyspark\n",
    "from pyspark import SparkConf, SparkContext, SQLContext\n",
    "from pyspark.sql import SparkSession, Row\n",
    "from pyspark.sql.functions import *\n",
    "from pyspark.sql import functions as fn\n",
    "from pyspark.sql import types as t\n",
    "from pyspark.sql.types import *\n",
    "from datetime import datetime\n",
    "from pyspark.sql.functions import lit"
   ]
  },
  {
   "cell_type": "code",
   "execution_count": 113,
   "metadata": {},
   "outputs": [],
   "source": [
    "conf = SparkConf()\\\n",
    "                .setMaster(\"local[*]\")\\\n",
    "                .setAppName(\"rakutenHomework\")\n",
    "        \n",
    "sc = SparkContext(conf=conf)\n",
    "sc.setLogLevel(\"ERROR\")\n",
    "sqlContext = SQLContext(sc)\n",
    "spark = SparkSession.builder.appName(\"spark play\").getOrCreate()"
   ]
  },
  {
   "cell_type": "code",
   "execution_count": 112,
   "metadata": {},
   "outputs": [],
   "source": [
    "spark.stop()"
   ]
  },
  {
   "cell_type": "markdown",
   "metadata": {},
   "source": [
    "## Read Dataset into Spark"
   ]
  },
  {
   "cell_type": "code",
   "execution_count": 114,
   "metadata": {},
   "outputs": [
    {
     "name": "stdout",
     "output_type": "stream",
     "text": [
      "28357\n",
      "+---+-------+-----------------+-------------+--------------------+--------------------+--------------------+--------------------+--------------------+---------------+------------------+--------------------+--------------------------+------------------+----------------------+-------------+--------------------+\n",
      "|_c0|company|         location|        dates|           job_title|             summary|                pros|                cons|      advice_to_mgmt|overall_ratings|work_balance_stars|culture_values_stars|carrer_opportunities_stars|comp_benefit_stars|senior_mangemnet_stars|helpful_count|                link|\n",
      "+---+-------+-----------------+-------------+--------------------+--------------------+--------------------+--------------------+--------------------+---------------+------------------+--------------------+--------------------------+------------------+----------------------+-------------+--------------------+\n",
      "|  0| google|Mountain View, CA|  Feb 8, 2015|Current Employee ...|The best place I'...|You can't find a ...|I live in SF so t...|Keep on NOT micro...|            5.0|               2.0|                 5.0|                       5.0|               4.0|                   5.0|          498|https://www.glass...|\n",
      "|  1| google|Mountain View, CA|  Dec 9, 2018|Former Employee -...|NICE working in G...|People are not th...|Food is not good ...|                none|            5.0|               4.0|                 4.0|                       4.0|               5.0|                   4.0|            1|https://www.glass...|\n",
      "|  2| google|     New York, NY| Dec 11, 2018|Current Employee ...|   Software engineer|Great working env...|Usual big company...|                none|            5.0|               5.0|                 4.0|                       4.0|               5.0|                   4.0|            0|https://www.glass...|\n",
      "|  3| google|     New York, NY| Dec 10, 2018|Current Employee ...|Google Surpasses ...|Great products. V...|Younger employees...|                none|            5.0|               5.0|                 5.0|                       5.0|               5.0|                   5.0|            0|https://www.glass...|\n",
      "|  4| google|Mountain View, CA|  Dec 8, 2018|Current Employee ...|  Nice place to work|* Smart people * ...|Giant company wit...|                none|            5.0|               4.0|                 5.0|                       4.0|               4.0|                   3.0|            0|https://www.glass...|\n",
      "|  5| google|San Francisco, CA|  Dec 3, 2018|Current Employee ...|Still the best pl...|Amazing company. ...|Size, which limit...|                none|            5.0|               5.0|                 5.0|                       5.0|               4.0|                   4.0|            1|https://www.glass...|\n",
      "|  6| google|     New York, NY| Nov 26, 2018|Current Employee ...|Great, but great ...|Great team and su...|Lots of bureaucra...|                none|            5.0|               3.0|                 4.0|                       3.0|               4.0|                   5.0|            2|https://www.glass...|\n",
      "|  7| google|  Los Angeles, CA| Nov 29, 2018|Current Employee ...|          Accountant|I like and learne...|High clerical wor...|Management and Fi...|            5.0|               5.0|                 5.0|                       5.0|               5.0|                   5.0|            0|https://www.glass...|\n",
      "|  8| google|San Francisco, CA| Nov 17, 2018|Current Employee ...|Not perfect, but ...|- A company cultu...|- A company with ...|- Just because a ...|            5.0|               5.0|                 5.0|                       5.0|               5.0|                   5.0|            3|https://www.glass...|\n",
      "|  9| google|Mountain View, CA|  Dec 9, 2018|Former Employee -...|     Senior Director|So many brilliant...|Becoming highly b...|                none|            3.0|               4.0|                 5.0|                       5.0|               5.0|                   5.0|            0|https://www.glass...|\n",
      "| 10| google|Mountain View, CA|  Dec 8, 2018|Current Employee ...|Google is still t...|Great place to wo...|Large company iss...|                none|            4.0|               5.0|                 5.0|                       4.0|               4.0|                   4.0|            0|https://www.glass...|\n",
      "| 11| google|     Dearborn, MI| Nov 20, 2018|Current Employee ...|              Google|Google is one of ...|You have to work ...|                none|            5.0|               3.0|                 4.0|                       4.0|               5.0|                   4.0|            1|https://www.glass...|\n",
      "| 12| google|     New York, NY|  Dec 6, 2018|Current Employee ...|   Good compensation|Better than avera...|Big and beurocrat...|                none|            4.0|               4.0|                 3.0|                       3.0|               4.0|                   3.0|            0|https://www.glass...|\n",
      "| 13| google|    Sunnyvale, CA| Nov 21, 2018|Current Employee ...|    Best of the best|The best company ...|Set hours for bre...|                none|            5.0|               3.0|                 5.0|                       5.0|               5.0|                   4.0|            0|https://www.glass...|\n",
      "| 14| google|      Seattle, WA| Nov 13, 2018|Current Employee ...|        Hard to beat|Amazing compensat...|Growing pains as ...|                none|            5.0|               4.0|                 4.0|                       5.0|               5.0|                   3.0|            2|https://www.glass...|\n",
      "| 15| google|     New York, NY| Nov 19, 2018|Current Employee ...| Great place to work|Ambitious mission...|Everyone is eager...|                none|            5.0|               5.0|                 3.0|                       5.0|               4.0|                   5.0|            0|https://www.glass...|\n",
      "| 16| google|    Sunnyvale, CA| Nov 19, 2018|Current Employee ...|Positive Experiences|Good opportunitie...|Difficult to adva...|                none|            5.0|               5.0|                 5.0|                       4.0|               4.0|                   4.0|            0|https://www.glass...|\n",
      "| 17| google|    Ann Arbor, MI| Nov 19, 2018|Former Employee -...|Make sure you kno...|Employees, food, ...|Company has becom...|Stop putting peop...|            5.0|               4.0|                 4.0|                       5.0|               5.0|                   2.0|            0|https://www.glass...|\n",
      "| 18| google|Mountain View, CA| Nov 16, 2018|Current Employee ...|                 meh|Pays really well ...|Google wants 60-h...|Add ethics to the...|            3.0|               2.0|                 1.0|                       2.0|               5.0|                   2.0|            8|https://www.glass...|\n",
      "| 19| google|Mountain View, CA|  Nov 9, 2018|Current Employee ...| Best Job I Ever Had|Amazing and talen...|All the perks mak...|                none|            5.0|               5.0|                 5.0|                       5.0|               5.0|                   5.0|            1|https://www.glass...|\n",
      "+---+-------+-----------------+-------------+--------------------+--------------------+--------------------+--------------------+--------------------+---------------+------------------+--------------------+--------------------------+------------------+----------------------+-------------+--------------------+\n",
      "only showing top 20 rows\n",
      "\n"
     ]
    }
   ],
   "source": [
    "reviews_df = spark.read.csv(\"employee_reviews_usa.csv\", header=True, mode=\"DROPMALFORMED\", inferSchema='true', encoding=\"utf-8\")\n",
    "print(reviews_df.count())\n",
    "reviews_df.show()"
   ]
  },
  {
   "cell_type": "code",
   "execution_count": 41,
   "metadata": {},
   "outputs": [],
   "source": []
  },
  {
   "cell_type": "code",
   "execution_count": 42,
   "metadata": {},
   "outputs": [],
   "source": []
  },
  {
   "cell_type": "markdown",
   "metadata": {},
   "source": [
    "# Data Cleaning & Removing Un-Needed Columns\n",
    "\n",
    "No one likes dirty data.  Let's clean up this dataset to make it more usable for our use case.\n",
    "\n",
    " \n",
    "1. Make the date field more data friendly\n",
    "    - Hint #1: Use the provided `review_date_udf` udf provided (it will make your life more simple) \n",
    "2. Using the \"location\" column \n",
    "    - Add new columns for city, state, country columns\n",
    "        - Hint #1: Concider using `fn.split()` to split `location` for columns `city` `state` \n",
    "        - Hint #2: I've narrowed down the country to just US, so please use something like below to create the `country` column\n",
    "            - ```lit(\"US\").alias(\"country\")```\n",
    "3. Using the \"job-title\" column  \n",
    "    - Add a new boolean column titled \"current_employee\" that will show:\n",
    "        - 1,  if reviewer is a current employee\n",
    "        - 0,  if reviewer is not a current employee\n",
    "        - Hint:  Use spark function `fn.when()` and `col(\"job-title\").contains(\"\")`\n",
    "    - Remove \"Former Employee - \" and \"\" from the \"job-title\" column\n",
    "        - Hint: Use the udf function `reg_job_title_udf`\n",
    "4. Drop un-needed columns \n",
    "    - \"_c0\", \"link\", \"pros\", \"cons\", \"advice-to-mgmt\", \"summary\", \"location\""
   ]
  },
  {
   "cell_type": "markdown",
   "metadata": {},
   "source": [
    "##### Useful UDF functions needed for below"
   ]
  },
  {
   "cell_type": "code",
   "execution_count": 115,
   "metadata": {},
   "outputs": [],
   "source": [
    "review_date_udf = fn.udf(\n",
    "    lambda x: datetime.strptime(x, ' %b %d, %Y'), DateType()\n",
    ")"
   ]
  },
  {
   "cell_type": "code",
   "execution_count": 116,
   "metadata": {},
   "outputs": [],
   "source": [
    "def reg_job_title(column):\n",
    "    res_split=[]\n",
    "    reg_patterns=[\"Former Employee - / \", \"Current Employee - / \"]\n",
    "    for i in range(len(reg_patterns)):\n",
    "        res_split=re.findall(r\"[^/]+\",reg_patterns[i])\n",
    "        for x in res_split[0].split(\"|\"):\n",
    "            column = column.replace(x,res_split[1])\n",
    "    return column[1:]\n",
    "\n",
    "reg_job_title_udf = fn.udf(reg_job_title, t.StringType())"
   ]
  },
  {
   "cell_type": "code",
   "execution_count": 156,
   "metadata": {},
   "outputs": [],
   "source": [
    "split_col = fn.split(reviews_df['location'], ',')\n",
    "reviews_df = reviews_df.withColumn('City', split_col.getItem(0))\n",
    "reviews_df = reviews_df.withColumn('State', split_col.getItem(1))"
   ]
  },
  {
   "cell_type": "code",
   "execution_count": 118,
   "metadata": {},
   "outputs": [],
   "source": [
    "df = reviews_df.withColumn(\n",
    "    \"current_employee\", \n",
    "   fn.when(reviews_df.job_title.contains(\"Current Employee\"), 1).otherwise(0))"
   ]
  },
  {
   "cell_type": "code",
   "execution_count": 119,
   "metadata": {},
   "outputs": [],
   "source": [
    "df1 = df.withColumn(\"job_title\", reg_job_title_udf(df['job_title']))"
   ]
  },
  {
   "cell_type": "code",
   "execution_count": 120,
   "metadata": {},
   "outputs": [],
   "source": [
    "df2=df1.withColumn(\"dates\", review_date_udf(df1['dates']))"
   ]
  },
  {
   "cell_type": "code",
   "execution_count": 121,
   "metadata": {},
   "outputs": [],
   "source": [
    "df3 = df2.withColumn('Country', lit(\"US\"))"
   ]
  },
  {
   "cell_type": "code",
   "execution_count": 122,
   "metadata": {},
   "outputs": [
    {
     "name": "stdout",
     "output_type": "stream",
     "text": [
      "+---+-------+-----------------+----------+--------------------+--------------------+--------------------+--------------------+--------------------+---------------+------------------+--------------------+--------------------------+------------------+----------------------+-------------+--------------------+-------------+-----+----------------+-------+\n",
      "|_c0|company|         location|     dates|           job_title|             summary|                pros|                cons|      advice_to_mgmt|overall_ratings|work_balance_stars|culture_values_stars|carrer_opportunities_stars|comp_benefit_stars|senior_mangemnet_stars|helpful_count|                link|         City|State|current_employee|Country|\n",
      "+---+-------+-----------------+----------+--------------------+--------------------+--------------------+--------------------+--------------------+---------------+------------------+--------------------+--------------------------+------------------+----------------------+-------------+--------------------+-------------+-----+----------------+-------+\n",
      "|  0| google|Mountain View, CA|2015-02-08|  Anonymous Employee|The best place I'...|You can't find a ...|I live in SF so t...|Keep on NOT micro...|            5.0|               2.0|                 5.0|                       5.0|               4.0|                   5.0|          498|https://www.glass...|Mountain View|   CA|               1|     US|\n",
      "|  1| google|Mountain View, CA|2018-12-09|                SDE2|NICE working in G...|People are not th...|Food is not good ...|                none|            5.0|               4.0|                 4.0|                       4.0|               5.0|                   4.0|            1|https://www.glass...|Mountain View|   CA|               0|     US|\n",
      "|  2| google|     New York, NY|2018-12-11|   Software Engineer|   Software engineer|Great working env...|Usual big company...|                none|            5.0|               5.0|                 4.0|                       4.0|               5.0|                   4.0|            0|https://www.glass...|     New York|   NY|               1|     US|\n",
      "|  3| google|     New York, NY|2018-12-10|  Anonymous Employee|Google Surpasses ...|Great products. V...|Younger employees...|                none|            5.0|               5.0|                 5.0|                       5.0|               5.0|                   5.0|            0|https://www.glass...|     New York|   NY|               1|     US|\n",
      "|  4| google|Mountain View, CA|2018-12-08|  Anonymous Employee|  Nice place to work|* Smart people * ...|Giant company wit...|                none|            5.0|               4.0|                 5.0|                       4.0|               4.0|                   3.0|            0|https://www.glass...|Mountain View|   CA|               1|     US|\n",
      "|  5| google|San Francisco, CA|2018-12-03|Sales Operations ...|Still the best pl...|Amazing company. ...|Size, which limit...|                none|            5.0|               5.0|                 5.0|                       5.0|               4.0|                   4.0|            1|https://www.glass...|San Francisco|   CA|               1|     US|\n",
      "|  6| google|     New York, NY|2018-11-26|            Designer|Great, but great ...|Great team and su...|Lots of bureaucra...|                none|            5.0|               3.0|                 4.0|                       3.0|               4.0|                   5.0|            2|https://www.glass...|     New York|   NY|               1|     US|\n",
      "|  7| google|  Los Angeles, CA|2018-11-29|    Staff Accountant|          Accountant|I like and learne...|High clerical wor...|Management and Fi...|            5.0|               5.0|                 5.0|                       5.0|               5.0|                   5.0|            0|https://www.glass...|  Los Angeles|   CA|               1|     US|\n",
      "|  8| google|San Francisco, CA|2018-11-17|   Program Manager I|Not perfect, but ...|- A company cultu...|- A company with ...|- Just because a ...|            5.0|               5.0|                 5.0|                       5.0|               5.0|                   5.0|            3|https://www.glass...|San Francisco|   CA|               1|     US|\n",
      "|  9| google|Mountain View, CA|2018-12-09|     Senior Director|     Senior Director|So many brilliant...|Becoming highly b...|                none|            3.0|               4.0|                 5.0|                       5.0|               5.0|                   5.0|            0|https://www.glass...|Mountain View|   CA|               0|     US|\n",
      "| 10| google|Mountain View, CA|2018-12-08|Software Engineer...|Google is still t...|Great place to wo...|Large company iss...|                none|            4.0|               5.0|                 5.0|                       4.0|               4.0|                   4.0|            0|https://www.glass...|Mountain View|   CA|               1|     US|\n",
      "| 11| google|     Dearborn, MI|2018-11-20|   Google Specialist|              Google|Google is one of ...|You have to work ...|                none|            5.0|               3.0|                 4.0|                       4.0|               5.0|                   4.0|            1|https://www.glass...|     Dearborn|   MI|               1|     US|\n",
      "| 12| google|     New York, NY|2018-12-06|  Anonymous Employee|   Good compensation|Better than avera...|Big and beurocrat...|                none|            4.0|               4.0|                 3.0|                       3.0|               4.0|                   3.0|            0|https://www.glass...|     New York|   NY|               1|     US|\n",
      "| 13| google|    Sunnyvale, CA|2018-11-21|  Anonymous Employee|    Best of the best|The best company ...|Set hours for bre...|                none|            5.0|               3.0|                 5.0|                       5.0|               5.0|                   4.0|            0|https://www.glass...|    Sunnyvale|   CA|               1|     US|\n",
      "| 14| google|      Seattle, WA|2018-11-13|Staff Software En...|        Hard to beat|Amazing compensat...|Growing pains as ...|                none|            5.0|               4.0|                 4.0|                       5.0|               5.0|                   3.0|            2|https://www.glass...|      Seattle|   WA|               1|     US|\n",
      "| 15| google|     New York, NY|2018-11-19|     Program Manager| Great place to work|Ambitious mission...|Everyone is eager...|                none|            5.0|               5.0|                 3.0|                       5.0|               4.0|                   5.0|            0|https://www.glass...|     New York|   NY|               1|     US|\n",
      "| 16| google|    Sunnyvale, CA|2018-11-19|   Software Engineer|Positive Experiences|Good opportunitie...|Difficult to adva...|                none|            5.0|               5.0|                 5.0|                       4.0|               4.0|                   4.0|            0|https://www.glass...|    Sunnyvale|   CA|               1|     US|\n",
      "| 17| google|    Ann Arbor, MI|2018-11-19|Associate Account...|Make sure you kno...|Employees, food, ...|Company has becom...|Stop putting peop...|            5.0|               4.0|                 4.0|                       5.0|               5.0|                   2.0|            0|https://www.glass...|    Ann Arbor|   MI|               0|     US|\n",
      "| 18| google|Mountain View, CA|2018-11-16|  Anonymous Employee|                 meh|Pays really well ...|Google wants 60-h...|Add ethics to the...|            3.0|               2.0|                 1.0|                       2.0|               5.0|                   2.0|            8|https://www.glass...|Mountain View|   CA|               1|     US|\n",
      "| 19| google|Mountain View, CA|2018-11-09|   Software Engineer| Best Job I Ever Had|Amazing and talen...|All the perks mak...|                none|            5.0|               5.0|                 5.0|                       5.0|               5.0|                   5.0|            1|https://www.glass...|Mountain View|   CA|               1|     US|\n",
      "+---+-------+-----------------+----------+--------------------+--------------------+--------------------+--------------------+--------------------+---------------+------------------+--------------------+--------------------------+------------------+----------------------+-------------+--------------------+-------------+-----+----------------+-------+\n",
      "only showing top 20 rows\n",
      "\n"
     ]
    }
   ],
   "source": [
    "df3.show()"
   ]
  },
  {
   "cell_type": "markdown",
   "metadata": {},
   "source": [
    "# Cleaned Spark Dataframe\n",
    "\n",
    "- I've included the starting of dataframe, but in the `select` you will want to add the fixes and columns needed to answer the questions below\n"
   ]
  },
  {
   "cell_type": "code",
   "execution_count": 123,
   "metadata": {},
   "outputs": [
    {
     "name": "stdout",
     "output_type": "stream",
     "text": [
      "+-------+-------------+-----+-------+----------+--------------------+----------------+---------------+------------------+--------------------+--------------------------+------------------+----------------------+-------------+\n",
      "|company|         City|State|Country|     dates|           job_title|current_employee|overall_ratings|work_balance_stars|culture_values_stars|carrer_opportunities_stars|comp_benefit_stars|senior_mangemnet_stars|helpful_count|\n",
      "+-------+-------------+-----+-------+----------+--------------------+----------------+---------------+------------------+--------------------+--------------------------+------------------+----------------------+-------------+\n",
      "| google|Mountain View|   CA|     US|2015-02-08|  Anonymous Employee|               1|            5.0|               2.0|                 5.0|                       5.0|               4.0|                   5.0|          498|\n",
      "| google|Mountain View|   CA|     US|2018-12-09|                SDE2|               0|            5.0|               4.0|                 4.0|                       4.0|               5.0|                   4.0|            1|\n",
      "| google|     New York|   NY|     US|2018-12-11|   Software Engineer|               1|            5.0|               5.0|                 4.0|                       4.0|               5.0|                   4.0|            0|\n",
      "| google|     New York|   NY|     US|2018-12-10|  Anonymous Employee|               1|            5.0|               5.0|                 5.0|                       5.0|               5.0|                   5.0|            0|\n",
      "| google|Mountain View|   CA|     US|2018-12-08|  Anonymous Employee|               1|            5.0|               4.0|                 5.0|                       4.0|               4.0|                   3.0|            0|\n",
      "| google|San Francisco|   CA|     US|2018-12-03|Sales Operations ...|               1|            5.0|               5.0|                 5.0|                       5.0|               4.0|                   4.0|            1|\n",
      "| google|     New York|   NY|     US|2018-11-26|            Designer|               1|            5.0|               3.0|                 4.0|                       3.0|               4.0|                   5.0|            2|\n",
      "| google|  Los Angeles|   CA|     US|2018-11-29|    Staff Accountant|               1|            5.0|               5.0|                 5.0|                       5.0|               5.0|                   5.0|            0|\n",
      "| google|San Francisco|   CA|     US|2018-11-17|   Program Manager I|               1|            5.0|               5.0|                 5.0|                       5.0|               5.0|                   5.0|            3|\n",
      "| google|Mountain View|   CA|     US|2018-12-09|     Senior Director|               0|            3.0|               4.0|                 5.0|                       5.0|               5.0|                   5.0|            0|\n",
      "| google|Mountain View|   CA|     US|2018-12-08|Software Engineer...|               1|            4.0|               5.0|                 5.0|                       4.0|               4.0|                   4.0|            0|\n",
      "| google|     Dearborn|   MI|     US|2018-11-20|   Google Specialist|               1|            5.0|               3.0|                 4.0|                       4.0|               5.0|                   4.0|            1|\n",
      "| google|     New York|   NY|     US|2018-12-06|  Anonymous Employee|               1|            4.0|               4.0|                 3.0|                       3.0|               4.0|                   3.0|            0|\n",
      "| google|    Sunnyvale|   CA|     US|2018-11-21|  Anonymous Employee|               1|            5.0|               3.0|                 5.0|                       5.0|               5.0|                   4.0|            0|\n",
      "| google|      Seattle|   WA|     US|2018-11-13|Staff Software En...|               1|            5.0|               4.0|                 4.0|                       5.0|               5.0|                   3.0|            2|\n",
      "| google|     New York|   NY|     US|2018-11-19|     Program Manager|               1|            5.0|               5.0|                 3.0|                       5.0|               4.0|                   5.0|            0|\n",
      "| google|    Sunnyvale|   CA|     US|2018-11-19|   Software Engineer|               1|            5.0|               5.0|                 5.0|                       4.0|               4.0|                   4.0|            0|\n",
      "| google|    Ann Arbor|   MI|     US|2018-11-19|Associate Account...|               0|            5.0|               4.0|                 4.0|                       5.0|               5.0|                   2.0|            0|\n",
      "| google|Mountain View|   CA|     US|2018-11-16|  Anonymous Employee|               1|            3.0|               2.0|                 1.0|                       2.0|               5.0|                   2.0|            8|\n",
      "| google|Mountain View|   CA|     US|2018-11-09|   Software Engineer|               1|            5.0|               5.0|                 5.0|                       5.0|               5.0|                   5.0|            1|\n",
      "+-------+-------------+-----+-------+----------+--------------------+----------------+---------------+------------------+--------------------+--------------------------+------------------+----------------------+-------------+\n",
      "only showing top 20 rows\n",
      "\n"
     ]
    }
   ],
   "source": [
    "cleaned_reviews_df = df3.where((col(\"dates\") != 'None') & (col(\"dates\") != ' Jan 0, 0000') & (col(\"dates\") != ' Nov 0, 0000') & (~col(\"location\").contains(\"(\")) & (col(\"location\") != \"none\")) \\\n",
    "                         .select(\"company\",\"City\",\"State\",\"Country\",\"dates\",\"job_title\",\"current_employee\",\"overall_ratings\",\"work_balance_stars\",\"culture_values_stars\",\"carrer_opportunities_stars\",\"comp_benefit_stars\",\"senior_mangemnet_stars\",\"helpful_count\")\n",
    "                             \n",
    "cleaned_reviews_df.show()"
   ]
  },
  {
   "cell_type": "code",
   "execution_count": 124,
   "metadata": {},
   "outputs": [
    {
     "name": "stdout",
     "output_type": "stream",
     "text": [
      "+-------+-------------+-----+-------+----------+--------------------+----------------+---------------+------------------+--------------------+--------------------------+------------------+----------------------+-------------+\n",
      "|company|         City|State|Country|     dates|           job_title|current_employee|overall_ratings|work_balance_stars|culture_values_stars|carrer_opportunities_stars|comp_benefit_stars|senior_mangemnet_stars|helpful_count|\n",
      "+-------+-------------+-----+-------+----------+--------------------+----------------+---------------+------------------+--------------------+--------------------------+------------------+----------------------+-------------+\n",
      "| google|Mountain View|   CA|     US|2015-02-08|  Anonymous Employee|               1|            5.0|               2.0|                 5.0|                       5.0|               4.0|                   5.0|          498|\n",
      "| google|Mountain View|   CA|     US|2018-12-09|                SDE2|               0|            5.0|               4.0|                 4.0|                       4.0|               5.0|                   4.0|            1|\n",
      "| google|     New York|   NY|     US|2018-12-11|   Software Engineer|               1|            5.0|               5.0|                 4.0|                       4.0|               5.0|                   4.0|            0|\n",
      "| google|     New York|   NY|     US|2018-12-10|  Anonymous Employee|               1|            5.0|               5.0|                 5.0|                       5.0|               5.0|                   5.0|            0|\n",
      "| google|Mountain View|   CA|     US|2018-12-08|  Anonymous Employee|               1|            5.0|               4.0|                 5.0|                       4.0|               4.0|                   3.0|            0|\n",
      "| google|San Francisco|   CA|     US|2018-12-03|Sales Operations ...|               1|            5.0|               5.0|                 5.0|                       5.0|               4.0|                   4.0|            1|\n",
      "| google|     New York|   NY|     US|2018-11-26|            Designer|               1|            5.0|               3.0|                 4.0|                       3.0|               4.0|                   5.0|            2|\n",
      "| google|  Los Angeles|   CA|     US|2018-11-29|    Staff Accountant|               1|            5.0|               5.0|                 5.0|                       5.0|               5.0|                   5.0|            0|\n",
      "| google|San Francisco|   CA|     US|2018-11-17|   Program Manager I|               1|            5.0|               5.0|                 5.0|                       5.0|               5.0|                   5.0|            3|\n",
      "| google|Mountain View|   CA|     US|2018-12-09|     Senior Director|               0|            3.0|               4.0|                 5.0|                       5.0|               5.0|                   5.0|            0|\n",
      "| google|Mountain View|   CA|     US|2018-12-08|Software Engineer...|               1|            4.0|               5.0|                 5.0|                       4.0|               4.0|                   4.0|            0|\n",
      "| google|     Dearborn|   MI|     US|2018-11-20|   Google Specialist|               1|            5.0|               3.0|                 4.0|                       4.0|               5.0|                   4.0|            1|\n",
      "| google|     New York|   NY|     US|2018-12-06|  Anonymous Employee|               1|            4.0|               4.0|                 3.0|                       3.0|               4.0|                   3.0|            0|\n",
      "| google|    Sunnyvale|   CA|     US|2018-11-21|  Anonymous Employee|               1|            5.0|               3.0|                 5.0|                       5.0|               5.0|                   4.0|            0|\n",
      "| google|      Seattle|   WA|     US|2018-11-13|Staff Software En...|               1|            5.0|               4.0|                 4.0|                       5.0|               5.0|                   3.0|            2|\n",
      "| google|     New York|   NY|     US|2018-11-19|     Program Manager|               1|            5.0|               5.0|                 3.0|                       5.0|               4.0|                   5.0|            0|\n",
      "| google|    Sunnyvale|   CA|     US|2018-11-19|   Software Engineer|               1|            5.0|               5.0|                 5.0|                       4.0|               4.0|                   4.0|            0|\n",
      "| google|    Ann Arbor|   MI|     US|2018-11-19|Associate Account...|               0|            5.0|               4.0|                 4.0|                       5.0|               5.0|                   2.0|            0|\n",
      "| google|Mountain View|   CA|     US|2018-11-16|  Anonymous Employee|               1|            3.0|               2.0|                 1.0|                       2.0|               5.0|                   2.0|            8|\n",
      "| google|Mountain View|   CA|     US|2018-11-09|   Software Engineer|               1|            5.0|               5.0|                 5.0|                       5.0|               5.0|                   5.0|            1|\n",
      "+-------+-------------+-----+-------+----------+--------------------+----------------+---------------+------------------+--------------------+--------------------------+------------------+----------------------+-------------+\n",
      "only showing top 20 rows\n",
      "\n"
     ]
    }
   ],
   "source": [
    "cleaned_reviews_df1 = df3.select(\"company\",\"City\",\"State\",\"Country\",\"dates\",\"job_title\",\"current_employee\",\"overall_ratings\",\"work_balance_stars\",\"culture_values_stars\",\"carrer_opportunities_stars\",\"comp_benefit_stars\",\"senior_mangemnet_stars\",\"helpful_count\")\n",
    "                             \n",
    "cleaned_reviews_df1.show()"
   ]
  },
  {
   "cell_type": "code",
   "execution_count": null,
   "metadata": {},
   "outputs": [],
   "source": []
  },
  {
   "cell_type": "markdown",
   "metadata": {},
   "source": [
    "# Data Questions\n",
    "\n",
    "Each question below will have two parts.   Please solve each problem in PySpark and PySpark SQL.  This is to test your ability to solve the problem in PySpark, and to test your ability to solve the problem in SQL.\n",
    "\n",
    "- PySpark API (https://spark.apache.org/docs/latest/api/python/index.html)\n",
    "- PySpark SQL API (https://spark.apache.org/docs/latest/api/python/pyspark.sql.html)"
   ]
  },
  {
   "cell_type": "code",
   "execution_count": 125,
   "metadata": {},
   "outputs": [],
   "source": [
    "cleaned_reviews_df.createOrReplaceTempView(\"reviews\")"
   ]
  },
  {
   "cell_type": "markdown",
   "metadata": {},
   "source": [
    "### (1) What is the total number of reviews in the data set?"
   ]
  },
  {
   "cell_type": "markdown",
   "metadata": {},
   "source": [
    "##### PySpark Implmentation"
   ]
  },
  {
   "cell_type": "code",
   "execution_count": 126,
   "metadata": {},
   "outputs": [
    {
     "data": {
      "text/plain": [
       "27779"
      ]
     },
     "execution_count": 126,
     "metadata": {},
     "output_type": "execute_result"
    }
   ],
   "source": [
    "cleaned_reviews_df.count()"
   ]
  },
  {
   "cell_type": "markdown",
   "metadata": {},
   "source": [
    "##### Spark SQL Implmentation"
   ]
  },
  {
   "cell_type": "code",
   "execution_count": 127,
   "metadata": {},
   "outputs": [
    {
     "name": "stdout",
     "output_type": "stream",
     "text": [
      "+------------+\n",
      "|review_count|\n",
      "+------------+\n",
      "|       27779|\n",
      "+------------+\n",
      "\n"
     ]
    }
   ],
   "source": [
    "spark.sql(\"SELECT count(*) as review_count from reviews\").show()"
   ]
  },
  {
   "cell_type": "code",
   "execution_count": null,
   "metadata": {},
   "outputs": [],
   "source": []
  },
  {
   "cell_type": "markdown",
   "metadata": {},
   "source": [
    "###  (2) How many reviews exist in the dataset per each company?"
   ]
  },
  {
   "cell_type": "markdown",
   "metadata": {},
   "source": [
    "##### PySpark Implmentation"
   ]
  },
  {
   "cell_type": "code",
   "execution_count": 128,
   "metadata": {},
   "outputs": [
    {
     "name": "stdout",
     "output_type": "stream",
     "text": [
      "+---------+--------------+\n",
      "|  company|count(company)|\n",
      "+---------+--------------+\n",
      "|microsoft|          7919|\n",
      "|   amazon|          9993|\n",
      "|  netflix|           444|\n",
      "|    apple|          5729|\n",
      "| facebook|          1148|\n",
      "|   google|          2546|\n",
      "+---------+--------------+\n",
      "\n"
     ]
    }
   ],
   "source": [
    "cleaned_reviews_df.groupBy(\"company\").agg(fn.count('company')).show()"
   ]
  },
  {
   "cell_type": "markdown",
   "metadata": {},
   "source": [
    "##### Spark SQL Implmentation"
   ]
  },
  {
   "cell_type": "code",
   "execution_count": 129,
   "metadata": {},
   "outputs": [
    {
     "name": "stdout",
     "output_type": "stream",
     "text": [
      "+---------+------------+\n",
      "|  company|review_count|\n",
      "+---------+------------+\n",
      "|microsoft|        7919|\n",
      "|   amazon|        9993|\n",
      "|  netflix|         444|\n",
      "|    apple|        5729|\n",
      "| facebook|        1148|\n",
      "|   google|        2546|\n",
      "+---------+------------+\n",
      "\n"
     ]
    }
   ],
   "source": [
    "spark.sql(\"SELECT company, count(*) as review_count from reviews group by company\").show()"
   ]
  },
  {
   "cell_type": "code",
   "execution_count": null,
   "metadata": {},
   "outputs": [],
   "source": []
  },
  {
   "cell_type": "markdown",
   "metadata": {},
   "source": [
    "###  (3) How many reviews are from former and current employees per each company?"
   ]
  },
  {
   "cell_type": "markdown",
   "metadata": {},
   "source": [
    "##### PySpark Implmentation"
   ]
  },
  {
   "cell_type": "code",
   "execution_count": 132,
   "metadata": {},
   "outputs": [
    {
     "name": "stdout",
     "output_type": "stream",
     "text": [
      "+---------+-----------+----------+\n",
      "|  company|current_emp|former_emp|\n",
      "+---------+-----------+----------+\n",
      "|microsoft|       5129|      2790|\n",
      "|   amazon|       6651|      3342|\n",
      "|  netflix|        230|       214|\n",
      "|    apple|       3352|      2377|\n",
      "| facebook|        931|       217|\n",
      "|   google|       1620|       926|\n",
      "+---------+-----------+----------+\n",
      "\n"
     ]
    }
   ],
   "source": [
    "cnt_cond = lambda cond: fn.sum(fn.when(cond, 1).otherwise(0))\n",
    "cleaned_reviews_df.groupBy('company').agg(\n",
    "    cnt_cond(fn.col('current_employee') == 1).alias('current_emp'), \n",
    "    cnt_cond(fn.col('current_employee') == 0).alias('former_emp')\n",
    ").show()"
   ]
  },
  {
   "cell_type": "markdown",
   "metadata": {},
   "source": [
    "##### Spark SQL Implmentation"
   ]
  },
  {
   "cell_type": "code",
   "execution_count": 131,
   "metadata": {},
   "outputs": [
    {
     "name": "stdout",
     "output_type": "stream",
     "text": [
      "+---------+-----------+----------+\n",
      "|  company|current_emp|former_emp|\n",
      "+---------+-----------+----------+\n",
      "|microsoft|       5129|      2790|\n",
      "|   amazon|       6651|      3342|\n",
      "|  netflix|        230|       214|\n",
      "|    apple|       3352|      2377|\n",
      "| facebook|        931|       217|\n",
      "|   google|       1620|       926|\n",
      "+---------+-----------+----------+\n",
      "\n"
     ]
    }
   ],
   "source": [
    "spark.sql(\"select company, SUM(CASE WHEN current_employee = 1 THEN 1 ELSE 0 END) AS current_emp, SUM(CASE WHEN current_employee = 0 THEN 1 ELSE 0 END ) AS former_emp from reviews group by company\").show()"
   ]
  },
  {
   "cell_type": "code",
   "execution_count": null,
   "metadata": {},
   "outputs": [],
   "source": []
  },
  {
   "cell_type": "markdown",
   "metadata": {},
   "source": [
    "###  (4) What is the average review scores of each current and former employees for each company?"
   ]
  },
  {
   "cell_type": "markdown",
   "metadata": {},
   "source": [
    "##### PySpark Implmentation"
   ]
  },
  {
   "cell_type": "code",
   "execution_count": 108,
   "metadata": {},
   "outputs": [
    {
     "ename": "TypeError",
     "evalue": "Column is not iterable",
     "output_type": "error",
     "traceback": [
      "\u001b[1;31m---------------------------------------------------------------------------\u001b[0m",
      "\u001b[1;31mTypeError\u001b[0m                                 Traceback (most recent call last)",
      "\u001b[1;32m<ipython-input-108-a305949f6bf7>\u001b[0m in \u001b[0;36m<module>\u001b[1;34m\u001b[0m\n\u001b[0;32m      3\u001b[0m \u001b[0mReviewScores\u001b[0m \u001b[1;33m=\u001b[0m \u001b[1;33m[\u001b[0m\u001b[0mcol\u001b[0m\u001b[1;33m(\u001b[0m\u001b[1;34m'overall_ratings'\u001b[0m\u001b[1;33m)\u001b[0m\u001b[1;33m,\u001b[0m\u001b[0mcol\u001b[0m\u001b[1;33m(\u001b[0m\u001b[1;34m'work_balance_stars'\u001b[0m\u001b[1;33m)\u001b[0m\u001b[1;33m,\u001b[0m\u001b[0mcol\u001b[0m\u001b[1;33m(\u001b[0m\u001b[1;34m'culture_values_stars'\u001b[0m\u001b[1;33m)\u001b[0m\u001b[1;33m,\u001b[0m\u001b[0mcol\u001b[0m\u001b[1;33m(\u001b[0m\u001b[1;34m'carrer_opportunities_stars'\u001b[0m\u001b[1;33m)\u001b[0m\u001b[1;33m,\u001b[0m\u001b[0mcol\u001b[0m\u001b[1;33m(\u001b[0m\u001b[1;34m'comp_benefit_stars'\u001b[0m\u001b[1;33m)\u001b[0m\u001b[1;33m,\u001b[0m\u001b[0mcol\u001b[0m\u001b[1;33m(\u001b[0m\u001b[1;34m'senior_mangemnet_stars'\u001b[0m\u001b[1;33m)\u001b[0m\u001b[1;33m]\u001b[0m\u001b[1;33m\u001b[0m\u001b[1;33m\u001b[0m\u001b[0m\n\u001b[0;32m      4\u001b[0m \u001b[1;33m\u001b[0m\u001b[0m\n\u001b[1;32m----> 5\u001b[1;33m \u001b[0maverageFunc\u001b[0m \u001b[1;33m=\u001b[0m \u001b[0msum\u001b[0m\u001b[1;33m(\u001b[0m\u001b[0mx\u001b[0m \u001b[1;32mfor\u001b[0m \u001b[0mx\u001b[0m \u001b[1;32min\u001b[0m \u001b[0mReviewScores\u001b[0m\u001b[1;33m)\u001b[0m\u001b[1;33m/\u001b[0m\u001b[0mlen\u001b[0m\u001b[1;33m(\u001b[0m\u001b[0mReviewScores\u001b[0m\u001b[1;33m)\u001b[0m\u001b[1;33m\u001b[0m\u001b[1;33m\u001b[0m\u001b[0m\n\u001b[0m\u001b[0;32m      6\u001b[0m \u001b[1;33m\u001b[0m\u001b[0m\n\u001b[0;32m      7\u001b[0m \u001b[0mcleaned_reviews_df\u001b[0m\u001b[1;33m.\u001b[0m\u001b[0mwithColumn\u001b[0m\u001b[1;33m(\u001b[0m\u001b[1;34m'Result(Avg)'\u001b[0m\u001b[1;33m,\u001b[0m \u001b[0maverageFunc\u001b[0m\u001b[1;33m)\u001b[0m\u001b[1;33m.\u001b[0m\u001b[0mshow\u001b[0m\u001b[1;33m(\u001b[0m\u001b[0mtruncate\u001b[0m\u001b[1;33m=\u001b[0m\u001b[1;32mFalse\u001b[0m\u001b[1;33m)\u001b[0m\u001b[1;33m\u001b[0m\u001b[1;33m\u001b[0m\u001b[0m\n",
      "\u001b[1;32m~\\Anaconda3\\lib\\site-packages\\pyspark\\sql\\functions.py\u001b[0m in \u001b[0;36m_\u001b[1;34m(col)\u001b[0m\n\u001b[0;32m     42\u001b[0m     \u001b[1;32mdef\u001b[0m \u001b[0m_\u001b[0m\u001b[1;33m(\u001b[0m\u001b[0mcol\u001b[0m\u001b[1;33m)\u001b[0m\u001b[1;33m:\u001b[0m\u001b[1;33m\u001b[0m\u001b[1;33m\u001b[0m\u001b[0m\n\u001b[0;32m     43\u001b[0m         \u001b[0msc\u001b[0m \u001b[1;33m=\u001b[0m \u001b[0mSparkContext\u001b[0m\u001b[1;33m.\u001b[0m\u001b[0m_active_spark_context\u001b[0m\u001b[1;33m\u001b[0m\u001b[1;33m\u001b[0m\u001b[0m\n\u001b[1;32m---> 44\u001b[1;33m         \u001b[0mjc\u001b[0m \u001b[1;33m=\u001b[0m \u001b[0mgetattr\u001b[0m\u001b[1;33m(\u001b[0m\u001b[0msc\u001b[0m\u001b[1;33m.\u001b[0m\u001b[0m_jvm\u001b[0m\u001b[1;33m.\u001b[0m\u001b[0mfunctions\u001b[0m\u001b[1;33m,\u001b[0m \u001b[0mname\u001b[0m\u001b[1;33m)\u001b[0m\u001b[1;33m(\u001b[0m\u001b[0mcol\u001b[0m\u001b[1;33m.\u001b[0m\u001b[0m_jc\u001b[0m \u001b[1;32mif\u001b[0m \u001b[0misinstance\u001b[0m\u001b[1;33m(\u001b[0m\u001b[0mcol\u001b[0m\u001b[1;33m,\u001b[0m \u001b[0mColumn\u001b[0m\u001b[1;33m)\u001b[0m \u001b[1;32melse\u001b[0m \u001b[0mcol\u001b[0m\u001b[1;33m)\u001b[0m\u001b[1;33m\u001b[0m\u001b[1;33m\u001b[0m\u001b[0m\n\u001b[0m\u001b[0;32m     45\u001b[0m         \u001b[1;32mreturn\u001b[0m \u001b[0mColumn\u001b[0m\u001b[1;33m(\u001b[0m\u001b[0mjc\u001b[0m\u001b[1;33m)\u001b[0m\u001b[1;33m\u001b[0m\u001b[1;33m\u001b[0m\u001b[0m\n\u001b[0;32m     46\u001b[0m     \u001b[0m_\u001b[0m\u001b[1;33m.\u001b[0m\u001b[0m__name__\u001b[0m \u001b[1;33m=\u001b[0m \u001b[0mname\u001b[0m\u001b[1;33m\u001b[0m\u001b[1;33m\u001b[0m\u001b[0m\n",
      "\u001b[1;32m~\\Anaconda3\\lib\\site-packages\\py4j\\java_gateway.py\u001b[0m in \u001b[0;36m__call__\u001b[1;34m(self, *args)\u001b[0m\n\u001b[0;32m   1246\u001b[0m \u001b[1;33m\u001b[0m\u001b[0m\n\u001b[0;32m   1247\u001b[0m     \u001b[1;32mdef\u001b[0m \u001b[0m__call__\u001b[0m\u001b[1;33m(\u001b[0m\u001b[0mself\u001b[0m\u001b[1;33m,\u001b[0m \u001b[1;33m*\u001b[0m\u001b[0margs\u001b[0m\u001b[1;33m)\u001b[0m\u001b[1;33m:\u001b[0m\u001b[1;33m\u001b[0m\u001b[1;33m\u001b[0m\u001b[0m\n\u001b[1;32m-> 1248\u001b[1;33m         \u001b[0margs_command\u001b[0m\u001b[1;33m,\u001b[0m \u001b[0mtemp_args\u001b[0m \u001b[1;33m=\u001b[0m \u001b[0mself\u001b[0m\u001b[1;33m.\u001b[0m\u001b[0m_build_args\u001b[0m\u001b[1;33m(\u001b[0m\u001b[1;33m*\u001b[0m\u001b[0margs\u001b[0m\u001b[1;33m)\u001b[0m\u001b[1;33m\u001b[0m\u001b[1;33m\u001b[0m\u001b[0m\n\u001b[0m\u001b[0;32m   1249\u001b[0m \u001b[1;33m\u001b[0m\u001b[0m\n\u001b[0;32m   1250\u001b[0m         \u001b[0mcommand\u001b[0m \u001b[1;33m=\u001b[0m \u001b[0mproto\u001b[0m\u001b[1;33m.\u001b[0m\u001b[0mCALL_COMMAND_NAME\u001b[0m \u001b[1;33m+\u001b[0m\u001b[0;31m\\\u001b[0m\u001b[1;33m\u001b[0m\u001b[1;33m\u001b[0m\u001b[0m\n",
      "\u001b[1;32m~\\Anaconda3\\lib\\site-packages\\py4j\\java_gateway.py\u001b[0m in \u001b[0;36m_build_args\u001b[1;34m(self, *args)\u001b[0m\n\u001b[0;32m   1210\u001b[0m     \u001b[1;32mdef\u001b[0m \u001b[0m_build_args\u001b[0m\u001b[1;33m(\u001b[0m\u001b[0mself\u001b[0m\u001b[1;33m,\u001b[0m \u001b[1;33m*\u001b[0m\u001b[0margs\u001b[0m\u001b[1;33m)\u001b[0m\u001b[1;33m:\u001b[0m\u001b[1;33m\u001b[0m\u001b[1;33m\u001b[0m\u001b[0m\n\u001b[0;32m   1211\u001b[0m         \u001b[1;32mif\u001b[0m \u001b[0mself\u001b[0m\u001b[1;33m.\u001b[0m\u001b[0mconverters\u001b[0m \u001b[1;32mis\u001b[0m \u001b[1;32mnot\u001b[0m \u001b[1;32mNone\u001b[0m \u001b[1;32mand\u001b[0m \u001b[0mlen\u001b[0m\u001b[1;33m(\u001b[0m\u001b[0mself\u001b[0m\u001b[1;33m.\u001b[0m\u001b[0mconverters\u001b[0m\u001b[1;33m)\u001b[0m \u001b[1;33m>\u001b[0m \u001b[1;36m0\u001b[0m\u001b[1;33m:\u001b[0m\u001b[1;33m\u001b[0m\u001b[1;33m\u001b[0m\u001b[0m\n\u001b[1;32m-> 1212\u001b[1;33m             \u001b[1;33m(\u001b[0m\u001b[0mnew_args\u001b[0m\u001b[1;33m,\u001b[0m \u001b[0mtemp_args\u001b[0m\u001b[1;33m)\u001b[0m \u001b[1;33m=\u001b[0m \u001b[0mself\u001b[0m\u001b[1;33m.\u001b[0m\u001b[0m_get_args\u001b[0m\u001b[1;33m(\u001b[0m\u001b[0margs\u001b[0m\u001b[1;33m)\u001b[0m\u001b[1;33m\u001b[0m\u001b[1;33m\u001b[0m\u001b[0m\n\u001b[0m\u001b[0;32m   1213\u001b[0m         \u001b[1;32melse\u001b[0m\u001b[1;33m:\u001b[0m\u001b[1;33m\u001b[0m\u001b[1;33m\u001b[0m\u001b[0m\n\u001b[0;32m   1214\u001b[0m             \u001b[0mnew_args\u001b[0m \u001b[1;33m=\u001b[0m \u001b[0margs\u001b[0m\u001b[1;33m\u001b[0m\u001b[1;33m\u001b[0m\u001b[0m\n",
      "\u001b[1;32m~\\Anaconda3\\lib\\site-packages\\py4j\\java_gateway.py\u001b[0m in \u001b[0;36m_get_args\u001b[1;34m(self, args)\u001b[0m\n\u001b[0;32m   1197\u001b[0m                 \u001b[1;32mfor\u001b[0m \u001b[0mconverter\u001b[0m \u001b[1;32min\u001b[0m \u001b[0mself\u001b[0m\u001b[1;33m.\u001b[0m\u001b[0mgateway_client\u001b[0m\u001b[1;33m.\u001b[0m\u001b[0mconverters\u001b[0m\u001b[1;33m:\u001b[0m\u001b[1;33m\u001b[0m\u001b[1;33m\u001b[0m\u001b[0m\n\u001b[0;32m   1198\u001b[0m                     \u001b[1;32mif\u001b[0m \u001b[0mconverter\u001b[0m\u001b[1;33m.\u001b[0m\u001b[0mcan_convert\u001b[0m\u001b[1;33m(\u001b[0m\u001b[0marg\u001b[0m\u001b[1;33m)\u001b[0m\u001b[1;33m:\u001b[0m\u001b[1;33m\u001b[0m\u001b[1;33m\u001b[0m\u001b[0m\n\u001b[1;32m-> 1199\u001b[1;33m                         \u001b[0mtemp_arg\u001b[0m \u001b[1;33m=\u001b[0m \u001b[0mconverter\u001b[0m\u001b[1;33m.\u001b[0m\u001b[0mconvert\u001b[0m\u001b[1;33m(\u001b[0m\u001b[0marg\u001b[0m\u001b[1;33m,\u001b[0m \u001b[0mself\u001b[0m\u001b[1;33m.\u001b[0m\u001b[0mgateway_client\u001b[0m\u001b[1;33m)\u001b[0m\u001b[1;33m\u001b[0m\u001b[1;33m\u001b[0m\u001b[0m\n\u001b[0m\u001b[0;32m   1200\u001b[0m                         \u001b[0mtemp_args\u001b[0m\u001b[1;33m.\u001b[0m\u001b[0mappend\u001b[0m\u001b[1;33m(\u001b[0m\u001b[0mtemp_arg\u001b[0m\u001b[1;33m)\u001b[0m\u001b[1;33m\u001b[0m\u001b[1;33m\u001b[0m\u001b[0m\n\u001b[0;32m   1201\u001b[0m                         \u001b[0mnew_args\u001b[0m\u001b[1;33m.\u001b[0m\u001b[0mappend\u001b[0m\u001b[1;33m(\u001b[0m\u001b[0mtemp_arg\u001b[0m\u001b[1;33m)\u001b[0m\u001b[1;33m\u001b[0m\u001b[1;33m\u001b[0m\u001b[0m\n",
      "\u001b[1;32m~\\Anaconda3\\lib\\site-packages\\py4j\\java_collections.py\u001b[0m in \u001b[0;36mconvert\u001b[1;34m(self, object, gateway_client)\u001b[0m\n\u001b[0;32m    499\u001b[0m         \u001b[0mjava_list\u001b[0m \u001b[1;33m=\u001b[0m \u001b[0mArrayList\u001b[0m\u001b[1;33m(\u001b[0m\u001b[1;33m)\u001b[0m\u001b[1;33m\u001b[0m\u001b[1;33m\u001b[0m\u001b[0m\n\u001b[0;32m    500\u001b[0m         \u001b[1;32mfor\u001b[0m \u001b[0melement\u001b[0m \u001b[1;32min\u001b[0m \u001b[0mobject\u001b[0m\u001b[1;33m:\u001b[0m\u001b[1;33m\u001b[0m\u001b[1;33m\u001b[0m\u001b[0m\n\u001b[1;32m--> 501\u001b[1;33m             \u001b[0mjava_list\u001b[0m\u001b[1;33m.\u001b[0m\u001b[0madd\u001b[0m\u001b[1;33m(\u001b[0m\u001b[0melement\u001b[0m\u001b[1;33m)\u001b[0m\u001b[1;33m\u001b[0m\u001b[1;33m\u001b[0m\u001b[0m\n\u001b[0m\u001b[0;32m    502\u001b[0m         \u001b[1;32mreturn\u001b[0m \u001b[0mjava_list\u001b[0m\u001b[1;33m\u001b[0m\u001b[1;33m\u001b[0m\u001b[0m\n\u001b[0;32m    503\u001b[0m \u001b[1;33m\u001b[0m\u001b[0m\n",
      "\u001b[1;32m~\\Anaconda3\\lib\\site-packages\\py4j\\java_gateway.py\u001b[0m in \u001b[0;36m__call__\u001b[1;34m(self, *args)\u001b[0m\n\u001b[0;32m   1246\u001b[0m \u001b[1;33m\u001b[0m\u001b[0m\n\u001b[0;32m   1247\u001b[0m     \u001b[1;32mdef\u001b[0m \u001b[0m__call__\u001b[0m\u001b[1;33m(\u001b[0m\u001b[0mself\u001b[0m\u001b[1;33m,\u001b[0m \u001b[1;33m*\u001b[0m\u001b[0margs\u001b[0m\u001b[1;33m)\u001b[0m\u001b[1;33m:\u001b[0m\u001b[1;33m\u001b[0m\u001b[1;33m\u001b[0m\u001b[0m\n\u001b[1;32m-> 1248\u001b[1;33m         \u001b[0margs_command\u001b[0m\u001b[1;33m,\u001b[0m \u001b[0mtemp_args\u001b[0m \u001b[1;33m=\u001b[0m \u001b[0mself\u001b[0m\u001b[1;33m.\u001b[0m\u001b[0m_build_args\u001b[0m\u001b[1;33m(\u001b[0m\u001b[1;33m*\u001b[0m\u001b[0margs\u001b[0m\u001b[1;33m)\u001b[0m\u001b[1;33m\u001b[0m\u001b[1;33m\u001b[0m\u001b[0m\n\u001b[0m\u001b[0;32m   1249\u001b[0m \u001b[1;33m\u001b[0m\u001b[0m\n\u001b[0;32m   1250\u001b[0m         \u001b[0mcommand\u001b[0m \u001b[1;33m=\u001b[0m \u001b[0mproto\u001b[0m\u001b[1;33m.\u001b[0m\u001b[0mCALL_COMMAND_NAME\u001b[0m \u001b[1;33m+\u001b[0m\u001b[0;31m\\\u001b[0m\u001b[1;33m\u001b[0m\u001b[1;33m\u001b[0m\u001b[0m\n",
      "\u001b[1;32m~\\Anaconda3\\lib\\site-packages\\py4j\\java_gateway.py\u001b[0m in \u001b[0;36m_build_args\u001b[1;34m(self, *args)\u001b[0m\n\u001b[0;32m   1210\u001b[0m     \u001b[1;32mdef\u001b[0m \u001b[0m_build_args\u001b[0m\u001b[1;33m(\u001b[0m\u001b[0mself\u001b[0m\u001b[1;33m,\u001b[0m \u001b[1;33m*\u001b[0m\u001b[0margs\u001b[0m\u001b[1;33m)\u001b[0m\u001b[1;33m:\u001b[0m\u001b[1;33m\u001b[0m\u001b[1;33m\u001b[0m\u001b[0m\n\u001b[0;32m   1211\u001b[0m         \u001b[1;32mif\u001b[0m \u001b[0mself\u001b[0m\u001b[1;33m.\u001b[0m\u001b[0mconverters\u001b[0m \u001b[1;32mis\u001b[0m \u001b[1;32mnot\u001b[0m \u001b[1;32mNone\u001b[0m \u001b[1;32mand\u001b[0m \u001b[0mlen\u001b[0m\u001b[1;33m(\u001b[0m\u001b[0mself\u001b[0m\u001b[1;33m.\u001b[0m\u001b[0mconverters\u001b[0m\u001b[1;33m)\u001b[0m \u001b[1;33m>\u001b[0m \u001b[1;36m0\u001b[0m\u001b[1;33m:\u001b[0m\u001b[1;33m\u001b[0m\u001b[1;33m\u001b[0m\u001b[0m\n\u001b[1;32m-> 1212\u001b[1;33m             \u001b[1;33m(\u001b[0m\u001b[0mnew_args\u001b[0m\u001b[1;33m,\u001b[0m \u001b[0mtemp_args\u001b[0m\u001b[1;33m)\u001b[0m \u001b[1;33m=\u001b[0m \u001b[0mself\u001b[0m\u001b[1;33m.\u001b[0m\u001b[0m_get_args\u001b[0m\u001b[1;33m(\u001b[0m\u001b[0margs\u001b[0m\u001b[1;33m)\u001b[0m\u001b[1;33m\u001b[0m\u001b[1;33m\u001b[0m\u001b[0m\n\u001b[0m\u001b[0;32m   1213\u001b[0m         \u001b[1;32melse\u001b[0m\u001b[1;33m:\u001b[0m\u001b[1;33m\u001b[0m\u001b[1;33m\u001b[0m\u001b[0m\n\u001b[0;32m   1214\u001b[0m             \u001b[0mnew_args\u001b[0m \u001b[1;33m=\u001b[0m \u001b[0margs\u001b[0m\u001b[1;33m\u001b[0m\u001b[1;33m\u001b[0m\u001b[0m\n",
      "\u001b[1;32m~\\Anaconda3\\lib\\site-packages\\py4j\\java_gateway.py\u001b[0m in \u001b[0;36m_get_args\u001b[1;34m(self, args)\u001b[0m\n\u001b[0;32m   1197\u001b[0m                 \u001b[1;32mfor\u001b[0m \u001b[0mconverter\u001b[0m \u001b[1;32min\u001b[0m \u001b[0mself\u001b[0m\u001b[1;33m.\u001b[0m\u001b[0mgateway_client\u001b[0m\u001b[1;33m.\u001b[0m\u001b[0mconverters\u001b[0m\u001b[1;33m:\u001b[0m\u001b[1;33m\u001b[0m\u001b[1;33m\u001b[0m\u001b[0m\n\u001b[0;32m   1198\u001b[0m                     \u001b[1;32mif\u001b[0m \u001b[0mconverter\u001b[0m\u001b[1;33m.\u001b[0m\u001b[0mcan_convert\u001b[0m\u001b[1;33m(\u001b[0m\u001b[0marg\u001b[0m\u001b[1;33m)\u001b[0m\u001b[1;33m:\u001b[0m\u001b[1;33m\u001b[0m\u001b[1;33m\u001b[0m\u001b[0m\n\u001b[1;32m-> 1199\u001b[1;33m                         \u001b[0mtemp_arg\u001b[0m \u001b[1;33m=\u001b[0m \u001b[0mconverter\u001b[0m\u001b[1;33m.\u001b[0m\u001b[0mconvert\u001b[0m\u001b[1;33m(\u001b[0m\u001b[0marg\u001b[0m\u001b[1;33m,\u001b[0m \u001b[0mself\u001b[0m\u001b[1;33m.\u001b[0m\u001b[0mgateway_client\u001b[0m\u001b[1;33m)\u001b[0m\u001b[1;33m\u001b[0m\u001b[1;33m\u001b[0m\u001b[0m\n\u001b[0m\u001b[0;32m   1200\u001b[0m                         \u001b[0mtemp_args\u001b[0m\u001b[1;33m.\u001b[0m\u001b[0mappend\u001b[0m\u001b[1;33m(\u001b[0m\u001b[0mtemp_arg\u001b[0m\u001b[1;33m)\u001b[0m\u001b[1;33m\u001b[0m\u001b[1;33m\u001b[0m\u001b[0m\n\u001b[0;32m   1201\u001b[0m                         \u001b[0mnew_args\u001b[0m\u001b[1;33m.\u001b[0m\u001b[0mappend\u001b[0m\u001b[1;33m(\u001b[0m\u001b[0mtemp_arg\u001b[0m\u001b[1;33m)\u001b[0m\u001b[1;33m\u001b[0m\u001b[1;33m\u001b[0m\u001b[0m\n",
      "\u001b[1;32m~\\Anaconda3\\lib\\site-packages\\py4j\\java_collections.py\u001b[0m in \u001b[0;36mconvert\u001b[1;34m(self, object, gateway_client)\u001b[0m\n\u001b[0;32m    498\u001b[0m         \u001b[0mArrayList\u001b[0m \u001b[1;33m=\u001b[0m \u001b[0mJavaClass\u001b[0m\u001b[1;33m(\u001b[0m\u001b[1;34m\"java.util.ArrayList\"\u001b[0m\u001b[1;33m,\u001b[0m \u001b[0mgateway_client\u001b[0m\u001b[1;33m)\u001b[0m\u001b[1;33m\u001b[0m\u001b[1;33m\u001b[0m\u001b[0m\n\u001b[0;32m    499\u001b[0m         \u001b[0mjava_list\u001b[0m \u001b[1;33m=\u001b[0m \u001b[0mArrayList\u001b[0m\u001b[1;33m(\u001b[0m\u001b[1;33m)\u001b[0m\u001b[1;33m\u001b[0m\u001b[1;33m\u001b[0m\u001b[0m\n\u001b[1;32m--> 500\u001b[1;33m         \u001b[1;32mfor\u001b[0m \u001b[0melement\u001b[0m \u001b[1;32min\u001b[0m \u001b[0mobject\u001b[0m\u001b[1;33m:\u001b[0m\u001b[1;33m\u001b[0m\u001b[1;33m\u001b[0m\u001b[0m\n\u001b[0m\u001b[0;32m    501\u001b[0m             \u001b[0mjava_list\u001b[0m\u001b[1;33m.\u001b[0m\u001b[0madd\u001b[0m\u001b[1;33m(\u001b[0m\u001b[0melement\u001b[0m\u001b[1;33m)\u001b[0m\u001b[1;33m\u001b[0m\u001b[1;33m\u001b[0m\u001b[0m\n\u001b[0;32m    502\u001b[0m         \u001b[1;32mreturn\u001b[0m \u001b[0mjava_list\u001b[0m\u001b[1;33m\u001b[0m\u001b[1;33m\u001b[0m\u001b[0m\n",
      "\u001b[1;32m~\\Anaconda3\\lib\\site-packages\\pyspark\\sql\\column.py\u001b[0m in \u001b[0;36m__iter__\u001b[1;34m(self)\u001b[0m\n\u001b[0;32m    342\u001b[0m \u001b[1;33m\u001b[0m\u001b[0m\n\u001b[0;32m    343\u001b[0m     \u001b[1;32mdef\u001b[0m \u001b[0m__iter__\u001b[0m\u001b[1;33m(\u001b[0m\u001b[0mself\u001b[0m\u001b[1;33m)\u001b[0m\u001b[1;33m:\u001b[0m\u001b[1;33m\u001b[0m\u001b[1;33m\u001b[0m\u001b[0m\n\u001b[1;32m--> 344\u001b[1;33m         \u001b[1;32mraise\u001b[0m \u001b[0mTypeError\u001b[0m\u001b[1;33m(\u001b[0m\u001b[1;34m\"Column is not iterable\"\u001b[0m\u001b[1;33m)\u001b[0m\u001b[1;33m\u001b[0m\u001b[1;33m\u001b[0m\u001b[0m\n\u001b[0m\u001b[0;32m    345\u001b[0m \u001b[1;33m\u001b[0m\u001b[0m\n\u001b[0;32m    346\u001b[0m     \u001b[1;31m# string methods\u001b[0m\u001b[1;33m\u001b[0m\u001b[1;33m\u001b[0m\u001b[1;33m\u001b[0m\u001b[0m\n",
      "\u001b[1;31mTypeError\u001b[0m: Column is not iterable"
     ]
    }
   ],
   "source": [
    "from pyspark.sql.functions import col\n",
    "\n",
    "ReviewScores = [col('overall_ratings'),col('work_balance_stars'),col('culture_values_stars'),col('carrer_opportunities_stars'),col('comp_benefit_stars'),col('senior_mangemnet_stars')]\n",
    "\n",
    "averageFunc = sum(x for x in ReviewScores)/len(ReviewScores)\n",
    "\n",
    "cleaned_reviews_df.withColumn('Result(Avg)', averageFunc).show(truncate=False)"
   ]
  },
  {
   "cell_type": "code",
   "execution_count": 135,
   "metadata": {},
   "outputs": [
    {
     "ename": "Py4JJavaError",
     "evalue": "An error occurred while calling o1757.showString.\n: org.apache.spark.SparkException: Job aborted due to stage failure: Task 0 in stage 63.0 failed 1 times, most recent failure: Lost task 0.0 in stage 63.0 (TID 1045, localhost, executor driver): org.apache.spark.api.python.PythonException: Traceback (most recent call last):\n  File \"C:\\Users\\Sushil\\Anaconda3\\Lib\\site-packages\\pyspark\\python\\lib\\pyspark.zip\\pyspark\\worker.py\", line 377, in main\n  File \"C:\\Users\\Sushil\\Anaconda3\\Lib\\site-packages\\pyspark\\python\\lib\\pyspark.zip\\pyspark\\worker.py\", line 372, in process\n  File \"C:\\Users\\Sushil\\Anaconda3\\Lib\\site-packages\\pyspark\\python\\lib\\pyspark.zip\\pyspark\\serializers.py\", line 345, in dump_stream\n    self.serializer.dump_stream(self._batched(iterator), stream)\n  File \"C:\\Users\\Sushil\\Anaconda3\\Lib\\site-packages\\pyspark\\python\\lib\\pyspark.zip\\pyspark\\serializers.py\", line 141, in dump_stream\n    for obj in iterator:\n  File \"C:\\Users\\Sushil\\Anaconda3\\Lib\\site-packages\\pyspark\\python\\lib\\pyspark.zip\\pyspark\\serializers.py\", line 334, in _batched\n    for item in iterator:\n  File \"<string>\", line 1, in <lambda>\n  File \"C:\\Users\\Sushil\\Anaconda3\\Lib\\site-packages\\pyspark\\python\\lib\\pyspark.zip\\pyspark\\worker.py\", line 85, in <lambda>\n  File \"C:\\Users\\Sushil\\Anaconda3\\Lib\\site-packages\\pyspark\\python\\lib\\pyspark.zip\\pyspark\\util.py\", line 99, in wrapper\n    return f(*args, **kwargs)\n  File \"<ipython-input-135-8a27ea9cf113>\", line 4, in <lambda>\n  File \"C:\\Users\\Sushil\\Anaconda3\\Lib\\site-packages\\pyspark\\python\\lib\\pyspark.zip\\pyspark\\sql\\functions.py\", line 44, in _\n    jc = getattr(sc._jvm.functions, name)(col._jc if isinstance(col, Column) else col)\nAttributeError: 'NoneType' object has no attribute '_jvm'\n\r\n\tat org.apache.spark.api.python.BasePythonRunner$ReaderIterator.handlePythonException(PythonRunner.scala:452)\r\n\tat org.apache.spark.sql.execution.python.PythonUDFRunner$$anon$1.read(PythonUDFRunner.scala:81)\r\n\tat org.apache.spark.sql.execution.python.PythonUDFRunner$$anon$1.read(PythonUDFRunner.scala:64)\r\n\tat org.apache.spark.api.python.BasePythonRunner$ReaderIterator.hasNext(PythonRunner.scala:406)\r\n\tat org.apache.spark.InterruptibleIterator.hasNext(InterruptibleIterator.scala:37)\r\n\tat scala.collection.Iterator$$anon$12.hasNext(Iterator.scala:440)\r\n\tat scala.collection.Iterator$$anon$11.hasNext(Iterator.scala:409)\r\n\tat scala.collection.Iterator$$anon$11.hasNext(Iterator.scala:409)\r\n\tat org.apache.spark.sql.catalyst.expressions.GeneratedClass$GeneratedIteratorForCodegenStage3.processNext(Unknown Source)\r\n\tat org.apache.spark.sql.execution.BufferedRowIterator.hasNext(BufferedRowIterator.java:43)\r\n\tat org.apache.spark.sql.execution.WholeStageCodegenExec$$anonfun$13$$anon$1.hasNext(WholeStageCodegenExec.scala:636)\r\n\tat org.apache.spark.sql.execution.SparkPlan$$anonfun$2.apply(SparkPlan.scala:255)\r\n\tat org.apache.spark.sql.execution.SparkPlan$$anonfun$2.apply(SparkPlan.scala:247)\r\n\tat org.apache.spark.rdd.RDD$$anonfun$mapPartitionsInternal$1$$anonfun$apply$24.apply(RDD.scala:836)\r\n\tat org.apache.spark.rdd.RDD$$anonfun$mapPartitionsInternal$1$$anonfun$apply$24.apply(RDD.scala:836)\r\n\tat org.apache.spark.rdd.MapPartitionsRDD.compute(MapPartitionsRDD.scala:52)\r\n\tat org.apache.spark.rdd.RDD.computeOrReadCheckpoint(RDD.scala:324)\r\n\tat org.apache.spark.rdd.RDD.iterator(RDD.scala:288)\r\n\tat org.apache.spark.rdd.MapPartitionsRDD.compute(MapPartitionsRDD.scala:52)\r\n\tat org.apache.spark.rdd.RDD.computeOrReadCheckpoint(RDD.scala:324)\r\n\tat org.apache.spark.rdd.RDD.iterator(RDD.scala:288)\r\n\tat org.apache.spark.scheduler.ResultTask.runTask(ResultTask.scala:90)\r\n\tat org.apache.spark.scheduler.Task.run(Task.scala:121)\r\n\tat org.apache.spark.executor.Executor$TaskRunner$$anonfun$10.apply(Executor.scala:408)\r\n\tat org.apache.spark.util.Utils$.tryWithSafeFinally(Utils.scala:1360)\r\n\tat org.apache.spark.executor.Executor$TaskRunner.run(Executor.scala:414)\r\n\tat java.base/java.util.concurrent.ThreadPoolExecutor.runWorker(Unknown Source)\r\n\tat java.base/java.util.concurrent.ThreadPoolExecutor$Worker.run(Unknown Source)\r\n\tat java.base/java.lang.Thread.run(Unknown Source)\r\n\nDriver stacktrace:\r\n\tat org.apache.spark.scheduler.DAGScheduler.org$apache$spark$scheduler$DAGScheduler$$failJobAndIndependentStages(DAGScheduler.scala:1889)\r\n\tat org.apache.spark.scheduler.DAGScheduler$$anonfun$abortStage$1.apply(DAGScheduler.scala:1877)\r\n\tat org.apache.spark.scheduler.DAGScheduler$$anonfun$abortStage$1.apply(DAGScheduler.scala:1876)\r\n\tat scala.collection.mutable.ResizableArray$class.foreach(ResizableArray.scala:59)\r\n\tat scala.collection.mutable.ArrayBuffer.foreach(ArrayBuffer.scala:48)\r\n\tat org.apache.spark.scheduler.DAGScheduler.abortStage(DAGScheduler.scala:1876)\r\n\tat org.apache.spark.scheduler.DAGScheduler$$anonfun$handleTaskSetFailed$1.apply(DAGScheduler.scala:926)\r\n\tat org.apache.spark.scheduler.DAGScheduler$$anonfun$handleTaskSetFailed$1.apply(DAGScheduler.scala:926)\r\n\tat scala.Option.foreach(Option.scala:257)\r\n\tat org.apache.spark.scheduler.DAGScheduler.handleTaskSetFailed(DAGScheduler.scala:926)\r\n\tat org.apache.spark.scheduler.DAGSchedulerEventProcessLoop.doOnReceive(DAGScheduler.scala:2110)\r\n\tat org.apache.spark.scheduler.DAGSchedulerEventProcessLoop.onReceive(DAGScheduler.scala:2059)\r\n\tat org.apache.spark.scheduler.DAGSchedulerEventProcessLoop.onReceive(DAGScheduler.scala:2048)\r\n\tat org.apache.spark.util.EventLoop$$anon$1.run(EventLoop.scala:49)\r\n\tat org.apache.spark.scheduler.DAGScheduler.runJob(DAGScheduler.scala:737)\r\n\tat org.apache.spark.SparkContext.runJob(SparkContext.scala:2061)\r\n\tat org.apache.spark.SparkContext.runJob(SparkContext.scala:2082)\r\n\tat org.apache.spark.SparkContext.runJob(SparkContext.scala:2101)\r\n\tat org.apache.spark.sql.execution.SparkPlan.executeTake(SparkPlan.scala:365)\r\n\tat org.apache.spark.sql.execution.CollectLimitExec.executeCollect(limit.scala:38)\r\n\tat org.apache.spark.sql.Dataset.org$apache$spark$sql$Dataset$$collectFromPlan(Dataset.scala:3383)\r\n\tat org.apache.spark.sql.Dataset$$anonfun$head$1.apply(Dataset.scala:2544)\r\n\tat org.apache.spark.sql.Dataset$$anonfun$head$1.apply(Dataset.scala:2544)\r\n\tat org.apache.spark.sql.Dataset$$anonfun$53.apply(Dataset.scala:3364)\r\n\tat org.apache.spark.sql.execution.SQLExecution$$anonfun$withNewExecutionId$1.apply(SQLExecution.scala:78)\r\n\tat org.apache.spark.sql.execution.SQLExecution$.withSQLConfPropagated(SQLExecution.scala:125)\r\n\tat org.apache.spark.sql.execution.SQLExecution$.withNewExecutionId(SQLExecution.scala:73)\r\n\tat org.apache.spark.sql.Dataset.withAction(Dataset.scala:3363)\r\n\tat org.apache.spark.sql.Dataset.head(Dataset.scala:2544)\r\n\tat org.apache.spark.sql.Dataset.take(Dataset.scala:2758)\r\n\tat org.apache.spark.sql.Dataset.getRows(Dataset.scala:254)\r\n\tat org.apache.spark.sql.Dataset.showString(Dataset.scala:291)\r\n\tat jdk.internal.reflect.GeneratedMethodAccessor121.invoke(Unknown Source)\r\n\tat java.base/jdk.internal.reflect.DelegatingMethodAccessorImpl.invoke(Unknown Source)\r\n\tat java.base/java.lang.reflect.Method.invoke(Unknown Source)\r\n\tat py4j.reflection.MethodInvoker.invoke(MethodInvoker.java:244)\r\n\tat py4j.reflection.ReflectionEngine.invoke(ReflectionEngine.java:357)\r\n\tat py4j.Gateway.invoke(Gateway.java:282)\r\n\tat py4j.commands.AbstractCommand.invokeMethod(AbstractCommand.java:132)\r\n\tat py4j.commands.CallCommand.execute(CallCommand.java:79)\r\n\tat py4j.GatewayConnection.run(GatewayConnection.java:238)\r\n\tat java.base/java.lang.Thread.run(Unknown Source)\r\nCaused by: org.apache.spark.api.python.PythonException: Traceback (most recent call last):\n  File \"C:\\Users\\Sushil\\Anaconda3\\Lib\\site-packages\\pyspark\\python\\lib\\pyspark.zip\\pyspark\\worker.py\", line 377, in main\n  File \"C:\\Users\\Sushil\\Anaconda3\\Lib\\site-packages\\pyspark\\python\\lib\\pyspark.zip\\pyspark\\worker.py\", line 372, in process\n  File \"C:\\Users\\Sushil\\Anaconda3\\Lib\\site-packages\\pyspark\\python\\lib\\pyspark.zip\\pyspark\\serializers.py\", line 345, in dump_stream\n    self.serializer.dump_stream(self._batched(iterator), stream)\n  File \"C:\\Users\\Sushil\\Anaconda3\\Lib\\site-packages\\pyspark\\python\\lib\\pyspark.zip\\pyspark\\serializers.py\", line 141, in dump_stream\n    for obj in iterator:\n  File \"C:\\Users\\Sushil\\Anaconda3\\Lib\\site-packages\\pyspark\\python\\lib\\pyspark.zip\\pyspark\\serializers.py\", line 334, in _batched\n    for item in iterator:\n  File \"<string>\", line 1, in <lambda>\n  File \"C:\\Users\\Sushil\\Anaconda3\\Lib\\site-packages\\pyspark\\python\\lib\\pyspark.zip\\pyspark\\worker.py\", line 85, in <lambda>\n  File \"C:\\Users\\Sushil\\Anaconda3\\Lib\\site-packages\\pyspark\\python\\lib\\pyspark.zip\\pyspark\\util.py\", line 99, in wrapper\n    return f(*args, **kwargs)\n  File \"<ipython-input-135-8a27ea9cf113>\", line 4, in <lambda>\n  File \"C:\\Users\\Sushil\\Anaconda3\\Lib\\site-packages\\pyspark\\python\\lib\\pyspark.zip\\pyspark\\sql\\functions.py\", line 44, in _\n    jc = getattr(sc._jvm.functions, name)(col._jc if isinstance(col, Column) else col)\nAttributeError: 'NoneType' object has no attribute '_jvm'\n\r\n\tat org.apache.spark.api.python.BasePythonRunner$ReaderIterator.handlePythonException(PythonRunner.scala:452)\r\n\tat org.apache.spark.sql.execution.python.PythonUDFRunner$$anon$1.read(PythonUDFRunner.scala:81)\r\n\tat org.apache.spark.sql.execution.python.PythonUDFRunner$$anon$1.read(PythonUDFRunner.scala:64)\r\n\tat org.apache.spark.api.python.BasePythonRunner$ReaderIterator.hasNext(PythonRunner.scala:406)\r\n\tat org.apache.spark.InterruptibleIterator.hasNext(InterruptibleIterator.scala:37)\r\n\tat scala.collection.Iterator$$anon$12.hasNext(Iterator.scala:440)\r\n\tat scala.collection.Iterator$$anon$11.hasNext(Iterator.scala:409)\r\n\tat scala.collection.Iterator$$anon$11.hasNext(Iterator.scala:409)\r\n\tat org.apache.spark.sql.catalyst.expressions.GeneratedClass$GeneratedIteratorForCodegenStage3.processNext(Unknown Source)\r\n\tat org.apache.spark.sql.execution.BufferedRowIterator.hasNext(BufferedRowIterator.java:43)\r\n\tat org.apache.spark.sql.execution.WholeStageCodegenExec$$anonfun$13$$anon$1.hasNext(WholeStageCodegenExec.scala:636)\r\n\tat org.apache.spark.sql.execution.SparkPlan$$anonfun$2.apply(SparkPlan.scala:255)\r\n\tat org.apache.spark.sql.execution.SparkPlan$$anonfun$2.apply(SparkPlan.scala:247)\r\n\tat org.apache.spark.rdd.RDD$$anonfun$mapPartitionsInternal$1$$anonfun$apply$24.apply(RDD.scala:836)\r\n\tat org.apache.spark.rdd.RDD$$anonfun$mapPartitionsInternal$1$$anonfun$apply$24.apply(RDD.scala:836)\r\n\tat org.apache.spark.rdd.MapPartitionsRDD.compute(MapPartitionsRDD.scala:52)\r\n\tat org.apache.spark.rdd.RDD.computeOrReadCheckpoint(RDD.scala:324)\r\n\tat org.apache.spark.rdd.RDD.iterator(RDD.scala:288)\r\n\tat org.apache.spark.rdd.MapPartitionsRDD.compute(MapPartitionsRDD.scala:52)\r\n\tat org.apache.spark.rdd.RDD.computeOrReadCheckpoint(RDD.scala:324)\r\n\tat org.apache.spark.rdd.RDD.iterator(RDD.scala:288)\r\n\tat org.apache.spark.scheduler.ResultTask.runTask(ResultTask.scala:90)\r\n\tat org.apache.spark.scheduler.Task.run(Task.scala:121)\r\n\tat org.apache.spark.executor.Executor$TaskRunner$$anonfun$10.apply(Executor.scala:408)\r\n\tat org.apache.spark.util.Utils$.tryWithSafeFinally(Utils.scala:1360)\r\n\tat org.apache.spark.executor.Executor$TaskRunner.run(Executor.scala:414)\r\n\tat java.base/java.util.concurrent.ThreadPoolExecutor.runWorker(Unknown Source)\r\n\tat java.base/java.util.concurrent.ThreadPoolExecutor$Worker.run(Unknown Source)\r\n\t... 1 more\r\n",
     "output_type": "error",
     "traceback": [
      "\u001b[1;31m---------------------------------------------------------------------------\u001b[0m",
      "\u001b[1;31mPy4JJavaError\u001b[0m                             Traceback (most recent call last)",
      "\u001b[1;32m<ipython-input-135-8a27ea9cf113>\u001b[0m in \u001b[0;36m<module>\u001b[1;34m\u001b[0m\n\u001b[0;32m      4\u001b[0m \u001b[0mavg_cols\u001b[0m \u001b[1;33m=\u001b[0m \u001b[0mudf\u001b[0m\u001b[1;33m(\u001b[0m\u001b[1;32mlambda\u001b[0m \u001b[0marray\u001b[0m\u001b[1;33m:\u001b[0m \u001b[0msum\u001b[0m\u001b[1;33m(\u001b[0m\u001b[0marray\u001b[0m\u001b[1;33m)\u001b[0m\u001b[1;33m/\u001b[0m\u001b[0mlen\u001b[0m\u001b[1;33m(\u001b[0m\u001b[0marray\u001b[0m\u001b[1;33m)\u001b[0m\u001b[1;33m,\u001b[0m \u001b[0mDoubleType\u001b[0m\u001b[1;33m(\u001b[0m\u001b[1;33m)\u001b[0m\u001b[1;33m)\u001b[0m\u001b[1;33m\u001b[0m\u001b[1;33m\u001b[0m\u001b[0m\n\u001b[0;32m      5\u001b[0m \u001b[1;33m\u001b[0m\u001b[0m\n\u001b[1;32m----> 6\u001b[1;33m \u001b[0mcleaned_reviews_df\u001b[0m\u001b[1;33m.\u001b[0m\u001b[0mwithColumn\u001b[0m\u001b[1;33m(\u001b[0m\u001b[1;34m\"average\"\u001b[0m\u001b[1;33m,\u001b[0m \u001b[0mavg_cols\u001b[0m\u001b[1;33m(\u001b[0m\u001b[0marray\u001b[0m\u001b[1;33m(\u001b[0m\u001b[1;34m\"overall_ratings\"\u001b[0m\u001b[1;33m,\u001b[0m \u001b[1;34m\"work_balance_stars\"\u001b[0m\u001b[1;33m,\u001b[0m\u001b[1;34m\"culture_values_stars\"\u001b[0m\u001b[1;33m,\u001b[0m\u001b[1;34m\"carrer_opportunities_stars\"\u001b[0m\u001b[1;33m,\u001b[0m\u001b[1;34m\"comp_benefit_stars\"\u001b[0m\u001b[1;33m,\u001b[0m\u001b[1;34m\"senior_mangemnet_stars\"\u001b[0m\u001b[1;33m)\u001b[0m\u001b[1;33m)\u001b[0m\u001b[1;33m)\u001b[0m\u001b[1;33m.\u001b[0m\u001b[0mshow\u001b[0m\u001b[1;33m(\u001b[0m\u001b[1;33m)\u001b[0m\u001b[1;33m\u001b[0m\u001b[1;33m\u001b[0m\u001b[0m\n\u001b[0m",
      "\u001b[1;32m~\\Anaconda3\\lib\\site-packages\\pyspark\\sql\\dataframe.py\u001b[0m in \u001b[0;36mshow\u001b[1;34m(self, n, truncate, vertical)\u001b[0m\n\u001b[0;32m    376\u001b[0m         \"\"\"\n\u001b[0;32m    377\u001b[0m         \u001b[1;32mif\u001b[0m \u001b[0misinstance\u001b[0m\u001b[1;33m(\u001b[0m\u001b[0mtruncate\u001b[0m\u001b[1;33m,\u001b[0m \u001b[0mbool\u001b[0m\u001b[1;33m)\u001b[0m \u001b[1;32mand\u001b[0m \u001b[0mtruncate\u001b[0m\u001b[1;33m:\u001b[0m\u001b[1;33m\u001b[0m\u001b[1;33m\u001b[0m\u001b[0m\n\u001b[1;32m--> 378\u001b[1;33m             \u001b[0mprint\u001b[0m\u001b[1;33m(\u001b[0m\u001b[0mself\u001b[0m\u001b[1;33m.\u001b[0m\u001b[0m_jdf\u001b[0m\u001b[1;33m.\u001b[0m\u001b[0mshowString\u001b[0m\u001b[1;33m(\u001b[0m\u001b[0mn\u001b[0m\u001b[1;33m,\u001b[0m \u001b[1;36m20\u001b[0m\u001b[1;33m,\u001b[0m \u001b[0mvertical\u001b[0m\u001b[1;33m)\u001b[0m\u001b[1;33m)\u001b[0m\u001b[1;33m\u001b[0m\u001b[1;33m\u001b[0m\u001b[0m\n\u001b[0m\u001b[0;32m    379\u001b[0m         \u001b[1;32melse\u001b[0m\u001b[1;33m:\u001b[0m\u001b[1;33m\u001b[0m\u001b[1;33m\u001b[0m\u001b[0m\n\u001b[0;32m    380\u001b[0m             \u001b[0mprint\u001b[0m\u001b[1;33m(\u001b[0m\u001b[0mself\u001b[0m\u001b[1;33m.\u001b[0m\u001b[0m_jdf\u001b[0m\u001b[1;33m.\u001b[0m\u001b[0mshowString\u001b[0m\u001b[1;33m(\u001b[0m\u001b[0mn\u001b[0m\u001b[1;33m,\u001b[0m \u001b[0mint\u001b[0m\u001b[1;33m(\u001b[0m\u001b[0mtruncate\u001b[0m\u001b[1;33m)\u001b[0m\u001b[1;33m,\u001b[0m \u001b[0mvertical\u001b[0m\u001b[1;33m)\u001b[0m\u001b[1;33m)\u001b[0m\u001b[1;33m\u001b[0m\u001b[1;33m\u001b[0m\u001b[0m\n",
      "\u001b[1;32m~\\Anaconda3\\lib\\site-packages\\py4j\\java_gateway.py\u001b[0m in \u001b[0;36m__call__\u001b[1;34m(self, *args)\u001b[0m\n\u001b[0;32m   1255\u001b[0m         \u001b[0manswer\u001b[0m \u001b[1;33m=\u001b[0m \u001b[0mself\u001b[0m\u001b[1;33m.\u001b[0m\u001b[0mgateway_client\u001b[0m\u001b[1;33m.\u001b[0m\u001b[0msend_command\u001b[0m\u001b[1;33m(\u001b[0m\u001b[0mcommand\u001b[0m\u001b[1;33m)\u001b[0m\u001b[1;33m\u001b[0m\u001b[1;33m\u001b[0m\u001b[0m\n\u001b[0;32m   1256\u001b[0m         return_value = get_return_value(\n\u001b[1;32m-> 1257\u001b[1;33m             answer, self.gateway_client, self.target_id, self.name)\n\u001b[0m\u001b[0;32m   1258\u001b[0m \u001b[1;33m\u001b[0m\u001b[0m\n\u001b[0;32m   1259\u001b[0m         \u001b[1;32mfor\u001b[0m \u001b[0mtemp_arg\u001b[0m \u001b[1;32min\u001b[0m \u001b[0mtemp_args\u001b[0m\u001b[1;33m:\u001b[0m\u001b[1;33m\u001b[0m\u001b[1;33m\u001b[0m\u001b[0m\n",
      "\u001b[1;32m~\\Anaconda3\\lib\\site-packages\\pyspark\\sql\\utils.py\u001b[0m in \u001b[0;36mdeco\u001b[1;34m(*a, **kw)\u001b[0m\n\u001b[0;32m     61\u001b[0m     \u001b[1;32mdef\u001b[0m \u001b[0mdeco\u001b[0m\u001b[1;33m(\u001b[0m\u001b[1;33m*\u001b[0m\u001b[0ma\u001b[0m\u001b[1;33m,\u001b[0m \u001b[1;33m**\u001b[0m\u001b[0mkw\u001b[0m\u001b[1;33m)\u001b[0m\u001b[1;33m:\u001b[0m\u001b[1;33m\u001b[0m\u001b[1;33m\u001b[0m\u001b[0m\n\u001b[0;32m     62\u001b[0m         \u001b[1;32mtry\u001b[0m\u001b[1;33m:\u001b[0m\u001b[1;33m\u001b[0m\u001b[1;33m\u001b[0m\u001b[0m\n\u001b[1;32m---> 63\u001b[1;33m             \u001b[1;32mreturn\u001b[0m \u001b[0mf\u001b[0m\u001b[1;33m(\u001b[0m\u001b[1;33m*\u001b[0m\u001b[0ma\u001b[0m\u001b[1;33m,\u001b[0m \u001b[1;33m**\u001b[0m\u001b[0mkw\u001b[0m\u001b[1;33m)\u001b[0m\u001b[1;33m\u001b[0m\u001b[1;33m\u001b[0m\u001b[0m\n\u001b[0m\u001b[0;32m     64\u001b[0m         \u001b[1;32mexcept\u001b[0m \u001b[0mpy4j\u001b[0m\u001b[1;33m.\u001b[0m\u001b[0mprotocol\u001b[0m\u001b[1;33m.\u001b[0m\u001b[0mPy4JJavaError\u001b[0m \u001b[1;32mas\u001b[0m \u001b[0me\u001b[0m\u001b[1;33m:\u001b[0m\u001b[1;33m\u001b[0m\u001b[1;33m\u001b[0m\u001b[0m\n\u001b[0;32m     65\u001b[0m             \u001b[0ms\u001b[0m \u001b[1;33m=\u001b[0m \u001b[0me\u001b[0m\u001b[1;33m.\u001b[0m\u001b[0mjava_exception\u001b[0m\u001b[1;33m.\u001b[0m\u001b[0mtoString\u001b[0m\u001b[1;33m(\u001b[0m\u001b[1;33m)\u001b[0m\u001b[1;33m\u001b[0m\u001b[1;33m\u001b[0m\u001b[0m\n",
      "\u001b[1;32m~\\Anaconda3\\lib\\site-packages\\py4j\\protocol.py\u001b[0m in \u001b[0;36mget_return_value\u001b[1;34m(answer, gateway_client, target_id, name)\u001b[0m\n\u001b[0;32m    326\u001b[0m                 raise Py4JJavaError(\n\u001b[0;32m    327\u001b[0m                     \u001b[1;34m\"An error occurred while calling {0}{1}{2}.\\n\"\u001b[0m\u001b[1;33m.\u001b[0m\u001b[1;33m\u001b[0m\u001b[1;33m\u001b[0m\u001b[0m\n\u001b[1;32m--> 328\u001b[1;33m                     format(target_id, \".\", name), value)\n\u001b[0m\u001b[0;32m    329\u001b[0m             \u001b[1;32melse\u001b[0m\u001b[1;33m:\u001b[0m\u001b[1;33m\u001b[0m\u001b[1;33m\u001b[0m\u001b[0m\n\u001b[0;32m    330\u001b[0m                 raise Py4JError(\n",
      "\u001b[1;31mPy4JJavaError\u001b[0m: An error occurred while calling o1757.showString.\n: org.apache.spark.SparkException: Job aborted due to stage failure: Task 0 in stage 63.0 failed 1 times, most recent failure: Lost task 0.0 in stage 63.0 (TID 1045, localhost, executor driver): org.apache.spark.api.python.PythonException: Traceback (most recent call last):\n  File \"C:\\Users\\Sushil\\Anaconda3\\Lib\\site-packages\\pyspark\\python\\lib\\pyspark.zip\\pyspark\\worker.py\", line 377, in main\n  File \"C:\\Users\\Sushil\\Anaconda3\\Lib\\site-packages\\pyspark\\python\\lib\\pyspark.zip\\pyspark\\worker.py\", line 372, in process\n  File \"C:\\Users\\Sushil\\Anaconda3\\Lib\\site-packages\\pyspark\\python\\lib\\pyspark.zip\\pyspark\\serializers.py\", line 345, in dump_stream\n    self.serializer.dump_stream(self._batched(iterator), stream)\n  File \"C:\\Users\\Sushil\\Anaconda3\\Lib\\site-packages\\pyspark\\python\\lib\\pyspark.zip\\pyspark\\serializers.py\", line 141, in dump_stream\n    for obj in iterator:\n  File \"C:\\Users\\Sushil\\Anaconda3\\Lib\\site-packages\\pyspark\\python\\lib\\pyspark.zip\\pyspark\\serializers.py\", line 334, in _batched\n    for item in iterator:\n  File \"<string>\", line 1, in <lambda>\n  File \"C:\\Users\\Sushil\\Anaconda3\\Lib\\site-packages\\pyspark\\python\\lib\\pyspark.zip\\pyspark\\worker.py\", line 85, in <lambda>\n  File \"C:\\Users\\Sushil\\Anaconda3\\Lib\\site-packages\\pyspark\\python\\lib\\pyspark.zip\\pyspark\\util.py\", line 99, in wrapper\n    return f(*args, **kwargs)\n  File \"<ipython-input-135-8a27ea9cf113>\", line 4, in <lambda>\n  File \"C:\\Users\\Sushil\\Anaconda3\\Lib\\site-packages\\pyspark\\python\\lib\\pyspark.zip\\pyspark\\sql\\functions.py\", line 44, in _\n    jc = getattr(sc._jvm.functions, name)(col._jc if isinstance(col, Column) else col)\nAttributeError: 'NoneType' object has no attribute '_jvm'\n\r\n\tat org.apache.spark.api.python.BasePythonRunner$ReaderIterator.handlePythonException(PythonRunner.scala:452)\r\n\tat org.apache.spark.sql.execution.python.PythonUDFRunner$$anon$1.read(PythonUDFRunner.scala:81)\r\n\tat org.apache.spark.sql.execution.python.PythonUDFRunner$$anon$1.read(PythonUDFRunner.scala:64)\r\n\tat org.apache.spark.api.python.BasePythonRunner$ReaderIterator.hasNext(PythonRunner.scala:406)\r\n\tat org.apache.spark.InterruptibleIterator.hasNext(InterruptibleIterator.scala:37)\r\n\tat scala.collection.Iterator$$anon$12.hasNext(Iterator.scala:440)\r\n\tat scala.collection.Iterator$$anon$11.hasNext(Iterator.scala:409)\r\n\tat scala.collection.Iterator$$anon$11.hasNext(Iterator.scala:409)\r\n\tat org.apache.spark.sql.catalyst.expressions.GeneratedClass$GeneratedIteratorForCodegenStage3.processNext(Unknown Source)\r\n\tat org.apache.spark.sql.execution.BufferedRowIterator.hasNext(BufferedRowIterator.java:43)\r\n\tat org.apache.spark.sql.execution.WholeStageCodegenExec$$anonfun$13$$anon$1.hasNext(WholeStageCodegenExec.scala:636)\r\n\tat org.apache.spark.sql.execution.SparkPlan$$anonfun$2.apply(SparkPlan.scala:255)\r\n\tat org.apache.spark.sql.execution.SparkPlan$$anonfun$2.apply(SparkPlan.scala:247)\r\n\tat org.apache.spark.rdd.RDD$$anonfun$mapPartitionsInternal$1$$anonfun$apply$24.apply(RDD.scala:836)\r\n\tat org.apache.spark.rdd.RDD$$anonfun$mapPartitionsInternal$1$$anonfun$apply$24.apply(RDD.scala:836)\r\n\tat org.apache.spark.rdd.MapPartitionsRDD.compute(MapPartitionsRDD.scala:52)\r\n\tat org.apache.spark.rdd.RDD.computeOrReadCheckpoint(RDD.scala:324)\r\n\tat org.apache.spark.rdd.RDD.iterator(RDD.scala:288)\r\n\tat org.apache.spark.rdd.MapPartitionsRDD.compute(MapPartitionsRDD.scala:52)\r\n\tat org.apache.spark.rdd.RDD.computeOrReadCheckpoint(RDD.scala:324)\r\n\tat org.apache.spark.rdd.RDD.iterator(RDD.scala:288)\r\n\tat org.apache.spark.scheduler.ResultTask.runTask(ResultTask.scala:90)\r\n\tat org.apache.spark.scheduler.Task.run(Task.scala:121)\r\n\tat org.apache.spark.executor.Executor$TaskRunner$$anonfun$10.apply(Executor.scala:408)\r\n\tat org.apache.spark.util.Utils$.tryWithSafeFinally(Utils.scala:1360)\r\n\tat org.apache.spark.executor.Executor$TaskRunner.run(Executor.scala:414)\r\n\tat java.base/java.util.concurrent.ThreadPoolExecutor.runWorker(Unknown Source)\r\n\tat java.base/java.util.concurrent.ThreadPoolExecutor$Worker.run(Unknown Source)\r\n\tat java.base/java.lang.Thread.run(Unknown Source)\r\n\nDriver stacktrace:\r\n\tat org.apache.spark.scheduler.DAGScheduler.org$apache$spark$scheduler$DAGScheduler$$failJobAndIndependentStages(DAGScheduler.scala:1889)\r\n\tat org.apache.spark.scheduler.DAGScheduler$$anonfun$abortStage$1.apply(DAGScheduler.scala:1877)\r\n\tat org.apache.spark.scheduler.DAGScheduler$$anonfun$abortStage$1.apply(DAGScheduler.scala:1876)\r\n\tat scala.collection.mutable.ResizableArray$class.foreach(ResizableArray.scala:59)\r\n\tat scala.collection.mutable.ArrayBuffer.foreach(ArrayBuffer.scala:48)\r\n\tat org.apache.spark.scheduler.DAGScheduler.abortStage(DAGScheduler.scala:1876)\r\n\tat org.apache.spark.scheduler.DAGScheduler$$anonfun$handleTaskSetFailed$1.apply(DAGScheduler.scala:926)\r\n\tat org.apache.spark.scheduler.DAGScheduler$$anonfun$handleTaskSetFailed$1.apply(DAGScheduler.scala:926)\r\n\tat scala.Option.foreach(Option.scala:257)\r\n\tat org.apache.spark.scheduler.DAGScheduler.handleTaskSetFailed(DAGScheduler.scala:926)\r\n\tat org.apache.spark.scheduler.DAGSchedulerEventProcessLoop.doOnReceive(DAGScheduler.scala:2110)\r\n\tat org.apache.spark.scheduler.DAGSchedulerEventProcessLoop.onReceive(DAGScheduler.scala:2059)\r\n\tat org.apache.spark.scheduler.DAGSchedulerEventProcessLoop.onReceive(DAGScheduler.scala:2048)\r\n\tat org.apache.spark.util.EventLoop$$anon$1.run(EventLoop.scala:49)\r\n\tat org.apache.spark.scheduler.DAGScheduler.runJob(DAGScheduler.scala:737)\r\n\tat org.apache.spark.SparkContext.runJob(SparkContext.scala:2061)\r\n\tat org.apache.spark.SparkContext.runJob(SparkContext.scala:2082)\r\n\tat org.apache.spark.SparkContext.runJob(SparkContext.scala:2101)\r\n\tat org.apache.spark.sql.execution.SparkPlan.executeTake(SparkPlan.scala:365)\r\n\tat org.apache.spark.sql.execution.CollectLimitExec.executeCollect(limit.scala:38)\r\n\tat org.apache.spark.sql.Dataset.org$apache$spark$sql$Dataset$$collectFromPlan(Dataset.scala:3383)\r\n\tat org.apache.spark.sql.Dataset$$anonfun$head$1.apply(Dataset.scala:2544)\r\n\tat org.apache.spark.sql.Dataset$$anonfun$head$1.apply(Dataset.scala:2544)\r\n\tat org.apache.spark.sql.Dataset$$anonfun$53.apply(Dataset.scala:3364)\r\n\tat org.apache.spark.sql.execution.SQLExecution$$anonfun$withNewExecutionId$1.apply(SQLExecution.scala:78)\r\n\tat org.apache.spark.sql.execution.SQLExecution$.withSQLConfPropagated(SQLExecution.scala:125)\r\n\tat org.apache.spark.sql.execution.SQLExecution$.withNewExecutionId(SQLExecution.scala:73)\r\n\tat org.apache.spark.sql.Dataset.withAction(Dataset.scala:3363)\r\n\tat org.apache.spark.sql.Dataset.head(Dataset.scala:2544)\r\n\tat org.apache.spark.sql.Dataset.take(Dataset.scala:2758)\r\n\tat org.apache.spark.sql.Dataset.getRows(Dataset.scala:254)\r\n\tat org.apache.spark.sql.Dataset.showString(Dataset.scala:291)\r\n\tat jdk.internal.reflect.GeneratedMethodAccessor121.invoke(Unknown Source)\r\n\tat java.base/jdk.internal.reflect.DelegatingMethodAccessorImpl.invoke(Unknown Source)\r\n\tat java.base/java.lang.reflect.Method.invoke(Unknown Source)\r\n\tat py4j.reflection.MethodInvoker.invoke(MethodInvoker.java:244)\r\n\tat py4j.reflection.ReflectionEngine.invoke(ReflectionEngine.java:357)\r\n\tat py4j.Gateway.invoke(Gateway.java:282)\r\n\tat py4j.commands.AbstractCommand.invokeMethod(AbstractCommand.java:132)\r\n\tat py4j.commands.CallCommand.execute(CallCommand.java:79)\r\n\tat py4j.GatewayConnection.run(GatewayConnection.java:238)\r\n\tat java.base/java.lang.Thread.run(Unknown Source)\r\nCaused by: org.apache.spark.api.python.PythonException: Traceback (most recent call last):\n  File \"C:\\Users\\Sushil\\Anaconda3\\Lib\\site-packages\\pyspark\\python\\lib\\pyspark.zip\\pyspark\\worker.py\", line 377, in main\n  File \"C:\\Users\\Sushil\\Anaconda3\\Lib\\site-packages\\pyspark\\python\\lib\\pyspark.zip\\pyspark\\worker.py\", line 372, in process\n  File \"C:\\Users\\Sushil\\Anaconda3\\Lib\\site-packages\\pyspark\\python\\lib\\pyspark.zip\\pyspark\\serializers.py\", line 345, in dump_stream\n    self.serializer.dump_stream(self._batched(iterator), stream)\n  File \"C:\\Users\\Sushil\\Anaconda3\\Lib\\site-packages\\pyspark\\python\\lib\\pyspark.zip\\pyspark\\serializers.py\", line 141, in dump_stream\n    for obj in iterator:\n  File \"C:\\Users\\Sushil\\Anaconda3\\Lib\\site-packages\\pyspark\\python\\lib\\pyspark.zip\\pyspark\\serializers.py\", line 334, in _batched\n    for item in iterator:\n  File \"<string>\", line 1, in <lambda>\n  File \"C:\\Users\\Sushil\\Anaconda3\\Lib\\site-packages\\pyspark\\python\\lib\\pyspark.zip\\pyspark\\worker.py\", line 85, in <lambda>\n  File \"C:\\Users\\Sushil\\Anaconda3\\Lib\\site-packages\\pyspark\\python\\lib\\pyspark.zip\\pyspark\\util.py\", line 99, in wrapper\n    return f(*args, **kwargs)\n  File \"<ipython-input-135-8a27ea9cf113>\", line 4, in <lambda>\n  File \"C:\\Users\\Sushil\\Anaconda3\\Lib\\site-packages\\pyspark\\python\\lib\\pyspark.zip\\pyspark\\sql\\functions.py\", line 44, in _\n    jc = getattr(sc._jvm.functions, name)(col._jc if isinstance(col, Column) else col)\nAttributeError: 'NoneType' object has no attribute '_jvm'\n\r\n\tat org.apache.spark.api.python.BasePythonRunner$ReaderIterator.handlePythonException(PythonRunner.scala:452)\r\n\tat org.apache.spark.sql.execution.python.PythonUDFRunner$$anon$1.read(PythonUDFRunner.scala:81)\r\n\tat org.apache.spark.sql.execution.python.PythonUDFRunner$$anon$1.read(PythonUDFRunner.scala:64)\r\n\tat org.apache.spark.api.python.BasePythonRunner$ReaderIterator.hasNext(PythonRunner.scala:406)\r\n\tat org.apache.spark.InterruptibleIterator.hasNext(InterruptibleIterator.scala:37)\r\n\tat scala.collection.Iterator$$anon$12.hasNext(Iterator.scala:440)\r\n\tat scala.collection.Iterator$$anon$11.hasNext(Iterator.scala:409)\r\n\tat scala.collection.Iterator$$anon$11.hasNext(Iterator.scala:409)\r\n\tat org.apache.spark.sql.catalyst.expressions.GeneratedClass$GeneratedIteratorForCodegenStage3.processNext(Unknown Source)\r\n\tat org.apache.spark.sql.execution.BufferedRowIterator.hasNext(BufferedRowIterator.java:43)\r\n\tat org.apache.spark.sql.execution.WholeStageCodegenExec$$anonfun$13$$anon$1.hasNext(WholeStageCodegenExec.scala:636)\r\n\tat org.apache.spark.sql.execution.SparkPlan$$anonfun$2.apply(SparkPlan.scala:255)\r\n\tat org.apache.spark.sql.execution.SparkPlan$$anonfun$2.apply(SparkPlan.scala:247)\r\n\tat org.apache.spark.rdd.RDD$$anonfun$mapPartitionsInternal$1$$anonfun$apply$24.apply(RDD.scala:836)\r\n\tat org.apache.spark.rdd.RDD$$anonfun$mapPartitionsInternal$1$$anonfun$apply$24.apply(RDD.scala:836)\r\n\tat org.apache.spark.rdd.MapPartitionsRDD.compute(MapPartitionsRDD.scala:52)\r\n\tat org.apache.spark.rdd.RDD.computeOrReadCheckpoint(RDD.scala:324)\r\n\tat org.apache.spark.rdd.RDD.iterator(RDD.scala:288)\r\n\tat org.apache.spark.rdd.MapPartitionsRDD.compute(MapPartitionsRDD.scala:52)\r\n\tat org.apache.spark.rdd.RDD.computeOrReadCheckpoint(RDD.scala:324)\r\n\tat org.apache.spark.rdd.RDD.iterator(RDD.scala:288)\r\n\tat org.apache.spark.scheduler.ResultTask.runTask(ResultTask.scala:90)\r\n\tat org.apache.spark.scheduler.Task.run(Task.scala:121)\r\n\tat org.apache.spark.executor.Executor$TaskRunner$$anonfun$10.apply(Executor.scala:408)\r\n\tat org.apache.spark.util.Utils$.tryWithSafeFinally(Utils.scala:1360)\r\n\tat org.apache.spark.executor.Executor$TaskRunner.run(Executor.scala:414)\r\n\tat java.base/java.util.concurrent.ThreadPoolExecutor.runWorker(Unknown Source)\r\n\tat java.base/java.util.concurrent.ThreadPoolExecutor$Worker.run(Unknown Source)\r\n\t... 1 more\r\n"
     ]
    }
   ],
   "source": [
    "from pyspark.sql.functions import udf, array\n",
    "from pyspark.sql.types import DoubleType\n",
    "\n",
    "avg_cols = udf(lambda array: sum(array)/len(array), DoubleType())\n",
    "\n",
    "cleaned_reviews_df.withColumn(\"average\", avg_cols(array(\"overall_ratings\", \"work_balance_stars\",\"culture_values_stars\",\"carrer_opportunities_stars\",\"comp_benefit_stars\",\"senior_mangemnet_stars\"))).show()"
   ]
  },
  {
   "cell_type": "markdown",
   "metadata": {},
   "source": [
    "##### Spark SQL Implmentation"
   ]
  },
  {
   "cell_type": "code",
   "execution_count": 140,
   "metadata": {},
   "outputs": [
    {
     "name": "stdout",
     "output_type": "stream",
     "text": [
      "+-----------------+\n",
      "|          average|\n",
      "+-----------------+\n",
      "|4.333333333333333|\n",
      "|4.333333333333333|\n",
      "|              4.5|\n",
      "|              5.0|\n",
      "|4.166666666666667|\n",
      "|4.666666666666667|\n",
      "|              4.0|\n",
      "|              5.0|\n",
      "|              5.0|\n",
      "|              4.5|\n",
      "|4.333333333333333|\n",
      "|4.166666666666667|\n",
      "|              3.5|\n",
      "|              4.5|\n",
      "|4.333333333333333|\n",
      "|              4.5|\n",
      "|              4.5|\n",
      "|4.166666666666667|\n",
      "|              2.5|\n",
      "|              5.0|\n",
      "+-----------------+\n",
      "only showing top 20 rows\n",
      "\n"
     ]
    }
   ],
   "source": [
    "spark.sql(\"select (overall_ratings + work_balance_stars + culture_values_stars + carrer_opportunities_stars + comp_benefit_stars + senior_mangemnet_stars)/6 as average from reviews\").show()"
   ]
  },
  {
   "cell_type": "code",
   "execution_count": null,
   "metadata": {},
   "outputs": [],
   "source": []
  },
  {
   "cell_type": "markdown",
   "metadata": {},
   "source": [
    "###  (5) Show the count of former Google employee reviews and the average work_balance_score ONLY for locations in Seattle, San Francisco, or Utah\n",
    "- Please show in one solution  \n",
    "- Hint:  Since you already broke out the location to city, state, country in the data wrangling phase above you can use the city and state columns in your where statement"
   ]
  },
  {
   "cell_type": "markdown",
   "metadata": {},
   "source": [
    "##### PySpark Implmentation"
   ]
  },
  {
   "cell_type": "code",
   "execution_count": 169,
   "metadata": {},
   "outputs": [
    {
     "ename": "SyntaxError",
     "evalue": "invalid syntax (<ipython-input-169-bedaa1373705>, line 1)",
     "output_type": "error",
     "traceback": [
      "\u001b[1;36m  File \u001b[1;32m\"<ipython-input-169-bedaa1373705>\"\u001b[1;36m, line \u001b[1;32m1\u001b[0m\n\u001b[1;33m    cleaned_reviews_df.filter((col(\"City\")= \"Seattle\" & col(\"City\") = \"San Francisco\") | (col(\"State\") == \"Utah\") & col(\"current_employee\")==0)\u001b[0m\n\u001b[1;37m                                          ^\u001b[0m\n\u001b[1;31mSyntaxError\u001b[0m\u001b[1;31m:\u001b[0m invalid syntax\n"
     ]
    }
   ],
   "source": [
    "cleaned_reviews_df.filter((col(\"City\")= \"Seattle\" & col(\"City\") = \"San Francisco\") & col(current_employee=0) | (col(\"State\") == \"Utah\") )"
   ]
  },
  {
   "cell_type": "markdown",
   "metadata": {},
   "source": [
    "##### Spark SQL Implmentation"
   ]
  },
  {
   "cell_type": "code",
   "execution_count": 184,
   "metadata": {},
   "outputs": [
    {
     "name": "stdout",
     "output_type": "stream",
     "text": [
      "+--------------+--------------------+----+\n",
      "|Employee_Count|Average_Work_Balance|City|\n",
      "+--------------+--------------------+----+\n",
      "+--------------+--------------------+----+\n",
      "\n"
     ]
    }
   ],
   "source": [
    "spark.sql(\"select count(company) as Employee_Count, avg(work_balance_stars) as Average_Work_Balance, City from reviews where company like '%Google%' and current_employee = 0 and City in ('Seattle', 'San Francisco') or State='UT' group by City \").show()  "
   ]
  },
  {
   "cell_type": "code",
   "execution_count": null,
   "metadata": {},
   "outputs": [],
   "source": []
  },
  {
   "cell_type": "markdown",
   "metadata": {},
   "source": [
    "# Data Visualization\n",
    "1. Turn your Spark dataframe into a Pandas dataframe\n",
    "    - https://pandas.pydata.org/\n",
    "2. Answer the visualization questions with any of the following libraries:\n",
    "    - Matplotlib (https://matplotlib.org/)\n",
    "    - Seaborn (https://seaborn.pydata.org/introduction.html)\n",
    "    - Bookeh (https://bokeh.pydata.org/en/latest/)"
   ]
  },
  {
   "cell_type": "code",
   "execution_count": 137,
   "metadata": {},
   "outputs": [],
   "source": [
    "import numpy as np\n",
    "import pandas as pd\n",
    "import matplotlib.pyplot as plt\n",
    "from matplotlib import style\n",
    "import seaborn as sns"
   ]
  },
  {
   "cell_type": "code",
   "execution_count": 190,
   "metadata": {},
   "outputs": [
    {
     "name": "stdout",
     "output_type": "stream",
     "text": [
      "         company           City State Country       dates  \\\n",
      "0         google  Mountain View    CA      US  2015-02-08   \n",
      "1         google  Mountain View    CA      US  2018-12-09   \n",
      "2         google       New York    NY      US  2018-12-11   \n",
      "3         google       New York    NY      US  2018-12-10   \n",
      "4         google  Mountain View    CA      US  2018-12-08   \n",
      "5         google  San Francisco    CA      US  2018-12-03   \n",
      "6         google       New York    NY      US  2018-11-26   \n",
      "7         google    Los Angeles    CA      US  2018-11-29   \n",
      "8         google  San Francisco    CA      US  2018-11-17   \n",
      "9         google  Mountain View    CA      US  2018-12-09   \n",
      "10        google  Mountain View    CA      US  2018-12-08   \n",
      "11        google       Dearborn    MI      US  2018-11-20   \n",
      "12        google       New York    NY      US  2018-12-06   \n",
      "13        google      Sunnyvale    CA      US  2018-11-21   \n",
      "14        google        Seattle    WA      US  2018-11-13   \n",
      "15        google       New York    NY      US  2018-11-19   \n",
      "16        google      Sunnyvale    CA      US  2018-11-19   \n",
      "17        google      Ann Arbor    MI      US  2018-11-19   \n",
      "18        google  Mountain View    CA      US  2018-11-16   \n",
      "19        google  Mountain View    CA      US  2018-11-09   \n",
      "20        google       New York    NY      US  2018-11-05   \n",
      "21        google  Mountain View    CA      US  2018-11-19   \n",
      "22        google  Mountain View    CA      US  2018-11-01   \n",
      "23        google  San Francisco    CA      US  2018-11-04   \n",
      "24        google  Mountain View    CA      US  2018-11-02   \n",
      "25        google     Pittsburgh    PA      US  2018-11-01   \n",
      "26        google  Mountain View    CA      US  2018-11-10   \n",
      "27        google  Mountain View    CA      US  2018-10-21   \n",
      "28        google       New York    NY      US  2018-10-25   \n",
      "29        google        Boulder    CO      US  2018-10-25   \n",
      "...          ...            ...   ...     ...         ...   \n",
      "27749  microsoft          Fargo    ND      US  2008-05-02   \n",
      "27750  microsoft        Redmond    WA      US  2008-04-20   \n",
      "27751  microsoft        Redmond    WA      US  2008-04-21   \n",
      "27752  microsoft        Redmond    WA      US  2008-04-19   \n",
      "27753  microsoft        Atlanta    GA      US  2008-04-18   \n",
      "27754  microsoft        Redmond    WA      US  2008-04-28   \n",
      "27755  microsoft        Redmond    WA      US  2008-04-20   \n",
      "27756  microsoft        Redmond    WA      US  2008-05-03   \n",
      "27757  microsoft        Redmond    WA      US  2008-04-19   \n",
      "27758  microsoft        Redmond    WA      US  2008-05-01   \n",
      "27759  microsoft        Redmond    WA      US  2008-04-18   \n",
      "27760  microsoft        Redmond    WA      US  2008-05-03   \n",
      "27761  microsoft        Redmond    WA      US  2008-05-03   \n",
      "27762  microsoft        Redmond    WA      US  2008-04-25   \n",
      "27763  microsoft        Redmond    WA      US  2008-04-24   \n",
      "27764  microsoft        Redmond    WA      US  2008-04-24   \n",
      "27765  microsoft        Redmond    WA      US  2008-04-26   \n",
      "27766  microsoft          Fargo    ND      US  2008-04-24   \n",
      "27767  microsoft        Redmond    WA      US  2008-04-24   \n",
      "27768  microsoft        Redmond    WA      US  2008-04-24   \n",
      "27769  microsoft       Bellevue    WA      US  2008-04-20   \n",
      "27770  microsoft        Redmond    WA      US  2008-04-19   \n",
      "27771  microsoft      Charlotte    NC      US  2008-04-21   \n",
      "27772  microsoft        Redmond    WA      US  2008-04-26   \n",
      "27773  microsoft        Waltham    MA      US  2008-04-19   \n",
      "27774  microsoft  San Francisco    CA      US  2008-04-16   \n",
      "27775  microsoft  San Francisco    CA      US  2008-03-24   \n",
      "27776  microsoft  San Francisco    CA      US  2008-04-03   \n",
      "27777  microsoft  San Francisco    CA      US  2008-02-27   \n",
      "27778  microsoft  San Francisco    CA      US  2008-02-27   \n",
      "\n",
      "                                          job_title  current_employee  \\\n",
      "0                                Anonymous Employee                 1   \n",
      "1                                              SDE2                 0   \n",
      "2                                 Software Engineer                 1   \n",
      "3                                Anonymous Employee                 1   \n",
      "4                                Anonymous Employee                 1   \n",
      "5                          Sales Operations Analyst                 1   \n",
      "6                                          Designer                 1   \n",
      "7                                  Staff Accountant                 1   \n",
      "8                                 Program Manager I                 1   \n",
      "9                                   Senior Director                 0   \n",
      "10                     Software Engineering Manager                 1   \n",
      "11                                Google Specialist                 1   \n",
      "12                               Anonymous Employee                 1   \n",
      "13                               Anonymous Employee                 1   \n",
      "14                          Staff Software Engineer                 1   \n",
      "15                                  Program Manager                 1   \n",
      "16                                Software Engineer                 1   \n",
      "17                     Associate Account Strategist                 0   \n",
      "18                               Anonymous Employee                 1   \n",
      "19                                Software Engineer                 1   \n",
      "20                               Anonymous Employee                 0   \n",
      "21                                 Legal Specialist                 0   \n",
      "22                               Anonymous Employee                 1   \n",
      "23                        Product Marketing Manager                 1   \n",
      "24                                Software Engineer                 1   \n",
      "25                               Front End Engineer                 1   \n",
      "26                         Senior Software Engineer                 1   \n",
      "27                                            Video                 1   \n",
      "28                         Senior Software Engineer                 1   \n",
      "29                                Product Marketing                 1   \n",
      "...                                             ...               ...   \n",
      "27749                               Product Manager                 1   \n",
      "27750                            Programming Writer                 0   \n",
      "27751  Software Development Engineer In Test (SDET)                 1   \n",
      "27752           Principal Development Engineer Lead                 1   \n",
      "27753                                    Consultant                 1   \n",
      "27754                              Industry Manager                 0   \n",
      "27755                               Program Manager                 1   \n",
      "27756          Senior Software Development Engineer                 1   \n",
      "27757                               General Manager                 1   \n",
      "27758                               Program Manager                 0   \n",
      "27759                               Project Manager                 1   \n",
      "27760                 Software Development Engineer                 1   \n",
      "27761                 Software Development Engineer                 1   \n",
      "27762                    User Experience Researcher                 0   \n",
      "27763                 Software Development Engineer                 0   \n",
      "27764                                        Editor                 1   \n",
      "27765                 Software Development Engineer                 1   \n",
      "27766                               Project Manager                 1   \n",
      "27767                          Lead Program Manager                 1   \n",
      "27768                               Product Manager                 1   \n",
      "27769                                 Group Manager                 0   \n",
      "27770                               Program Manager                 1   \n",
      "27771                                 Federal Sales                 1   \n",
      "27772  Software Development Engineer In Test (SDET)                 1   \n",
      "27773    Senior Account Technology Specialist (ATS)                 1   \n",
      "27774                        Premier Field Engineer                 1   \n",
      "27775                 Software Development Engineer                 1   \n",
      "27776                        Senior Product Manager                 1   \n",
      "27777                             Account Executive                 1   \n",
      "27778                     Technical Account Manager                 1   \n",
      "\n",
      "      overall_ratings work_balance_stars culture_values_stars  \\\n",
      "0                 5.0                2.0                  5.0   \n",
      "1                 5.0                4.0                  4.0   \n",
      "2                 5.0                5.0                  4.0   \n",
      "3                 5.0                5.0                  5.0   \n",
      "4                 5.0                4.0                  5.0   \n",
      "5                 5.0                5.0                  5.0   \n",
      "6                 5.0                3.0                  4.0   \n",
      "7                 5.0                5.0                  5.0   \n",
      "8                 5.0                5.0                  5.0   \n",
      "9                 3.0                4.0                  5.0   \n",
      "10                4.0                5.0                  5.0   \n",
      "11                5.0                3.0                  4.0   \n",
      "12                4.0                4.0                  3.0   \n",
      "13                5.0                3.0                  5.0   \n",
      "14                5.0                4.0                  4.0   \n",
      "15                5.0                5.0                  3.0   \n",
      "16                5.0                5.0                  5.0   \n",
      "17                5.0                4.0                  4.0   \n",
      "18                3.0                2.0                  1.0   \n",
      "19                5.0                5.0                  5.0   \n",
      "20                5.0                2.0                  2.0   \n",
      "21                4.0                5.0                  5.0   \n",
      "22                5.0                5.0                  3.0   \n",
      "23                5.0                4.0                  5.0   \n",
      "24                5.0                5.0                  5.0   \n",
      "25                5.0                4.0                  5.0   \n",
      "26                4.0                5.0                  4.0   \n",
      "27                5.0                4.0                  5.0   \n",
      "28                5.0                5.0                  5.0   \n",
      "29                5.0                3.0                  3.0   \n",
      "...               ...                ...                  ...   \n",
      "27749             5.0                4.0                 none   \n",
      "27750             5.0                5.0                 none   \n",
      "27751             5.0                5.0                 none   \n",
      "27752             5.0                5.0                 none   \n",
      "27753             5.0                5.0                 none   \n",
      "27754             2.0                2.5                 none   \n",
      "27755             5.0                5.0                 none   \n",
      "27756             4.0                5.0                 none   \n",
      "27757             5.0                5.0                 none   \n",
      "27758             4.0                4.0                 none   \n",
      "27759             5.0                5.0                 none   \n",
      "27760             4.0                4.0                 none   \n",
      "27761             4.0                4.0                 none   \n",
      "27762             3.0                3.5                 none   \n",
      "27763             2.0                3.5                 none   \n",
      "27764             3.0                3.5                 none   \n",
      "27765             4.0                4.0                 none   \n",
      "27766             3.0                5.0                 none   \n",
      "27767             4.0                4.5                 none   \n",
      "27768             4.0                4.0                 none   \n",
      "27769             2.0                4.0                 none   \n",
      "27770             3.0                3.5                 none   \n",
      "27771             4.0                3.0                 none   \n",
      "27772             4.0                4.0                 none   \n",
      "27773             2.0                1.5                 none   \n",
      "27774             4.0                3.5                 none   \n",
      "27775             5.0                4.5                 none   \n",
      "27776             3.0                4.0                 none   \n",
      "27777             5.0                4.5                 none   \n",
      "27778             5.0                5.0                 none   \n",
      "\n",
      "      carrer_opportunities_stars comp_benefit_stars senior_mangemnet_stars  \\\n",
      "0                            5.0                4.0                    5.0   \n",
      "1                            4.0                5.0                    4.0   \n",
      "2                            4.0                5.0                    4.0   \n",
      "3                            5.0                5.0                    5.0   \n",
      "4                            4.0                4.0                    3.0   \n",
      "5                            5.0                4.0                    4.0   \n",
      "6                            3.0                4.0                    5.0   \n",
      "7                            5.0                5.0                    5.0   \n",
      "8                            5.0                5.0                    5.0   \n",
      "9                            5.0                5.0                    5.0   \n",
      "10                           4.0                4.0                    4.0   \n",
      "11                           4.0                5.0                    4.0   \n",
      "12                           3.0                4.0                    3.0   \n",
      "13                           5.0                5.0                    4.0   \n",
      "14                           5.0                5.0                    3.0   \n",
      "15                           5.0                4.0                    5.0   \n",
      "16                           4.0                4.0                    4.0   \n",
      "17                           5.0                5.0                    2.0   \n",
      "18                           2.0                5.0                    2.0   \n",
      "19                           5.0                5.0                    5.0   \n",
      "20                           4.0                4.0                    3.0   \n",
      "21                           3.0                5.0                    4.0   \n",
      "22                           5.0                5.0                    4.0   \n",
      "23                           5.0                5.0                    4.0   \n",
      "24                           5.0                5.0                    4.0   \n",
      "25                           5.0                5.0                    4.0   \n",
      "26                           4.0                4.0                    4.0   \n",
      "27                           5.0                5.0                    4.0   \n",
      "28                           5.0                5.0                    5.0   \n",
      "29                           4.0                5.0                    4.0   \n",
      "...                          ...                ...                    ...   \n",
      "27749                        4.0                4.5                    4.0   \n",
      "27750                        5.0                5.0                    5.0   \n",
      "27751                        4.5                5.0                    4.0   \n",
      "27752                        5.0                4.5                    4.5   \n",
      "27753                        5.0                5.0                    5.0   \n",
      "27754                        2.5                3.0                    2.0   \n",
      "27755                        5.0                5.0                    5.0   \n",
      "27756                        4.5                4.5                    4.0   \n",
      "27757                        5.0                5.0                    5.0   \n",
      "27758                        5.0                4.0                    3.5   \n",
      "27759                        5.0                5.0                    4.5   \n",
      "27760                        4.0                4.0                    4.0   \n",
      "27761                        4.0                4.0                    4.0   \n",
      "27762                        3.0                3.0                    2.0   \n",
      "27763                        3.0                3.5                    1.5   \n",
      "27764                        3.0                4.5                    2.0   \n",
      "27765                        4.5                4.5                    3.0   \n",
      "27766                        1.0                3.5                    3.0   \n",
      "27767                        4.0                3.5                    3.5   \n",
      "27768                        3.5                1.5                    2.0   \n",
      "27769                        1.5                3.5                    1.0   \n",
      "27770                        3.5                3.5                    3.0   \n",
      "27771                        5.0                5.0                    5.0   \n",
      "27772                        5.0                4.0                    4.0   \n",
      "27773                        2.5                3.5                    3.0   \n",
      "27774                        4.0                4.5                    4.0   \n",
      "27775                        5.0                4.5                    4.0   \n",
      "27776                        4.0                4.0                    4.0   \n",
      "27777                        5.0                4.0                    4.0   \n",
      "27778                        5.0                5.0                    5.0   \n",
      "\n",
      "      helpful_count  \n",
      "0               498  \n",
      "1                 1  \n",
      "2                 0  \n",
      "3                 0  \n",
      "4                 0  \n",
      "5                 1  \n",
      "6                 2  \n",
      "7                 0  \n",
      "8                 3  \n",
      "9                 0  \n",
      "10                0  \n",
      "11                1  \n",
      "12                0  \n",
      "13                0  \n",
      "14                2  \n",
      "15                0  \n",
      "16                0  \n",
      "17                0  \n",
      "18                8  \n",
      "19                1  \n",
      "20                0  \n",
      "21                0  \n",
      "22                1  \n",
      "23                0  \n",
      "24                0  \n",
      "25                0  \n",
      "26                1  \n",
      "27                2  \n",
      "28                0  \n",
      "29                0  \n",
      "...             ...  \n",
      "27749             0  \n",
      "27750             1  \n",
      "27751             1  \n",
      "27752             1  \n",
      "27753             1  \n",
      "27754             2  \n",
      "27755             1  \n",
      "27756             0  \n",
      "27757             1  \n",
      "27758             0  \n",
      "27759             1  \n",
      "27760             0  \n",
      "27761             0  \n",
      "27762             1  \n",
      "27763             2  \n",
      "27764             0  \n",
      "27765             0  \n",
      "27766             0  \n",
      "27767             0  \n",
      "27768             0  \n",
      "27769             1  \n",
      "27770             1  \n",
      "27771             0  \n",
      "27772             0  \n",
      "27773             1  \n",
      "27774             0  \n",
      "27775             2  \n",
      "27776             0  \n",
      "27777             1  \n",
      "27778             0  \n",
      "\n",
      "[27779 rows x 14 columns]\n"
     ]
    }
   ],
   "source": [
    "reviews_pd_df = cleaned_reviews_df.toPandas()\n",
    "print(reviews_pd_df)"
   ]
  },
  {
   "cell_type": "markdown",
   "metadata": {},
   "source": [
    "### Plot the distributions of reviews for each company (current and former employees) \n",
    "- Hint: A Seaborn factorplot will work nicely here\n",
    "    - https://kite.com/python/docs/seaborn.factorplot\n",
    "    "
   ]
  },
  {
   "cell_type": "code",
   "execution_count": 189,
   "metadata": {},
   "outputs": [
    {
     "data": {
      "image/png": "[encoded data removed]",
      "text/plain": [
       "<Figure size 864x648 with 4 Axes>"
      ]
     },
     "metadata": {},
     "output_type": "display_data"
    }
   ],
   "source": [
    "\n",
    "fig, axs = plt.subplots(2,2, figsize=(12, 9), facecolor='w', edgecolor='k')\n",
    "companies = ['microsoft', 'apple', 'google', 'amazon']\n",
    "axs = axs.ravel()\n",
    "\n",
    "\n",
    "for i, company in enumerate(companies):\n",
    "    current_employee_count = reviews_pd_df.loc[reviews_pd_df['company'] == company]['job_title'].str.split('-', expand=True)[0].value_counts().sort_values(ascending=True)\n",
    "    employee_labels = current_employee_count.index.tolist()\n",
    "    employee_index = np.arange(len(employee_labels))\n",
    "        \n",
    "    bars = axs[i].bar(employee_index, current_employee_count, tick_label=employee_labels)\n",
    "    bars[0].set_color('gray')\n",
    "    bars[1].set_color('b')\n",
    "    _ = axs[i].set_xlabel('Types of Employee')\n",
    "    _ = axs[i].set_ylabel('Number of Reviews')\n",
    "    _ = axs[i].set_title('{}: Reviews (Current vs Former)'.format(company.title()))\n",
    "    \n",
    "fig.tight_layout()"
   ]
  },
  {
   "cell_type": "markdown",
   "metadata": {},
   "source": [
    "### Plot the distributions of reviews for each company (current and former employees) and their overall ratings\n",
    "- Hint: A Seaborn factorplot will work nicely here\n",
    "    - https://kite.com/python/docs/seaborn.factorplot"
   ]
  },
  {
   "cell_type": "code",
   "execution_count": null,
   "metadata": {},
   "outputs": [],
   "source": []
  },
  {
   "cell_type": "code",
   "execution_count": null,
   "metadata": {},
   "outputs": [],
   "source": []
  },
  {
   "cell_type": "code",
   "execution_count": null,
   "metadata": {},
   "outputs": [],
   "source": []
  },
  {
   "cell_type": "markdown",
   "metadata": {},
   "source": [
    "# Lessons Learned\n",
    "- Please feel free to let us know anything you want in this section about the test, what you learned, liked, didn't like, etc"
   ]
  },
  {
   "cell_type": "markdown",
   "metadata": {},
   "source": [
    "It was a great experience working on this homework assignment I really enjoyed working on it, Due to time constraint as I have to complete it today EOD I was not able to work on vizualization as I have mostly done viz in R, so it will take little time for me to understand and apply those techniques and for Q.4 in Pyspark Implementation I created my functions correclty, still its not working. Please have a look at that question, rest all was fine"
   ]
  }
 ],
 "metadata": {
  "kernelspec": {
   "display_name": "Python 3",
   "language": "python",
   "name": "python3"
  },
  "language_info": {
   "codemirror_mode": {
    "name": "ipython",
    "version": 3
   },
   "file_extension": ".py",
   "mimetype": "text/x-python",
   "name": "python",
   "nbconvert_exporter": "python",
   "pygments_lexer": "ipython3",
   "version": "3.6.4"
  }
 },
 "nbformat": 4,
 "nbformat_minor": 2
}
