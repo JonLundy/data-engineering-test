{
 "cells": [
  {
   "cell_type": "markdown",
   "metadata": {},
   "source": [
    "# Rakuten USA - Data Engineering Test\n",
    "\n",
    "### Goal\n",
    "The goal of this test is not ment to be exhaustive, but we do want to test your skills in analytical thinking, SQL, data wrangling, data analysis, and data visualization.\n",
    "\n",
    "### Expectations\n",
    "You can expect this test to use the following technologies:\n",
    "- Python3\n",
    "- Jupyter Notebook\n",
    "- PySpark\n",
    "- PySpark SQL\n",
    "\n",
    "This test will cover the following areas: \n",
    "- Data cleaning/wrangling\n",
    "- Exploratory Data Analysis (EDA)\n",
    "- Data Visualization \n",
    "\n",
    "This test should take you no more than 2-4 hours.\n",
    "\n",
    "### What to turn in, and where to send your test\n",
    "Please email stirling.waite@rakuten with your finished notebook\n",
    "- rakuten_engineering_test.ipynb\n",
    " \n",
    "### Questions?\n",
    "Feel free to email me or call me with any questions about this test\n",
    "- stirling.waite@rakuten.com\n",
    "- 801-856-1426"
   ]
  },
  {
   "cell_type": "raw",
   "metadata": {},
   "source": [
    "It was a great experience doing this exercise and good learning curve for me. I brushed up couple of things while doing this exercise. Thanks for providing this oppurtunity. I had completed the analysis to the best my knowledge."
   ]
  },
  {
   "cell_type": "code",
   "execution_count": null,
   "metadata": {},
   "outputs": [],
   "source": []
  },
  {
   "cell_type": "markdown",
   "metadata": {},
   "source": [
    "# About The Dataset\n",
    "\n",
    "Below you will find a modified free Kaggle competition dataset from https://www.kaggle.com/mayank811/employee-reviews/data using scraped data from Glassdoor.com.\n",
    "\n",
    "## Context\n",
    "- Over 67k employee reviews for Google, Amazon, Facebook, Apple, Microsoft, and Netflix.\n",
    "- Web scraped from Glassdoor\n",
    "\n",
    "## Content\n",
    "This dataset contains employee reviews separated into the following categories:\n",
    "\n",
    "- **Index:** index\n",
    "- **Company:** Company name\n",
    "- **Location:** This dataset is global, as such it may include the country's name in parenthesis [i.e \"Toronto, ON(Canada)\"]. However, if the location is in the USA then it will only include the city and state[i.e \"Los Angeles, CA\" ]\n",
    "- **Date Posted:** in the following format MM DD, YYYY\n",
    "- **Job-Title:** This string will also include whether the reviewer is a 'Current' or 'Former' Employee at the time of the review\n",
    "- **Summary:** Short summary of employee review\n",
    "- **Pros:** Pros\n",
    "- **Cons:** Cons\n",
    "- **Overall Rating:** 1-5\n",
    "- **Work/Life Balance Rating:** 1-5\n",
    "- **Culture and Values Rating:** 1-5\n",
    "- **Career Opportunities Rating:** 1-5\n",
    "- **Comp & Benefits Rating:** 1-5\n",
    "- **Senior Management Rating:** 1-5\n",
    "- **Helpful Review Count:** 1-5\n",
    "\n",
    "**Link to Review:** This will provide you with a direct link to the page that contains the review. However it is likely that this link will be outdated\n",
    "\n",
    "**NOTE:** 'none' is placed in all cells where no data value was found.\n",
    "\n"
   ]
  },
  {
   "cell_type": "code",
   "execution_count": null,
   "metadata": {},
   "outputs": [],
   "source": []
  },
  {
   "cell_type": "markdown",
   "metadata": {},
   "source": [
    "# PySpark Initialization"
   ]
  },
  {
   "cell_type": "code",
   "execution_count": 1,
   "metadata": {},
   "outputs": [],
   "source": [
    "import re\n",
    "import pyspark\n",
    "from pyspark import SparkConf, SparkContext, SQLContext\n",
    "from pyspark.sql import SparkSession, Row\n",
    "from pyspark.sql.functions import *\n",
    "from pyspark.sql import functions as fn\n",
    "from pyspark.sql import types as t\n",
    "from pyspark.sql.types import *\n",
    "from datetime import datetime"
   ]
  },
  {
   "cell_type": "code",
   "execution_count": 2,
   "metadata": {},
   "outputs": [],
   "source": [
    "conf = SparkConf()\\\n",
    "                .setMaster(\"local[*]\")\\\n",
    "                .setAppName(\"rakutenHomework\")\n",
    "conf.set(\"spark.executor.heartbeatInterval\",\"100s\")\n",
    "sc = SparkContext(conf=conf)\n",
    "sc.setLogLevel(\"ERROR\")\n",
    "sqlContext = SQLContext(sc)\n",
    "spark = SparkSession.builder.appName(\"spark play\").getOrCreate()"
   ]
  },
  {
   "cell_type": "code",
   "execution_count": 3,
   "metadata": {},
   "outputs": [],
   "source": [
    "#spark.stop()"
   ]
  },
  {
   "cell_type": "markdown",
   "metadata": {},
   "source": [
    "## Read Dataset into Spark"
   ]
  },
  {
   "cell_type": "code",
   "execution_count": 4,
   "metadata": {
    "scrolled": true
   },
   "outputs": [
    {
     "name": "stdout",
     "output_type": "stream",
     "text": [
      "28357\n",
      "+---+-------+-----------------+-------------+--------------------+--------------------+--------------------+--------------------+--------------------+---------------+------------------+--------------------+--------------------------+------------------+----------------------+-------------+--------------------+\n",
      "|_c0|company|         location|        dates|           job_title|             summary|                pros|                cons|      advice_to_mgmt|overall_ratings|work_balance_stars|culture_values_stars|carrer_opportunities_stars|comp_benefit_stars|senior_mangemnet_stars|helpful_count|                link|\n",
      "+---+-------+-----------------+-------------+--------------------+--------------------+--------------------+--------------------+--------------------+---------------+------------------+--------------------+--------------------------+------------------+----------------------+-------------+--------------------+\n",
      "|  0| google|Mountain View, CA|  Feb 8, 2015|Current Employee ...|The best place I'...|You can't find a ...|I live in SF so t...|Keep on NOT micro...|            5.0|               2.0|                 5.0|                       5.0|               4.0|                   5.0|          498|https://www.glass...|\n",
      "|  1| google|Mountain View, CA|  Dec 9, 2018|Former Employee -...|NICE working in G...|People are not th...|Food is not good ...|                none|            5.0|               4.0|                 4.0|                       4.0|               5.0|                   4.0|            1|https://www.glass...|\n",
      "|  2| google|     New York, NY| Dec 11, 2018|Current Employee ...|   Software engineer|Great working env...|Usual big company...|                none|            5.0|               5.0|                 4.0|                       4.0|               5.0|                   4.0|            0|https://www.glass...|\n",
      "|  3| google|     New York, NY| Dec 10, 2018|Current Employee ...|Google Surpasses ...|Great products. V...|Younger employees...|                none|            5.0|               5.0|                 5.0|                       5.0|               5.0|                   5.0|            0|https://www.glass...|\n",
      "|  4| google|Mountain View, CA|  Dec 8, 2018|Current Employee ...|  Nice place to work|* Smart people * ...|Giant company wit...|                none|            5.0|               4.0|                 5.0|                       4.0|               4.0|                   3.0|            0|https://www.glass...|\n",
      "|  5| google|San Francisco, CA|  Dec 3, 2018|Current Employee ...|Still the best pl...|Amazing company. ...|Size, which limit...|                none|            5.0|               5.0|                 5.0|                       5.0|               4.0|                   4.0|            1|https://www.glass...|\n",
      "|  6| google|     New York, NY| Nov 26, 2018|Current Employee ...|Great, but great ...|Great team and su...|Lots of bureaucra...|                none|            5.0|               3.0|                 4.0|                       3.0|               4.0|                   5.0|            2|https://www.glass...|\n",
      "|  7| google|  Los Angeles, CA| Nov 29, 2018|Current Employee ...|          Accountant|I like and learne...|High clerical wor...|Management and Fi...|            5.0|               5.0|                 5.0|                       5.0|               5.0|                   5.0|            0|https://www.glass...|\n",
      "|  8| google|San Francisco, CA| Nov 17, 2018|Current Employee ...|Not perfect, but ...|- A company cultu...|- A company with ...|- Just because a ...|            5.0|               5.0|                 5.0|                       5.0|               5.0|                   5.0|            3|https://www.glass...|\n",
      "|  9| google|Mountain View, CA|  Dec 9, 2018|Former Employee -...|     Senior Director|So many brilliant...|Becoming highly b...|                none|            3.0|               4.0|                 5.0|                       5.0|               5.0|                   5.0|            0|https://www.glass...|\n",
      "| 10| google|Mountain View, CA|  Dec 8, 2018|Current Employee ...|Google is still t...|Great place to wo...|Large company iss...|                none|            4.0|               5.0|                 5.0|                       4.0|               4.0|                   4.0|            0|https://www.glass...|\n",
      "| 11| google|     Dearborn, MI| Nov 20, 2018|Current Employee ...|              Google|Google is one of ...|You have to work ...|                none|            5.0|               3.0|                 4.0|                       4.0|               5.0|                   4.0|            1|https://www.glass...|\n",
      "| 12| google|     New York, NY|  Dec 6, 2018|Current Employee ...|   Good compensation|Better than avera...|Big and beurocrat...|                none|            4.0|               4.0|                 3.0|                       3.0|               4.0|                   3.0|            0|https://www.glass...|\n",
      "| 13| google|    Sunnyvale, CA| Nov 21, 2018|Current Employee ...|    Best of the best|The best company ...|Set hours for bre...|                none|            5.0|               3.0|                 5.0|                       5.0|               5.0|                   4.0|            0|https://www.glass...|\n",
      "| 14| google|      Seattle, WA| Nov 13, 2018|Current Employee ...|        Hard to beat|Amazing compensat...|Growing pains as ...|                none|            5.0|               4.0|                 4.0|                       5.0|               5.0|                   3.0|            2|https://www.glass...|\n",
      "| 15| google|     New York, NY| Nov 19, 2018|Current Employee ...| Great place to work|Ambitious mission...|Everyone is eager...|                none|            5.0|               5.0|                 3.0|                       5.0|               4.0|                   5.0|            0|https://www.glass...|\n",
      "| 16| google|    Sunnyvale, CA| Nov 19, 2018|Current Employee ...|Positive Experiences|Good opportunitie...|Difficult to adva...|                none|            5.0|               5.0|                 5.0|                       4.0|               4.0|                   4.0|            0|https://www.glass...|\n",
      "| 17| google|    Ann Arbor, MI| Nov 19, 2018|Former Employee -...|Make sure you kno...|Employees, food, ...|Company has becom...|Stop putting peop...|            5.0|               4.0|                 4.0|                       5.0|               5.0|                   2.0|            0|https://www.glass...|\n",
      "| 18| google|Mountain View, CA| Nov 16, 2018|Current Employee ...|                 meh|Pays really well ...|Google wants 60-h...|Add ethics to the...|            3.0|               2.0|                 1.0|                       2.0|               5.0|                   2.0|            8|https://www.glass...|\n",
      "| 19| google|Mountain View, CA|  Nov 9, 2018|Current Employee ...| Best Job I Ever Had|Amazing and talen...|All the perks mak...|                none|            5.0|               5.0|                 5.0|                       5.0|               5.0|                   5.0|            1|https://www.glass...|\n",
      "+---+-------+-----------------+-------------+--------------------+--------------------+--------------------+--------------------+--------------------+---------------+------------------+--------------------+--------------------------+------------------+----------------------+-------------+--------------------+\n",
      "only showing top 20 rows\n",
      "\n"
     ]
    }
   ],
   "source": [
    "# Read the csv file\n",
    "reviews_df = spark.read.csv(\"employee_reviews_usa.csv\", header=True, mode=\"DROPMALFORMED\", inferSchema='true', encoding=\"utf-8\")\n",
    "print(reviews_df.count())\n",
    "reviews_df.show()"
   ]
  },
  {
   "cell_type": "code",
   "execution_count": 5,
   "metadata": {},
   "outputs": [
    {
     "name": "stdout",
     "output_type": "stream",
     "text": [
      "root\n",
      " |-- _c0: integer (nullable = true)\n",
      " |-- company: string (nullable = true)\n",
      " |-- location: string (nullable = true)\n",
      " |-- dates: string (nullable = true)\n",
      " |-- job_title: string (nullable = true)\n",
      " |-- summary: string (nullable = true)\n",
      " |-- pros: string (nullable = true)\n",
      " |-- cons: string (nullable = true)\n",
      " |-- advice_to_mgmt: string (nullable = true)\n",
      " |-- overall_ratings: string (nullable = true)\n",
      " |-- work_balance_stars: string (nullable = true)\n",
      " |-- culture_values_stars: string (nullable = true)\n",
      " |-- carrer_opportunities_stars: string (nullable = true)\n",
      " |-- comp_benefit_stars: string (nullable = true)\n",
      " |-- senior_mangemnet_stars: string (nullable = true)\n",
      " |-- helpful_count: string (nullable = true)\n",
      " |-- link: string (nullable = true)\n",
      "\n"
     ]
    }
   ],
   "source": [
    "# Printing the schema\n",
    "reviews_df.printSchema()"
   ]
  },
  {
   "cell_type": "markdown",
   "metadata": {},
   "source": [
    "# Data Cleaning & Removing Un-Needed Columns\n",
    "\n",
    "No one likes dirty data.  Let's clean up this dataset to make it more usable for our use case.\n",
    "\n",
    " \n",
    "1. Make the date field more data friendly\n",
    "    - Hint #1: Use the provided `review_date_udf` udf provided (it will make your life more simple) \n",
    "2. Using the \"location\" column \n",
    "    - Add new columns for city, state, country columns\n",
    "        - Hint #1: Concider using `fn.split()` to split `location` for columns `city` `state` \n",
    "        - Hint #2: I've narrowed down the country to just US, so please use something like below to create the `country` column\n",
    "            - ```lit(\"US\").alias(\"country\")```\n",
    "3. Using the \"job-title\" column  \n",
    "    - Add a new boolean column titled \"current_employee\" that will show:\n",
    "        - 1,  if reviewer is a current employee\n",
    "        - 0,  if reviewer is not a current employee\n",
    "        - Hint:  Use spark function `fn.when()` and `col(\"job-title\").contains(\"\")`\n",
    "    - Remove \"Former Employee - \" and \"\" from the \"job-title\" column\n",
    "        - Hint: Use the udf function `reg_job_title_udf`\n",
    "4. Drop un-needed columns \n",
    "    - \"_c0\", \"link\", \"pros\", \"cons\", \"advice-to-mgmt\", \"summary\", \"location\""
   ]
  },
  {
   "cell_type": "code",
   "execution_count": 6,
   "metadata": {},
   "outputs": [],
   "source": [
    "# 1 convert all the string columns to Double numbers\n",
    "reviews_df = reviews_df.withColumn('overall_ratings', reviews_df[\"overall_ratings\"].cast(DecimalType()))\n",
    "reviews_df = reviews_df.withColumn('work_balance_rating', reviews_df[\"work_balance_stars\"].cast(DecimalType()))\n",
    "reviews_df = reviews_df.withColumn('culture_values_stars', reviews_df[\"culture_values_stars\"].cast(DecimalType()))\n",
    "reviews_df = reviews_df.withColumn('carrer_opportunities_stars', reviews_df[\"carrer_opportunities_stars\"].cast(DecimalType()))\n",
    "reviews_df = reviews_df.withColumn('comp_benefit_stars', reviews_df[\"comp_benefit_stars\"].cast(DecimalType()))\n",
    "reviews_df = reviews_df.withColumn('senior_mangemnet_stars', reviews_df[\"senior_mangemnet_stars\"].cast(DecimalType()))"
   ]
  },
  {
   "cell_type": "code",
   "execution_count": 7,
   "metadata": {},
   "outputs": [],
   "source": [
    "# 2 Split location column into 3 columns - city,state and country\n",
    "\n",
    "# Split and provide values\n",
    "split_col = pyspark.sql.functions.split(reviews_df['location'], ',')\n",
    "reviews_df = reviews_df.withColumn('city', split_col.getItem(0))\n",
    "reviews_df = reviews_df.withColumn('state', split_col.getItem(1))\n",
    "\n",
    "# constatnt literal\n",
    "reviews_df = reviews_df.withColumn('country', fn.lit('US'))"
   ]
  },
  {
   "cell_type": "code",
   "execution_count": 8,
   "metadata": {},
   "outputs": [],
   "source": [
    "# 3 Splitting the job_title into different columns and adding the current_employee column\n",
    "\n",
    "# Split and assign current_employee \n",
    "split_col = pyspark.sql.functions.split(reviews_df['job_title'], '-')\n",
    "reviews_df = reviews_df.withColumn('job_title_emp', split_col.getItem(0))\n",
    "reviews_df= reviews_df.withColumn('current_employee', fn.when(reviews_df.job_title_emp.like(\"%Current Employee%\"),1).otherwise(0))\n",
    "\n",
    "# Remove unwanted data from job_title\n",
    "reviews_df = reviews_df.withColumn('job_title', split_col.getItem(1))\n"
   ]
  },
  {
   "cell_type": "code",
   "execution_count": 9,
   "metadata": {},
   "outputs": [],
   "source": [
    "# 4 Removing the unwanted columns\n",
    "reviews_df = reviews_df.drop(\"_c0\", \"link\", \"pros\", \"cons\", \"advice-to-mgmt\", \"summary\", \"location\",'job_title_emp')"
   ]
  },
  {
   "cell_type": "code",
   "execution_count": 10,
   "metadata": {},
   "outputs": [
    {
     "name": "stdout",
     "output_type": "stream",
     "text": [
      "+-------+------------+-------------------+--------------------+---------------+------------------+--------------------+--------------------------+------------------+----------------------+-------------+-------------------+-------------+-----+-------+----------------+\n",
      "|company|       dates|          job_title|      advice_to_mgmt|overall_ratings|work_balance_stars|culture_values_stars|carrer_opportunities_stars|comp_benefit_stars|senior_mangemnet_stars|helpful_count|work_balance_rating|         city|state|country|current_employee|\n",
      "+-------+------------+-------------------+--------------------+---------------+------------------+--------------------+--------------------------+------------------+----------------------+-------------+-------------------+-------------+-----+-------+----------------+\n",
      "| google| Feb 8, 2015| Anonymous Employee|Keep on NOT micro...|              5|               2.0|                   5|                         5|                 4|                     5|          498|                  2|Mountain View|   CA|     US|               1|\n",
      "| google| Dec 9, 2018|               SDE2|                none|              5|               4.0|                   4|                         4|                 5|                     4|            1|                  4|Mountain View|   CA|     US|               0|\n",
      "+-------+------------+-------------------+--------------------+---------------+------------------+--------------------+--------------------------+------------------+----------------------+-------------+-------------------+-------------+-----+-------+----------------+\n",
      "only showing top 2 rows\n",
      "\n"
     ]
    }
   ],
   "source": [
    "reviews_df.show(2)"
   ]
  },
  {
   "cell_type": "code",
   "execution_count": 11,
   "metadata": {},
   "outputs": [],
   "source": [
    "# The conversion for the Date collumn did not happen. It was throwing errors continuosly. I tried in other system, I am not sure this issue is due to my machine only. \n",
    "# Hence after converting to pandas dataframe I have mentioned the conversion there"
   ]
  },
  {
   "cell_type": "raw",
   "metadata": {},
   "source": [
    "# 1 Change date fields code that ran in other machine\n",
    "from pyspark.sql.functions import udf\n",
    "\n",
    "review_date_udf = fn.udf(\n",
    "    lambda x: datetime.strptime(x,'%b %d, %Y'), DateType()\n",
    ")\n",
    "\n",
    "reviews_df = reviews_df.withColumn('dates', review_date_udf('dates'))\n",
    "\n",
    "# But when I tried to view the datafeame, it startd to throw error\n",
    "\n",
    "reviews_df.show()  \n",
    "# Java Timeout error # I imagined the error may be due to my machine, since it ran fine in my university machine, still I have commented this code."
   ]
  },
  {
   "cell_type": "code",
   "execution_count": 12,
   "metadata": {},
   "outputs": [
    {
     "data": {
      "text/plain": [
       "['company',\n",
       " 'dates',\n",
       " 'job_title',\n",
       " 'advice_to_mgmt',\n",
       " 'overall_ratings',\n",
       " 'work_balance_stars',\n",
       " 'culture_values_stars',\n",
       " 'carrer_opportunities_stars',\n",
       " 'comp_benefit_stars',\n",
       " 'senior_mangemnet_stars',\n",
       " 'helpful_count',\n",
       " 'work_balance_rating',\n",
       " 'city',\n",
       " 'state',\n",
       " 'country',\n",
       " 'current_employee']"
      ]
     },
     "execution_count": 12,
     "metadata": {},
     "output_type": "execute_result"
    }
   ],
   "source": [
    "reviews_df.columns"
   ]
  },
  {
   "cell_type": "markdown",
   "metadata": {},
   "source": [
    "# Cleaned Spark Dataframe\n",
    "\n",
    "- I've included the starting of dataframe, but in the `select` you will want to add the fixes and columns needed to answer the questions below\n"
   ]
  },
  {
   "cell_type": "code",
   "execution_count": 13,
   "metadata": {},
   "outputs": [],
   "source": [
    "cleaned_reviews_df = reviews_df.where((col(\"dates\") != 'None') & (col(\"dates\") != ' Jan 0, 0000') & (col(\"dates\") != ' Jan 0, 0000') & (col(\"company\") != 'none') & (~col(\"location\").contains(\"(\")) & (col(\"location\") != \"none\")) \\\n",
    "                         .select('company','dates','job_title','advice_to_mgmt','overall_ratings','work_balance_stars',\n",
    "'culture_values_stars','carrer_opportunities_stars','comp_benefit_stars','senior_mangemnet_stars','helpful_count',\n",
    " 'city','state','country','current_employee'\n",
    "                         )\n"
   ]
  },
  {
   "cell_type": "code",
   "execution_count": 14,
   "metadata": {},
   "outputs": [
    {
     "name": "stdout",
     "output_type": "stream",
     "text": [
      "+-------+-------------+--------------------+--------------------+---------------+------------------+--------------------+--------------------------+------------------+----------------------+-------------+-------------+-----+-------+----------------+\n",
      "|company|        dates|           job_title|      advice_to_mgmt|overall_ratings|work_balance_stars|culture_values_stars|carrer_opportunities_stars|comp_benefit_stars|senior_mangemnet_stars|helpful_count|         city|state|country|current_employee|\n",
      "+-------+-------------+--------------------+--------------------+---------------+------------------+--------------------+--------------------------+------------------+----------------------+-------------+-------------+-----+-------+----------------+\n",
      "| google|  Feb 8, 2015|  Anonymous Employee|Keep on NOT micro...|              5|               2.0|                   5|                         5|                 4|                     5|          498|Mountain View|   CA|     US|               1|\n",
      "| google|  Dec 9, 2018|                SDE2|                none|              5|               4.0|                   4|                         4|                 5|                     4|            1|Mountain View|   CA|     US|               0|\n",
      "| google| Dec 11, 2018|   Software Engineer|                none|              5|               5.0|                   4|                         4|                 5|                     4|            0|     New York|   NY|     US|               1|\n",
      "| google| Dec 10, 2018|  Anonymous Employee|                none|              5|               5.0|                   5|                         5|                 5|                     5|            0|     New York|   NY|     US|               1|\n",
      "| google|  Dec 8, 2018|  Anonymous Employee|                none|              5|               4.0|                   5|                         4|                 4|                     3|            0|Mountain View|   CA|     US|               1|\n",
      "| google|  Dec 3, 2018| Sales Operations...|                none|              5|               5.0|                   5|                         5|                 4|                     4|            1|San Francisco|   CA|     US|               1|\n",
      "| google| Nov 26, 2018|            Designer|                none|              5|               3.0|                   4|                         3|                 4|                     5|            2|     New York|   NY|     US|               1|\n",
      "| google| Nov 29, 2018|    Staff Accountant|Management and Fi...|              5|               5.0|                   5|                         5|                 5|                     5|            0|  Los Angeles|   CA|     US|               1|\n",
      "| google| Nov 17, 2018|   Program Manager I|- Just because a ...|              5|               5.0|                   5|                         5|                 5|                     5|            3|San Francisco|   CA|     US|               1|\n",
      "| google|  Dec 9, 2018|     Senior Director|                none|              3|               4.0|                   5|                         5|                 5|                     5|            0|Mountain View|   CA|     US|               0|\n",
      "| google|  Dec 8, 2018| Software Enginee...|                none|              4|               5.0|                   5|                         4|                 4|                     4|            0|Mountain View|   CA|     US|               1|\n",
      "| google| Nov 20, 2018|   Google Specialist|                none|              5|               3.0|                   4|                         4|                 5|                     4|            1|     Dearborn|   MI|     US|               1|\n",
      "| google|  Dec 6, 2018|  Anonymous Employee|                none|              4|               4.0|                   3|                         3|                 4|                     3|            0|     New York|   NY|     US|               1|\n",
      "| google| Nov 21, 2018|  Anonymous Employee|                none|              5|               3.0|                   5|                         5|                 5|                     4|            0|    Sunnyvale|   CA|     US|               1|\n",
      "| google| Nov 13, 2018| Staff Software E...|                none|              5|               4.0|                   4|                         5|                 5|                     3|            2|      Seattle|   WA|     US|               1|\n",
      "| google| Nov 19, 2018|     Program Manager|                none|              5|               5.0|                   3|                         5|                 4|                     5|            0|     New York|   NY|     US|               1|\n",
      "| google| Nov 19, 2018|   Software Engineer|                none|              5|               5.0|                   5|                         4|                 4|                     4|            0|    Sunnyvale|   CA|     US|               1|\n",
      "| google| Nov 19, 2018| Associate Accoun...|Stop putting peop...|              5|               4.0|                   4|                         5|                 5|                     2|            0|    Ann Arbor|   MI|     US|               0|\n",
      "| google| Nov 16, 2018|  Anonymous Employee|Add ethics to the...|              3|               2.0|                   1|                         2|                 5|                     2|            8|Mountain View|   CA|     US|               1|\n",
      "| google|  Nov 9, 2018|   Software Engineer|                none|              5|               5.0|                   5|                         5|                 5|                     5|            1|Mountain View|   CA|     US|               1|\n",
      "+-------+-------------+--------------------+--------------------+---------------+------------------+--------------------+--------------------------+------------------+----------------------+-------------+-------------+-----+-------+----------------+\n",
      "only showing top 20 rows\n",
      "\n"
     ]
    }
   ],
   "source": [
    "cleaned_reviews_df.show()"
   ]
  },
  {
   "cell_type": "code",
   "execution_count": null,
   "metadata": {},
   "outputs": [],
   "source": []
  },
  {
   "cell_type": "markdown",
   "metadata": {},
   "source": [
    "# Data Questions\n",
    "\n",
    "Each question below will have two parts.   Please solve each problem in PySpark and PySpark SQL.  This is to test your ability to solve the problem in PySpark, and to test your ability to solve the problem in SQL.\n",
    "\n",
    "- PySpark API (https://spark.apache.org/docs/latest/api/python/index.html)\n",
    "- PySpark SQL API (https://spark.apache.org/docs/latest/api/python/pyspark.sql.html)"
   ]
  },
  {
   "cell_type": "code",
   "execution_count": 15,
   "metadata": {},
   "outputs": [],
   "source": [
    "cleaned_reviews_df.createOrReplaceTempView(\"reviews\")"
   ]
  },
  {
   "cell_type": "markdown",
   "metadata": {},
   "source": [
    "### (1) What is the total number of reviews in the data set?"
   ]
  },
  {
   "cell_type": "markdown",
   "metadata": {},
   "source": [
    "##### PySpark Implmentation"
   ]
  },
  {
   "cell_type": "code",
   "execution_count": 16,
   "metadata": {},
   "outputs": [
    {
     "data": {
      "text/plain": [
       "28357"
      ]
     },
     "execution_count": 16,
     "metadata": {},
     "output_type": "execute_result"
    }
   ],
   "source": [
    "cleaned_reviews_df.count()"
   ]
  },
  {
   "cell_type": "markdown",
   "metadata": {},
   "source": [
    "##### Spark SQL Implmentation"
   ]
  },
  {
   "cell_type": "code",
   "execution_count": 17,
   "metadata": {},
   "outputs": [
    {
     "name": "stdout",
     "output_type": "stream",
     "text": [
      "+------------+\n",
      "|review_count|\n",
      "+------------+\n",
      "|       28357|\n",
      "+------------+\n",
      "\n"
     ]
    }
   ],
   "source": [
    "spark.sql(\"SELECT count(*) as review_count FROM reviews\").show() # 27779"
   ]
  },
  {
   "cell_type": "markdown",
   "metadata": {},
   "source": [
    "###  (2) How many reviews exist in the dataset per each company?"
   ]
  },
  {
   "cell_type": "markdown",
   "metadata": {},
   "source": [
    "##### PySpark Implmentation"
   ]
  },
  {
   "cell_type": "code",
   "execution_count": 18,
   "metadata": {},
   "outputs": [
    {
     "name": "stdout",
     "output_type": "stream",
     "text": [
      "+---------+-----+\n",
      "|  company|count|\n",
      "+---------+-----+\n",
      "|microsoft| 8114|\n",
      "|   amazon|10164|\n",
      "|  netflix|  458|\n",
      "|    apple| 5853|\n",
      "| facebook| 1167|\n",
      "|   google| 2601|\n",
      "+---------+-----+\n",
      "\n"
     ]
    }
   ],
   "source": [
    "cleaned_reviews_df.groupBy('company').count().show()"
   ]
  },
  {
   "cell_type": "markdown",
   "metadata": {},
   "source": [
    "##### Spark SQL Implmentation"
   ]
  },
  {
   "cell_type": "code",
   "execution_count": 19,
   "metadata": {},
   "outputs": [
    {
     "name": "stdout",
     "output_type": "stream",
     "text": [
      "+-----------------+------------+\n",
      "|count_per_company|review_count|\n",
      "+-----------------+------------+\n",
      "|             8114|   microsoft|\n",
      "|            10164|      amazon|\n",
      "|              458|     netflix|\n",
      "|             5853|       apple|\n",
      "|             1167|    facebook|\n",
      "|             2601|      google|\n",
      "+-----------------+------------+\n",
      "\n"
     ]
    }
   ],
   "source": [
    "spark.sql(\"SELECT count(*) AS count_per_company,company AS review_count FROM reviews GROUP BY company\").show()"
   ]
  },
  {
   "cell_type": "markdown",
   "metadata": {},
   "source": [
    "###  (3) How many reviews are from former and current employees per each company?"
   ]
  },
  {
   "cell_type": "markdown",
   "metadata": {},
   "source": [
    "##### PySpark Implmentation"
   ]
  },
  {
   "cell_type": "code",
   "execution_count": 20,
   "metadata": {},
   "outputs": [
    {
     "name": "stdout",
     "output_type": "stream",
     "text": [
      "+----------------+---------+-----+\n",
      "|current_employee|  company|count|\n",
      "+----------------+---------+-----+\n",
      "|               1|   amazon| 6753|\n",
      "|               0|   google|  946|\n",
      "|               0|   amazon| 3411|\n",
      "|               1|    apple| 3408|\n",
      "|               0|microsoft| 2865|\n",
      "|               1|   google| 1655|\n",
      "|               1|microsoft| 5249|\n",
      "|               0|    apple| 2445|\n",
      "|               0|  netflix|  223|\n",
      "|               1|  netflix|  235|\n",
      "|               1| facebook|  945|\n",
      "|               0| facebook|  222|\n",
      "+----------------+---------+-----+\n",
      "\n"
     ]
    }
   ],
   "source": [
    "cleaned_reviews_df.groupBy('current_employee','company').count().show()"
   ]
  },
  {
   "cell_type": "markdown",
   "metadata": {},
   "source": [
    "##### Spark SQL Implmentation"
   ]
  },
  {
   "cell_type": "code",
   "execution_count": 21,
   "metadata": {},
   "outputs": [
    {
     "name": "stdout",
     "output_type": "stream",
     "text": [
      "+-------------+----------------+---------+\n",
      "|count_reviews|current_employee|  company|\n",
      "+-------------+----------------+---------+\n",
      "|         6753|               1|   amazon|\n",
      "|          946|               0|   google|\n",
      "|         3411|               0|   amazon|\n",
      "|         3408|               1|    apple|\n",
      "|         2865|               0|microsoft|\n",
      "|         1655|               1|   google|\n",
      "|         5249|               1|microsoft|\n",
      "|         2445|               0|    apple|\n",
      "|          223|               0|  netflix|\n",
      "|          235|               1|  netflix|\n",
      "|          945|               1| facebook|\n",
      "|          222|               0| facebook|\n",
      "+-------------+----------------+---------+\n",
      "\n"
     ]
    }
   ],
   "source": [
    "spark.sql(\"SELECT count(*) AS count_reviews,current_employee,company FROM reviews GROUP BY current_employee,company\").show()"
   ]
  },
  {
   "cell_type": "markdown",
   "metadata": {},
   "source": [
    "###  (4) What is the average review scores of each current and former employees for each company?"
   ]
  },
  {
   "cell_type": "markdown",
   "metadata": {},
   "source": [
    "##### PySpark Implmentation"
   ]
  },
  {
   "cell_type": "code",
   "execution_count": 22,
   "metadata": {},
   "outputs": [
    {
     "name": "stdout",
     "output_type": "stream",
     "text": [
      "+----------------+---------+--------------------+\n",
      "|current_employee|  company|avg(overall_ratings)|\n",
      "+----------------+---------+--------------------+\n",
      "|               1|   amazon|              3.7118|\n",
      "|               0|   google|              4.1555|\n",
      "|               0|   amazon|              2.9814|\n",
      "|               1|    apple|              4.0773|\n",
      "|               0|microsoft|              3.5613|\n",
      "|               1|   google|              4.4309|\n",
      "|               1|microsoft|              3.8620|\n",
      "|               0|    apple|              3.8300|\n",
      "|               0|  netflix|              2.9439|\n",
      "|               1|  netflix|              3.9652|\n",
      "|               1| facebook|              4.7035|\n",
      "|               0| facebook|              3.9263|\n",
      "+----------------+---------+--------------------+\n",
      "\n"
     ]
    }
   ],
   "source": [
    "cleaned_reviews_df.groupBy('current_employee','company').avg('overall_ratings').show()"
   ]
  },
  {
   "cell_type": "markdown",
   "metadata": {},
   "source": [
    "##### Spark SQL Implmentation"
   ]
  },
  {
   "cell_type": "code",
   "execution_count": 23,
   "metadata": {},
   "outputs": [
    {
     "name": "stdout",
     "output_type": "stream",
     "text": [
      "+---------+----------------+---------+\n",
      "|avg_score|current_employee|  company|\n",
      "+---------+----------------+---------+\n",
      "|   3.7118|               1|   amazon|\n",
      "|   2.9814|               0|   amazon|\n",
      "|   3.8300|               0|    apple|\n",
      "|   4.0773|               1|    apple|\n",
      "|   4.7035|               1| facebook|\n",
      "|   3.9263|               0| facebook|\n",
      "|   4.4309|               1|   google|\n",
      "|   4.1555|               0|   google|\n",
      "|   3.8620|               1|microsoft|\n",
      "|   3.5613|               0|microsoft|\n",
      "|   3.9652|               1|  netflix|\n",
      "|   2.9439|               0|  netflix|\n",
      "+---------+----------------+---------+\n",
      "\n"
     ]
    }
   ],
   "source": [
    "spark.sql(\"SELECT AVG(overall_ratings) AS avg_score,current_employee,company FROM reviews GROUP BY current_employee,company ORDER BY company\").show()"
   ]
  },
  {
   "cell_type": "markdown",
   "metadata": {},
   "source": [
    "###  (5) Show the count of former Google employee reviews and the average work_balance_score in locations Seattle, San Francisco, or Utah\n",
    "- Please show in one solution  "
   ]
  },
  {
   "cell_type": "markdown",
   "metadata": {},
   "source": [
    "##### PySpark Implmentation"
   ]
  },
  {
   "cell_type": "code",
   "execution_count": 24,
   "metadata": {},
   "outputs": [
    {
     "name": "stdout",
     "output_type": "stream",
     "text": [
      "+-------------+-----------------------+-----------+\n",
      "|         city|avg(work_balance_stars)|count(city)|\n",
      "+-------------+-----------------------+-----------+\n",
      "|San Francisco|      4.340579710144928|         72|\n",
      "|      Seattle|     3.5294117647058822|         19|\n",
      "+-------------+-----------------------+-----------+\n",
      "\n"
     ]
    }
   ],
   "source": [
    "cleaned_reviews_df.where(col('company').isin('google') & col('current_employee').isin(0) & col(\"city\").isin({'Seattle','San Francisco','Utah'})).groupBy(\"city\").agg(avg('work_balance_stars'),count('city')).show()"
   ]
  },
  {
   "cell_type": "markdown",
   "metadata": {},
   "source": [
    "##### Spark SQL Implmentation"
   ]
  },
  {
   "cell_type": "code",
   "execution_count": 25,
   "metadata": {},
   "outputs": [
    {
     "name": "stdout",
     "output_type": "stream",
     "text": [
      "+-----+------------------+-------------+\n",
      "|count|             score|         city|\n",
      "+-----+------------------+-------------+\n",
      "|   72| 4.340579710144928|San Francisco|\n",
      "|   19|3.5294117647058822|      Seattle|\n",
      "+-----+------------------+-------------+\n",
      "\n"
     ]
    }
   ],
   "source": [
    "spark.sql(\"SELECT COUNT(*) as count, AVG(work_balance_stars) AS score,city FROM reviews WHERE company = 'google' AND current_employee =0 AND city IN ('Seattle','San Francisco','Utah') GROUP BY city\").show()"
   ]
  },
  {
   "cell_type": "markdown",
   "metadata": {},
   "source": [
    "# Data Visualization\n",
    "1. Turn your Spark dataframe into a Pandas dataframe\n",
    "    - https://pandas.pydata.org/\n",
    "2. Answer the visualization questions with any of the following libraries:\n",
    "    - Matplotlib (https://matplotlib.org/)\n",
    "    - Seaborn (https://seaborn.pydata.org/introduction.html)\n",
    "    - Bookeh (https://bokeh.pydata.org/en/latest/)"
   ]
  },
  {
   "cell_type": "code",
   "execution_count": 26,
   "metadata": {},
   "outputs": [],
   "source": [
    "import numpy as np\n",
    "import pandas as pd\n",
    "import matplotlib.pyplot as plt\n",
    "from matplotlib import style\n",
    "import seaborn as sns"
   ]
  },
  {
   "cell_type": "code",
   "execution_count": 27,
   "metadata": {},
   "outputs": [],
   "source": [
    "# Conversions are done here\n",
    "reviews_pd_df = cleaned_reviews_df.toPandas()\n",
    "reviews_pd_df.replace('None',0)\n",
    "reviews_pd_df['dates'] = pd.to_datetime(reviews_pd_df['dates'], format=' %b %d, %Y')"
   ]
  },
  {
   "cell_type": "code",
   "execution_count": 28,
   "metadata": {},
   "outputs": [],
   "source": [
    "reviews_pd_df = reviews_pd_df.fillna(0)"
   ]
  },
  {
   "cell_type": "code",
   "execution_count": 29,
   "metadata": {},
   "outputs": [
    {
     "name": "stdout",
     "output_type": "stream",
     "text": [
      "         company      dates                                      job_title  \\\n",
      "0         google 2015-02-08                             Anonymous Employee   \n",
      "1         google 2018-12-09                                           SDE2   \n",
      "2         google 2018-12-11                              Software Engineer   \n",
      "3         google 2018-12-10                             Anonymous Employee   \n",
      "4         google 2018-12-08                             Anonymous Employee   \n",
      "5         google 2018-12-03                       Sales Operations Analyst   \n",
      "6         google 2018-11-26                                       Designer   \n",
      "7         google 2018-11-29                               Staff Accountant   \n",
      "8         google 2018-11-17                              Program Manager I   \n",
      "9         google 2018-12-09                                Senior Director   \n",
      "10        google 2018-12-08                   Software Engineering Manager   \n",
      "11        google 2018-11-20                              Google Specialist   \n",
      "12        google 2018-12-06                             Anonymous Employee   \n",
      "13        google 2018-11-21                             Anonymous Employee   \n",
      "14        google 2018-11-13                        Staff Software Engineer   \n",
      "15        google 2018-11-19                                Program Manager   \n",
      "16        google 2018-11-19                              Software Engineer   \n",
      "17        google 2018-11-19                   Associate Account Strategist   \n",
      "18        google 2018-11-16                             Anonymous Employee   \n",
      "19        google 2018-11-09                              Software Engineer   \n",
      "20        google 2018-11-05                             Anonymous Employee   \n",
      "21        google 2018-11-19                               Legal Specialist   \n",
      "22        google 2018-11-01                             Anonymous Employee   \n",
      "23        google 2018-11-04                      Product Marketing Manager   \n",
      "24        google 2018-11-02                              Software Engineer   \n",
      "25        google 2018-11-01                             Front End Engineer   \n",
      "26        google 2018-11-10                       Senior Software Engineer   \n",
      "27        google 2018-10-21                                          Video   \n",
      "28        google 2018-10-25                       Senior Software Engineer   \n",
      "29        google 2018-10-25                              Product Marketing   \n",
      "...          ...        ...                                            ...   \n",
      "28327  microsoft 2008-04-19            Principal Development Engineer Lead   \n",
      "28328  microsoft 2008-04-18                                     Consultant   \n",
      "28329  microsoft 2008-04-28                               Industry Manager   \n",
      "28330  microsoft 2008-04-20                                Program Manager   \n",
      "28331  microsoft 2008-04-30                                Product Manager   \n",
      "28332  microsoft 2008-05-03           Senior Software Development Engineer   \n",
      "28333  microsoft 2008-04-19                                General Manager   \n",
      "28334  microsoft 2008-05-01                                Program Manager   \n",
      "28335  microsoft 2008-04-18                                Project Manager   \n",
      "28336  microsoft 2008-05-03                  Software Development Engineer   \n",
      "28337  microsoft 2008-05-03                  Software Development Engineer   \n",
      "28338  microsoft 2008-04-25                     User Experience Researcher   \n",
      "28339  microsoft 2008-04-24               Marketing Communications Manager   \n",
      "28340  microsoft 2008-04-24                  Software Development Engineer   \n",
      "28341  microsoft 2008-04-28           Senior Software Development Engineer   \n",
      "28342  microsoft 2008-04-24                                         Editor   \n",
      "28343  microsoft 2008-04-26                  Software Development Engineer   \n",
      "28344  microsoft 2008-04-24                                Project Manager   \n",
      "28345  microsoft 2008-04-24                           Lead Program Manager   \n",
      "28346  microsoft 2008-04-24                                Product Manager   \n",
      "28347  microsoft 2008-04-20                                  Group Manager   \n",
      "28348  microsoft 2008-04-19                                Program Manager   \n",
      "28349  microsoft 2008-04-21                                  Federal Sales   \n",
      "28350  microsoft 2008-04-26   Software Development Engineer In Test (SDET)   \n",
      "28351  microsoft 2008-04-19     Senior Account Technology Specialist (ATS)   \n",
      "28352  microsoft 2008-04-16                         Premier Field Engineer   \n",
      "28353  microsoft 2008-03-24                  Software Development Engineer   \n",
      "28354  microsoft 2008-04-03                         Senior Product Manager   \n",
      "28355  microsoft 2008-02-27                              Account Executive   \n",
      "28356  microsoft 2008-02-27                      Technical Account Manager   \n",
      "\n",
      "                                          advice_to_mgmt overall_ratings  \\\n",
      "0      Keep on NOT micromanaging - that is a huge ben...               5   \n",
      "1                                                   none               5   \n",
      "2                                                   none               5   \n",
      "3                                                   none               5   \n",
      "4                                                   none               5   \n",
      "5                                                   none               5   \n",
      "6                                                   none               5   \n",
      "7      Management and Finance must be close relation ...               5   \n",
      "8      - Just because a small percentage of the compa...               5   \n",
      "9                                                   none               3   \n",
      "10                                                  none               4   \n",
      "11                                                  none               5   \n",
      "12                                                  none               4   \n",
      "13                                                  none               5   \n",
      "14                                                  none               5   \n",
      "15                                                  none               5   \n",
      "16                                                  none               5   \n",
      "17     Stop putting people on a bell curve, and recog...               5   \n",
      "18     Add ethics to the review process A launch is n...               3   \n",
      "19                                                  none               5   \n",
      "20                                  Humanize the company               5   \n",
      "21     Hire middle managers that care about the psych...               4   \n",
      "22                                                  none               5   \n",
      "23                                                  none               5   \n",
      "24     Have a more detailed plan on company/product d...               5   \n",
      "25     Keep doing what you are doing, keep working ha...               5   \n",
      "26                    Be more generous with stock awards               4   \n",
      "27                  Keep valuing all types of employees.               5   \n",
      "28     Return to the halcyon days of real 20% and sup...               5   \n",
      "29                                                  none               5   \n",
      "...                                                  ...             ...   \n",
      "28327  I believe we've done a lot to reorganize to se...               5   \n",
      "28328  Remove commitment like participate in Microsof...               5   \n",
      "28329  Only have people manage other people if they h...               2   \n",
      "28330     Keep up the good work, lets buy Yahoo! asap...               5   \n",
      "28331  \"\"\"Reduce middle-management significantly -- t...               0   \n",
      "28332                                                  .               4   \n",
      "28333            Please drive the stock price up higher.               5   \n",
      "28334  Be less beureaucratric. Microsoft is a meritoc...               4   \n",
      "28335                                          Good job.               5   \n",
      "28336  I do not know much about the issues that Senio...               4   \n",
      "28337  I do not know much about the issues that Senio...               4   \n",
      "28338                      Get rid of middle managers :)               3   \n",
      "28339                          \"\"\"Hire someone with good               0   \n",
      "28340  Sr. Management needs to pick a direction and g...               2   \n",
      "28341   so make sure to ask if you care. Also our cod...               0   \n",
      "28342  Be more in tune with what people are doing and...               3   \n",
      "28343  Need to focus on core products and technologie...               4   \n",
      "28344  Provide a better insight into decisions made b...               3   \n",
      "28345  learn to manage with respect, keep us making m...               4   \n",
      "28346  Provide more transparency in our strategy to w...               4   \n",
      "28347  Excellence in people management can't come fro...               2   \n",
      "28348  Break it down. Stop concentrating in Redmond. ...               3   \n",
      "28349                          work load is why to high,               4   \n",
      "28350  Give hard working vendors & contractors opport...               4   \n",
      "28351  4 weeks vacation and and automatic 20% increas...               2   \n",
      "28352  Pay more attention to people at all levels, in...               4   \n",
      "28353                             Keep up the good work.               5   \n",
      "28354                 More communication is always good!               3   \n",
      "28355  Listen to and empower the account management t...               5   \n",
      "28356            Atlas senior management has been great!               5   \n",
      "\n",
      "                                      work_balance_stars culture_values_stars  \\\n",
      "0                                                    2.0                    5   \n",
      "1                                                    4.0                    4   \n",
      "2                                                    5.0                    4   \n",
      "3                                                    5.0                    5   \n",
      "4                                                    4.0                    5   \n",
      "5                                                    5.0                    5   \n",
      "6                                                    3.0                    4   \n",
      "7                                                    5.0                    5   \n",
      "8                                                    5.0                    5   \n",
      "9                                                    4.0                    5   \n",
      "10                                                   5.0                    5   \n",
      "11                                                   3.0                    4   \n",
      "12                                                   4.0                    3   \n",
      "13                                                   3.0                    5   \n",
      "14                                                   4.0                    4   \n",
      "15                                                   5.0                    3   \n",
      "16                                                   5.0                    5   \n",
      "17                                                   4.0                    4   \n",
      "18                                                   2.0                    1   \n",
      "19                                                   5.0                    5   \n",
      "20                                                   2.0                    2   \n",
      "21                                                   5.0                    5   \n",
      "22                                                   5.0                    3   \n",
      "23                                                   4.0                    5   \n",
      "24                                                   5.0                    5   \n",
      "25                                                   4.0                    5   \n",
      "26                                                   5.0                    4   \n",
      "27                                                   4.0                    5   \n",
      "28                                                   5.0                    5   \n",
      "29                                                   3.0                    3   \n",
      "...                                                  ...                  ...   \n",
      "28327                                                5.0                    0   \n",
      "28328                                                5.0                    0   \n",
      "28329                                                2.5                    0   \n",
      "28330                                                5.0                    0   \n",
      "28331                                                2.0                    5   \n",
      "28332                                                5.0                    0   \n",
      "28333                                                5.0                    0   \n",
      "28334                                                4.0                    0   \n",
      "28335                                                5.0                    0   \n",
      "28336                                                4.0                    0   \n",
      "28337                                                4.0                    0   \n",
      "28338                                                3.5                    0   \n",
      "28339                                                4.0                    4   \n",
      "28340                                                3.5                    0   \n",
      "28341  \"\"\"If I knew what to do I would be in Senior M...                    0   \n",
      "28342                                                3.5                    0   \n",
      "28343                                                4.0                    0   \n",
      "28344                                                5.0                    0   \n",
      "28345                                                4.5                    0   \n",
      "28346                                                4.0                    0   \n",
      "28347                                                4.0                    0   \n",
      "28348                                                3.5                    0   \n",
      "28349                                                3.0                    0   \n",
      "28350                                                4.0                    0   \n",
      "28351                                                1.5                    0   \n",
      "28352                                                3.5                    0   \n",
      "28353                                                4.5                    0   \n",
      "28354                                                4.0                    0   \n",
      "28355                                                4.5                    0   \n",
      "28356                                                5.0                    0   \n",
      "\n",
      "      carrer_opportunities_stars comp_benefit_stars senior_mangemnet_stars  \\\n",
      "0                              5                  4                      5   \n",
      "1                              4                  5                      4   \n",
      "2                              4                  5                      4   \n",
      "3                              5                  5                      5   \n",
      "4                              4                  4                      3   \n",
      "5                              5                  4                      4   \n",
      "6                              3                  4                      5   \n",
      "7                              5                  5                      5   \n",
      "8                              5                  5                      5   \n",
      "9                              5                  5                      5   \n",
      "10                             4                  4                      4   \n",
      "11                             4                  5                      4   \n",
      "12                             3                  4                      3   \n",
      "13                             5                  5                      4   \n",
      "14                             5                  5                      3   \n",
      "15                             5                  4                      5   \n",
      "16                             4                  4                      4   \n",
      "17                             5                  5                      2   \n",
      "18                             2                  5                      2   \n",
      "19                             5                  5                      5   \n",
      "20                             4                  4                      3   \n",
      "21                             3                  5                      4   \n",
      "22                             5                  5                      4   \n",
      "23                             5                  5                      4   \n",
      "24                             5                  5                      4   \n",
      "25                             5                  5                      4   \n",
      "26                             4                  4                      4   \n",
      "27                             5                  5                      4   \n",
      "28                             5                  5                      5   \n",
      "29                             4                  5                      4   \n",
      "...                          ...                ...                    ...   \n",
      "28327                          5                  5                      5   \n",
      "28328                          5                  5                      5   \n",
      "28329                          3                  3                      2   \n",
      "28330                          5                  5                      5   \n",
      "28331                          0                  4                      4   \n",
      "28332                          5                  5                      4   \n",
      "28333                          5                  5                      5   \n",
      "28334                          5                  4                      4   \n",
      "28335                          5                  5                      5   \n",
      "28336                          4                  4                      4   \n",
      "28337                          4                  4                      4   \n",
      "28338                          3                  3                      2   \n",
      "28339                          0                  5                      5   \n",
      "28340                          3                  4                      2   \n",
      "28341                          4                  5                      0   \n",
      "28342                          3                  5                      2   \n",
      "28343                          5                  5                      3   \n",
      "28344                          1                  4                      3   \n",
      "28345                          4                  4                      4   \n",
      "28346                          4                  2                      2   \n",
      "28347                          2                  4                      1   \n",
      "28348                          4                  4                      3   \n",
      "28349                          5                  5                      5   \n",
      "28350                          5                  4                      4   \n",
      "28351                          3                  4                      3   \n",
      "28352                          4                  5                      4   \n",
      "28353                          5                  5                      4   \n",
      "28354                          4                  4                      4   \n",
      "28355                          5                  4                      4   \n",
      "28356                          5                  5                      5   \n",
      "\n",
      "      helpful_count           city state country  current_employee  \n",
      "0               498  Mountain View    CA      US                 1  \n",
      "1                 1  Mountain View    CA      US                 0  \n",
      "2                 0       New York    NY      US                 1  \n",
      "3                 0       New York    NY      US                 1  \n",
      "4                 0  Mountain View    CA      US                 1  \n",
      "5                 1  San Francisco    CA      US                 1  \n",
      "6                 2       New York    NY      US                 1  \n",
      "7                 0    Los Angeles    CA      US                 1  \n",
      "8                 3  San Francisco    CA      US                 1  \n",
      "9                 0  Mountain View    CA      US                 0  \n",
      "10                0  Mountain View    CA      US                 1  \n",
      "11                1       Dearborn    MI      US                 1  \n",
      "12                0       New York    NY      US                 1  \n",
      "13                0      Sunnyvale    CA      US                 1  \n",
      "14                2        Seattle    WA      US                 1  \n",
      "15                0       New York    NY      US                 1  \n",
      "16                0      Sunnyvale    CA      US                 1  \n",
      "17                0      Ann Arbor    MI      US                 0  \n",
      "18                8  Mountain View    CA      US                 1  \n",
      "19                1  Mountain View    CA      US                 1  \n",
      "20                0       New York    NY      US                 0  \n",
      "21                0  Mountain View    CA      US                 0  \n",
      "22                1  Mountain View    CA      US                 1  \n",
      "23                0  San Francisco    CA      US                 1  \n",
      "24                0  Mountain View    CA      US                 1  \n",
      "25                0     Pittsburgh    PA      US                 1  \n",
      "26                1  Mountain View    CA      US                 1  \n",
      "27                2  Mountain View    CA      US                 1  \n",
      "28                0       New York    NY      US                 1  \n",
      "29                0        Boulder    CO      US                 1  \n",
      "...             ...            ...   ...     ...               ...  \n",
      "28327             1        Redmond    WA      US                 1  \n",
      "28328             1        Atlanta    GA      US                 1  \n",
      "28329             2        Redmond    WA      US                 0  \n",
      "28330             1        Redmond    WA      US                 1  \n",
      "28331           1.0        Redmond    WA      US                 1  \n",
      "28332             0        Redmond    WA      US                 1  \n",
      "28333             1        Redmond    WA      US                 1  \n",
      "28334             0        Redmond    WA      US                 0  \n",
      "28335             1        Redmond    WA      US                 1  \n",
      "28336             0        Redmond    WA      US                 1  \n",
      "28337             0        Redmond    WA      US                 1  \n",
      "28338             1        Redmond    WA      US                 0  \n",
      "28339           4.5        Redmond    WA      US                 0  \n",
      "28340             2        Redmond    WA      US                 0  \n",
      "28341           4.0        Redmond    WA      US                 1  \n",
      "28342             0        Redmond    WA      US                 1  \n",
      "28343             0        Redmond    WA      US                 1  \n",
      "28344             0          Fargo    ND      US                 1  \n",
      "28345             0        Redmond    WA      US                 1  \n",
      "28346             0        Redmond    WA      US                 1  \n",
      "28347             1       Bellevue    WA      US                 0  \n",
      "28348             1        Redmond    WA      US                 1  \n",
      "28349             0      Charlotte    NC      US                 1  \n",
      "28350             0        Redmond    WA      US                 1  \n",
      "28351             1        Waltham    MA      US                 1  \n",
      "28352             0  San Francisco    CA      US                 1  \n",
      "28353             2  San Francisco    CA      US                 1  \n",
      "28354             0  San Francisco    CA      US                 1  \n",
      "28355             1  San Francisco    CA      US                 1  \n",
      "28356             0  San Francisco    CA      US                 1  \n",
      "\n",
      "[28357 rows x 15 columns]\n"
     ]
    }
   ],
   "source": [
    "print(reviews_pd_df)"
   ]
  },
  {
   "cell_type": "markdown",
   "metadata": {},
   "source": [
    "### Plot the distribution of reviewers who are current and former employees\n",
    "- Hint: A Seaborn factorplot will work nicely here\n",
    "    - https://kite.com/python/docs/seaborn.factorplot\n",
    "    "
   ]
  },
  {
   "cell_type": "code",
   "execution_count": 30,
   "metadata": {},
   "outputs": [
    {
     "data": {
      "text/plain": [
       "<matplotlib.axes._subplots.AxesSubplot at 0x2cbd619ad30>"
      ]
     },
     "execution_count": 30,
     "metadata": {},
     "output_type": "execute_result"
    },
    {
     "data": {
      "image/png": "[encoded data removed]",
      "text/plain": [
       "<Figure size 432x288 with 1 Axes>"
      ]
     },
     "metadata": {
      "needs_background": "light"
     },
     "output_type": "display_data"
    }
   ],
   "source": [
    "# Count of current and former employee reviewers \n",
    "sns.countplot(data = reviews_pd_df , x='current_employee')"
   ]
  },
  {
   "cell_type": "markdown",
   "metadata": {},
   "source": [
    "### Plot the distributions of reviews for each company (current and former employees) and their overall ratings\n",
    "- Hint: A Seaborn factorplot will work nicely here\n",
    "    - https://kite.com/python/docs/seaborn.factorplot"
   ]
  },
  {
   "cell_type": "code",
   "execution_count": 31,
   "metadata": {},
   "outputs": [
    {
     "data": {
      "text/plain": [
       "<matplotlib.axes._subplots.AxesSubplot at 0x2cbd6616320>"
      ]
     },
     "execution_count": 31,
     "metadata": {},
     "output_type": "execute_result"
    },
    {
     "data": {
      "image/png": "[encoded data removed]",
      "text/plain": [
       "<Figure size 432x288 with 1 Axes>"
      ]
     },
     "metadata": {
      "needs_background": "light"
     },
     "output_type": "display_data"
    }
   ],
   "source": [
    "# Distribution of rating for each company\n",
    "sns.countplot(data = reviews_pd_df , x='overall_ratings',hue='company')"
   ]
  },
  {
   "cell_type": "code",
   "execution_count": null,
   "metadata": {},
   "outputs": [],
   "source": []
  }
 ],
 "metadata": {
  "kernelspec": {
   "display_name": "Python 3",
   "language": "python",
   "name": "python3"
  },
  "language_info": {
   "codemirror_mode": {
    "name": "ipython",
    "version": 3
   },
   "file_extension": ".py",
   "mimetype": "text/x-python",
   "name": "python",
   "nbconvert_exporter": "python",
   "pygments_lexer": "ipython3",
   "version": "3.6.4"
  }
 },
 "nbformat": 4,
 "nbformat_minor": 2
}
