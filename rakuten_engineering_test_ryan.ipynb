{
 "cells": [
  {
   "cell_type": "markdown",
   "metadata": {},
   "source": [
    "# Rakuten USA - Data Engineering Test\n",
    "\n",
    "### Goal\n",
    "The goal of this test is not ment to be exhaustive, but we do want to test your skills in analytical thinking, SQL, data wrangling, data analysis, and data visualization. \n",
    "\n",
    "**Please remember:** The better that you do on this assignment, the less questions we will have during your on-site interviews. :)\n",
    "\n",
    "### Expectations\n",
    "You can expect this test to use the following technologies:\n",
    "- Python3\n",
    "- Jupyter Notebook\n",
    "- PySpark\n",
    "- PySpark SQL\n",
    "\n",
    "This test will cover the following areas: \n",
    "- Data Cleaning/Wrangling\n",
    "- Exploratory Data Analysis (EDA)\n",
    "- Data Visualization\n",
    "\n",
    "This test should take you no more than 2-4 hours.\n",
    "\n",
    "### What to turn in, and where to send your test\n",
    "Please email stirling.waite@rakuten with your finished notebook\n",
    "- rakuten_engineer_test.ipynb\n",
    " \n",
    "### Questions?\n",
    "Feel free to email me or call me with any questions about this test\n",
    "- Email: stirling.waite@rakuten.com\n",
    "- Phone: 801-856-1426\n",
    "- LinkedIn Chat: https://www.linkedin.com/in/stirlingwaite/\n",
    "- Gchat: stirlingw@gmail.com"
   ]
  },
  {
   "cell_type": "code",
   "execution_count": null,
   "metadata": {},
   "outputs": [],
   "source": []
  },
  {
   "cell_type": "code",
   "execution_count": null,
   "metadata": {},
   "outputs": [],
   "source": []
  },
  {
   "cell_type": "markdown",
   "metadata": {},
   "source": [
    "# About The Dataset\n",
    "\n",
    "Below you will find a modified free Kaggle competition dataset from https://www.kaggle.com/mayank811/employee-reviews/data using scraped data from Glassdoor.com.\n",
    "\n",
    "## Context\n",
    "- Over 67k employee reviews for Google, Amazon, Facebook, Apple, Microsoft, and Netflix.\n",
    "- Web scraped from Glassdoor\n",
    "\n",
    "## Content\n",
    "This dataset contains employee reviews separated into the following categories:\n",
    "\n",
    "- **Index:** index\n",
    "- **Company:** Company name\n",
    "- **Location:** This dataset is global, as such it may include the country's name in parenthesis [i.e \"Toronto, ON(Canada)\"]. However, if the location is in the USA then it will only include the city and state[i.e \"Los Angeles, CA\" ]\n",
    "- **Date Posted:** in the following format MM DD, YYYY\n",
    "- **Job-Title:** This string will also include whether the reviewer is a 'Current' or 'Former' Employee at the time of the review\n",
    "- **Summary:** Short summary of employee review\n",
    "- **Pros:** Pros\n",
    "- **Cons:** Cons\n",
    "- **Overall Rating:** 1-5\n",
    "- **Work/Life Balance Rating:** 1-5\n",
    "- **Culture and Values Rating:** 1-5\n",
    "- **Career Opportunities Rating:** 1-5\n",
    "- **Comp & Benefits Rating:** 1-5\n",
    "- **Senior Management Rating:** 1-5\n",
    "- **Helpful Review Count:** 1-5\n",
    "\n",
    "**Link to Review:** This will provide you with a direct link to the page that contains the review. However it is likely that this link will be outdated\n",
    "\n",
    "**NOTE:** 'none' is placed in all cells where no data value was found.\n",
    "\n"
   ]
  },
  {
   "cell_type": "code",
   "execution_count": null,
   "metadata": {},
   "outputs": [],
   "source": []
  },
  {
   "cell_type": "code",
   "execution_count": null,
   "metadata": {},
   "outputs": [],
   "source": []
  },
  {
   "cell_type": "markdown",
   "metadata": {},
   "source": [
    "# PySpark Initialization"
   ]
  },
  {
   "cell_type": "code",
   "execution_count": 1,
   "metadata": {},
   "outputs": [],
   "source": [
    "import re\n",
    "import pyspark\n",
    "from pyspark import SparkConf, SparkContext, SQLContext\n",
    "from pyspark.sql import SparkSession, Row\n",
    "from pyspark.sql.functions import *\n",
    "from pyspark.sql import functions as fn\n",
    "from pyspark.sql import types as t\n",
    "from pyspark.sql.types import *\n",
    "from datetime import datetime"
   ]
  },
  {
   "cell_type": "code",
   "execution_count": 2,
   "metadata": {},
   "outputs": [],
   "source": [
    "conf = SparkConf()\\\n",
    "                .setMaster(\"local[*]\")\\\n",
    "                .setAppName(\"rakutenHomework\")\n",
    "        \n",
    "sc = SparkContext(conf=conf)\n",
    "sc.setLogLevel(\"ERROR\")\n",
    "sqlContext = SQLContext(sc)\n",
    "spark = SparkSession.builder.appName(\"spark play\").getOrCreate()"
   ]
  },
  {
   "cell_type": "markdown",
   "metadata": {},
   "source": [
    "## Read Dataset into Spark"
   ]
  },
  {
   "cell_type": "code",
   "execution_count": 3,
   "metadata": {},
   "outputs": [
    {
     "name": "stdout",
     "output_type": "stream",
     "text": [
      "28357\n",
      "+---+-------+-----------------+-------------+--------------------+--------------------+--------------------+--------------------+--------------------+---------------+------------------+--------------------+--------------------------+------------------+----------------------+-------------+--------------------+\n",
      "|_c0|company|         location|        dates|           job_title|             summary|                pros|                cons|      advice_to_mgmt|overall_ratings|work_balance_stars|culture_values_stars|carrer_opportunities_stars|comp_benefit_stars|senior_mangemnet_stars|helpful_count|                link|\n",
      "+---+-------+-----------------+-------------+--------------------+--------------------+--------------------+--------------------+--------------------+---------------+------------------+--------------------+--------------------------+------------------+----------------------+-------------+--------------------+\n",
      "|  0| google|Mountain View, CA|  Feb 8, 2015|Current Employee ...|The best place I'...|You can't find a ...|I live in SF so t...|Keep on NOT micro...|            5.0|               2.0|                 5.0|                       5.0|               4.0|                   5.0|          498|https://www.glass...|\n",
      "|  1| google|Mountain View, CA|  Dec 9, 2018|Former Employee -...|NICE working in G...|People are not th...|Food is not good ...|                none|            5.0|               4.0|                 4.0|                       4.0|               5.0|                   4.0|            1|https://www.glass...|\n",
      "|  2| google|     New York, NY| Dec 11, 2018|Current Employee ...|   Software engineer|Great working env...|Usual big company...|                none|            5.0|               5.0|                 4.0|                       4.0|               5.0|                   4.0|            0|https://www.glass...|\n",
      "|  3| google|     New York, NY| Dec 10, 2018|Current Employee ...|Google Surpasses ...|Great products. V...|Younger employees...|                none|            5.0|               5.0|                 5.0|                       5.0|               5.0|                   5.0|            0|https://www.glass...|\n",
      "|  4| google|Mountain View, CA|  Dec 8, 2018|Current Employee ...|  Nice place to work|* Smart people * ...|Giant company wit...|                none|            5.0|               4.0|                 5.0|                       4.0|               4.0|                   3.0|            0|https://www.glass...|\n",
      "|  5| google|San Francisco, CA|  Dec 3, 2018|Current Employee ...|Still the best pl...|Amazing company. ...|Size, which limit...|                none|            5.0|               5.0|                 5.0|                       5.0|               4.0|                   4.0|            1|https://www.glass...|\n",
      "|  6| google|     New York, NY| Nov 26, 2018|Current Employee ...|Great, but great ...|Great team and su...|Lots of bureaucra...|                none|            5.0|               3.0|                 4.0|                       3.0|               4.0|                   5.0|            2|https://www.glass...|\n",
      "|  7| google|  Los Angeles, CA| Nov 29, 2018|Current Employee ...|          Accountant|I like and learne...|High clerical wor...|Management and Fi...|            5.0|               5.0|                 5.0|                       5.0|               5.0|                   5.0|            0|https://www.glass...|\n",
      "|  8| google|San Francisco, CA| Nov 17, 2018|Current Employee ...|Not perfect, but ...|- A company cultu...|- A company with ...|- Just because a ...|            5.0|               5.0|                 5.0|                       5.0|               5.0|                   5.0|            3|https://www.glass...|\n",
      "|  9| google|Mountain View, CA|  Dec 9, 2018|Former Employee -...|     Senior Director|So many brilliant...|Becoming highly b...|                none|            3.0|               4.0|                 5.0|                       5.0|               5.0|                   5.0|            0|https://www.glass...|\n",
      "| 10| google|Mountain View, CA|  Dec 8, 2018|Current Employee ...|Google is still t...|Great place to wo...|Large company iss...|                none|            4.0|               5.0|                 5.0|                       4.0|               4.0|                   4.0|            0|https://www.glass...|\n",
      "| 11| google|     Dearborn, MI| Nov 20, 2018|Current Employee ...|              Google|Google is one of ...|You have to work ...|                none|            5.0|               3.0|                 4.0|                       4.0|               5.0|                   4.0|            1|https://www.glass...|\n",
      "| 12| google|     New York, NY|  Dec 6, 2018|Current Employee ...|   Good compensation|Better than avera...|Big and beurocrat...|                none|            4.0|               4.0|                 3.0|                       3.0|               4.0|                   3.0|            0|https://www.glass...|\n",
      "| 13| google|    Sunnyvale, CA| Nov 21, 2018|Current Employee ...|    Best of the best|The best company ...|Set hours for bre...|                none|            5.0|               3.0|                 5.0|                       5.0|               5.0|                   4.0|            0|https://www.glass...|\n",
      "| 14| google|      Seattle, WA| Nov 13, 2018|Current Employee ...|        Hard to beat|Amazing compensat...|Growing pains as ...|                none|            5.0|               4.0|                 4.0|                       5.0|               5.0|                   3.0|            2|https://www.glass...|\n",
      "| 15| google|     New York, NY| Nov 19, 2018|Current Employee ...| Great place to work|Ambitious mission...|Everyone is eager...|                none|            5.0|               5.0|                 3.0|                       5.0|               4.0|                   5.0|            0|https://www.glass...|\n",
      "| 16| google|    Sunnyvale, CA| Nov 19, 2018|Current Employee ...|Positive Experiences|Good opportunitie...|Difficult to adva...|                none|            5.0|               5.0|                 5.0|                       4.0|               4.0|                   4.0|            0|https://www.glass...|\n",
      "| 17| google|    Ann Arbor, MI| Nov 19, 2018|Former Employee -...|Make sure you kno...|Employees, food, ...|Company has becom...|Stop putting peop...|            5.0|               4.0|                 4.0|                       5.0|               5.0|                   2.0|            0|https://www.glass...|\n",
      "| 18| google|Mountain View, CA| Nov 16, 2018|Current Employee ...|                 meh|Pays really well ...|Google wants 60-h...|Add ethics to the...|            3.0|               2.0|                 1.0|                       2.0|               5.0|                   2.0|            8|https://www.glass...|\n",
      "| 19| google|Mountain View, CA|  Nov 9, 2018|Current Employee ...| Best Job I Ever Had|Amazing and talen...|All the perks mak...|                none|            5.0|               5.0|                 5.0|                       5.0|               5.0|                   5.0|            1|https://www.glass...|\n",
      "+---+-------+-----------------+-------------+--------------------+--------------------+--------------------+--------------------+--------------------+---------------+------------------+--------------------+--------------------------+------------------+----------------------+-------------+--------------------+\n",
      "only showing top 20 rows\n",
      "\n"
     ]
    }
   ],
   "source": [
    "reviews_df = spark.read.csv(\"employee_reviews_usa.csv\", header=True, mode=\"DROPMALFORMED\", inferSchema='true', encoding=\"utf-8\")\n",
    "print(reviews_df.count())\n",
    "reviews_df.show()"
   ]
  },
  {
   "cell_type": "code",
   "execution_count": null,
   "metadata": {},
   "outputs": [],
   "source": []
  },
  {
   "cell_type": "code",
   "execution_count": null,
   "metadata": {},
   "outputs": [],
   "source": []
  },
  {
   "cell_type": "markdown",
   "metadata": {},
   "source": [
    "# Data Cleaning & Removing Un-Needed Columns\n",
    "\n",
    "No one likes dirty data.  Let's clean up this dataset to make it more usable for our use case.\n",
    "\n",
    " \n",
    "1. Make the date field more data friendly\n",
    "    - Hint #1: Use the provided `review_date_udf` udf provided (it will make your life more simple) \n",
    "2. Using the \"location\" column \n",
    "    - Add new columns for city, state, country columns\n",
    "        - Hint #1: Concider using `fn.split()` to split `location` for columns `city` `state` \n",
    "        - Hint #2: I've narrowed down the country to just US, so please use something like below to create the `country` column\n",
    "            - ```lit(\"US\").alias(\"country\")```\n",
    "3. Using the \"job-title\" column  \n",
    "    - Add a new boolean column titled \"current_employee\" that will show:\n",
    "        - 1,  if reviewer is a current employee\n",
    "        - 0,  if reviewer is not a current employee\n",
    "        - Hint:  Use spark function `fn.when()` and `col(\"job-title\").contains(\"\")`\n",
    "    - Remove \"Former Employee - \" and \"\" from the \"job-title\" column\n",
    "        - Hint: Use the udf function `reg_job_title_udf`\n",
    "4. Drop un-needed columns \n",
    "    - \"_c0\", \"link\", \"pros\", \"cons\", \"advice-to-mgmt\", \"summary\", \"location\""
   ]
  },
  {
   "cell_type": "markdown",
   "metadata": {},
   "source": [
    "##### Useful UDF functions needed for below"
   ]
  },
  {
   "cell_type": "code",
   "execution_count": 4,
   "metadata": {},
   "outputs": [],
   "source": [
    "review_date_udf = fn.udf(\n",
    "    lambda x: datetime.strptime(x, ' %b %d, %Y'), DateType()\n",
    ")\n",
    "\n",
    "reviews_df = reviews_df.withColumn('dates', review_date_udf('dates'))\n"
   ]
  },
  {
   "cell_type": "markdown",
   "metadata": {},
   "source": [
    "#Problem 2 - "
   ]
  },
  {
   "cell_type": "code",
   "execution_count": 5,
   "metadata": {},
   "outputs": [
    {
     "data": {
      "text/plain": [
       "DataFrame[_c0: int, company: string, location: string, dates: date, job_title: string, summary: string, pros: string, cons: string, advice_to_mgmt: string, overall_ratings: string, work_balance_stars: string, culture_values_stars: string, carrer_opportunities_stars: string, comp_benefit_stars: string, senior_mangemnet_stars: string, helpful_count: string, link: string, city: string, state: string, country: string]"
      ]
     },
     "execution_count": 5,
     "metadata": {},
     "output_type": "execute_result"
    }
   ],
   "source": [
    "reviews_df = reviews_df.withColumn('city', split('location',',').getItem(0)) \\\n",
    "                .withColumn('state', split('location', ',').getItem(1)) \\\n",
    "                .withColumn('country', lit(\"US\").alias('country'))"
   ]
  },
  {
   "cell_type": "code",
   "execution_count": 7,
   "metadata": {},
   "outputs": [
    {
     "name": "stdout",
     "output_type": "stream",
     "text": [
      "+---+-------+-----------------+----------+--------------------+--------------------+--------------------+--------------------+--------------------+---------------+------------------+--------------------+--------------------------+------------------+----------------------+-------------+--------------------+-------------+-----+-------+\n",
      "|_c0|company|         location|     dates|           job_title|             summary|                pros|                cons|      advice_to_mgmt|overall_ratings|work_balance_stars|culture_values_stars|carrer_opportunities_stars|comp_benefit_stars|senior_mangemnet_stars|helpful_count|                link|         city|state|country|\n",
      "+---+-------+-----------------+----------+--------------------+--------------------+--------------------+--------------------+--------------------+---------------+------------------+--------------------+--------------------------+------------------+----------------------+-------------+--------------------+-------------+-----+-------+\n",
      "|  0| google|Mountain View, CA|2015-02-08|Current Employee ...|The best place I'...|You can't find a ...|I live in SF so t...|Keep on NOT micro...|            5.0|               2.0|                 5.0|                       5.0|               4.0|                   5.0|          498|https://www.glass...|Mountain View|   CA|     US|\n",
      "+---+-------+-----------------+----------+--------------------+--------------------+--------------------+--------------------+--------------------+---------------+------------------+--------------------+--------------------------+------------------+----------------------+-------------+--------------------+-------------+-----+-------+\n",
      "only showing top 1 row\n",
      "\n"
     ]
    }
   ],
   "source": [
    "reviews_df.show(1)"
   ]
  },
  {
   "cell_type": "code",
   "execution_count": 8,
   "metadata": {},
   "outputs": [],
   "source": [
    "def reg_job_title(column):\n",
    "    res_split=[]\n",
    "    reg_patterns=[\"Former Employee - / \", \"Current Employee - / \"]\n",
    "    for i in range(len(reg_patterns)):\n",
    "        res_split=re.findall(r\"[^/]+\",reg_patterns[i])\n",
    "        for x in res_split[0].split(\"|\"):\n",
    "            column = column.replace(x,res_split[1])\n",
    "    return column[1:]\n",
    "\n",
    "reg_job_title_udf = fn.udf(reg_job_title, t.StringType())"
   ]
  },
  {
   "cell_type": "code",
   "execution_count": 9,
   "metadata": {},
   "outputs": [],
   "source": [
    "reviews_df = reviews_df.withColumn('current_employee', when(col('job_title').contains('Current Employee'), 1).otherwise(0)) \\\n",
    "    .withColumn('job_title', reg_job_title_udf('job_title'))"
   ]
  },
  {
   "cell_type": "code",
   "execution_count": 10,
   "metadata": {},
   "outputs": [
    {
     "name": "stdout",
     "output_type": "stream",
     "text": [
      "+--------------------+\n",
      "|           job_title|\n",
      "+--------------------+\n",
      "|  Anonymous Employee|\n",
      "|                SDE2|\n",
      "|   Software Engineer|\n",
      "|  Anonymous Employee|\n",
      "|  Anonymous Employee|\n",
      "|Sales Operations ...|\n",
      "|            Designer|\n",
      "|    Staff Accountant|\n",
      "|   Program Manager I|\n",
      "|     Senior Director|\n",
      "+--------------------+\n",
      "only showing top 10 rows\n",
      "\n"
     ]
    }
   ],
   "source": [
    "reviews_df.select('job_title').show(10)"
   ]
  },
  {
   "cell_type": "code",
   "execution_count": 11,
   "metadata": {},
   "outputs": [],
   "source": [
    "reviews_df = reviews_df.drop(*[\"_c0\", \"link\", \"pros\", \"cons\", \"advice-to-mgmt\", \"summary\", \"location\"])"
   ]
  },
  {
   "cell_type": "markdown",
   "metadata": {},
   "source": [
    "# Cleaned Spark Dataframe\n",
    "\n",
    "- I've included the starting of dataframe, but in the `select` you will want to add the fixes and columns needed to answer the questions below\n"
   ]
  },
  {
   "cell_type": "code",
   "execution_count": 12,
   "metadata": {},
   "outputs": [],
   "source": [
    "cleaned_reviews_df = reviews_df.where((col(\"dates\") != 'None') & (col(\"dates\") != ' Jan 0, 0000') & (col(\"dates\") != ' Nov 0, 0000') & (~col(\"location\").contains(\"(\")) & (col(\"location\") != \"none\")) \\\n",
    "                         .select(\n",
    "                             col(\"company\"),\n",
    "                             col(\"current_employee\"),\n",
    "                             col(\"overall_ratings\"),\n",
    "                             col(\"work_balance_stars\"),\n",
    "                             col(\"city\"),\n",
    "                             col(\"state\"),\n",
    "                             col(\"country\")\n",
    "                         )\n"
   ]
  },
  {
   "cell_type": "code",
   "execution_count": null,
   "metadata": {},
   "outputs": [],
   "source": []
  },
  {
   "cell_type": "code",
   "execution_count": null,
   "metadata": {},
   "outputs": [],
   "source": []
  },
  {
   "cell_type": "markdown",
   "metadata": {},
   "source": [
    "# Data Questions\n",
    "\n",
    "Each question below will have two parts.   Please solve each problem in PySpark and PySpark SQL.  This is to test your ability to solve the problem in PySpark, and to test your ability to solve the problem in SQL.\n",
    "\n",
    "- PySpark API (https://spark.apache.org/docs/latest/api/python/index.html)\n",
    "- PySpark SQL API (https://spark.apache.org/docs/latest/api/python/pyspark.sql.html)"
   ]
  },
  {
   "cell_type": "code",
   "execution_count": 13,
   "metadata": {},
   "outputs": [],
   "source": [
    "cleaned_reviews_df.createOrReplaceTempView(\"reviews\")"
   ]
  },
  {
   "cell_type": "markdown",
   "metadata": {},
   "source": [
    "### (1) What is the total number of reviews in the data set?"
   ]
  },
  {
   "cell_type": "markdown",
   "metadata": {},
   "source": [
    "##### PySpark Implmentation"
   ]
  },
  {
   "cell_type": "code",
   "execution_count": 14,
   "metadata": {},
   "outputs": [
    {
     "data": {
      "text/plain": [
       "27779"
      ]
     },
     "execution_count": 14,
     "metadata": {},
     "output_type": "execute_result"
    }
   ],
   "source": [
    "cleaned_reviews_df.count()"
   ]
  },
  {
   "cell_type": "markdown",
   "metadata": {},
   "source": [
    "##### Spark SQL Implmentation"
   ]
  },
  {
   "cell_type": "code",
   "execution_count": 15,
   "metadata": {},
   "outputs": [
    {
     "name": "stdout",
     "output_type": "stream",
     "text": [
      "+------------+\n",
      "|review_count|\n",
      "+------------+\n",
      "|       27779|\n",
      "+------------+\n",
      "\n"
     ]
    }
   ],
   "source": [
    "spark.sql(\"SELECT count(*) as review_count from reviews\").show()"
   ]
  },
  {
   "cell_type": "code",
   "execution_count": null,
   "metadata": {},
   "outputs": [],
   "source": []
  },
  {
   "cell_type": "markdown",
   "metadata": {},
   "source": [
    "###  (2) How many reviews exist in the dataset per each company?"
   ]
  },
  {
   "cell_type": "markdown",
   "metadata": {},
   "source": [
    "##### PySpark Implmentation"
   ]
  },
  {
   "cell_type": "code",
   "execution_count": 16,
   "metadata": {},
   "outputs": [
    {
     "name": "stdout",
     "output_type": "stream",
     "text": [
      "+---------+-----+\n",
      "|  company|count|\n",
      "+---------+-----+\n",
      "|microsoft| 7919|\n",
      "|   amazon| 9993|\n",
      "|  netflix|  444|\n",
      "|    apple| 5729|\n",
      "| facebook| 1148|\n",
      "|   google| 2546|\n",
      "+---------+-----+\n",
      "\n"
     ]
    }
   ],
   "source": [
    "cleaned_reviews_df.groupBy('company').count().show()"
   ]
  },
  {
   "cell_type": "markdown",
   "metadata": {},
   "source": [
    "##### Spark SQL Implmentation"
   ]
  },
  {
   "cell_type": "code",
   "execution_count": 17,
   "metadata": {},
   "outputs": [
    {
     "name": "stdout",
     "output_type": "stream",
     "text": [
      "+---------+-----+\n",
      "|  company|count|\n",
      "+---------+-----+\n",
      "|microsoft| 7919|\n",
      "|   amazon| 9993|\n",
      "|  netflix|  444|\n",
      "|    apple| 5729|\n",
      "| facebook| 1148|\n",
      "|   google| 2546|\n",
      "+---------+-----+\n",
      "\n"
     ]
    }
   ],
   "source": [
    "spark.sql(\"SELECT company, count(company) as count FROM reviews GROUP by company\").show()"
   ]
  },
  {
   "cell_type": "markdown",
   "metadata": {},
   "source": [
    "###  (3) How many reviews are from former and current employees per each company?"
   ]
  },
  {
   "cell_type": "markdown",
   "metadata": {},
   "source": [
    "##### PySpark Implmentation"
   ]
  },
  {
   "cell_type": "code",
   "execution_count": 18,
   "metadata": {},
   "outputs": [
    {
     "name": "stdout",
     "output_type": "stream",
     "text": [
      "+---------+-----------------+--------+\n",
      "|  company|formerly_employed|employed|\n",
      "+---------+-----------------+--------+\n",
      "|   amazon|             3342|    6651|\n",
      "|    apple|             2377|    3352|\n",
      "| facebook|              217|     931|\n",
      "|   google|              926|    1620|\n",
      "|microsoft|             2790|    5129|\n",
      "|  netflix|              214|     230|\n",
      "+---------+-----------------+--------+\n",
      "\n"
     ]
    }
   ],
   "source": [
    "cleaned_reviews_df.groupBy('company').pivot('current_employee').count() \\\n",
    "    .withColumnRenamed('0', 'formerly_employed') \\\n",
    "    .withColumnRenamed('1', 'employed').orderBy('company').show()\n",
    "\n"
   ]
  },
  {
   "cell_type": "code",
   "execution_count": 19,
   "metadata": {},
   "outputs": [
    {
     "name": "stdout",
     "output_type": "stream",
     "text": [
      "+---------+----------------+-----+\n",
      "|  company|current_employee|count|\n",
      "+---------+----------------+-----+\n",
      "|   amazon|               0| 3342|\n",
      "|   amazon|               1| 6651|\n",
      "|    apple|               0| 2377|\n",
      "|    apple|               1| 3352|\n",
      "| facebook|               0|  217|\n",
      "| facebook|               1|  931|\n",
      "|   google|               0|  926|\n",
      "|   google|               1| 1620|\n",
      "|microsoft|               0| 2790|\n",
      "|microsoft|               1| 5129|\n",
      "|  netflix|               0|  214|\n",
      "|  netflix|               1|  230|\n",
      "+---------+----------------+-----+\n",
      "\n"
     ]
    }
   ],
   "source": [
    "cleaned_reviews_df.groupBy(['company', 'current_employee']).count() \\\n",
    "    .orderBy(['company', 'current_employee']).show()"
   ]
  },
  {
   "cell_type": "markdown",
   "metadata": {},
   "source": [
    "##### Spark SQL Implmentation"
   ]
  },
  {
   "cell_type": "code",
   "execution_count": 20,
   "metadata": {},
   "outputs": [
    {
     "name": "stdout",
     "output_type": "stream",
     "text": [
      "+---------+-----------------+--------+\n",
      "|  company|formerly_employed|employed|\n",
      "+---------+-----------------+--------+\n",
      "|   amazon|             3342|    6651|\n",
      "|    apple|             2377|    3352|\n",
      "| facebook|              217|     931|\n",
      "|   google|              926|    1620|\n",
      "|microsoft|             2790|    5129|\n",
      "|  netflix|              214|     230|\n",
      "+---------+-----------------+--------+\n",
      "\n"
     ]
    }
   ],
   "source": [
    "spark.sql(\"SELECT * FROM (SELECT company, current_employee FROM reviews) \\\n",
    "          PIVOT (count(*) \\\n",
    "          FOR current_employee IN (0 formerly_employed, 1 employed)) \\\n",
    "          ORDER by company\").show()"
   ]
  },
  {
   "cell_type": "code",
   "execution_count": 21,
   "metadata": {},
   "outputs": [
    {
     "name": "stdout",
     "output_type": "stream",
     "text": [
      "+---------+----------------+-----------------------+\n",
      "|  company|current_employee|count(current_employee)|\n",
      "+---------+----------------+-----------------------+\n",
      "|   amazon|               0|                   3342|\n",
      "|   amazon|               1|                   6651|\n",
      "|    apple|               0|                   2377|\n",
      "|    apple|               1|                   3352|\n",
      "| facebook|               0|                    217|\n",
      "| facebook|               1|                    931|\n",
      "|   google|               0|                    926|\n",
      "|   google|               1|                   1620|\n",
      "|microsoft|               0|                   2790|\n",
      "|microsoft|               1|                   5129|\n",
      "|  netflix|               0|                    214|\n",
      "|  netflix|               1|                    230|\n",
      "+---------+----------------+-----------------------+\n",
      "\n"
     ]
    }
   ],
   "source": [
    "spark.sql(\"SELECT company, current_employee, count(current_employee) \\\n",
    "           FROM reviews GROUP by company, current_employee \\\n",
    "           ORDER by company, current_employee\").show()"
   ]
  },
  {
   "cell_type": "markdown",
   "metadata": {},
   "source": [
    "###  (4) What is the average review scores of each current and former employees for each company?"
   ]
  },
  {
   "cell_type": "markdown",
   "metadata": {},
   "source": [
    "##### PySpark Implmentation"
   ]
  },
  {
   "cell_type": "code",
   "execution_count": 219,
   "metadata": {},
   "outputs": [
    {
     "name": "stdout",
     "output_type": "stream",
     "text": [
      "+---------+------------------------------+-------------------------------+\n",
      "|  company|former_employee_review_average|current_employee_review_average|\n",
      "+---------+------------------------------+-------------------------------+\n",
      "|microsoft|            3.5612903225806454|             3.8619613959836228|\n",
      "|   amazon|             2.981448234590066|              3.711772665764547|\n",
      "|  netflix|              2.94392523364486|              3.965217391304348|\n",
      "|    apple|             3.830037862852335|              4.077267303102626|\n",
      "| facebook|            3.9262672811059907|              4.703544575725027|\n",
      "|   google|             4.155507559395248|              4.430864197530864|\n",
      "+---------+------------------------------+-------------------------------+\n",
      "\n"
     ]
    }
   ],
   "source": [
    "cleaned_reviews_df.groupBy('company').pivot('current_employee').agg({'overall_ratings': 'avg'}) \\\n",
    "    .withColumnRenamed('0', 'former_employee_review_average') \\\n",
    "    .withColumnRenamed('1', 'current_employee_review_average').show()"
   ]
  },
  {
   "cell_type": "markdown",
   "metadata": {},
   "source": [
    "##### Spark SQL Implmentation"
   ]
  },
  {
   "cell_type": "code",
   "execution_count": 23,
   "metadata": {},
   "outputs": [
    {
     "name": "stdout",
     "output_type": "stream",
     "text": [
      "+---------+------------------------------+-------------------------------+\n",
      "|  company|former_employee_review_average|current_employee_review_average|\n",
      "+---------+------------------------------+-------------------------------+\n",
      "|microsoft|            3.5612903225806454|             3.8619613959836228|\n",
      "|   amazon|             2.981448234590066|              3.711772665764547|\n",
      "|  netflix|              2.94392523364486|              3.965217391304348|\n",
      "|    apple|             3.830037862852335|              4.077267303102626|\n",
      "| facebook|            3.9262672811059907|              4.703544575725027|\n",
      "|   google|             4.155507559395248|              4.430864197530864|\n",
      "+---------+------------------------------+-------------------------------+\n",
      "\n"
     ]
    }
   ],
   "source": [
    "spark.sql(\"SELECT * FROM (SELECT company, current_employee, overall_ratings FROM reviews) \\\n",
    "          PIVOT (avg(overall_ratings) \\\n",
    "          FOR current_employee IN (0 former_employee_review_average, 1 current_employee_review_average))\").show()"
   ]
  },
  {
   "cell_type": "code",
   "execution_count": null,
   "metadata": {},
   "outputs": [],
   "source": []
  },
  {
   "cell_type": "markdown",
   "metadata": {},
   "source": [
    "###  (5) Show the count of former Google employee reviews and the average work_balance_score ONLY for locations in Seattle, San Francisco, or Utah\n",
    "- Please show in one solution  \n",
    "- Hint:  Since you already broke out the location to city, state, country in the data wrangling phase above you can use the city and state columns in your where statement"
   ]
  },
  {
   "cell_type": "markdown",
   "metadata": {},
   "source": [
    "##### PySpark Implmentation"
   ]
  },
  {
   "cell_type": "code",
   "execution_count": 24,
   "metadata": {},
   "outputs": [
    {
     "name": "stdout",
     "output_type": "stream",
     "text": [
      "+-------------+-----+-----------+--------------------------+\n",
      "|         city|state|num_reviews|average_work_balance_score|\n",
      "+-------------+-----+-----------+--------------------------+\n",
      "|      Seattle|   WA|         19|        3.5294117647058822|\n",
      "|San Francisco|   CA|         71|         4.345588235294118|\n",
      "+-------------+-----+-----------+--------------------------+\n",
      "\n"
     ]
    }
   ],
   "source": [
    "cleaned_reviews_df.where(\n",
    "    (col('company') == \"google\")\n",
    "    & ((col('city') == \"San Francisco\") | (col('city') == \"Seattle\") | (col('state') == 'UT'))\n",
    "    & (col('current_employee') == 0)) \\\n",
    "    .groupBy(['city', 'state']) \\\n",
    "    .agg(count('company').alias('num_reviews'), avg('work_balance_stars').alias('average_work_balance_score')) \\\n",
    "    .show()"
   ]
  },
  {
   "cell_type": "markdown",
   "metadata": {},
   "source": [
    "##### Spark SQL Implmentation"
   ]
  },
  {
   "cell_type": "code",
   "execution_count": 25,
   "metadata": {},
   "outputs": [
    {
     "name": "stdout",
     "output_type": "stream",
     "text": [
      "+-------------+-----+-----------+--------------------------+\n",
      "|         city|state|num_reviews|average_work_balance_score|\n",
      "+-------------+-----+-----------+--------------------------+\n",
      "|      Seattle|   WA|         19|        3.5294117647058822|\n",
      "|San Francisco|   CA|         71|         4.345588235294118|\n",
      "+-------------+-----+-----------+--------------------------+\n",
      "\n"
     ]
    }
   ],
   "source": [
    "spark.sql(\"SELECT city, state, count(company) as num_reviews, avg(work_balance_stars) as average_work_balance_score \\\n",
    "           FROM reviews WHERE company = 'google' \\\n",
    "           AND current_employee = 0 \\\n",
    "           AND (city IN ('Seattle', 'San Francisco') OR state = 'UT') \\\n",
    "           GROUP by city, state\").show()"
   ]
  },
  {
   "cell_type": "code",
   "execution_count": null,
   "metadata": {},
   "outputs": [],
   "source": []
  },
  {
   "cell_type": "code",
   "execution_count": null,
   "metadata": {},
   "outputs": [],
   "source": []
  },
  {
   "cell_type": "markdown",
   "metadata": {},
   "source": [
    "# Data Visualization\n",
    "1. Turn your Spark dataframe into a Pandas dataframe\n",
    "    - https://pandas.pydata.org/\n",
    "2. Answer the visualization questions with any of the following libraries:\n",
    "    - Matplotlib (https://matplotlib.org/)\n",
    "    - Seaborn (https://seaborn.pydata.org/introduction.html)\n",
    "    - Bookeh (https://bokeh.pydata.org/en/latest/)"
   ]
  },
  {
   "cell_type": "code",
   "execution_count": 26,
   "metadata": {},
   "outputs": [],
   "source": [
    "import numpy as np\n",
    "import pandas as pd\n",
    "import matplotlib.pyplot as plt\n",
    "from matplotlib import style\n",
    "import seaborn as sns"
   ]
  },
  {
   "cell_type": "code",
   "execution_count": 27,
   "metadata": {},
   "outputs": [
    {
     "name": "stdout",
     "output_type": "stream",
     "text": [
      "         company  current_employee overall_ratings work_balance_stars  \\\n",
      "0         google                 1             5.0                2.0   \n",
      "1         google                 0             5.0                4.0   \n",
      "2         google                 1             5.0                5.0   \n",
      "3         google                 1             5.0                5.0   \n",
      "4         google                 1             5.0                4.0   \n",
      "5         google                 1             5.0                5.0   \n",
      "6         google                 1             5.0                3.0   \n",
      "7         google                 1             5.0                5.0   \n",
      "8         google                 1             5.0                5.0   \n",
      "9         google                 0             3.0                4.0   \n",
      "10        google                 1             4.0                5.0   \n",
      "11        google                 1             5.0                3.0   \n",
      "12        google                 1             4.0                4.0   \n",
      "13        google                 1             5.0                3.0   \n",
      "14        google                 1             5.0                4.0   \n",
      "15        google                 1             5.0                5.0   \n",
      "16        google                 1             5.0                5.0   \n",
      "17        google                 0             5.0                4.0   \n",
      "18        google                 1             3.0                2.0   \n",
      "19        google                 1             5.0                5.0   \n",
      "20        google                 0             5.0                2.0   \n",
      "21        google                 0             4.0                5.0   \n",
      "22        google                 1             5.0                5.0   \n",
      "23        google                 1             5.0                4.0   \n",
      "24        google                 1             5.0                5.0   \n",
      "25        google                 1             5.0                4.0   \n",
      "26        google                 1             4.0                5.0   \n",
      "27        google                 1             5.0                4.0   \n",
      "28        google                 1             5.0                5.0   \n",
      "29        google                 1             5.0                3.0   \n",
      "...          ...               ...             ...                ...   \n",
      "27749  microsoft                 1             5.0                4.0   \n",
      "27750  microsoft                 0             5.0                5.0   \n",
      "27751  microsoft                 1             5.0                5.0   \n",
      "27752  microsoft                 1             5.0                5.0   \n",
      "27753  microsoft                 1             5.0                5.0   \n",
      "27754  microsoft                 0             2.0                2.5   \n",
      "27755  microsoft                 1             5.0                5.0   \n",
      "27756  microsoft                 1             4.0                5.0   \n",
      "27757  microsoft                 1             5.0                5.0   \n",
      "27758  microsoft                 0             4.0                4.0   \n",
      "27759  microsoft                 1             5.0                5.0   \n",
      "27760  microsoft                 1             4.0                4.0   \n",
      "27761  microsoft                 1             4.0                4.0   \n",
      "27762  microsoft                 0             3.0                3.5   \n",
      "27763  microsoft                 0             2.0                3.5   \n",
      "27764  microsoft                 1             3.0                3.5   \n",
      "27765  microsoft                 1             4.0                4.0   \n",
      "27766  microsoft                 1             3.0                5.0   \n",
      "27767  microsoft                 1             4.0                4.5   \n",
      "27768  microsoft                 1             4.0                4.0   \n",
      "27769  microsoft                 0             2.0                4.0   \n",
      "27770  microsoft                 1             3.0                3.5   \n",
      "27771  microsoft                 1             4.0                3.0   \n",
      "27772  microsoft                 1             4.0                4.0   \n",
      "27773  microsoft                 1             2.0                1.5   \n",
      "27774  microsoft                 1             4.0                3.5   \n",
      "27775  microsoft                 1             5.0                4.5   \n",
      "27776  microsoft                 1             3.0                4.0   \n",
      "27777  microsoft                 1             5.0                4.5   \n",
      "27778  microsoft                 1             5.0                5.0   \n",
      "\n",
      "                city state country  \n",
      "0      Mountain View    CA      US  \n",
      "1      Mountain View    CA      US  \n",
      "2           New York    NY      US  \n",
      "3           New York    NY      US  \n",
      "4      Mountain View    CA      US  \n",
      "5      San Francisco    CA      US  \n",
      "6           New York    NY      US  \n",
      "7        Los Angeles    CA      US  \n",
      "8      San Francisco    CA      US  \n",
      "9      Mountain View    CA      US  \n",
      "10     Mountain View    CA      US  \n",
      "11          Dearborn    MI      US  \n",
      "12          New York    NY      US  \n",
      "13         Sunnyvale    CA      US  \n",
      "14           Seattle    WA      US  \n",
      "15          New York    NY      US  \n",
      "16         Sunnyvale    CA      US  \n",
      "17         Ann Arbor    MI      US  \n",
      "18     Mountain View    CA      US  \n",
      "19     Mountain View    CA      US  \n",
      "20          New York    NY      US  \n",
      "21     Mountain View    CA      US  \n",
      "22     Mountain View    CA      US  \n",
      "23     San Francisco    CA      US  \n",
      "24     Mountain View    CA      US  \n",
      "25        Pittsburgh    PA      US  \n",
      "26     Mountain View    CA      US  \n",
      "27     Mountain View    CA      US  \n",
      "28          New York    NY      US  \n",
      "29           Boulder    CO      US  \n",
      "...              ...   ...     ...  \n",
      "27749          Fargo    ND      US  \n",
      "27750        Redmond    WA      US  \n",
      "27751        Redmond    WA      US  \n",
      "27752        Redmond    WA      US  \n",
      "27753        Atlanta    GA      US  \n",
      "27754        Redmond    WA      US  \n",
      "27755        Redmond    WA      US  \n",
      "27756        Redmond    WA      US  \n",
      "27757        Redmond    WA      US  \n",
      "27758        Redmond    WA      US  \n",
      "27759        Redmond    WA      US  \n",
      "27760        Redmond    WA      US  \n",
      "27761        Redmond    WA      US  \n",
      "27762        Redmond    WA      US  \n",
      "27763        Redmond    WA      US  \n",
      "27764        Redmond    WA      US  \n",
      "27765        Redmond    WA      US  \n",
      "27766          Fargo    ND      US  \n",
      "27767        Redmond    WA      US  \n",
      "27768        Redmond    WA      US  \n",
      "27769       Bellevue    WA      US  \n",
      "27770        Redmond    WA      US  \n",
      "27771      Charlotte    NC      US  \n",
      "27772        Redmond    WA      US  \n",
      "27773        Waltham    MA      US  \n",
      "27774  San Francisco    CA      US  \n",
      "27775  San Francisco    CA      US  \n",
      "27776  San Francisco    CA      US  \n",
      "27777  San Francisco    CA      US  \n",
      "27778  San Francisco    CA      US  \n",
      "\n",
      "[27779 rows x 7 columns]\n"
     ]
    }
   ],
   "source": [
    "reviews_pd_df = cleaned_reviews_df.toPandas()\n",
    "print(reviews_pd_df)"
   ]
  },
  {
   "cell_type": "markdown",
   "metadata": {},
   "source": [
    "### Plot the distributions of reviews for each company (current and former employees) \n",
    "- Hint: A Seaborn factorplot will work nicely here\n",
    "    - https://kite.com/python/docs/seaborn.factorplot\n",
    "    "
   ]
  },
  {
   "cell_type": "code",
   "execution_count": 250,
   "metadata": {},
   "outputs": [
    {
     "data": {
      "image/png": "[encoded data removed]",
      "text/plain": [
       "<Figure size 458.5x360 with 1 Axes>"
      ]
     },
     "metadata": {
      "needs_background": "light"
     },
     "output_type": "display_data"
    }
   ],
   "source": [
    "\n",
    "data = reviews_pd_df.groupby(['company', 'current_employee'], as_index=False).agg('count')\n",
    "\n",
    "bar = sns.catplot(\n",
    "        x='company',\n",
    "        y='overall_ratings',\n",
    "        data=data,\n",
    "        hue='current_employee',\n",
    "        kind='bar')\n",
    "\n",
    "bar.set(\n",
    "    ylabel='Number of Reviews',\n",
    "    xlabel='Company')\n",
    "\n",
    "plt.show(bar)"
   ]
  },
  {
   "cell_type": "markdown",
   "metadata": {},
   "source": [
    "### Plot the distributions of reviews for each company (current and former employees) and their overall ratings\n",
    "- Hint: A Seaborn factorplot will work nicely here\n",
    "    - https://kite.com/python/docs/seaborn.factorplot"
   ]
  },
  {
   "cell_type": "code",
   "execution_count": 271,
   "metadata": {},
   "outputs": [
    {
     "data": {
      "image/png": "[encoded data removed]",
      "text/plain": [
       "<Figure size 458.5x360 with 2 Axes>"
      ]
     },
     "metadata": {
      "needs_background": "light"
     },
     "output_type": "display_data"
    },
    {
     "data": {
      "image/png": "[encoded data removed]",
      "text/plain": [
       "<Figure size 458.5x360 with 1 Axes>"
      ]
     },
     "metadata": {
      "needs_background": "light"
     },
     "output_type": "display_data"
    }
   ],
   "source": [
    "data = cleaned_reviews_df.groupBy(['company', 'current_employee']).agg({'overall_ratings': 'avg', 'work_balance_stars': 'count'}) \\\n",
    "    .orderBy(['company', 'current_employee'])\\\n",
    "    .withColumnRenamed('count(work_balance_stars)', 'num_reviews')\\\n",
    "    .withColumnRenamed('avg(overall_ratings)', 'average_rating').toPandas()\n",
    "\n",
    "ax = sns.catplot(\n",
    "        x='company',\n",
    "        y='num_reviews',\n",
    "        hue='current_employee',\n",
    "        data=data,\n",
    "        kind='bar',\n",
    "        color='b'\n",
    "    )\n",
    "\n",
    "ax2 = plt.twinx()\n",
    "sns.catplot(\n",
    "        x='company',\n",
    "        y='average_rating',\n",
    "        hue='current_employee',\n",
    "        data=data,\n",
    "        ax=ax2)\n",
    "\n",
    "plt.show()\n"
   ]
  },
  {
   "cell_type": "code",
   "execution_count": null,
   "metadata": {},
   "outputs": [],
   "source": []
  },
  {
   "cell_type": "code",
   "execution_count": null,
   "metadata": {},
   "outputs": [],
   "source": []
  },
  {
   "cell_type": "markdown",
   "metadata": {},
   "source": [
    "# Lessons Learned\n",
    "- Please feel free to let us know anything you want in this section about the test, what you learned, liked, didn't like, etc"
   ]
  },
  {
   "cell_type": "markdown",
   "metadata": {},
   "source": [
    "- This took me quite a while. I haven't touched spark every and haven't looked at pandas in several years. I would have liked to spend more time on the plotting features. Overall, the last plot conveys the information but it is sloppy. For whatever reason I could not get matplotlib to rename the legend values without dropping the colors.\n",
    "\n",
    "- I learned a ton and ultimately this has been the most enjoyable interview evaluation I have done in a very long time."
   ]
  },
  {
   "cell_type": "code",
   "execution_count": null,
   "metadata": {},
   "outputs": [],
   "source": []
  }
 ],
 "metadata": {
  "kernelspec": {
   "display_name": "Python 3",
   "language": "python",
   "name": "python3"
  },
  "language_info": {
   "codemirror_mode": {
    "name": "ipython",
    "version": 3
   },
   "file_extension": ".py",
   "mimetype": "text/x-python",
   "name": "python",
   "nbconvert_exporter": "python",
   "pygments_lexer": "ipython3",
   "version": "3.6.4"
  }
 },
 "nbformat": 4,
 "nbformat_minor": 2
}
