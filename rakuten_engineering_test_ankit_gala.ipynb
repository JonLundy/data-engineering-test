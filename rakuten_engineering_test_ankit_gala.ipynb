{
 "cells": [
  {
   "cell_type": "markdown",
   "metadata": {},
   "source": [
    "# Rakuten USA - Data Engineering Test\n",
    "\n",
    "### Goal\n",
    "The goal of this test is not ment to be exhaustive, but we do want to test your skills in analytical thinking, SQL, data wrangling, data analysis, and data visualization. \n",
    "\n",
    "**Please remember:** The better that you do on this assignment, the less questions we will have during your on-site interviews. :)\n",
    "\n",
    "### Expectations\n",
    "You can expect this test to use the following technologies:\n",
    "- Python3\n",
    "- Jupyter Notebook\n",
    "- PySpark\n",
    "- PySpark SQL\n",
    "\n",
    "This test will cover the following areas: \n",
    "- Data Cleaning/Wrangling\n",
    "- Exploratory Data Analysis (EDA)\n",
    "- Data Visualization\n",
    "\n",
    "This test should take you no more than 2-4 hours.\n",
    "\n",
    "### What to turn in, and where to send your test\n",
    "Please email stirling.waite@rakuten with your finished notebook\n",
    "- rakuten_engineer_test.ipynb\n",
    " \n",
    "### Questions?\n",
    "Feel free to email me or call me with any questions about this test\n",
    "- Email: stirling.waite@rakuten.com\n",
    "- Phone: 801-856-1426\n",
    "- LinkedIn Chat: https://www.linkedin.com/in/stirlingwaite/\n",
    "- Gchat: stirlingw@gmail.com"
   ]
  },
  {
   "cell_type": "markdown",
   "metadata": {},
   "source": [
    "# About The Dataset\n",
    "\n",
    "Below you will find a modified free Kaggle competition dataset from https://www.kaggle.com/mayank811/employee-reviews/data using scraped data from Glassdoor.com.\n",
    "\n",
    "## Context\n",
    "- Over 67k employee reviews for Google, Amazon, Facebook, Apple, Microsoft, and Netflix.\n",
    "- Web scraped from Glassdoor\n",
    "\n",
    "## Content\n",
    "This dataset contains employee reviews separated into the following categories:\n",
    "\n",
    "- **Index:** index\n",
    "- **Company:** Company name\n",
    "- **Location:** This dataset is global, as such it may include the country's name in parenthesis [i.e \"Toronto, ON(Canada)\"]. However, if the location is in the USA then it will only include the city and state[i.e \"Los Angeles, CA\" ]\n",
    "- **Date Posted:** in the following format MM DD, YYYY\n",
    "- **Job-Title:** This string will also include whether the reviewer is a 'Current' or 'Former' Employee at the time of the review\n",
    "- **Summary:** Short summary of employee review\n",
    "- **Pros:** Pros\n",
    "- **Cons:** Cons\n",
    "- **Overall Rating:** 1-5\n",
    "- **Work/Life Balance Rating:** 1-5\n",
    "- **Culture and Values Rating:** 1-5\n",
    "- **Career Opportunities Rating:** 1-5\n",
    "- **Comp & Benefits Rating:** 1-5\n",
    "- **Senior Management Rating:** 1-5\n",
    "- **Helpful Review Count:** 1-5\n",
    "\n",
    "**Link to Review:** This will provide you with a direct link to the page that contains the review. However it is likely that this link will be outdated\n",
    "\n",
    "**NOTE:** 'none' is placed in all cells where no data value was found.\n",
    "\n"
   ]
  },
  {
   "cell_type": "markdown",
   "metadata": {},
   "source": [
    "# PySpark Initialization"
   ]
  },
  {
   "cell_type": "code",
   "execution_count": 1,
   "metadata": {},
   "outputs": [],
   "source": [
    "\n",
    "import findspark\n",
    "findspark.init()\n",
    "import re\n",
    "import pyspark\n",
    "from pyspark import SparkConf, SparkContext, SQLContext\n",
    "from pyspark.sql import SparkSession, Row\n",
    "from pyspark.sql.functions import *\n",
    "from pyspark.sql import functions as fn\n",
    "from pyspark.sql import types as t\n",
    "from pyspark.sql.types import *\n",
    "from datetime import datetime"
   ]
  },
  {
   "cell_type": "code",
   "execution_count": 2,
   "metadata": {},
   "outputs": [],
   "source": [
    "conf = SparkConf()\\\n",
    "                .setMaster(\"local[*]\")\\\n",
    "                .setAppName(\"rakutenHomework\")\n",
    "        \n",
    "sc = SparkContext(conf=conf)\n",
    "sc.setLogLevel(\"ERROR\")\n",
    "sqlContext = SQLContext(sc)\n",
    "spark = SparkSession.builder.appName(\"spark play\").getOrCreate()"
   ]
  },
  {
   "cell_type": "markdown",
   "metadata": {},
   "source": [
    "## Read Dataset into Spark"
   ]
  },
  {
   "cell_type": "code",
   "execution_count": 3,
   "metadata": {},
   "outputs": [
    {
     "name": "stdout",
     "output_type": "stream",
     "text": [
      "28357\n",
      "+---+-------+-----------------+-------------+--------------------+--------------------+--------------------+--------------------+--------------------+---------------+------------------+--------------------+--------------------------+------------------+----------------------+-------------+--------------------+\n",
      "|_c0|company|         location|        dates|           job_title|             summary|                pros|                cons|      advice_to_mgmt|overall_ratings|work_balance_stars|culture_values_stars|carrer_opportunities_stars|comp_benefit_stars|senior_mangemnet_stars|helpful_count|                link|\n",
      "+---+-------+-----------------+-------------+--------------------+--------------------+--------------------+--------------------+--------------------+---------------+------------------+--------------------+--------------------------+------------------+----------------------+-------------+--------------------+\n",
      "|  0| google|Mountain View, CA|  Feb 8, 2015|Current Employee ...|The best place I'...|You can't find a ...|I live in SF so t...|Keep on NOT micro...|            5.0|               2.0|                 5.0|                       5.0|               4.0|                   5.0|          498|https://www.glass...|\n",
      "|  1| google|Mountain View, CA|  Dec 9, 2018|Former Employee -...|NICE working in G...|People are not th...|Food is not good ...|                none|            5.0|               4.0|                 4.0|                       4.0|               5.0|                   4.0|            1|https://www.glass...|\n",
      "|  2| google|     New York, NY| Dec 11, 2018|Current Employee ...|   Software engineer|Great working env...|Usual big company...|                none|            5.0|               5.0|                 4.0|                       4.0|               5.0|                   4.0|            0|https://www.glass...|\n",
      "|  3| google|     New York, NY| Dec 10, 2018|Current Employee ...|Google Surpasses ...|Great products. V...|Younger employees...|                none|            5.0|               5.0|                 5.0|                       5.0|               5.0|                   5.0|            0|https://www.glass...|\n",
      "|  4| google|Mountain View, CA|  Dec 8, 2018|Current Employee ...|  Nice place to work|* Smart people * ...|Giant company wit...|                none|            5.0|               4.0|                 5.0|                       4.0|               4.0|                   3.0|            0|https://www.glass...|\n",
      "|  5| google|San Francisco, CA|  Dec 3, 2018|Current Employee ...|Still the best pl...|Amazing company. ...|Size, which limit...|                none|            5.0|               5.0|                 5.0|                       5.0|               4.0|                   4.0|            1|https://www.glass...|\n",
      "|  6| google|     New York, NY| Nov 26, 2018|Current Employee ...|Great, but great ...|Great team and su...|Lots of bureaucra...|                none|            5.0|               3.0|                 4.0|                       3.0|               4.0|                   5.0|            2|https://www.glass...|\n",
      "|  7| google|  Los Angeles, CA| Nov 29, 2018|Current Employee ...|          Accountant|I like and learne...|High clerical wor...|Management and Fi...|            5.0|               5.0|                 5.0|                       5.0|               5.0|                   5.0|            0|https://www.glass...|\n",
      "|  8| google|San Francisco, CA| Nov 17, 2018|Current Employee ...|Not perfect, but ...|- A company cultu...|- A company with ...|- Just because a ...|            5.0|               5.0|                 5.0|                       5.0|               5.0|                   5.0|            3|https://www.glass...|\n",
      "|  9| google|Mountain View, CA|  Dec 9, 2018|Former Employee -...|     Senior Director|So many brilliant...|Becoming highly b...|                none|            3.0|               4.0|                 5.0|                       5.0|               5.0|                   5.0|            0|https://www.glass...|\n",
      "| 10| google|Mountain View, CA|  Dec 8, 2018|Current Employee ...|Google is still t...|Great place to wo...|Large company iss...|                none|            4.0|               5.0|                 5.0|                       4.0|               4.0|                   4.0|            0|https://www.glass...|\n",
      "| 11| google|     Dearborn, MI| Nov 20, 2018|Current Employee ...|              Google|Google is one of ...|You have to work ...|                none|            5.0|               3.0|                 4.0|                       4.0|               5.0|                   4.0|            1|https://www.glass...|\n",
      "| 12| google|     New York, NY|  Dec 6, 2018|Current Employee ...|   Good compensation|Better than avera...|Big and beurocrat...|                none|            4.0|               4.0|                 3.0|                       3.0|               4.0|                   3.0|            0|https://www.glass...|\n",
      "| 13| google|    Sunnyvale, CA| Nov 21, 2018|Current Employee ...|    Best of the best|The best company ...|Set hours for bre...|                none|            5.0|               3.0|                 5.0|                       5.0|               5.0|                   4.0|            0|https://www.glass...|\n",
      "| 14| google|      Seattle, WA| Nov 13, 2018|Current Employee ...|        Hard to beat|Amazing compensat...|Growing pains as ...|                none|            5.0|               4.0|                 4.0|                       5.0|               5.0|                   3.0|            2|https://www.glass...|\n",
      "| 15| google|     New York, NY| Nov 19, 2018|Current Employee ...| Great place to work|Ambitious mission...|Everyone is eager...|                none|            5.0|               5.0|                 3.0|                       5.0|               4.0|                   5.0|            0|https://www.glass...|\n",
      "| 16| google|    Sunnyvale, CA| Nov 19, 2018|Current Employee ...|Positive Experiences|Good opportunitie...|Difficult to adva...|                none|            5.0|               5.0|                 5.0|                       4.0|               4.0|                   4.0|            0|https://www.glass...|\n",
      "| 17| google|    Ann Arbor, MI| Nov 19, 2018|Former Employee -...|Make sure you kno...|Employees, food, ...|Company has becom...|Stop putting peop...|            5.0|               4.0|                 4.0|                       5.0|               5.0|                   2.0|            0|https://www.glass...|\n",
      "| 18| google|Mountain View, CA| Nov 16, 2018|Current Employee ...|                 meh|Pays really well ...|Google wants 60-h...|Add ethics to the...|            3.0|               2.0|                 1.0|                       2.0|               5.0|                   2.0|            8|https://www.glass...|\n",
      "| 19| google|Mountain View, CA|  Nov 9, 2018|Current Employee ...| Best Job I Ever Had|Amazing and talen...|All the perks mak...|                none|            5.0|               5.0|                 5.0|                       5.0|               5.0|                   5.0|            1|https://www.glass...|\n",
      "+---+-------+-----------------+-------------+--------------------+--------------------+--------------------+--------------------+--------------------+---------------+------------------+--------------------+--------------------------+------------------+----------------------+-------------+--------------------+\n",
      "only showing top 20 rows\n",
      "\n"
     ]
    }
   ],
   "source": [
    "reviews_df = spark.read.csv(\"employee_reviews_usa.csv\", header=True, mode=\"DROPMALFORMED\", inferSchema='true', encoding=\"utf-8\")\n",
    "print(reviews_df.count())\n",
    "reviews_df.show()"
   ]
  },
  {
   "cell_type": "markdown",
   "metadata": {},
   "source": [
    "# Data Cleaning & Removing Un-Needed Columns\n",
    "\n",
    "No one likes dirty data.  Let's clean up this dataset to make it more usable for our use case.\n",
    "\n",
    " \n",
    "1. Make the date field more data friendly\n",
    "    - Hint #1: Use the provided `review_date_udf` udf provided (it will make your life more simple) \n",
    "2. Using the \"location\" column \n",
    "    - Add new columns for city, state, country columns\n",
    "        - Hint #1: Concider using `fn.split()` to split `location` for columns `city` `state` \n",
    "        - Hint #2: I've narrowed down the country to just US, so please use something like below to create the `country` column\n",
    "            - ```lit(\"US\").alias(\"country\")```\n",
    "3. Using the \"job-title\" column  \n",
    "    - Add a new boolean column titled \"current_employee\" that will show:\n",
    "        - 1,  if reviewer is a current employee\n",
    "        - 0,  if reviewer is not a current employee\n",
    "        - Hint:  Use spark function `fn.when()` and `col(\"job-title\").contains(\"\")`\n",
    "    - Remove \"Former Employee - \" and \"\" from the \"job-title\" column\n",
    "        - Hint: Use the udf function `reg_job_title_udf`\n",
    "4. Drop un-needed columns \n",
    "    - \"_c0\", \"link\", \"pros\", \"cons\", \"advice-to-mgmt\", \"summary\", \"location\""
   ]
  },
  {
   "cell_type": "markdown",
   "metadata": {},
   "source": [
    "##### Useful UDF functions needed for below"
   ]
  },
  {
   "cell_type": "code",
   "execution_count": 4,
   "metadata": {},
   "outputs": [],
   "source": [
    "review_date_udf = fn.udf(\n",
    "    lambda x: datetime.strptime(x, ' %b %d, %Y'), DateType()\n",
    ")"
   ]
  },
  {
   "cell_type": "code",
   "execution_count": 5,
   "metadata": {},
   "outputs": [],
   "source": [
    "def reg_job_title(column):\n",
    "    res_split=[]\n",
    "    reg_patterns=[\"Former Employee - / \", \"Current Employee - / \"]\n",
    "    for i in range(len(reg_patterns)):\n",
    "        res_split=re.findall(r\"[^/]+\",reg_patterns[i])\n",
    "        for x in res_split[0].split(\"|\"):\n",
    "            column = column.replace(x,res_split[1])\n",
    "    return column[1:]\n",
    "\n",
    "reg_job_title_udf = fn.udf(reg_job_title, t.StringType())"
   ]
  },
  {
   "cell_type": "markdown",
   "metadata": {},
   "source": [
    "# Cleaned Spark Dataframe\n",
    "\n",
    "- I've included the starting of dataframe, but in the `select` you will want to add the fixes and columns needed to answer the questions below\n"
   ]
  },
  {
   "cell_type": "code",
   "execution_count": 6,
   "metadata": {},
   "outputs": [
    {
     "name": "stdout",
     "output_type": "stream",
     "text": [
      "+-------+-------------+-----+-------+-----------+--------------------+----------------+---------------+------------------+--------------------+--------------------------+------------------+----------------------+-------------+\n",
      "|company|         city|state|country|review_date|           job_title|current_employee|overall_ratings|work_balance_stars|culture_values_stars|carrer_opportunities_stars|comp_benefit_stars|senior_mangemnet_stars|helpful_count|\n",
      "+-------+-------------+-----+-------+-----------+--------------------+----------------+---------------+------------------+--------------------+--------------------------+------------------+----------------------+-------------+\n",
      "| google|Mountain View|   CA|     US| 2015-02-08|  Anonymous Employee|               1|            5.0|               2.0|                 5.0|                       5.0|               4.0|                   5.0|          498|\n",
      "| google|Mountain View|   CA|     US| 2018-12-09|                SDE2|               0|            5.0|               4.0|                 4.0|                       4.0|               5.0|                   4.0|            1|\n",
      "| google|     New York|   NY|     US| 2018-12-11|   Software Engineer|               1|            5.0|               5.0|                 4.0|                       4.0|               5.0|                   4.0|            0|\n",
      "| google|     New York|   NY|     US| 2018-12-10|  Anonymous Employee|               1|            5.0|               5.0|                 5.0|                       5.0|               5.0|                   5.0|            0|\n",
      "| google|Mountain View|   CA|     US| 2018-12-08|  Anonymous Employee|               1|            5.0|               4.0|                 5.0|                       4.0|               4.0|                   3.0|            0|\n",
      "| google|San Francisco|   CA|     US| 2018-12-03|Sales Operations ...|               1|            5.0|               5.0|                 5.0|                       5.0|               4.0|                   4.0|            1|\n",
      "| google|     New York|   NY|     US| 2018-11-26|            Designer|               1|            5.0|               3.0|                 4.0|                       3.0|               4.0|                   5.0|            2|\n",
      "| google|  Los Angeles|   CA|     US| 2018-11-29|    Staff Accountant|               1|            5.0|               5.0|                 5.0|                       5.0|               5.0|                   5.0|            0|\n",
      "| google|San Francisco|   CA|     US| 2018-11-17|   Program Manager I|               1|            5.0|               5.0|                 5.0|                       5.0|               5.0|                   5.0|            3|\n",
      "| google|Mountain View|   CA|     US| 2018-12-09|     Senior Director|               0|            3.0|               4.0|                 5.0|                       5.0|               5.0|                   5.0|            0|\n",
      "| google|Mountain View|   CA|     US| 2018-12-08|Software Engineer...|               1|            4.0|               5.0|                 5.0|                       4.0|               4.0|                   4.0|            0|\n",
      "| google|     Dearborn|   MI|     US| 2018-11-20|   Google Specialist|               1|            5.0|               3.0|                 4.0|                       4.0|               5.0|                   4.0|            1|\n",
      "| google|     New York|   NY|     US| 2018-12-06|  Anonymous Employee|               1|            4.0|               4.0|                 3.0|                       3.0|               4.0|                   3.0|            0|\n",
      "| google|    Sunnyvale|   CA|     US| 2018-11-21|  Anonymous Employee|               1|            5.0|               3.0|                 5.0|                       5.0|               5.0|                   4.0|            0|\n",
      "| google|      Seattle|   WA|     US| 2018-11-13|Staff Software En...|               1|            5.0|               4.0|                 4.0|                       5.0|               5.0|                   3.0|            2|\n",
      "| google|     New York|   NY|     US| 2018-11-19|     Program Manager|               1|            5.0|               5.0|                 3.0|                       5.0|               4.0|                   5.0|            0|\n",
      "| google|    Sunnyvale|   CA|     US| 2018-11-19|   Software Engineer|               1|            5.0|               5.0|                 5.0|                       4.0|               4.0|                   4.0|            0|\n",
      "| google|    Ann Arbor|   MI|     US| 2018-11-19|Associate Account...|               0|            5.0|               4.0|                 4.0|                       5.0|               5.0|                   2.0|            0|\n",
      "| google|Mountain View|   CA|     US| 2018-11-16|  Anonymous Employee|               1|            3.0|               2.0|                 1.0|                       2.0|               5.0|                   2.0|            8|\n",
      "| google|Mountain View|   CA|     US| 2018-11-09|   Software Engineer|               1|            5.0|               5.0|                 5.0|                       5.0|               5.0|                   5.0|            1|\n",
      "+-------+-------------+-----+-------+-----------+--------------------+----------------+---------------+------------------+--------------------+--------------------------+------------------+----------------------+-------------+\n",
      "only showing top 20 rows\n",
      "\n"
     ]
    }
   ],
   "source": [
    "cleaned_reviews_df = reviews_df.where((col(\"dates\") != 'None') & (col(\"dates\") != ' Jan 0, 0000') & (col(\"dates\") != ' Nov 0, 0000') & (~col(\"location\").contains(\"(\")) & (col(\"location\") != \"none\")) \\\n",
    "                            .withColumn(\"city\", fn.split(col(\"location\"), \",\").getItem(0)) \\\n",
    "                            .withColumn(\"state\", trim(fn.split(col(\"location\"), \",\").getItem(1))) \\\n",
    "                            .withColumn(\"country\",lit(\"US\"))\\\n",
    "                            .select(\"company\",\"city\",\"state\",\"country\",review_date_udf('dates').alias('review_date'),reg_job_title_udf('job_title').alias('job_title'),fn.when(col(\"job_title\").contains(\"Current\"),1).otherwise(0).alias(\"current_employee\"),col(\"overall_ratings\").cast(FloatType()),\"work_balance_stars\",\"culture_values_stars\",\"carrer_opportunities_stars\",\"comp_benefit_stars\",\"senior_mangemnet_stars\",\"helpful_count\")\n",
    "\n",
    "#cleaned_reviews_df.dtypes                            \n",
    "cleaned_reviews_df.show()"
   ]
  },
  {
   "cell_type": "markdown",
   "metadata": {},
   "source": [
    "# Data Questions\n",
    "\n",
    "Each question below will have two parts.   Please solve each problem in PySpark and PySpark SQL.  This is to test your ability to solve the problem in PySpark, and to test your ability to solve the problem in SQL.\n",
    "\n",
    "- PySpark API (https://spark.apache.org/docs/latest/api/python/index.html)\n",
    "- PySpark SQL API (https://spark.apache.org/docs/latest/api/python/pyspark.sql.html)"
   ]
  },
  {
   "cell_type": "code",
   "execution_count": 7,
   "metadata": {},
   "outputs": [],
   "source": [
    "cleaned_reviews_df.createOrReplaceTempView(\"reviews\")"
   ]
  },
  {
   "cell_type": "markdown",
   "metadata": {},
   "source": [
    "### (1) What is the total number of reviews in the data set?"
   ]
  },
  {
   "cell_type": "markdown",
   "metadata": {},
   "source": [
    "##### PySpark Implmentation"
   ]
  },
  {
   "cell_type": "code",
   "execution_count": 8,
   "metadata": {},
   "outputs": [
    {
     "data": {
      "text/plain": [
       "28357"
      ]
     },
     "execution_count": 8,
     "metadata": {},
     "output_type": "execute_result"
    }
   ],
   "source": [
    "cleaned_reviews_df.count()"
   ]
  },
  {
   "cell_type": "markdown",
   "metadata": {},
   "source": [
    "##### Spark SQL Implmentation"
   ]
  },
  {
   "cell_type": "code",
   "execution_count": 9,
   "metadata": {},
   "outputs": [
    {
     "name": "stdout",
     "output_type": "stream",
     "text": [
      "+------------+\n",
      "|review_count|\n",
      "+------------+\n",
      "|       28357|\n",
      "+------------+\n",
      "\n"
     ]
    }
   ],
   "source": [
    "spark.sql(\"SELECT count(*) as review_count from reviews\").show()"
   ]
  },
  {
   "cell_type": "markdown",
   "metadata": {},
   "source": [
    "###  (2) How many reviews exist in the dataset per each company?"
   ]
  },
  {
   "cell_type": "markdown",
   "metadata": {},
   "source": [
    "##### PySpark Implmentation"
   ]
  },
  {
   "cell_type": "code",
   "execution_count": 10,
   "metadata": {},
   "outputs": [
    {
     "name": "stdout",
     "output_type": "stream",
     "text": [
      "+---------+-----+\n",
      "|  company|count|\n",
      "+---------+-----+\n",
      "|microsoft| 8114|\n",
      "|   amazon|10164|\n",
      "|  netflix|  458|\n",
      "|    apple| 5853|\n",
      "| facebook| 1167|\n",
      "|   google| 2601|\n",
      "+---------+-----+\n",
      "\n"
     ]
    }
   ],
   "source": [
    "cleaned_reviews_df.groupBy('company').count().show()"
   ]
  },
  {
   "cell_type": "markdown",
   "metadata": {},
   "source": [
    "##### Spark SQL Implmentation"
   ]
  },
  {
   "cell_type": "code",
   "execution_count": 11,
   "metadata": {},
   "outputs": [
    {
     "name": "stdout",
     "output_type": "stream",
     "text": [
      "+---------+---------------------+\n",
      "|  company|company_reviews_count|\n",
      "+---------+---------------------+\n",
      "|microsoft|                 8114|\n",
      "|   amazon|                10164|\n",
      "|  netflix|                  458|\n",
      "|    apple|                 5853|\n",
      "| facebook|                 1167|\n",
      "|   google|                 2601|\n",
      "+---------+---------------------+\n",
      "\n"
     ]
    }
   ],
   "source": [
    "spark.sql(\"SELECT company, count(*) as company_reviews_count from reviews group by company\").show()"
   ]
  },
  {
   "cell_type": "markdown",
   "metadata": {},
   "source": [
    "###  (3) How many reviews are from former and current employees per each company?"
   ]
  },
  {
   "cell_type": "markdown",
   "metadata": {},
   "source": [
    "##### PySpark Implmentation"
   ]
  },
  {
   "cell_type": "code",
   "execution_count": 12,
   "metadata": {},
   "outputs": [
    {
     "name": "stdout",
     "output_type": "stream",
     "text": [
      "+---------+----------------+-----+\n",
      "|  company|current_employee|count|\n",
      "+---------+----------------+-----+\n",
      "|   amazon|               0| 3410|\n",
      "|   amazon|               1| 6754|\n",
      "|    apple|               0| 2445|\n",
      "|    apple|               1| 3408|\n",
      "| facebook|               0|  222|\n",
      "| facebook|               1|  945|\n",
      "|   google|               0|  946|\n",
      "|   google|               1| 1655|\n",
      "|microsoft|               0| 2865|\n",
      "|microsoft|               1| 5249|\n",
      "|  netflix|               0|  223|\n",
      "|  netflix|               1|  235|\n",
      "+---------+----------------+-----+\n",
      "\n"
     ]
    }
   ],
   "source": [
    "cleaned_reviews_df.groupBy('company','current_employee').count().orderBy('company','current_employee').show()"
   ]
  },
  {
   "cell_type": "markdown",
   "metadata": {},
   "source": [
    "##### Spark SQL Implmentation"
   ]
  },
  {
   "cell_type": "code",
   "execution_count": 13,
   "metadata": {},
   "outputs": [
    {
     "name": "stdout",
     "output_type": "stream",
     "text": [
      "+---------+----------------+-------------------------------+\n",
      "|  company|current_employee|company_reviews_employees_count|\n",
      "+---------+----------------+-------------------------------+\n",
      "|   amazon|               0|                           3410|\n",
      "|   amazon|               1|                           6754|\n",
      "|    apple|               0|                           2445|\n",
      "|    apple|               1|                           3408|\n",
      "| facebook|               0|                            222|\n",
      "| facebook|               1|                            945|\n",
      "|   google|               0|                            946|\n",
      "|   google|               1|                           1655|\n",
      "|microsoft|               0|                           2865|\n",
      "|microsoft|               1|                           5249|\n",
      "|  netflix|               0|                            223|\n",
      "|  netflix|               1|                            235|\n",
      "+---------+----------------+-------------------------------+\n",
      "\n"
     ]
    }
   ],
   "source": [
    "spark.sql(\"SELECT company,current_employee, count(*) as company_reviews_employees_count from reviews group by company,current_employee order by company,current_employee\").show()"
   ]
  },
  {
   "cell_type": "markdown",
   "metadata": {},
   "source": [
    "###  (4) What is the average review scores of each current and former employees for each company?"
   ]
  },
  {
   "cell_type": "markdown",
   "metadata": {},
   "source": [
    "##### PySpark Implmentation"
   ]
  },
  {
   "cell_type": "code",
   "execution_count": 14,
   "metadata": {},
   "outputs": [
    {
     "name": "stdout",
     "output_type": "stream",
     "text": [
      "+---------+----------------+---------------------------------------------------------------------+\n",
      "|  company|current_employee|round(avg(overall_ratings) AS `company_reviews_employees_average`, 2)|\n",
      "+---------+----------------+---------------------------------------------------------------------+\n",
      "|   amazon|               0|                                                                 2.98|\n",
      "|   amazon|               1|                                                                 3.71|\n",
      "|    apple|               0|                                                                 3.83|\n",
      "|    apple|               1|                                                                 4.08|\n",
      "| facebook|               0|                                                                 3.93|\n",
      "| facebook|               1|                                                                  4.7|\n",
      "|   google|               0|                                                                 4.16|\n",
      "|   google|               1|                                                                 4.43|\n",
      "|microsoft|               0|                                                                 3.56|\n",
      "|microsoft|               1|                                                                 3.86|\n",
      "|  netflix|               0|                                                                 2.94|\n",
      "|  netflix|               1|                                                                 3.97|\n",
      "+---------+----------------+---------------------------------------------------------------------+\n",
      "\n"
     ]
    }
   ],
   "source": [
    "cleaned_reviews_df.groupBy('company','current_employee').agg(round(mean(\"overall_ratings\").alias(\"company_reviews_employees_average\"),2)).orderBy('company','current_employee').show()"
   ]
  },
  {
   "cell_type": "markdown",
   "metadata": {},
   "source": [
    "##### Spark SQL Implmentation"
   ]
  },
  {
   "cell_type": "code",
   "execution_count": 15,
   "metadata": {},
   "outputs": [
    {
     "name": "stdout",
     "output_type": "stream",
     "text": [
      "+---------+----------------+---------------------------------+\n",
      "|  company|current_employee|company_reviews_employees_average|\n",
      "+---------+----------------+---------------------------------+\n",
      "|   amazon|               0|                             2.98|\n",
      "|   amazon|               1|                             3.71|\n",
      "|    apple|               0|                             3.83|\n",
      "|    apple|               1|                             4.08|\n",
      "| facebook|               0|                             3.93|\n",
      "| facebook|               1|                              4.7|\n",
      "|   google|               0|                             4.16|\n",
      "|   google|               1|                             4.43|\n",
      "|microsoft|               0|                             3.56|\n",
      "|microsoft|               1|                             3.86|\n",
      "|  netflix|               0|                             2.94|\n",
      "|  netflix|               1|                             3.97|\n",
      "+---------+----------------+---------------------------------+\n",
      "\n"
     ]
    }
   ],
   "source": [
    "spark.sql(\"SELECT company,current_employee, round(avg(overall_ratings),2) as company_reviews_employees_average from reviews group by company,current_employee order by company,current_employee\").show()"
   ]
  },
  {
   "cell_type": "markdown",
   "metadata": {},
   "source": [
    "###  (5) Show the count of former Google employee reviews and the average work_balance_score ONLY for locations in Seattle, San Francisco, or Utah\n",
    "- Please show in one solution  \n",
    "- Hint:  Since you already broke out the location to city, state, country in the data wrangling phase above you can use the city and state columns in your where statement"
   ]
  },
  {
   "cell_type": "markdown",
   "metadata": {},
   "source": [
    "##### PySpark Implmentation"
   ]
  },
  {
   "cell_type": "code",
   "execution_count": 16,
   "metadata": {},
   "outputs": [
    {
     "name": "stdout",
     "output_type": "stream",
     "text": [
      "+-------------------------------+--------------------------+\n",
      "|company_reviews_employees_count|average_work_balance_score|\n",
      "+-------------------------------+--------------------------+\n",
      "|                             91|         4.189655172413793|\n",
      "+-------------------------------+--------------------------+\n",
      "\n"
     ]
    }
   ],
   "source": [
    "cleaned_reviews_df.filter(((col(\"state\") == 'UT') | (col(\"city\") == 'San Francisco') | (col(\"city\") == 'Seattle')))\\\n",
    "                  .filter((col(\"current_employee\") == 0) & (col(\"company\") == 'google')) \\\n",
    "                  .agg({\"overall_ratings\":\"count\",\"work_balance_stars\":\"mean\"})\\\n",
    "                  .withColumnRenamed(\"count(overall_ratings)\",\"company_reviews_employees_count\")\\\n",
    "                  .withColumnRenamed(\"avg(work_balance_stars)\",\"average_work_balance_score\").show()"
   ]
  },
  {
   "cell_type": "markdown",
   "metadata": {},
   "source": [
    "##### Spark SQL Implmentation"
   ]
  },
  {
   "cell_type": "code",
   "execution_count": 17,
   "metadata": {},
   "outputs": [
    {
     "name": "stdout",
     "output_type": "stream",
     "text": [
      "+-------------------------------+--------------------------+\n",
      "|company_reviews_employees_count|average_work_balance_score|\n",
      "+-------------------------------+--------------------------+\n",
      "|                             92|                      4.19|\n",
      "+-------------------------------+--------------------------+\n",
      "\n"
     ]
    }
   ],
   "source": [
    "spark.sql(\"SELECT count(*) as company_reviews_employees_count, round(avg(work_balance_stars),2) as average_work_balance_score from reviews where current_employee = 0 and company = 'google' and (city in ('Seattle','San Francisco') OR state = 'UT')\").show()\n"
   ]
  },
  {
   "cell_type": "markdown",
   "metadata": {},
   "source": [
    "# Data Visualization\n",
    "1. Turn your Spark dataframe into a Pandas dataframe\n",
    "    - https://pandas.pydata.org/\n",
    "2. Answer the visualization questions with any of the following libraries:\n",
    "    - Matplotlib (https://matplotlib.org/)\n",
    "    - Seaborn (https://seaborn.pydata.org/introduction.html)\n",
    "    - Bookeh (https://bokeh.pydata.org/en/latest/)"
   ]
  },
  {
   "cell_type": "code",
   "execution_count": 18,
   "metadata": {},
   "outputs": [],
   "source": [
    "import numpy as np\n",
    "import pandas as pd\n",
    "import matplotlib.pyplot as plt\n",
    "from matplotlib import style\n",
    "import seaborn as sns\n",
    "%matplotlib inline\n"
   ]
  },
  {
   "cell_type": "code",
   "execution_count": 19,
   "metadata": {},
   "outputs": [
    {
     "name": "stdout",
     "output_type": "stream",
     "text": [
      "         company           city state country review_date  \\\n",
      "0         google  Mountain View    CA      US  2015-02-08   \n",
      "1         google  Mountain View    CA      US  2018-12-09   \n",
      "2         google       New York    NY      US  2018-12-11   \n",
      "3         google       New York    NY      US  2018-12-10   \n",
      "4         google  Mountain View    CA      US  2018-12-08   \n",
      "5         google  San Francisco    CA      US  2018-12-03   \n",
      "6         google       New York    NY      US  2018-11-26   \n",
      "7         google    Los Angeles    CA      US  2018-11-29   \n",
      "8         google  San Francisco    CA      US  2018-11-17   \n",
      "9         google  Mountain View    CA      US  2018-12-09   \n",
      "10        google  Mountain View    CA      US  2018-12-08   \n",
      "11        google       Dearborn    MI      US  2018-11-20   \n",
      "12        google       New York    NY      US  2018-12-06   \n",
      "13        google      Sunnyvale    CA      US  2018-11-21   \n",
      "14        google        Seattle    WA      US  2018-11-13   \n",
      "15        google       New York    NY      US  2018-11-19   \n",
      "16        google      Sunnyvale    CA      US  2018-11-19   \n",
      "17        google      Ann Arbor    MI      US  2018-11-19   \n",
      "18        google  Mountain View    CA      US  2018-11-16   \n",
      "19        google  Mountain View    CA      US  2018-11-09   \n",
      "20        google       New York    NY      US  2018-11-05   \n",
      "21        google  Mountain View    CA      US  2018-11-19   \n",
      "22        google  Mountain View    CA      US  2018-11-01   \n",
      "23        google  San Francisco    CA      US  2018-11-04   \n",
      "24        google  Mountain View    CA      US  2018-11-02   \n",
      "25        google     Pittsburgh    PA      US  2018-11-01   \n",
      "26        google  Mountain View    CA      US  2018-11-10   \n",
      "27        google  Mountain View    CA      US  2018-10-21   \n",
      "28        google       New York    NY      US  2018-10-25   \n",
      "29        google        Boulder    CO      US  2018-10-25   \n",
      "...          ...            ...   ...     ...         ...   \n",
      "28327  microsoft        Redmond    WA      US  2008-04-19   \n",
      "28328  microsoft        Atlanta    GA      US  2008-04-18   \n",
      "28329  microsoft        Redmond    WA      US  2008-04-28   \n",
      "28330  microsoft        Redmond    WA      US  2008-04-20   \n",
      "28331  microsoft        Redmond    WA      US  2008-04-30   \n",
      "28332  microsoft        Redmond    WA      US  2008-05-03   \n",
      "28333  microsoft        Redmond    WA      US  2008-04-19   \n",
      "28334  microsoft        Redmond    WA      US  2008-05-01   \n",
      "28335  microsoft        Redmond    WA      US  2008-04-18   \n",
      "28336  microsoft        Redmond    WA      US  2008-05-03   \n",
      "28337  microsoft        Redmond    WA      US  2008-05-03   \n",
      "28338  microsoft        Redmond    WA      US  2008-04-25   \n",
      "28339  microsoft        Redmond    WA      US  2008-04-24   \n",
      "28340  microsoft        Redmond    WA      US  2008-04-24   \n",
      "28341  microsoft        Redmond    WA      US  2008-04-28   \n",
      "28342  microsoft        Redmond    WA      US  2008-04-24   \n",
      "28343  microsoft        Redmond    WA      US  2008-04-26   \n",
      "28344  microsoft          Fargo    ND      US  2008-04-24   \n",
      "28345  microsoft        Redmond    WA      US  2008-04-24   \n",
      "28346  microsoft        Redmond    WA      US  2008-04-24   \n",
      "28347  microsoft       Bellevue    WA      US  2008-04-20   \n",
      "28348  microsoft        Redmond    WA      US  2008-04-19   \n",
      "28349  microsoft      Charlotte    NC      US  2008-04-21   \n",
      "28350  microsoft        Redmond    WA      US  2008-04-26   \n",
      "28351  microsoft        Waltham    MA      US  2008-04-19   \n",
      "28352  microsoft  San Francisco    CA      US  2008-04-16   \n",
      "28353  microsoft  San Francisco    CA      US  2008-03-24   \n",
      "28354  microsoft  San Francisco    CA      US  2008-04-03   \n",
      "28355  microsoft  San Francisco    CA      US  2008-02-27   \n",
      "28356  microsoft  San Francisco    CA      US  2008-02-27   \n",
      "\n",
      "                                          job_title  current_employee  \\\n",
      "0                                Anonymous Employee                 1   \n",
      "1                                              SDE2                 0   \n",
      "2                                 Software Engineer                 1   \n",
      "3                                Anonymous Employee                 1   \n",
      "4                                Anonymous Employee                 1   \n",
      "5                          Sales Operations Analyst                 1   \n",
      "6                                          Designer                 1   \n",
      "7                                  Staff Accountant                 1   \n",
      "8                                 Program Manager I                 1   \n",
      "9                                   Senior Director                 0   \n",
      "10                     Software Engineering Manager                 1   \n",
      "11                                Google Specialist                 1   \n",
      "12                               Anonymous Employee                 1   \n",
      "13                               Anonymous Employee                 1   \n",
      "14                          Staff Software Engineer                 1   \n",
      "15                                  Program Manager                 1   \n",
      "16                                Software Engineer                 1   \n",
      "17                     Associate Account Strategist                 0   \n",
      "18                               Anonymous Employee                 1   \n",
      "19                                Software Engineer                 1   \n",
      "20                               Anonymous Employee                 0   \n",
      "21                                 Legal Specialist                 0   \n",
      "22                               Anonymous Employee                 1   \n",
      "23                        Product Marketing Manager                 1   \n",
      "24                                Software Engineer                 1   \n",
      "25                               Front End Engineer                 1   \n",
      "26                         Senior Software Engineer                 1   \n",
      "27                                            Video                 1   \n",
      "28                         Senior Software Engineer                 1   \n",
      "29                                Product Marketing                 1   \n",
      "...                                             ...               ...   \n",
      "28327           Principal Development Engineer Lead                 1   \n",
      "28328                                    Consultant                 1   \n",
      "28329                              Industry Manager                 0   \n",
      "28330                               Program Manager                 1   \n",
      "28331                               Product Manager                 1   \n",
      "28332          Senior Software Development Engineer                 1   \n",
      "28333                               General Manager                 1   \n",
      "28334                               Program Manager                 0   \n",
      "28335                               Project Manager                 1   \n",
      "28336                 Software Development Engineer                 1   \n",
      "28337                 Software Development Engineer                 1   \n",
      "28338                    User Experience Researcher                 0   \n",
      "28339              Marketing Communications Manager                 0   \n",
      "28340                 Software Development Engineer                 0   \n",
      "28341          Senior Software Development Engineer                 1   \n",
      "28342                                        Editor                 1   \n",
      "28343                 Software Development Engineer                 1   \n",
      "28344                               Project Manager                 1   \n",
      "28345                          Lead Program Manager                 1   \n",
      "28346                               Product Manager                 1   \n",
      "28347                                 Group Manager                 0   \n",
      "28348                               Program Manager                 1   \n",
      "28349                                 Federal Sales                 1   \n",
      "28350  Software Development Engineer In Test (SDET)                 1   \n",
      "28351    Senior Account Technology Specialist (ATS)                 1   \n",
      "28352                        Premier Field Engineer                 1   \n",
      "28353                 Software Development Engineer                 1   \n",
      "28354                        Senior Product Manager                 1   \n",
      "28355                             Account Executive                 1   \n",
      "28356                     Technical Account Manager                 1   \n",
      "\n",
      "       overall_ratings                                 work_balance_stars  \\\n",
      "0                  5.0                                                2.0   \n",
      "1                  5.0                                                4.0   \n",
      "2                  5.0                                                5.0   \n",
      "3                  5.0                                                5.0   \n",
      "4                  5.0                                                4.0   \n",
      "5                  5.0                                                5.0   \n",
      "6                  5.0                                                3.0   \n",
      "7                  5.0                                                5.0   \n",
      "8                  5.0                                                5.0   \n",
      "9                  3.0                                                4.0   \n",
      "10                 4.0                                                5.0   \n",
      "11                 5.0                                                3.0   \n",
      "12                 4.0                                                4.0   \n",
      "13                 5.0                                                3.0   \n",
      "14                 5.0                                                4.0   \n",
      "15                 5.0                                                5.0   \n",
      "16                 5.0                                                5.0   \n",
      "17                 5.0                                                4.0   \n",
      "18                 3.0                                                2.0   \n",
      "19                 5.0                                                5.0   \n",
      "20                 5.0                                                2.0   \n",
      "21                 4.0                                                5.0   \n",
      "22                 5.0                                                5.0   \n",
      "23                 5.0                                                4.0   \n",
      "24                 5.0                                                5.0   \n",
      "25                 5.0                                                4.0   \n",
      "26                 4.0                                                5.0   \n",
      "27                 5.0                                                4.0   \n",
      "28                 5.0                                                5.0   \n",
      "29                 5.0                                                3.0   \n",
      "...                ...                                                ...   \n",
      "28327              5.0                                                5.0   \n",
      "28328              5.0                                                5.0   \n",
      "28329              2.0                                                2.5   \n",
      "28330              5.0                                                5.0   \n",
      "28331              NaN                                                2.0   \n",
      "28332              4.0                                                5.0   \n",
      "28333              5.0                                                5.0   \n",
      "28334              4.0                                                4.0   \n",
      "28335              5.0                                                5.0   \n",
      "28336              4.0                                                4.0   \n",
      "28337              4.0                                                4.0   \n",
      "28338              3.0                                                3.5   \n",
      "28339              NaN                                                4.0   \n",
      "28340              2.0                                                3.5   \n",
      "28341              NaN  \"\"\"If I knew what to do I would be in Senior M...   \n",
      "28342              3.0                                                3.5   \n",
      "28343              4.0                                                4.0   \n",
      "28344              3.0                                                5.0   \n",
      "28345              4.0                                                4.5   \n",
      "28346              4.0                                                4.0   \n",
      "28347              2.0                                                4.0   \n",
      "28348              3.0                                                3.5   \n",
      "28349              4.0                                                3.0   \n",
      "28350              4.0                                                4.0   \n",
      "28351              2.0                                                1.5   \n",
      "28352              4.0                                                3.5   \n",
      "28353              5.0                                                4.5   \n",
      "28354              3.0                                                4.0   \n",
      "28355              5.0                                                4.5   \n",
      "28356              5.0                                                5.0   \n",
      "\n",
      "                                    culture_values_stars  \\\n",
      "0                                                    5.0   \n",
      "1                                                    4.0   \n",
      "2                                                    4.0   \n",
      "3                                                    5.0   \n",
      "4                                                    5.0   \n",
      "5                                                    5.0   \n",
      "6                                                    4.0   \n",
      "7                                                    5.0   \n",
      "8                                                    5.0   \n",
      "9                                                    5.0   \n",
      "10                                                   5.0   \n",
      "11                                                   4.0   \n",
      "12                                                   3.0   \n",
      "13                                                   5.0   \n",
      "14                                                   4.0   \n",
      "15                                                   3.0   \n",
      "16                                                   5.0   \n",
      "17                                                   4.0   \n",
      "18                                                   1.0   \n",
      "19                                                   5.0   \n",
      "20                                                   2.0   \n",
      "21                                                   5.0   \n",
      "22                                                   3.0   \n",
      "23                                                   5.0   \n",
      "24                                                   5.0   \n",
      "25                                                   5.0   \n",
      "26                                                   4.0   \n",
      "27                                                   5.0   \n",
      "28                                                   5.0   \n",
      "29                                                   3.0   \n",
      "...                                                  ...   \n",
      "28327                                               none   \n",
      "28328                                               none   \n",
      "28329                                               none   \n",
      "28330                                               none   \n",
      "28331                                                4.5   \n",
      "28332                                               none   \n",
      "28333                                               none   \n",
      "28334                                               none   \n",
      "28335                                               none   \n",
      "28336                                               none   \n",
      "28337                                               none   \n",
      "28338                                               none   \n",
      "28339                                                4.0   \n",
      "28340                                               none   \n",
      "28341   because we are clealy lacking the focus and m...   \n",
      "28342                                               none   \n",
      "28343                                               none   \n",
      "28344                                               none   \n",
      "28345                                               none   \n",
      "28346                                               none   \n",
      "28347                                               none   \n",
      "28348                                               none   \n",
      "28349                                               none   \n",
      "28350                                               none   \n",
      "28351                                               none   \n",
      "28352                                               none   \n",
      "28353                                               none   \n",
      "28354                                               none   \n",
      "28355                                               none   \n",
      "28356                                               none   \n",
      "\n",
      "      carrer_opportunities_stars comp_benefit_stars senior_mangemnet_stars  \\\n",
      "0                            5.0                4.0                    5.0   \n",
      "1                            4.0                5.0                    4.0   \n",
      "2                            4.0                5.0                    4.0   \n",
      "3                            5.0                5.0                    5.0   \n",
      "4                            4.0                4.0                    3.0   \n",
      "5                            5.0                4.0                    4.0   \n",
      "6                            3.0                4.0                    5.0   \n",
      "7                            5.0                5.0                    5.0   \n",
      "8                            5.0                5.0                    5.0   \n",
      "9                            5.0                5.0                    5.0   \n",
      "10                           4.0                4.0                    4.0   \n",
      "11                           4.0                5.0                    4.0   \n",
      "12                           3.0                4.0                    3.0   \n",
      "13                           5.0                5.0                    4.0   \n",
      "14                           5.0                5.0                    3.0   \n",
      "15                           5.0                4.0                    5.0   \n",
      "16                           4.0                4.0                    4.0   \n",
      "17                           5.0                5.0                    2.0   \n",
      "18                           2.0                5.0                    2.0   \n",
      "19                           5.0                5.0                    5.0   \n",
      "20                           4.0                4.0                    3.0   \n",
      "21                           3.0                5.0                    4.0   \n",
      "22                           5.0                5.0                    4.0   \n",
      "23                           5.0                5.0                    4.0   \n",
      "24                           5.0                5.0                    4.0   \n",
      "25                           5.0                5.0                    4.0   \n",
      "26                           4.0                4.0                    4.0   \n",
      "27                           5.0                5.0                    4.0   \n",
      "28                           5.0                5.0                    5.0   \n",
      "29                           4.0                5.0                    4.0   \n",
      "...                          ...                ...                    ...   \n",
      "28327                        5.0                4.5                    4.5   \n",
      "28328                        5.0                5.0                    5.0   \n",
      "28329                        2.5                3.0                    2.0   \n",
      "28330                        5.0                5.0                    5.0   \n",
      "28331                       none                3.5                    3.5   \n",
      "28332                        4.5                4.5                    4.0   \n",
      "28333                        5.0                5.0                    5.0   \n",
      "28334                        5.0                4.0                    3.5   \n",
      "28335                        5.0                5.0                    4.5   \n",
      "28336                        4.0                4.0                    4.0   \n",
      "28337                        4.0                4.0                    4.0   \n",
      "28338                        3.0                3.0                    2.0   \n",
      "28339                       none                5.0                    5.0   \n",
      "28340                        3.0                3.5                    1.5   \n",
      "28341                        4.0                5.0                   none   \n",
      "28342                        3.0                4.5                    2.0   \n",
      "28343                        4.5                4.5                    3.0   \n",
      "28344                        1.0                3.5                    3.0   \n",
      "28345                        4.0                3.5                    3.5   \n",
      "28346                        3.5                1.5                    2.0   \n",
      "28347                        1.5                3.5                    1.0   \n",
      "28348                        3.5                3.5                    3.0   \n",
      "28349                        5.0                5.0                    5.0   \n",
      "28350                        5.0                4.0                    4.0   \n",
      "28351                        2.5                3.5                    3.0   \n",
      "28352                        4.0                4.5                    4.0   \n",
      "28353                        5.0                4.5                    4.0   \n",
      "28354                        4.0                4.0                    4.0   \n",
      "28355                        5.0                4.0                    4.0   \n",
      "28356                        5.0                5.0                    5.0   \n",
      "\n",
      "      helpful_count  \n",
      "0               498  \n",
      "1                 1  \n",
      "2                 0  \n",
      "3                 0  \n",
      "4                 0  \n",
      "5                 1  \n",
      "6                 2  \n",
      "7                 0  \n",
      "8                 3  \n",
      "9                 0  \n",
      "10                0  \n",
      "11                1  \n",
      "12                0  \n",
      "13                0  \n",
      "14                2  \n",
      "15                0  \n",
      "16                0  \n",
      "17                0  \n",
      "18                8  \n",
      "19                1  \n",
      "20                0  \n",
      "21                0  \n",
      "22                1  \n",
      "23                0  \n",
      "24                0  \n",
      "25                0  \n",
      "26                1  \n",
      "27                2  \n",
      "28                0  \n",
      "29                0  \n",
      "...             ...  \n",
      "28327             1  \n",
      "28328             1  \n",
      "28329             2  \n",
      "28330             1  \n",
      "28331           1.0  \n",
      "28332             0  \n",
      "28333             1  \n",
      "28334             0  \n",
      "28335             1  \n",
      "28336             0  \n",
      "28337             0  \n",
      "28338             1  \n",
      "28339           4.5  \n",
      "28340             2  \n",
      "28341           4.0  \n",
      "28342             0  \n",
      "28343             0  \n",
      "28344             0  \n",
      "28345             0  \n",
      "28346             0  \n",
      "28347             1  \n",
      "28348             1  \n",
      "28349             0  \n",
      "28350             0  \n",
      "28351             1  \n",
      "28352             0  \n",
      "28353             2  \n",
      "28354             0  \n",
      "28355             1  \n",
      "28356             0  \n",
      "\n",
      "[28357 rows x 14 columns]\n"
     ]
    }
   ],
   "source": [
    "reviews_pd_df = cleaned_reviews_df.toPandas()\n",
    "#cleaned_reviews_df.dtypes\n",
    "print(reviews_pd_df)\n"
   ]
  },
  {
   "cell_type": "markdown",
   "metadata": {},
   "source": [
    "### Plot the distributions of reviews for each company (current and former employees) \n",
    "- Hint: A Seaborn factorplot will work nicely here\n",
    "    - https://kite.com/python/docs/seaborn.factorplot\n",
    "    "
   ]
  },
  {
   "cell_type": "code",
   "execution_count": 20,
   "metadata": {},
   "outputs": [
    {
     "name": "stderr",
     "output_type": "stream",
     "text": [
      "/anaconda3/lib/python3.7/site-packages/seaborn/categorical.py:3666: UserWarning: The `factorplot` function has been renamed to `catplot`. The original name will be removed in a future release. Please update your code. Note that the default `kind` in `factorplot` (`'point'`) has changed `'strip'` in `catplot`.\n",
      "  warnings.warn(msg)\n"
     ]
    },
    {
     "data": {
      "text/plain": [
       "<seaborn.axisgrid.FacetGrid at 0x1a1f9878d0>"
      ]
     },
     "execution_count": 20,
     "metadata": {},
     "output_type": "execute_result"
    },
    {
     "data": {
      "image/png": "[encoded data removed]",
      "text/plain": [
       "<Figure size 458.5x360 with 1 Axes>"
      ]
     },
     "metadata": {
      "needs_background": "light"
     },
     "output_type": "display_data"
    }
   ],
   "source": [
    "sns.factorplot(data=reviews_pd_df, x = \"company\",hue = 'current_employee',kind = \"count\")"
   ]
  },
  {
   "cell_type": "code",
   "execution_count": 21,
   "metadata": {},
   "outputs": [
    {
     "name": "stderr",
     "output_type": "stream",
     "text": [
      "/anaconda3/lib/python3.7/site-packages/seaborn/categorical.py:3666: UserWarning: The `factorplot` function has been renamed to `catplot`. The original name will be removed in a future release. Please update your code. Note that the default `kind` in `factorplot` (`'point'`) has changed `'strip'` in `catplot`.\n",
      "  warnings.warn(msg)\n"
     ]
    },
    {
     "data": {
      "text/plain": [
       "<seaborn.axisgrid.FacetGrid at 0x10d91b080>"
      ]
     },
     "execution_count": 21,
     "metadata": {},
     "output_type": "execute_result"
    },
    {
     "data": {
      "image/png": "[encoded data removed]",
      "text/plain": [
       "<Figure size 442.875x360 with 1 Axes>"
      ]
     },
     "metadata": {
      "needs_background": "light"
     },
     "output_type": "display_data"
    }
   ],
   "source": [
    "sns.factorplot(data=reviews_pd_df, x = \"current_employee\",hue = 'company',kind = \"count\")"
   ]
  },
  {
   "cell_type": "markdown",
   "metadata": {},
   "source": [
    "### Plot the distributions of reviews for each company (current and former employees) and their overall ratings\n",
    "- Hint: A Seaborn factorplot will work nicely here\n",
    "    - https://kite.com/python/docs/seaborn.factorplot"
   ]
  },
  {
   "cell_type": "code",
   "execution_count": 22,
   "metadata": {},
   "outputs": [
    {
     "name": "stderr",
     "output_type": "stream",
     "text": [
      "/anaconda3/lib/python3.7/site-packages/seaborn/categorical.py:3666: UserWarning: The `factorplot` function has been renamed to `catplot`. The original name will be removed in a future release. Please update your code. Note that the default `kind` in `factorplot` (`'point'`) has changed `'strip'` in `catplot`.\n",
      "  warnings.warn(msg)\n"
     ]
    },
    {
     "data": {
      "text/plain": [
       "<seaborn.axisgrid.FacetGrid at 0x1a1edc7f28>"
      ]
     },
     "execution_count": 22,
     "metadata": {},
     "output_type": "execute_result"
    },
    {
     "data": {
      "image/png": "[encoded data removed]",
      "text/plain": [
       "<Figure size 1898.5x360 with 5 Axes>"
      ]
     },
     "metadata": {
      "needs_background": "light"
     },
     "output_type": "display_data"
    }
   ],
   "source": [
    "sns.factorplot(data=reviews_pd_df,x = \"company\", col = \"overall_ratings\",hue = 'current_employee',kind = \"count\")"
   ]
  },
  {
   "cell_type": "code",
   "execution_count": 23,
   "metadata": {},
   "outputs": [
    {
     "name": "stderr",
     "output_type": "stream",
     "text": [
      "/anaconda3/lib/python3.7/site-packages/seaborn/categorical.py:3666: UserWarning: The `factorplot` function has been renamed to `catplot`. The original name will be removed in a future release. Please update your code. Note that the default `kind` in `factorplot` (`'point'`) has changed `'strip'` in `catplot`.\n",
      "  warnings.warn(msg)\n"
     ]
    },
    {
     "data": {
      "text/plain": [
       "<seaborn.axisgrid.FacetGrid at 0x1a1f4eaf28>"
      ]
     },
     "execution_count": 23,
     "metadata": {},
     "output_type": "execute_result"
    },
    {
     "data": {
      "image/png": "[encoded data removed]",
      "text/plain": [
       "<Figure size 802x360 with 2 Axes>"
      ]
     },
     "metadata": {
      "needs_background": "light"
     },
     "output_type": "display_data"
    }
   ],
   "source": [
    "sns.factorplot(data=reviews_pd_df,x = \"company\", col = \"current_employee\",hue = 'overall_ratings',kind = \"count\")"
   ]
  },
  {
   "cell_type": "code",
   "execution_count": 24,
   "metadata": {},
   "outputs": [
    {
     "name": "stderr",
     "output_type": "stream",
     "text": [
      "/anaconda3/lib/python3.7/site-packages/seaborn/categorical.py:3666: UserWarning: The `factorplot` function has been renamed to `catplot`. The original name will be removed in a future release. Please update your code. Note that the default `kind` in `factorplot` (`'point'`) has changed `'strip'` in `catplot`.\n",
      "  warnings.warn(msg)\n"
     ]
    },
    {
     "data": {
      "text/plain": [
       "<seaborn.axisgrid.FacetGrid at 0x1a202d8978>"
      ]
     },
     "execution_count": 24,
     "metadata": {},
     "output_type": "execute_result"
    },
    {
     "data": {
      "image/png": "[encoded data removed]",
      "text/plain": [
       "<Figure size 1882.88x360 with 5 Axes>"
      ]
     },
     "metadata": {
      "needs_background": "light"
     },
     "output_type": "display_data"
    }
   ],
   "source": [
    "sns.factorplot(data=reviews_pd_df,x = \"current_employee\", col = \"overall_ratings\",hue = 'company',kind = \"count\")"
   ]
  },
  {
   "cell_type": "code",
   "execution_count": 25,
   "metadata": {},
   "outputs": [
    {
     "name": "stderr",
     "output_type": "stream",
     "text": [
      "/anaconda3/lib/python3.7/site-packages/seaborn/categorical.py:3666: UserWarning: The `factorplot` function has been renamed to `catplot`. The original name will be removed in a future release. Please update your code. Note that the default `kind` in `factorplot` (`'point'`) has changed `'strip'` in `catplot`.\n",
      "  warnings.warn(msg)\n"
     ]
    },
    {
     "data": {
      "text/plain": [
       "<seaborn.axisgrid.FacetGrid at 0x1a1f6e6668>"
      ]
     },
     "execution_count": 25,
     "metadata": {},
     "output_type": "execute_result"
    },
    {
     "data": {
      "image/png": "[encoded data removed]",
      "text/plain": [
       "<Figure size 2242x360 with 6 Axes>"
      ]
     },
     "metadata": {
      "needs_background": "light"
     },
     "output_type": "display_data"
    }
   ],
   "source": [
    "sns.factorplot(data=reviews_pd_df,x = \"current_employee\", col = \"company\",hue = 'overall_ratings',kind = \"count\")"
   ]
  },
  {
   "cell_type": "code",
   "execution_count": 26,
   "metadata": {},
   "outputs": [
    {
     "name": "stderr",
     "output_type": "stream",
     "text": [
      "/anaconda3/lib/python3.7/site-packages/seaborn/categorical.py:3666: UserWarning: The `factorplot` function has been renamed to `catplot`. The original name will be removed in a future release. Please update your code. Note that the default `kind` in `factorplot` (`'point'`) has changed `'strip'` in `catplot`.\n",
      "  warnings.warn(msg)\n"
     ]
    },
    {
     "data": {
      "text/plain": [
       "<seaborn.axisgrid.FacetGrid at 0x1a1ee98b38>"
      ]
     },
     "execution_count": 26,
     "metadata": {},
     "output_type": "execute_result"
    },
    {
     "data": {
      "image/png": "[encoded data removed]",
      "text/plain": [
       "<Figure size 2258.5x360 with 6 Axes>"
      ]
     },
     "metadata": {
      "needs_background": "light"
     },
     "output_type": "display_data"
    }
   ],
   "source": [
    "sns.factorplot(data=reviews_pd_df,x = \"overall_ratings\", col = \"company\",hue = 'current_employee',kind = \"count\")"
   ]
  },
  {
   "cell_type": "code",
   "execution_count": 27,
   "metadata": {},
   "outputs": [
    {
     "name": "stderr",
     "output_type": "stream",
     "text": [
      "/anaconda3/lib/python3.7/site-packages/seaborn/categorical.py:3666: UserWarning: The `factorplot` function has been renamed to `catplot`. The original name will be removed in a future release. Please update your code. Note that the default `kind` in `factorplot` (`'point'`) has changed `'strip'` in `catplot`.\n",
      "  warnings.warn(msg)\n"
     ]
    },
    {
     "data": {
      "text/plain": [
       "<seaborn.axisgrid.FacetGrid at 0x1a22319438>"
      ]
     },
     "execution_count": 27,
     "metadata": {},
     "output_type": "execute_result"
    },
    {
     "data": {
      "image/png": "[encoded data removed]",
      "text/plain": [
       "<Figure size 802.875x360 with 2 Axes>"
      ]
     },
     "metadata": {
      "needs_background": "light"
     },
     "output_type": "display_data"
    }
   ],
   "source": [
    "sns.factorplot(data=reviews_pd_df,x = \"overall_ratings\", col = \"current_employee\",hue = 'company',kind = \"count\")"
   ]
  },
  {
   "cell_type": "markdown",
   "metadata": {},
   "source": [
    "# Lessons Learned\n",
    "- Please feel free to let us know anything you want in this section about the test, what you learned, liked, didn't like, etc"
   ]
  },
  {
   "cell_type": "markdown",
   "metadata": {},
   "source": [
    "# My thoughts\n",
    "- My expeience in spark had mostly been with using scala as the programming language. It was fun to work in python and pyspark.\n",
    "- The exercise was nicely designed with a taste for real world problems. Morever, it is giving an overview of what the data engineering pipeline is like for anyone starting as a fresher"
   ]
  }
 ],
 "metadata": {
  "kernelspec": {
   "display_name": "Python 3",
   "language": "python",
   "name": "python3"
  },
  "language_info": {
   "codemirror_mode": {
    "name": "ipython",
    "version": 3
   },
   "file_extension": ".py",
   "mimetype": "text/x-python",
   "name": "python",
   "nbconvert_exporter": "python",
   "pygments_lexer": "ipython3",
   "version": "3.6.4"
  }
 },
 "nbformat": 4,
 "nbformat_minor": 2
}
