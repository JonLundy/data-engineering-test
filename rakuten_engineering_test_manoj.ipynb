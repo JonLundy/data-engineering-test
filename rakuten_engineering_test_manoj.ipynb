{
 "cells": [
  {
   "cell_type": "markdown",
   "metadata": {},
   "source": [
    "# Rakuten USA - Data Engineering Test\n",
    "\n",
    "### Goal\n",
    "The goal of this test is not ment to be exhaustive, but we do want to test your skills in analytical thinking, SQL, data wrangling, data analysis, and data visualization. \n",
    "\n",
    "**Please remember:** The better that you do on this assignment, the less questions we will have during your on-site interviews. :)\n",
    "\n",
    "### Expectations\n",
    "You can expect this test to use the following technologies:\n",
    "- Python3\n",
    "- Jupyter Notebook\n",
    "- PySpark\n",
    "- PySpark SQL\n",
    "\n",
    "This test will cover the following areas: \n",
    "- Data Cleaning/Wrangling\n",
    "- Exploratory Data Analysis (EDA)\n",
    "- Data Visualization\n",
    "\n",
    "This test should take you no more than 2-4 hours.\n",
    "\n",
    "### What to turn in, and where to send your test\n",
    "Please email stirling.waite@rakuten with your finished notebook\n",
    "- rakuten_engineer_test.ipynb\n",
    " \n",
    "### Questions?\n",
    "Feel free to email me or call me with any questions about this test\n",
    "- Email: stirling.waite@rakuten.com\n",
    "- Phone: 801-856-1426\n",
    "- LinkedIn Chat: https://www.linkedin.com/in/stirlingwaite/\n",
    "- Gchat: stirlingw@gmail.com"
   ]
  },
  {
   "cell_type": "code",
   "execution_count": null,
   "metadata": {},
   "outputs": [],
   "source": []
  },
  {
   "cell_type": "code",
   "execution_count": null,
   "metadata": {},
   "outputs": [],
   "source": []
  },
  {
   "cell_type": "markdown",
   "metadata": {},
   "source": [
    "# About The Dataset\n",
    "\n",
    "Below you will find a modified free Kaggle competition dataset from https://www.kaggle.com/mayank811/employee-reviews/data using scraped data from Glassdoor.com.\n",
    "\n",
    "## Context\n",
    "- Over 67k employee reviews for Google, Amazon, Facebook, Apple, Microsoft, and Netflix.\n",
    "- Web scraped from Glassdoor\n",
    "\n",
    "## Content\n",
    "This dataset contains employee reviews separated into the following categories:\n",
    "\n",
    "- **Index:** index\n",
    "- **Company:** Company name\n",
    "- **Location:** This dataset is global, as such it may include the country's name in parenthesis [i.e \"Toronto, ON(Canada)\"]. However, if the location is in the USA then it will only include the city and state[i.e \"Los Angeles, CA\" ]\n",
    "- **Date Posted:** in the following format MM DD, YYYY\n",
    "- **Job-Title:** This string will also include whether the reviewer is a 'Current' or 'Former' Employee at the time of the review\n",
    "- **Summary:** Short summary of employee review\n",
    "- **Pros:** Pros\n",
    "- **Cons:** Cons\n",
    "- **Overall Rating:** 1-5\n",
    "- **Work/Life Balance Rating:** 1-5\n",
    "- **Culture and Values Rating:** 1-5\n",
    "- **Career Opportunities Rating:** 1-5\n",
    "- **Comp & Benefits Rating:** 1-5\n",
    "- **Senior Management Rating:** 1-5\n",
    "- **Helpful Review Count:** 1-5\n",
    "\n",
    "**Link to Review:** This will provide you with a direct link to the page that contains the review. However it is likely that this link will be outdated\n",
    "\n",
    "**NOTE:** 'none' is placed in all cells where no data value was found.\n",
    "\n"
   ]
  },
  {
   "cell_type": "code",
   "execution_count": null,
   "metadata": {},
   "outputs": [],
   "source": []
  },
  {
   "cell_type": "code",
   "execution_count": null,
   "metadata": {},
   "outputs": [],
   "source": []
  },
  {
   "cell_type": "markdown",
   "metadata": {},
   "source": [
    "# PySpark Initialization"
   ]
  },
  {
   "cell_type": "code",
   "execution_count": 1,
   "metadata": {},
   "outputs": [],
   "source": [
    "import findspark\n",
    "findspark.init()\n",
    "import re\n",
    "import pyspark\n",
    "from pyspark import SparkConf, SparkContext, SQLContext\n",
    "from pyspark.sql import SparkSession, Row\n",
    "from pyspark.sql.functions import *\n",
    "from pyspark.sql import functions as fn\n",
    "from pyspark.sql import types as t\n",
    "from pyspark.sql.types import *\n",
    "from datetime import datetime"
   ]
  },
  {
   "cell_type": "code",
   "execution_count": 2,
   "metadata": {},
   "outputs": [],
   "source": [
    "conf = SparkConf()\\\n",
    "                .setMaster(\"local[*]\")\\\n",
    "                .setAppName(\"rakutenHomework\")\n",
    "        \n",
    "sc = SparkContext(conf=conf)\n",
    "sc.setLogLevel(\"ERROR\")\n",
    "sqlContext = SQLContext(sc)\n",
    "spark = SparkSession.builder.appName(\"spark play\").getOrCreate()"
   ]
  },
  {
   "cell_type": "markdown",
   "metadata": {},
   "source": [
    "## Read Dataset into Spark"
   ]
  },
  {
   "cell_type": "code",
   "execution_count": 3,
   "metadata": {
    "scrolled": true
   },
   "outputs": [
    {
     "name": "stdout",
     "output_type": "stream",
     "text": [
      "28357\n",
      "+---+-------+-----------------+-------------+--------------------+--------------------+--------------------+--------------------+--------------------+---------------+------------------+--------------------+--------------------------+------------------+----------------------+-------------+--------------------+\n",
      "|_c0|company|         location|        dates|           job_title|             summary|                pros|                cons|      advice_to_mgmt|overall_ratings|work_balance_stars|culture_values_stars|carrer_opportunities_stars|comp_benefit_stars|senior_mangemnet_stars|helpful_count|                link|\n",
      "+---+-------+-----------------+-------------+--------------------+--------------------+--------------------+--------------------+--------------------+---------------+------------------+--------------------+--------------------------+------------------+----------------------+-------------+--------------------+\n",
      "|  0| google|Mountain View, CA|  Feb 8, 2015|Current Employee ...|The best place I'...|You can't find a ...|I live in SF so t...|Keep on NOT micro...|            5.0|               2.0|                 5.0|                       5.0|               4.0|                   5.0|          498|https://www.glass...|\n",
      "|  1| google|Mountain View, CA|  Dec 9, 2018|Former Employee -...|NICE working in G...|People are not th...|Food is not good ...|                none|            5.0|               4.0|                 4.0|                       4.0|               5.0|                   4.0|            1|https://www.glass...|\n",
      "|  2| google|     New York, NY| Dec 11, 2018|Current Employee ...|   Software engineer|Great working env...|Usual big company...|                none|            5.0|               5.0|                 4.0|                       4.0|               5.0|                   4.0|            0|https://www.glass...|\n",
      "|  3| google|     New York, NY| Dec 10, 2018|Current Employee ...|Google Surpasses ...|Great products. V...|Younger employees...|                none|            5.0|               5.0|                 5.0|                       5.0|               5.0|                   5.0|            0|https://www.glass...|\n",
      "|  4| google|Mountain View, CA|  Dec 8, 2018|Current Employee ...|  Nice place to work|* Smart people * ...|Giant company wit...|                none|            5.0|               4.0|                 5.0|                       4.0|               4.0|                   3.0|            0|https://www.glass...|\n",
      "|  5| google|San Francisco, CA|  Dec 3, 2018|Current Employee ...|Still the best pl...|Amazing company. ...|Size, which limit...|                none|            5.0|               5.0|                 5.0|                       5.0|               4.0|                   4.0|            1|https://www.glass...|\n",
      "|  6| google|     New York, NY| Nov 26, 2018|Current Employee ...|Great, but great ...|Great team and su...|Lots of bureaucra...|                none|            5.0|               3.0|                 4.0|                       3.0|               4.0|                   5.0|            2|https://www.glass...|\n",
      "|  7| google|  Los Angeles, CA| Nov 29, 2018|Current Employee ...|          Accountant|I like and learne...|High clerical wor...|Management and Fi...|            5.0|               5.0|                 5.0|                       5.0|               5.0|                   5.0|            0|https://www.glass...|\n",
      "|  8| google|San Francisco, CA| Nov 17, 2018|Current Employee ...|Not perfect, but ...|- A company cultu...|- A company with ...|- Just because a ...|            5.0|               5.0|                 5.0|                       5.0|               5.0|                   5.0|            3|https://www.glass...|\n",
      "|  9| google|Mountain View, CA|  Dec 9, 2018|Former Employee -...|     Senior Director|So many brilliant...|Becoming highly b...|                none|            3.0|               4.0|                 5.0|                       5.0|               5.0|                   5.0|            0|https://www.glass...|\n",
      "| 10| google|Mountain View, CA|  Dec 8, 2018|Current Employee ...|Google is still t...|Great place to wo...|Large company iss...|                none|            4.0|               5.0|                 5.0|                       4.0|               4.0|                   4.0|            0|https://www.glass...|\n",
      "| 11| google|     Dearborn, MI| Nov 20, 2018|Current Employee ...|              Google|Google is one of ...|You have to work ...|                none|            5.0|               3.0|                 4.0|                       4.0|               5.0|                   4.0|            1|https://www.glass...|\n",
      "| 12| google|     New York, NY|  Dec 6, 2018|Current Employee ...|   Good compensation|Better than avera...|Big and beurocrat...|                none|            4.0|               4.0|                 3.0|                       3.0|               4.0|                   3.0|            0|https://www.glass...|\n",
      "| 13| google|    Sunnyvale, CA| Nov 21, 2018|Current Employee ...|    Best of the best|The best company ...|Set hours for bre...|                none|            5.0|               3.0|                 5.0|                       5.0|               5.0|                   4.0|            0|https://www.glass...|\n",
      "| 14| google|      Seattle, WA| Nov 13, 2018|Current Employee ...|        Hard to beat|Amazing compensat...|Growing pains as ...|                none|            5.0|               4.0|                 4.0|                       5.0|               5.0|                   3.0|            2|https://www.glass...|\n",
      "| 15| google|     New York, NY| Nov 19, 2018|Current Employee ...| Great place to work|Ambitious mission...|Everyone is eager...|                none|            5.0|               5.0|                 3.0|                       5.0|               4.0|                   5.0|            0|https://www.glass...|\n",
      "| 16| google|    Sunnyvale, CA| Nov 19, 2018|Current Employee ...|Positive Experiences|Good opportunitie...|Difficult to adva...|                none|            5.0|               5.0|                 5.0|                       4.0|               4.0|                   4.0|            0|https://www.glass...|\n",
      "| 17| google|    Ann Arbor, MI| Nov 19, 2018|Former Employee -...|Make sure you kno...|Employees, food, ...|Company has becom...|Stop putting peop...|            5.0|               4.0|                 4.0|                       5.0|               5.0|                   2.0|            0|https://www.glass...|\n",
      "| 18| google|Mountain View, CA| Nov 16, 2018|Current Employee ...|                 meh|Pays really well ...|Google wants 60-h...|Add ethics to the...|            3.0|               2.0|                 1.0|                       2.0|               5.0|                   2.0|            8|https://www.glass...|\n",
      "| 19| google|Mountain View, CA|  Nov 9, 2018|Current Employee ...| Best Job I Ever Had|Amazing and talen...|All the perks mak...|                none|            5.0|               5.0|                 5.0|                       5.0|               5.0|                   5.0|            1|https://www.glass...|\n",
      "+---+-------+-----------------+-------------+--------------------+--------------------+--------------------+--------------------+--------------------+---------------+------------------+--------------------+--------------------------+------------------+----------------------+-------------+--------------------+\n",
      "only showing top 20 rows\n",
      "\n"
     ]
    }
   ],
   "source": [
    "reviews_df = spark.read.csv(\"employee_reviews_usa.csv\", header=True, mode=\"DROPMALFORMED\", inferSchema='true', encoding=\"utf-8\")\n",
    "print(reviews_df.count())\n",
    "reviews_df.show()"
   ]
  },
  {
   "cell_type": "code",
   "execution_count": 4,
   "metadata": {
    "scrolled": false
   },
   "outputs": [
    {
     "data": {
      "text/html": [
       "<div>\n",
       "<style scoped>\n",
       "    .dataframe tbody tr th:only-of-type {\n",
       "        vertical-align: middle;\n",
       "    }\n",
       "\n",
       "    .dataframe tbody tr th {\n",
       "        vertical-align: top;\n",
       "    }\n",
       "\n",
       "    .dataframe thead th {\n",
       "        text-align: right;\n",
       "    }\n",
       "</style>\n",
       "<table border=\"1\" class=\"dataframe\">\n",
       "  <thead>\n",
       "    <tr style=\"text-align: right;\">\n",
       "      <th></th>\n",
       "      <th>_c0</th>\n",
       "      <th>company</th>\n",
       "      <th>location</th>\n",
       "      <th>dates</th>\n",
       "      <th>job_title</th>\n",
       "      <th>summary</th>\n",
       "      <th>pros</th>\n",
       "      <th>cons</th>\n",
       "      <th>advice_to_mgmt</th>\n",
       "      <th>overall_ratings</th>\n",
       "      <th>work_balance_stars</th>\n",
       "      <th>culture_values_stars</th>\n",
       "      <th>carrer_opportunities_stars</th>\n",
       "      <th>comp_benefit_stars</th>\n",
       "      <th>senior_mangemnet_stars</th>\n",
       "      <th>helpful_count</th>\n",
       "      <th>link</th>\n",
       "    </tr>\n",
       "  </thead>\n",
       "  <tbody>\n",
       "    <tr>\n",
       "      <th>0</th>\n",
       "      <td>0</td>\n",
       "      <td>google</td>\n",
       "      <td>Mountain View, CA</td>\n",
       "      <td>Feb 8, 2015</td>\n",
       "      <td>Current Employee - Anonymous Employee</td>\n",
       "      <td>The best place I've worked and also the most d...</td>\n",
       "      <td>You can't find a more well-regarded company th...</td>\n",
       "      <td>I live in SF so the commute can take between 1...</td>\n",
       "      <td>Keep on NOT micromanaging - that is a huge ben...</td>\n",
       "      <td>5.0</td>\n",
       "      <td>2.0</td>\n",
       "      <td>5.0</td>\n",
       "      <td>5.0</td>\n",
       "      <td>4.0</td>\n",
       "      <td>5.0</td>\n",
       "      <td>498</td>\n",
       "      <td>https://www.glassdoor.com/Reviews/Google-Revie...</td>\n",
       "    </tr>\n",
       "    <tr>\n",
       "      <th>1</th>\n",
       "      <td>1</td>\n",
       "      <td>google</td>\n",
       "      <td>Mountain View, CA</td>\n",
       "      <td>Dec 9, 2018</td>\n",
       "      <td>Former Employee - SDE2</td>\n",
       "      <td>NICE working in GOOGLE as an INTERN</td>\n",
       "      <td>People are not that busy, so they are nice to ...</td>\n",
       "      <td>Food is not good as I expected. People said it...</td>\n",
       "      <td>none</td>\n",
       "      <td>5.0</td>\n",
       "      <td>4.0</td>\n",
       "      <td>4.0</td>\n",
       "      <td>4.0</td>\n",
       "      <td>5.0</td>\n",
       "      <td>4.0</td>\n",
       "      <td>1</td>\n",
       "      <td>https://www.glassdoor.com/Reviews/Google-Revie...</td>\n",
       "    </tr>\n",
       "    <tr>\n",
       "      <th>2</th>\n",
       "      <td>2</td>\n",
       "      <td>google</td>\n",
       "      <td>New York, NY</td>\n",
       "      <td>Dec 11, 2018</td>\n",
       "      <td>Current Employee - Software Engineer</td>\n",
       "      <td>Software engineer</td>\n",
       "      <td>Great working environment. Good work life balance</td>\n",
       "      <td>Usual big company problems. Hierarchy.</td>\n",
       "      <td>none</td>\n",
       "      <td>5.0</td>\n",
       "      <td>5.0</td>\n",
       "      <td>4.0</td>\n",
       "      <td>4.0</td>\n",
       "      <td>5.0</td>\n",
       "      <td>4.0</td>\n",
       "      <td>0</td>\n",
       "      <td>https://www.glassdoor.com/Reviews/Google-Revie...</td>\n",
       "    </tr>\n",
       "    <tr>\n",
       "      <th>3</th>\n",
       "      <td>3</td>\n",
       "      <td>google</td>\n",
       "      <td>New York, NY</td>\n",
       "      <td>Dec 10, 2018</td>\n",
       "      <td>Current Employee - Anonymous Employee</td>\n",
       "      <td>Google Surpasses Realistic Expectations</td>\n",
       "      <td>Great products. Vision you can feel good about...</td>\n",
       "      <td>Younger employees complaining about the compan...</td>\n",
       "      <td>none</td>\n",
       "      <td>5.0</td>\n",
       "      <td>5.0</td>\n",
       "      <td>5.0</td>\n",
       "      <td>5.0</td>\n",
       "      <td>5.0</td>\n",
       "      <td>5.0</td>\n",
       "      <td>0</td>\n",
       "      <td>https://www.glassdoor.com/Reviews/Google-Revie...</td>\n",
       "    </tr>\n",
       "    <tr>\n",
       "      <th>4</th>\n",
       "      <td>4</td>\n",
       "      <td>google</td>\n",
       "      <td>Mountain View, CA</td>\n",
       "      <td>Dec 8, 2018</td>\n",
       "      <td>Current Employee - Anonymous Employee</td>\n",
       "      <td>Nice place to work</td>\n",
       "      <td>* Smart people * World class infrastructure * ...</td>\n",
       "      <td>Giant company with uneven project and team cha...</td>\n",
       "      <td>none</td>\n",
       "      <td>5.0</td>\n",
       "      <td>4.0</td>\n",
       "      <td>5.0</td>\n",
       "      <td>4.0</td>\n",
       "      <td>4.0</td>\n",
       "      <td>3.0</td>\n",
       "      <td>0</td>\n",
       "      <td>https://www.glassdoor.com/Reviews/Google-Revie...</td>\n",
       "    </tr>\n",
       "  </tbody>\n",
       "</table>\n",
       "</div>"
      ],
      "text/plain": [
       "   _c0 company           location          dates  \\\n",
       "0    0  google  Mountain View, CA    Feb 8, 2015   \n",
       "1    1  google  Mountain View, CA    Dec 9, 2018   \n",
       "2    2  google       New York, NY   Dec 11, 2018   \n",
       "3    3  google       New York, NY   Dec 10, 2018   \n",
       "4    4  google  Mountain View, CA    Dec 8, 2018   \n",
       "\n",
       "                               job_title  \\\n",
       "0  Current Employee - Anonymous Employee   \n",
       "1                 Former Employee - SDE2   \n",
       "2   Current Employee - Software Engineer   \n",
       "3  Current Employee - Anonymous Employee   \n",
       "4  Current Employee - Anonymous Employee   \n",
       "\n",
       "                                             summary  \\\n",
       "0  The best place I've worked and also the most d...   \n",
       "1                NICE working in GOOGLE as an INTERN   \n",
       "2                                  Software engineer   \n",
       "3            Google Surpasses Realistic Expectations   \n",
       "4                                 Nice place to work   \n",
       "\n",
       "                                                pros  \\\n",
       "0  You can't find a more well-regarded company th...   \n",
       "1  People are not that busy, so they are nice to ...   \n",
       "2  Great working environment. Good work life balance   \n",
       "3  Great products. Vision you can feel good about...   \n",
       "4  * Smart people * World class infrastructure * ...   \n",
       "\n",
       "                                                cons  \\\n",
       "0  I live in SF so the commute can take between 1...   \n",
       "1  Food is not good as I expected. People said it...   \n",
       "2             Usual big company problems. Hierarchy.   \n",
       "3  Younger employees complaining about the compan...   \n",
       "4  Giant company with uneven project and team cha...   \n",
       "\n",
       "                                      advice_to_mgmt overall_ratings  \\\n",
       "0  Keep on NOT micromanaging - that is a huge ben...             5.0   \n",
       "1                                               none             5.0   \n",
       "2                                               none             5.0   \n",
       "3                                               none             5.0   \n",
       "4                                               none             5.0   \n",
       "\n",
       "  work_balance_stars culture_values_stars carrer_opportunities_stars  \\\n",
       "0                2.0                  5.0                        5.0   \n",
       "1                4.0                  4.0                        4.0   \n",
       "2                5.0                  4.0                        4.0   \n",
       "3                5.0                  5.0                        5.0   \n",
       "4                4.0                  5.0                        4.0   \n",
       "\n",
       "  comp_benefit_stars senior_mangemnet_stars helpful_count  \\\n",
       "0                4.0                    5.0           498   \n",
       "1                5.0                    4.0             1   \n",
       "2                5.0                    4.0             0   \n",
       "3                5.0                    5.0             0   \n",
       "4                4.0                    3.0             0   \n",
       "\n",
       "                                                link  \n",
       "0  https://www.glassdoor.com/Reviews/Google-Revie...  \n",
       "1  https://www.glassdoor.com/Reviews/Google-Revie...  \n",
       "2  https://www.glassdoor.com/Reviews/Google-Revie...  \n",
       "3  https://www.glassdoor.com/Reviews/Google-Revie...  \n",
       "4  https://www.glassdoor.com/Reviews/Google-Revie...  "
      ]
     },
     "execution_count": 4,
     "metadata": {},
     "output_type": "execute_result"
    }
   ],
   "source": [
    "# Viewing sample in a via pandas\n",
    "\n",
    "reviews_df.limit(5).toPandas().head(5)"
   ]
  },
  {
   "cell_type": "code",
   "execution_count": 5,
   "metadata": {},
   "outputs": [
    {
     "name": "stdout",
     "output_type": "stream",
     "text": [
      "root\n",
      " |-- _c0: integer (nullable = true)\n",
      " |-- company: string (nullable = true)\n",
      " |-- location: string (nullable = true)\n",
      " |-- dates: string (nullable = true)\n",
      " |-- job_title: string (nullable = true)\n",
      " |-- summary: string (nullable = true)\n",
      " |-- pros: string (nullable = true)\n",
      " |-- cons: string (nullable = true)\n",
      " |-- advice_to_mgmt: string (nullable = true)\n",
      " |-- overall_ratings: string (nullable = true)\n",
      " |-- work_balance_stars: string (nullable = true)\n",
      " |-- culture_values_stars: string (nullable = true)\n",
      " |-- carrer_opportunities_stars: string (nullable = true)\n",
      " |-- comp_benefit_stars: string (nullable = true)\n",
      " |-- senior_mangemnet_stars: string (nullable = true)\n",
      " |-- helpful_count: string (nullable = true)\n",
      " |-- link: string (nullable = true)\n",
      "\n"
     ]
    }
   ],
   "source": [
    "# What are data types here? \n",
    "\n",
    "reviews_df.printSchema()"
   ]
  },
  {
   "cell_type": "markdown",
   "metadata": {},
   "source": [
    "All the columns are strings except for index.Even the ratings, such as `overall_ratings`,`work_balance_stars`,`culture_values_starts`,`career_opportunities_stars`,`comp_benefit_stars`,`helpful_count` which could take int formats are strings here"
   ]
  },
  {
   "cell_type": "code",
   "execution_count": 6,
   "metadata": {},
   "outputs": [
    {
     "data": {
      "text/html": [
       "<div>\n",
       "<style scoped>\n",
       "    .dataframe tbody tr th:only-of-type {\n",
       "        vertical-align: middle;\n",
       "    }\n",
       "\n",
       "    .dataframe tbody tr th {\n",
       "        vertical-align: top;\n",
       "    }\n",
       "\n",
       "    .dataframe thead th {\n",
       "        text-align: right;\n",
       "    }\n",
       "</style>\n",
       "<table border=\"1\" class=\"dataframe\">\n",
       "  <thead>\n",
       "    <tr style=\"text-align: right;\">\n",
       "      <th></th>\n",
       "      <th>_c0</th>\n",
       "      <th>company</th>\n",
       "      <th>location</th>\n",
       "      <th>dates</th>\n",
       "      <th>job_title</th>\n",
       "      <th>summary</th>\n",
       "      <th>pros</th>\n",
       "      <th>cons</th>\n",
       "      <th>advice_to_mgmt</th>\n",
       "      <th>overall_ratings</th>\n",
       "      <th>work_balance_stars</th>\n",
       "      <th>culture_values_stars</th>\n",
       "      <th>carrer_opportunities_stars</th>\n",
       "      <th>comp_benefit_stars</th>\n",
       "      <th>senior_mangemnet_stars</th>\n",
       "      <th>helpful_count</th>\n",
       "      <th>link</th>\n",
       "    </tr>\n",
       "  </thead>\n",
       "  <tbody>\n",
       "    <tr>\n",
       "      <th>0</th>\n",
       "      <td>0</td>\n",
       "      <td>0</td>\n",
       "      <td>0</td>\n",
       "      <td>0</td>\n",
       "      <td>0</td>\n",
       "      <td>0</td>\n",
       "      <td>0</td>\n",
       "      <td>0</td>\n",
       "      <td>0</td>\n",
       "      <td>0</td>\n",
       "      <td>0</td>\n",
       "      <td>0</td>\n",
       "      <td>0</td>\n",
       "      <td>0</td>\n",
       "      <td>0</td>\n",
       "      <td>0</td>\n",
       "      <td>0</td>\n",
       "    </tr>\n",
       "  </tbody>\n",
       "</table>\n",
       "</div>"
      ],
      "text/plain": [
       "   _c0  company  location  dates  job_title  summary  pros  cons  \\\n",
       "0    0        0         0      0          0        0     0     0   \n",
       "\n",
       "   advice_to_mgmt  overall_ratings  work_balance_stars  culture_values_stars  \\\n",
       "0               0                0                   0                     0   \n",
       "\n",
       "   carrer_opportunities_stars  comp_benefit_stars  senior_mangemnet_stars  \\\n",
       "0                           0                   0                       0   \n",
       "\n",
       "   helpful_count  link  \n",
       "0              0     0  "
      ]
     },
     "execution_count": 6,
     "metadata": {},
     "output_type": "execute_result"
    }
   ],
   "source": [
    "# lets check if there are nulls in here\n",
    "\n",
    "reviews_df.select([count(when(isnan(c), c)).alias(c) for c in reviews_df.columns]).toPandas()"
   ]
  },
  {
   "cell_type": "markdown",
   "metadata": {},
   "source": [
    "No null values observed in the dataframe"
   ]
  },
  {
   "cell_type": "code",
   "execution_count": 7,
   "metadata": {},
   "outputs": [
    {
     "name": "stdout",
     "output_type": "stream",
     "text": [
      "(28357, 17)\n"
     ]
    }
   ],
   "source": [
    "# How big the the data set?\n",
    "\n",
    "print((reviews_df.count(), len(reviews_df.columns)))"
   ]
  },
  {
   "cell_type": "code",
   "execution_count": 8,
   "metadata": {},
   "outputs": [
    {
     "data": {
      "text/html": [
       "<div>\n",
       "<style scoped>\n",
       "    .dataframe tbody tr th:only-of-type {\n",
       "        vertical-align: middle;\n",
       "    }\n",
       "\n",
       "    .dataframe tbody tr th {\n",
       "        vertical-align: top;\n",
       "    }\n",
       "\n",
       "    .dataframe thead th {\n",
       "        text-align: right;\n",
       "    }\n",
       "</style>\n",
       "<table border=\"1\" class=\"dataframe\">\n",
       "  <thead>\n",
       "    <tr style=\"text-align: right;\">\n",
       "      <th></th>\n",
       "      <th>summary</th>\n",
       "      <th>_c0</th>\n",
       "      <th>company</th>\n",
       "      <th>location</th>\n",
       "      <th>dates</th>\n",
       "      <th>job_title</th>\n",
       "      <th>summary</th>\n",
       "      <th>pros</th>\n",
       "      <th>cons</th>\n",
       "      <th>advice_to_mgmt</th>\n",
       "      <th>overall_ratings</th>\n",
       "      <th>work_balance_stars</th>\n",
       "      <th>culture_values_stars</th>\n",
       "      <th>carrer_opportunities_stars</th>\n",
       "      <th>comp_benefit_stars</th>\n",
       "      <th>senior_mangemnet_stars</th>\n",
       "      <th>helpful_count</th>\n",
       "      <th>link</th>\n",
       "    </tr>\n",
       "  </thead>\n",
       "  <tbody>\n",
       "    <tr>\n",
       "      <th>0</th>\n",
       "      <td>count</td>\n",
       "      <td>27779</td>\n",
       "      <td>27779</td>\n",
       "      <td>27779</td>\n",
       "      <td>27779</td>\n",
       "      <td>27779</td>\n",
       "      <td>27757</td>\n",
       "      <td>27779</td>\n",
       "      <td>27779</td>\n",
       "      <td>27779</td>\n",
       "      <td>27779</td>\n",
       "      <td>27779</td>\n",
       "      <td>27779</td>\n",
       "      <td>27779</td>\n",
       "      <td>27779</td>\n",
       "      <td>27779</td>\n",
       "      <td>27779</td>\n",
       "      <td>27779</td>\n",
       "    </tr>\n",
       "    <tr>\n",
       "      <th>1</th>\n",
       "      <td>mean</td>\n",
       "      <td>14147.457287879333</td>\n",
       "      <td>None</td>\n",
       "      <td>None</td>\n",
       "      <td>None</td>\n",
       "      <td>None</td>\n",
       "      <td>33193.4</td>\n",
       "      <td>None</td>\n",
       "      <td>None</td>\n",
       "      <td>None</td>\n",
       "      <td>3.7785737427553188</td>\n",
       "      <td>3.3734953271028036</td>\n",
       "      <td>3.7328037709497206</td>\n",
       "      <td>3.617313734290844</td>\n",
       "      <td>3.9743589743589745</td>\n",
       "      <td>3.300279013649046</td>\n",
       "      <td>1.485114654955182</td>\n",
       "      <td>None</td>\n",
       "    </tr>\n",
       "    <tr>\n",
       "      <th>2</th>\n",
       "      <td>stddev</td>\n",
       "      <td>8182.533708216518</td>\n",
       "      <td>None</td>\n",
       "      <td>None</td>\n",
       "      <td>None</td>\n",
       "      <td>None</td>\n",
       "      <td>45340.723409535494</td>\n",
       "      <td>None</td>\n",
       "      <td>None</td>\n",
       "      <td>None</td>\n",
       "      <td>1.1737432572393722</td>\n",
       "      <td>1.2936159800713927</td>\n",
       "      <td>1.320662779118574</td>\n",
       "      <td>1.2356798279013699</td>\n",
       "      <td>1.0224265472011032</td>\n",
       "      <td>1.3248882619778573</td>\n",
       "      <td>14.527349003372983</td>\n",
       "      <td>None</td>\n",
       "    </tr>\n",
       "    <tr>\n",
       "      <th>3</th>\n",
       "      <td>min</td>\n",
       "      <td>0</td>\n",
       "      <td>amazon</td>\n",
       "      <td>Aberdeen, MD</td>\n",
       "      <td>Apr 1, 2009</td>\n",
       "      <td>Current Employee - &amp;#039,Anonymous&amp;#039,</td>\n",
       "      <td>#1 Comapny for Innovation</td>\n",
       "      <td>\"\"\"\"\"\"\"Amazon\"\"\"\" looks good on your resume SL...</td>\n",
       "      <td>\"\"\"\"\"\"\"Always On\"\"\"\" mentality-you could work ...</td>\n",
       "      <td>\"\"\"\"\"\"\"Inclusion\"\"\"\" aka diversity means more ...</td>\n",
       "      <td>1.0</td>\n",
       "      <td>1.0</td>\n",
       "      <td>1.0</td>\n",
       "      <td>1.0</td>\n",
       "      <td>1.0</td>\n",
       "      <td>1.0</td>\n",
       "      <td>0</td>\n",
       "      <td>https://www.glassdoor.com/Reviews/Amazon-Revie...</td>\n",
       "    </tr>\n",
       "    <tr>\n",
       "      <th>4</th>\n",
       "      <td>max</td>\n",
       "      <td>28356</td>\n",
       "      <td>netflix</td>\n",
       "      <td>Yukon, OK</td>\n",
       "      <td>Sep 9, 2018</td>\n",
       "      <td>Former Employee - eot</td>\n",
       "      <td>🔥</td>\n",
       "      <td>• Treated fairly • Great co-workers • Dedicati...</td>\n",
       "      <td>•  The company culture is very cold hearted, t...</td>\n",
       "      <td>• stop being selfish and develop a team approa...</td>\n",
       "      <td>5.0</td>\n",
       "      <td>none</td>\n",
       "      <td>none</td>\n",
       "      <td>none</td>\n",
       "      <td>none</td>\n",
       "      <td>none</td>\n",
       "      <td>9</td>\n",
       "      <td>https://www.glassdoor.com/Reviews/Netflix-Revi...</td>\n",
       "    </tr>\n",
       "  </tbody>\n",
       "</table>\n",
       "</div>"
      ],
      "text/plain": [
       "  summary                 _c0  company      location         dates  \\\n",
       "0   count               27779    27779         27779         27779   \n",
       "1    mean  14147.457287879333     None          None          None   \n",
       "2  stddev   8182.533708216518     None          None          None   \n",
       "3     min                   0   amazon  Aberdeen, MD   Apr 1, 2009   \n",
       "4     max               28356  netflix     Yukon, OK   Sep 9, 2018   \n",
       "\n",
       "                                  job_title                    summary  \\\n",
       "0                                     27779                      27757   \n",
       "1                                      None                    33193.4   \n",
       "2                                      None         45340.723409535494   \n",
       "3  Current Employee - &#039,Anonymous&#039,  #1 Comapny for Innovation   \n",
       "4                     Former Employee - eot                          🔥   \n",
       "\n",
       "                                                pros  \\\n",
       "0                                              27779   \n",
       "1                                               None   \n",
       "2                                               None   \n",
       "3  \"\"\"\"\"\"\"Amazon\"\"\"\" looks good on your resume SL...   \n",
       "4  • Treated fairly • Great co-workers • Dedicati...   \n",
       "\n",
       "                                                cons  \\\n",
       "0                                              27779   \n",
       "1                                               None   \n",
       "2                                               None   \n",
       "3  \"\"\"\"\"\"\"Always On\"\"\"\" mentality-you could work ...   \n",
       "4  •  The company culture is very cold hearted, t...   \n",
       "\n",
       "                                      advice_to_mgmt     overall_ratings  \\\n",
       "0                                              27779               27779   \n",
       "1                                               None  3.7785737427553188   \n",
       "2                                               None  1.1737432572393722   \n",
       "3  \"\"\"\"\"\"\"Inclusion\"\"\"\" aka diversity means more ...                 1.0   \n",
       "4  • stop being selfish and develop a team approa...                 5.0   \n",
       "\n",
       "   work_balance_stars culture_values_stars carrer_opportunities_stars  \\\n",
       "0               27779                27779                      27779   \n",
       "1  3.3734953271028036   3.7328037709497206          3.617313734290844   \n",
       "2  1.2936159800713927    1.320662779118574         1.2356798279013699   \n",
       "3                 1.0                  1.0                        1.0   \n",
       "4                none                 none                       none   \n",
       "\n",
       "   comp_benefit_stars senior_mangemnet_stars       helpful_count  \\\n",
       "0               27779                  27779               27779   \n",
       "1  3.9743589743589745      3.300279013649046   1.485114654955182   \n",
       "2  1.0224265472011032     1.3248882619778573  14.527349003372983   \n",
       "3                 1.0                    1.0                   0   \n",
       "4                none                   none                   9   \n",
       "\n",
       "                                                link  \n",
       "0                                              27779  \n",
       "1                                               None  \n",
       "2                                               None  \n",
       "3  https://www.glassdoor.com/Reviews/Amazon-Revie...  \n",
       "4  https://www.glassdoor.com/Reviews/Netflix-Revi...  "
      ]
     },
     "execution_count": 8,
     "metadata": {},
     "output_type": "execute_result"
    }
   ],
   "source": [
    "# Summary stats\n",
    "\n",
    "reviews_df.describe().toPandas()"
   ]
  },
  {
   "cell_type": "markdown",
   "metadata": {},
   "source": [
    "# Data Cleaning & Removing Un-Needed Columns\n",
    "\n",
    "No one likes dirty data.  Let's clean up this dataset to make it more usable for our use case.\n",
    "\n",
    " \n",
    "1. Make the date field more data friendly\n",
    "    - Hint #1: Use the provided `review_date_udf` udf provided (it will make your life more simple) \n",
    "2. Using the \"location\" column \n",
    "    - Add new columns for city, state, country columns\n",
    "        - Hint #1: Concider using `fn.split()` to split `location` for columns `city` `state` \n",
    "        - Hint #2: I've narrowed down the country to just US, so please use something like below to create the `country` column\n",
    "            - ```lit(\"US\").alias(\"country\")```\n",
    "3. Using the \"job-title\" column  \n",
    "    - Add a new boolean column titled \"current_employee\" that will show:\n",
    "        - 1,  if reviewer is a current employee\n",
    "        - 0,  if reviewer is not a current employee\n",
    "        - Hint:  Use spark function `fn.when()` and `col(\"job-title\").contains(\"\")`\n",
    "    - Remove \"Former Employee - \" and \"\" from the \"job-title\" column\n",
    "        - Hint: Use the udf function `reg_job_title_udf`\n",
    "4. Drop un-needed columns \n",
    "    - \"_c0\", \"link\", \"pros\", \"cons\", \"advice-to-mgmt\", \"summary\", \"location\""
   ]
  },
  {
   "cell_type": "markdown",
   "metadata": {},
   "source": [
    "##### Useful UDF functions needed for below"
   ]
  },
  {
   "cell_type": "code",
   "execution_count": 9,
   "metadata": {},
   "outputs": [],
   "source": [
    "review_date_udf = fn.udf(\n",
    "    lambda x: datetime.strptime(x, ' %b %d, %Y'), DateType()\n",
    ")"
   ]
  },
  {
   "cell_type": "code",
   "execution_count": 10,
   "metadata": {},
   "outputs": [],
   "source": [
    "def reg_job_title(column):\n",
    "    res_split=[]\n",
    "    reg_patterns=[\"Former Employee - / \", \"Current Employee - / \"]\n",
    "    for i in range(len(reg_patterns)):\n",
    "        res_split=re.findall(r\"[^/]+\",reg_patterns[i])\n",
    "        for x in res_split[0].split(\"|\"):\n",
    "            column = column.replace(x,res_split[1])\n",
    "    return column[1:]\n",
    "\n",
    "reg_job_title_udf = fn.udf(reg_job_title, t.StringType())"
   ]
  },
  {
   "cell_type": "markdown",
   "metadata": {},
   "source": [
    "# Cleaned Spark Dataframe\n",
    "\n",
    "- I've included the starting of dataframe, but in the `select` you will want to add the fixes and columns needed to answer the questions below\n"
   ]
  },
  {
   "cell_type": "code",
   "execution_count": 11,
   "metadata": {
    "scrolled": true
   },
   "outputs": [
    {
     "data": {
      "text/html": [
       "<div>\n",
       "<style scoped>\n",
       "    .dataframe tbody tr th:only-of-type {\n",
       "        vertical-align: middle;\n",
       "    }\n",
       "\n",
       "    .dataframe tbody tr th {\n",
       "        vertical-align: top;\n",
       "    }\n",
       "\n",
       "    .dataframe thead th {\n",
       "        text-align: right;\n",
       "    }\n",
       "</style>\n",
       "<table border=\"1\" class=\"dataframe\">\n",
       "  <thead>\n",
       "    <tr style=\"text-align: right;\">\n",
       "      <th></th>\n",
       "      <th>_c0</th>\n",
       "      <th>company</th>\n",
       "      <th>location</th>\n",
       "      <th>dates</th>\n",
       "      <th>job_title</th>\n",
       "      <th>summary</th>\n",
       "      <th>pros</th>\n",
       "      <th>cons</th>\n",
       "      <th>advice_to_mgmt</th>\n",
       "      <th>overall_ratings</th>\n",
       "      <th>work_balance_stars</th>\n",
       "      <th>culture_values_stars</th>\n",
       "      <th>carrer_opportunities_stars</th>\n",
       "      <th>comp_benefit_stars</th>\n",
       "      <th>senior_mangemnet_stars</th>\n",
       "      <th>helpful_count</th>\n",
       "      <th>link</th>\n",
       "    </tr>\n",
       "  </thead>\n",
       "  <tbody>\n",
       "    <tr>\n",
       "      <th>0</th>\n",
       "      <td>0</td>\n",
       "      <td>google</td>\n",
       "      <td>Mountain View, CA</td>\n",
       "      <td>Feb 8, 2015</td>\n",
       "      <td>Current Employee - Anonymous Employee</td>\n",
       "      <td>The best place I've worked and also the most d...</td>\n",
       "      <td>You can't find a more well-regarded company th...</td>\n",
       "      <td>I live in SF so the commute can take between 1...</td>\n",
       "      <td>Keep on NOT micromanaging - that is a huge ben...</td>\n",
       "      <td>5.0</td>\n",
       "      <td>2.0</td>\n",
       "      <td>5.0</td>\n",
       "      <td>5.0</td>\n",
       "      <td>4.0</td>\n",
       "      <td>5.0</td>\n",
       "      <td>498</td>\n",
       "      <td>https://www.glassdoor.com/Reviews/Google-Revie...</td>\n",
       "    </tr>\n",
       "    <tr>\n",
       "      <th>1</th>\n",
       "      <td>1</td>\n",
       "      <td>google</td>\n",
       "      <td>Mountain View, CA</td>\n",
       "      <td>Dec 9, 2018</td>\n",
       "      <td>Former Employee - SDE2</td>\n",
       "      <td>NICE working in GOOGLE as an INTERN</td>\n",
       "      <td>People are not that busy, so they are nice to ...</td>\n",
       "      <td>Food is not good as I expected. People said it...</td>\n",
       "      <td>none</td>\n",
       "      <td>5.0</td>\n",
       "      <td>4.0</td>\n",
       "      <td>4.0</td>\n",
       "      <td>4.0</td>\n",
       "      <td>5.0</td>\n",
       "      <td>4.0</td>\n",
       "      <td>1</td>\n",
       "      <td>https://www.glassdoor.com/Reviews/Google-Revie...</td>\n",
       "    </tr>\n",
       "    <tr>\n",
       "      <th>2</th>\n",
       "      <td>2</td>\n",
       "      <td>google</td>\n",
       "      <td>New York, NY</td>\n",
       "      <td>Dec 11, 2018</td>\n",
       "      <td>Current Employee - Software Engineer</td>\n",
       "      <td>Software engineer</td>\n",
       "      <td>Great working environment. Good work life balance</td>\n",
       "      <td>Usual big company problems. Hierarchy.</td>\n",
       "      <td>none</td>\n",
       "      <td>5.0</td>\n",
       "      <td>5.0</td>\n",
       "      <td>4.0</td>\n",
       "      <td>4.0</td>\n",
       "      <td>5.0</td>\n",
       "      <td>4.0</td>\n",
       "      <td>0</td>\n",
       "      <td>https://www.glassdoor.com/Reviews/Google-Revie...</td>\n",
       "    </tr>\n",
       "    <tr>\n",
       "      <th>3</th>\n",
       "      <td>3</td>\n",
       "      <td>google</td>\n",
       "      <td>New York, NY</td>\n",
       "      <td>Dec 10, 2018</td>\n",
       "      <td>Current Employee - Anonymous Employee</td>\n",
       "      <td>Google Surpasses Realistic Expectations</td>\n",
       "      <td>Great products. Vision you can feel good about...</td>\n",
       "      <td>Younger employees complaining about the compan...</td>\n",
       "      <td>none</td>\n",
       "      <td>5.0</td>\n",
       "      <td>5.0</td>\n",
       "      <td>5.0</td>\n",
       "      <td>5.0</td>\n",
       "      <td>5.0</td>\n",
       "      <td>5.0</td>\n",
       "      <td>0</td>\n",
       "      <td>https://www.glassdoor.com/Reviews/Google-Revie...</td>\n",
       "    </tr>\n",
       "    <tr>\n",
       "      <th>4</th>\n",
       "      <td>4</td>\n",
       "      <td>google</td>\n",
       "      <td>Mountain View, CA</td>\n",
       "      <td>Dec 8, 2018</td>\n",
       "      <td>Current Employee - Anonymous Employee</td>\n",
       "      <td>Nice place to work</td>\n",
       "      <td>* Smart people * World class infrastructure * ...</td>\n",
       "      <td>Giant company with uneven project and team cha...</td>\n",
       "      <td>none</td>\n",
       "      <td>5.0</td>\n",
       "      <td>4.0</td>\n",
       "      <td>5.0</td>\n",
       "      <td>4.0</td>\n",
       "      <td>4.0</td>\n",
       "      <td>3.0</td>\n",
       "      <td>0</td>\n",
       "      <td>https://www.glassdoor.com/Reviews/Google-Revie...</td>\n",
       "    </tr>\n",
       "  </tbody>\n",
       "</table>\n",
       "</div>"
      ],
      "text/plain": [
       "   _c0 company           location          dates  \\\n",
       "0    0  google  Mountain View, CA    Feb 8, 2015   \n",
       "1    1  google  Mountain View, CA    Dec 9, 2018   \n",
       "2    2  google       New York, NY   Dec 11, 2018   \n",
       "3    3  google       New York, NY   Dec 10, 2018   \n",
       "4    4  google  Mountain View, CA    Dec 8, 2018   \n",
       "\n",
       "                               job_title  \\\n",
       "0  Current Employee - Anonymous Employee   \n",
       "1                 Former Employee - SDE2   \n",
       "2   Current Employee - Software Engineer   \n",
       "3  Current Employee - Anonymous Employee   \n",
       "4  Current Employee - Anonymous Employee   \n",
       "\n",
       "                                             summary  \\\n",
       "0  The best place I've worked and also the most d...   \n",
       "1                NICE working in GOOGLE as an INTERN   \n",
       "2                                  Software engineer   \n",
       "3            Google Surpasses Realistic Expectations   \n",
       "4                                 Nice place to work   \n",
       "\n",
       "                                                pros  \\\n",
       "0  You can't find a more well-regarded company th...   \n",
       "1  People are not that busy, so they are nice to ...   \n",
       "2  Great working environment. Good work life balance   \n",
       "3  Great products. Vision you can feel good about...   \n",
       "4  * Smart people * World class infrastructure * ...   \n",
       "\n",
       "                                                cons  \\\n",
       "0  I live in SF so the commute can take between 1...   \n",
       "1  Food is not good as I expected. People said it...   \n",
       "2             Usual big company problems. Hierarchy.   \n",
       "3  Younger employees complaining about the compan...   \n",
       "4  Giant company with uneven project and team cha...   \n",
       "\n",
       "                                      advice_to_mgmt overall_ratings  \\\n",
       "0  Keep on NOT micromanaging - that is a huge ben...             5.0   \n",
       "1                                               none             5.0   \n",
       "2                                               none             5.0   \n",
       "3                                               none             5.0   \n",
       "4                                               none             5.0   \n",
       "\n",
       "  work_balance_stars culture_values_stars carrer_opportunities_stars  \\\n",
       "0                2.0                  5.0                        5.0   \n",
       "1                4.0                  4.0                        4.0   \n",
       "2                5.0                  4.0                        4.0   \n",
       "3                5.0                  5.0                        5.0   \n",
       "4                4.0                  5.0                        4.0   \n",
       "\n",
       "  comp_benefit_stars senior_mangemnet_stars helpful_count  \\\n",
       "0                4.0                    5.0           498   \n",
       "1                5.0                    4.0             1   \n",
       "2                5.0                    4.0             0   \n",
       "3                5.0                    5.0             0   \n",
       "4                4.0                    3.0             0   \n",
       "\n",
       "                                                link  \n",
       "0  https://www.glassdoor.com/Reviews/Google-Revie...  \n",
       "1  https://www.glassdoor.com/Reviews/Google-Revie...  \n",
       "2  https://www.glassdoor.com/Reviews/Google-Revie...  \n",
       "3  https://www.glassdoor.com/Reviews/Google-Revie...  \n",
       "4  https://www.glassdoor.com/Reviews/Google-Revie...  "
      ]
     },
     "execution_count": 11,
     "metadata": {},
     "output_type": "execute_result"
    }
   ],
   "source": [
    "reviews_df.limit(5).toPandas().head(5)"
   ]
  },
  {
   "cell_type": "code",
   "execution_count": 12,
   "metadata": {
    "scrolled": true
   },
   "outputs": [
    {
     "data": {
      "text/html": [
       "<div>\n",
       "<style scoped>\n",
       "    .dataframe tbody tr th:only-of-type {\n",
       "        vertical-align: middle;\n",
       "    }\n",
       "\n",
       "    .dataframe tbody tr th {\n",
       "        vertical-align: top;\n",
       "    }\n",
       "\n",
       "    .dataframe thead th {\n",
       "        text-align: right;\n",
       "    }\n",
       "</style>\n",
       "<table border=\"1\" class=\"dataframe\">\n",
       "  <thead>\n",
       "    <tr style=\"text-align: right;\">\n",
       "      <th></th>\n",
       "      <th>company</th>\n",
       "      <th>city</th>\n",
       "      <th>state</th>\n",
       "      <th>country</th>\n",
       "      <th>review_date</th>\n",
       "      <th>job_title</th>\n",
       "      <th>current_employee</th>\n",
       "      <th>overall_ratings</th>\n",
       "      <th>work_balance_stars</th>\n",
       "      <th>culture_values_stars</th>\n",
       "      <th>carrer_opportunities_stars</th>\n",
       "      <th>comp_benefit_stars</th>\n",
       "      <th>senior_mangemnet_stars</th>\n",
       "      <th>helpful_count</th>\n",
       "    </tr>\n",
       "  </thead>\n",
       "  <tbody>\n",
       "    <tr>\n",
       "      <th>0</th>\n",
       "      <td>google</td>\n",
       "      <td>Mountain View</td>\n",
       "      <td>CA</td>\n",
       "      <td>US</td>\n",
       "      <td>2015-02-08</td>\n",
       "      <td>Anonymous Employee</td>\n",
       "      <td>1</td>\n",
       "      <td>5.0</td>\n",
       "      <td>2.0</td>\n",
       "      <td>5.0</td>\n",
       "      <td>5.0</td>\n",
       "      <td>4.0</td>\n",
       "      <td>5.0</td>\n",
       "      <td>498.0</td>\n",
       "    </tr>\n",
       "    <tr>\n",
       "      <th>1</th>\n",
       "      <td>google</td>\n",
       "      <td>Mountain View</td>\n",
       "      <td>CA</td>\n",
       "      <td>US</td>\n",
       "      <td>2018-12-09</td>\n",
       "      <td>SDE2</td>\n",
       "      <td>0</td>\n",
       "      <td>5.0</td>\n",
       "      <td>4.0</td>\n",
       "      <td>4.0</td>\n",
       "      <td>4.0</td>\n",
       "      <td>5.0</td>\n",
       "      <td>4.0</td>\n",
       "      <td>1.0</td>\n",
       "    </tr>\n",
       "    <tr>\n",
       "      <th>2</th>\n",
       "      <td>google</td>\n",
       "      <td>New York</td>\n",
       "      <td>NY</td>\n",
       "      <td>US</td>\n",
       "      <td>2018-12-11</td>\n",
       "      <td>Software Engineer</td>\n",
       "      <td>1</td>\n",
       "      <td>5.0</td>\n",
       "      <td>5.0</td>\n",
       "      <td>4.0</td>\n",
       "      <td>4.0</td>\n",
       "      <td>5.0</td>\n",
       "      <td>4.0</td>\n",
       "      <td>0.0</td>\n",
       "    </tr>\n",
       "    <tr>\n",
       "      <th>3</th>\n",
       "      <td>google</td>\n",
       "      <td>New York</td>\n",
       "      <td>NY</td>\n",
       "      <td>US</td>\n",
       "      <td>2018-12-10</td>\n",
       "      <td>Anonymous Employee</td>\n",
       "      <td>1</td>\n",
       "      <td>5.0</td>\n",
       "      <td>5.0</td>\n",
       "      <td>5.0</td>\n",
       "      <td>5.0</td>\n",
       "      <td>5.0</td>\n",
       "      <td>5.0</td>\n",
       "      <td>0.0</td>\n",
       "    </tr>\n",
       "    <tr>\n",
       "      <th>4</th>\n",
       "      <td>google</td>\n",
       "      <td>Mountain View</td>\n",
       "      <td>CA</td>\n",
       "      <td>US</td>\n",
       "      <td>2018-12-08</td>\n",
       "      <td>Anonymous Employee</td>\n",
       "      <td>1</td>\n",
       "      <td>5.0</td>\n",
       "      <td>4.0</td>\n",
       "      <td>5.0</td>\n",
       "      <td>4.0</td>\n",
       "      <td>4.0</td>\n",
       "      <td>3.0</td>\n",
       "      <td>0.0</td>\n",
       "    </tr>\n",
       "  </tbody>\n",
       "</table>\n",
       "</div>"
      ],
      "text/plain": [
       "  company           city state country review_date           job_title  \\\n",
       "0  google  Mountain View    CA      US  2015-02-08  Anonymous Employee   \n",
       "1  google  Mountain View    CA      US  2018-12-09                SDE2   \n",
       "2  google       New York    NY      US  2018-12-11   Software Engineer   \n",
       "3  google       New York    NY      US  2018-12-10  Anonymous Employee   \n",
       "4  google  Mountain View    CA      US  2018-12-08  Anonymous Employee   \n",
       "\n",
       "   current_employee  overall_ratings  work_balance_stars  \\\n",
       "0                 1              5.0                 2.0   \n",
       "1                 0              5.0                 4.0   \n",
       "2                 1              5.0                 5.0   \n",
       "3                 1              5.0                 5.0   \n",
       "4                 1              5.0                 4.0   \n",
       "\n",
       "   culture_values_stars  carrer_opportunities_stars  comp_benefit_stars  \\\n",
       "0                   5.0                         5.0                 4.0   \n",
       "1                   4.0                         4.0                 5.0   \n",
       "2                   4.0                         4.0                 5.0   \n",
       "3                   5.0                         5.0                 5.0   \n",
       "4                   5.0                         4.0                 4.0   \n",
       "\n",
       "   senior_mangemnet_stars  helpful_count  \n",
       "0                     5.0          498.0  \n",
       "1                     4.0            1.0  \n",
       "2                     4.0            0.0  \n",
       "3                     5.0            0.0  \n",
       "4                     3.0            0.0  "
      ]
     },
     "execution_count": 12,
     "metadata": {},
     "output_type": "execute_result"
    }
   ],
   "source": [
    "cleaned_reviews_df = reviews_df.where((col(\"dates\") != 'None') & (col(\"dates\") != ' Jan 0, 0000') & (col(\"dates\") != ' Nov 0, 0000') & (~col(\"location\").contains(\"(\")) & (col(\"location\") != \"none\")) \\\n",
    "                         .select(\n",
    "                             col(\"company\")\n",
    "                            , fn.trim(fn.split(reviews_df.location,',')[0]).alias('city')\n",
    "                            , fn.trim(fn.split(reviews_df.location,',')[1]).alias('state')\n",
    "                            , lit(\"US\").alias(\"country\")\n",
    "                            , review_date_udf(reviews_df.dates).alias('review_date')\n",
    "                            , reg_job_title_udf(reviews_df.job_title).alias('job_title')\n",
    "                            , fn.when(lower(col(\"job_title\")).contains('current'), 1).otherwise(0).alias('current_employee')\n",
    "                            , col(\"overall_ratings\").cast(\"float\")\n",
    "                            , col(\"work_balance_stars\").cast(\"float\")\n",
    "                            , col(\"culture_values_stars\").cast(\"float\")\n",
    "                            , col(\"carrer_opportunities_stars\").cast(\"float\")\n",
    "                            , col(\"comp_benefit_stars\").cast(\"float\")\n",
    "                            , col(\"senior_mangemnet_stars\").cast(\"float\")\n",
    "                            , col(\"helpful_count\").cast(\"float\"))\n",
    "                         \n",
    "cleaned_reviews_df.toPandas().head(5)\n"
   ]
  },
  {
   "cell_type": "code",
   "execution_count": null,
   "metadata": {},
   "outputs": [],
   "source": []
  },
  {
   "cell_type": "markdown",
   "metadata": {},
   "source": [
    "# Data Questions\n",
    "\n",
    "Each question below will have two parts.   Please solve each problem in PySpark and PySpark SQL.  This is to test your ability to solve the problem in PySpark, and to test your ability to solve the problem in SQL.\n",
    "\n",
    "- PySpark API (https://spark.apache.org/docs/latest/api/python/index.html)\n",
    "- PySpark SQL API (https://spark.apache.org/docs/latest/api/python/pyspark.sql.html)"
   ]
  },
  {
   "cell_type": "code",
   "execution_count": 13,
   "metadata": {},
   "outputs": [],
   "source": [
    "cleaned_reviews_df.createOrReplaceTempView(\"reviews\")"
   ]
  },
  {
   "cell_type": "markdown",
   "metadata": {},
   "source": [
    "### (1) What is the total number of reviews in the data set?"
   ]
  },
  {
   "cell_type": "markdown",
   "metadata": {},
   "source": [
    "##### PySpark Implmentation"
   ]
  },
  {
   "cell_type": "code",
   "execution_count": 14,
   "metadata": {},
   "outputs": [
    {
     "data": {
      "text/plain": [
       "28357"
      ]
     },
     "execution_count": 14,
     "metadata": {},
     "output_type": "execute_result"
    }
   ],
   "source": [
    "cleaned_reviews_df.count()"
   ]
  },
  {
   "cell_type": "markdown",
   "metadata": {},
   "source": [
    "##### Spark SQL Implmentation"
   ]
  },
  {
   "cell_type": "code",
   "execution_count": 15,
   "metadata": {},
   "outputs": [
    {
     "name": "stdout",
     "output_type": "stream",
     "text": [
      "+------------+\n",
      "|review_count|\n",
      "+------------+\n",
      "|       28357|\n",
      "+------------+\n",
      "\n"
     ]
    }
   ],
   "source": [
    "spark.sql(\"select count(*) as review_count from reviews\").show()"
   ]
  },
  {
   "cell_type": "code",
   "execution_count": null,
   "metadata": {},
   "outputs": [],
   "source": []
  },
  {
   "cell_type": "markdown",
   "metadata": {},
   "source": [
    "###  (2) How many reviews exist in the dataset per each company?"
   ]
  },
  {
   "cell_type": "markdown",
   "metadata": {},
   "source": [
    "##### PySpark Implmentation"
   ]
  },
  {
   "cell_type": "code",
   "execution_count": 16,
   "metadata": {},
   "outputs": [
    {
     "name": "stdout",
     "output_type": "stream",
     "text": [
      "+---------+-----+\n",
      "|  company|count|\n",
      "+---------+-----+\n",
      "|microsoft| 8114|\n",
      "|   amazon|10164|\n",
      "|  netflix|  458|\n",
      "|    apple| 5853|\n",
      "| facebook| 1167|\n",
      "|   google| 2601|\n",
      "+---------+-----+\n",
      "\n"
     ]
    }
   ],
   "source": [
    "cleaned_reviews_df.groupby(cleaned_reviews_df[\"company\"]).count().show()"
   ]
  },
  {
   "cell_type": "markdown",
   "metadata": {},
   "source": [
    "##### Spark SQL Implmentation"
   ]
  },
  {
   "cell_type": "code",
   "execution_count": 17,
   "metadata": {},
   "outputs": [
    {
     "name": "stdout",
     "output_type": "stream",
     "text": [
      "+---------+------------+\n",
      "|  company|review_count|\n",
      "+---------+------------+\n",
      "|microsoft|        8114|\n",
      "|   amazon|       10164|\n",
      "|  netflix|         458|\n",
      "|    apple|        5853|\n",
      "| facebook|        1167|\n",
      "|   google|        2601|\n",
      "+---------+------------+\n",
      "\n"
     ]
    }
   ],
   "source": [
    "spark.sql(\"select company, count(*) as review_count from reviews group by company\").show()"
   ]
  },
  {
   "cell_type": "code",
   "execution_count": null,
   "metadata": {},
   "outputs": [],
   "source": []
  },
  {
   "cell_type": "markdown",
   "metadata": {},
   "source": [
    "###  (3) How many reviews are from former and current employees per each company?"
   ]
  },
  {
   "cell_type": "markdown",
   "metadata": {},
   "source": [
    "##### PySpark Implmentation"
   ]
  },
  {
   "cell_type": "code",
   "execution_count": 18,
   "metadata": {},
   "outputs": [
    {
     "name": "stdout",
     "output_type": "stream",
     "text": [
      "+------------------------+----+----+\n",
      "|company_current_employee|   0|   1|\n",
      "+------------------------+----+----+\n",
      "|                  amazon|3410|6754|\n",
      "|                   apple|2445|3408|\n",
      "|                facebook| 222| 945|\n",
      "|                  google| 946|1655|\n",
      "|               microsoft|2865|5249|\n",
      "|                 netflix| 223| 235|\n",
      "+------------------------+----+----+\n",
      "\n"
     ]
    }
   ],
   "source": [
    "cleaned_reviews_df.crosstab('company','current_employee').sort(col(\"company_current_employee\").asc()).show()"
   ]
  },
  {
   "cell_type": "markdown",
   "metadata": {},
   "source": [
    "##### Spark SQL Implmentation"
   ]
  },
  {
   "cell_type": "code",
   "execution_count": 19,
   "metadata": {
    "scrolled": true
   },
   "outputs": [
    {
     "name": "stdout",
     "output_type": "stream",
     "text": [
      "+---------+----+----+\n",
      "|  company|   0|   1|\n",
      "+---------+----+----+\n",
      "|   amazon|3410|6754|\n",
      "|    apple|2445|3408|\n",
      "| facebook| 222| 945|\n",
      "|   google| 946|1655|\n",
      "|microsoft|2865|5249|\n",
      "|  netflix| 223| 235|\n",
      "+---------+----+----+\n",
      "\n"
     ]
    }
   ],
   "source": [
    "spark.sql(\"\"\"select company, \n",
    "          current_employee from reviews\n",
    "          order by company\n",
    "          \"\"\").groupBy(\"company\").pivot(\"current_employee\").count().show()"
   ]
  },
  {
   "cell_type": "code",
   "execution_count": null,
   "metadata": {},
   "outputs": [],
   "source": []
  },
  {
   "cell_type": "markdown",
   "metadata": {},
   "source": [
    "###  (4) What is the average review scores of each current and former employees for each company?"
   ]
  },
  {
   "cell_type": "markdown",
   "metadata": {},
   "source": [
    "##### PySpark Implmentation"
   ]
  },
  {
   "cell_type": "code",
   "execution_count": 20,
   "metadata": {},
   "outputs": [
    {
     "name": "stdout",
     "output_type": "stream",
     "text": [
      "+---------+----------------+---------------+\n",
      "|  company|current_employee|former_employee|\n",
      "+---------+----------------+---------------+\n",
      "|   amazon|            3.71|           2.98|\n",
      "|    apple|            4.08|           3.83|\n",
      "| facebook|             4.7|           3.93|\n",
      "|   google|            4.43|           4.16|\n",
      "|microsoft|            3.86|           3.56|\n",
      "|  netflix|            3.97|           2.94|\n",
      "+---------+----------------+---------------+\n",
      "\n"
     ]
    }
   ],
   "source": [
    "avg_review_scores = cleaned_reviews_df.groupby(cleaned_reviews_df.company).pivot(\"current_employee\").avg(\"overall_ratings\")\n",
    "avg_review_scores.select(col(\"company\"), fn.round('1', 2).alias('current_employee'), \n",
    "                         fn.round('0', 2).alias('former_employee')).sort(col(\"company\").asc()).show()\n"
   ]
  },
  {
   "cell_type": "markdown",
   "metadata": {},
   "source": [
    "##### Spark SQL Implmentation"
   ]
  },
  {
   "cell_type": "code",
   "execution_count": 21,
   "metadata": {
    "scrolled": true
   },
   "outputs": [
    {
     "name": "stdout",
     "output_type": "stream",
     "text": [
      "+---------+----------------+---------------+\n",
      "|  company|current_employee|former_employee|\n",
      "+---------+----------------+---------------+\n",
      "|   amazon|            3.71|           2.98|\n",
      "|    apple|            4.08|           3.83|\n",
      "| facebook|             4.7|           3.93|\n",
      "|   google|            4.43|           4.16|\n",
      "|microsoft|            3.86|           3.56|\n",
      "|  netflix|            3.97|           2.94|\n",
      "+---------+----------------+---------------+\n",
      "\n"
     ]
    }
   ],
   "source": [
    "spark.sql(\"\"\"select company, \n",
    "          current_employee,\n",
    "          overall_ratings from reviews\n",
    "          \"\"\").groupBy(\"company\").pivot(\"current_employee\").avg(\"overall_ratings\").select(col(\"company\")\n",
    "                                                                                          ,fn.round('1', 2).alias('current_employee')\n",
    "                                                                                          ,fn.round('0', 2).alias('former_employee')\n",
    "                                                                                          ).sort(col(\"company\").asc()).show()\n",
    "\n",
    "\n"
   ]
  },
  {
   "cell_type": "code",
   "execution_count": null,
   "metadata": {},
   "outputs": [],
   "source": []
  },
  {
   "cell_type": "markdown",
   "metadata": {},
   "source": [
    "###  (5) Show the count of former Google employee reviews and the average work_balance_score ONLY for locations in Seattle, San Francisco, or Utah\n",
    "- Please show in one solution  \n",
    "- Hint:  Since you already broke out the location to city, state, country in the data wrangling phase above you can use the city and state columns in your where statement"
   ]
  },
  {
   "cell_type": "markdown",
   "metadata": {},
   "source": [
    "##### PySpark Implmentation"
   ]
  },
  {
   "cell_type": "code",
   "execution_count": 22,
   "metadata": {
    "scrolled": true
   },
   "outputs": [
    {
     "name": "stdout",
     "output_type": "stream",
     "text": [
      "+-----------------------------------------+----------------------+\n",
      "|total_former_googler_reviews_in_sf_sea_ut|avg_work_balance_stars|\n",
      "+-----------------------------------------+----------------------+\n",
      "|                                       92|                  4.19|\n",
      "+-----------------------------------------+----------------------+\n",
      "\n"
     ]
    }
   ],
   "source": [
    "cleaned_reviews_df.where((col(\"company\") == 'google') & \\\n",
    "                         (col(\"current_employee\") == 0) & \\\n",
    "                         ((col(\"city\").isin('Seattle','San Francisco')) |\n",
    "                         (col(\"state\").isin('UT')))).groupby() \\\n",
    "                        .agg(count(\"*\").alias(\"total_former_googler_reviews_in_sf_sea_ut\") \\\n",
    "                       , fn.round(avg(\"work_balance_stars\"), 2).alias(\"avg_work_balance_stars\")).show()"
   ]
  },
  {
   "cell_type": "markdown",
   "metadata": {},
   "source": [
    "##### Spark SQL Implmentation"
   ]
  },
  {
   "cell_type": "code",
   "execution_count": 23,
   "metadata": {
    "scrolled": true
   },
   "outputs": [
    {
     "name": "stdout",
     "output_type": "stream",
     "text": [
      "+-----------------------------------------+----------------------+\n",
      "|total_former_googler_reviews_in_sf_sea_ut|avg_work_balance_stars|\n",
      "+-----------------------------------------+----------------------+\n",
      "|                                       92|                  4.19|\n",
      "+-----------------------------------------+----------------------+\n",
      "\n"
     ]
    }
   ],
   "source": [
    "spark.sql(\"\"\"select count(*) as total_former_googler_reviews_in_sf_sea_ut\n",
    "    , round(avg(work_balance_stars), 2) as avg_work_balance_stars\n",
    "    from reviews \n",
    "    where company = 'google'\n",
    "    and current_employee = 0\n",
    "    and (lower(city) in ('seattle','san francisco')\n",
    "    or state == 'UT')\"\"\").show()"
   ]
  },
  {
   "cell_type": "markdown",
   "metadata": {},
   "source": [
    "# Data Visualization\n",
    "1. Turn your Spark dataframe into a Pandas dataframe\n",
    "    - https://pandas.pydata.org/\n",
    "2. Answer the visualization questions with any of the following libraries:\n",
    "    - Matplotlib (https://matplotlib.org/)\n",
    "    - Seaborn (https://seaborn.pydata.org/introduction.html)\n",
    "    - Bookeh (https://bokeh.pydata.org/en/latest/)"
   ]
  },
  {
   "cell_type": "code",
   "execution_count": 24,
   "metadata": {},
   "outputs": [],
   "source": [
    "import numpy as np\n",
    "import pandas as pd\n",
    "import matplotlib.pyplot as plt\n",
    "from matplotlib import style\n",
    "import seaborn as sns"
   ]
  },
  {
   "cell_type": "code",
   "execution_count": 25,
   "metadata": {},
   "outputs": [
    {
     "data": {
      "text/html": [
       "<div>\n",
       "<style scoped>\n",
       "    .dataframe tbody tr th:only-of-type {\n",
       "        vertical-align: middle;\n",
       "    }\n",
       "\n",
       "    .dataframe tbody tr th {\n",
       "        vertical-align: top;\n",
       "    }\n",
       "\n",
       "    .dataframe thead th {\n",
       "        text-align: right;\n",
       "    }\n",
       "</style>\n",
       "<table border=\"1\" class=\"dataframe\">\n",
       "  <thead>\n",
       "    <tr style=\"text-align: right;\">\n",
       "      <th></th>\n",
       "      <th>company</th>\n",
       "      <th>city</th>\n",
       "      <th>state</th>\n",
       "      <th>country</th>\n",
       "      <th>review_date</th>\n",
       "      <th>job_title</th>\n",
       "      <th>current_employee</th>\n",
       "      <th>overall_ratings</th>\n",
       "      <th>work_balance_stars</th>\n",
       "      <th>culture_values_stars</th>\n",
       "      <th>carrer_opportunities_stars</th>\n",
       "      <th>comp_benefit_stars</th>\n",
       "      <th>senior_mangemnet_stars</th>\n",
       "      <th>helpful_count</th>\n",
       "    </tr>\n",
       "  </thead>\n",
       "  <tbody>\n",
       "    <tr>\n",
       "      <th>0</th>\n",
       "      <td>google</td>\n",
       "      <td>Mountain View</td>\n",
       "      <td>CA</td>\n",
       "      <td>US</td>\n",
       "      <td>2015-02-08</td>\n",
       "      <td>Anonymous Employee</td>\n",
       "      <td>1</td>\n",
       "      <td>5.0</td>\n",
       "      <td>2.0</td>\n",
       "      <td>5.0</td>\n",
       "      <td>5.0</td>\n",
       "      <td>4.0</td>\n",
       "      <td>5.0</td>\n",
       "      <td>498.0</td>\n",
       "    </tr>\n",
       "    <tr>\n",
       "      <th>1</th>\n",
       "      <td>google</td>\n",
       "      <td>Mountain View</td>\n",
       "      <td>CA</td>\n",
       "      <td>US</td>\n",
       "      <td>2018-12-09</td>\n",
       "      <td>SDE2</td>\n",
       "      <td>0</td>\n",
       "      <td>5.0</td>\n",
       "      <td>4.0</td>\n",
       "      <td>4.0</td>\n",
       "      <td>4.0</td>\n",
       "      <td>5.0</td>\n",
       "      <td>4.0</td>\n",
       "      <td>1.0</td>\n",
       "    </tr>\n",
       "    <tr>\n",
       "      <th>2</th>\n",
       "      <td>google</td>\n",
       "      <td>New York</td>\n",
       "      <td>NY</td>\n",
       "      <td>US</td>\n",
       "      <td>2018-12-11</td>\n",
       "      <td>Software Engineer</td>\n",
       "      <td>1</td>\n",
       "      <td>5.0</td>\n",
       "      <td>5.0</td>\n",
       "      <td>4.0</td>\n",
       "      <td>4.0</td>\n",
       "      <td>5.0</td>\n",
       "      <td>4.0</td>\n",
       "      <td>0.0</td>\n",
       "    </tr>\n",
       "    <tr>\n",
       "      <th>3</th>\n",
       "      <td>google</td>\n",
       "      <td>New York</td>\n",
       "      <td>NY</td>\n",
       "      <td>US</td>\n",
       "      <td>2018-12-10</td>\n",
       "      <td>Anonymous Employee</td>\n",
       "      <td>1</td>\n",
       "      <td>5.0</td>\n",
       "      <td>5.0</td>\n",
       "      <td>5.0</td>\n",
       "      <td>5.0</td>\n",
       "      <td>5.0</td>\n",
       "      <td>5.0</td>\n",
       "      <td>0.0</td>\n",
       "    </tr>\n",
       "    <tr>\n",
       "      <th>4</th>\n",
       "      <td>google</td>\n",
       "      <td>Mountain View</td>\n",
       "      <td>CA</td>\n",
       "      <td>US</td>\n",
       "      <td>2018-12-08</td>\n",
       "      <td>Anonymous Employee</td>\n",
       "      <td>1</td>\n",
       "      <td>5.0</td>\n",
       "      <td>4.0</td>\n",
       "      <td>5.0</td>\n",
       "      <td>4.0</td>\n",
       "      <td>4.0</td>\n",
       "      <td>3.0</td>\n",
       "      <td>0.0</td>\n",
       "    </tr>\n",
       "  </tbody>\n",
       "</table>\n",
       "</div>"
      ],
      "text/plain": [
       "  company           city state country review_date           job_title  \\\n",
       "0  google  Mountain View    CA      US  2015-02-08  Anonymous Employee   \n",
       "1  google  Mountain View    CA      US  2018-12-09                SDE2   \n",
       "2  google       New York    NY      US  2018-12-11   Software Engineer   \n",
       "3  google       New York    NY      US  2018-12-10  Anonymous Employee   \n",
       "4  google  Mountain View    CA      US  2018-12-08  Anonymous Employee   \n",
       "\n",
       "   current_employee  overall_ratings  work_balance_stars  \\\n",
       "0                 1              5.0                 2.0   \n",
       "1                 0              5.0                 4.0   \n",
       "2                 1              5.0                 5.0   \n",
       "3                 1              5.0                 5.0   \n",
       "4                 1              5.0                 4.0   \n",
       "\n",
       "   culture_values_stars  carrer_opportunities_stars  comp_benefit_stars  \\\n",
       "0                   5.0                         5.0                 4.0   \n",
       "1                   4.0                         4.0                 5.0   \n",
       "2                   4.0                         4.0                 5.0   \n",
       "3                   5.0                         5.0                 5.0   \n",
       "4                   5.0                         4.0                 4.0   \n",
       "\n",
       "   senior_mangemnet_stars  helpful_count  \n",
       "0                     5.0          498.0  \n",
       "1                     4.0            1.0  \n",
       "2                     4.0            0.0  \n",
       "3                     5.0            0.0  \n",
       "4                     3.0            0.0  "
      ]
     },
     "execution_count": 25,
     "metadata": {},
     "output_type": "execute_result"
    }
   ],
   "source": [
    "reviews_pd_df = cleaned_reviews_df.toPandas()\n",
    "reviews_pd_df.head()"
   ]
  },
  {
   "cell_type": "markdown",
   "metadata": {},
   "source": [
    "### Plot the distributions of reviews for each company (current and former employees) \n",
    "- Hint: A Seaborn factorplot will work nicely here\n",
    "    - https://kite.com/python/docs/seaborn.factorplot\n",
    "    "
   ]
  },
  {
   "cell_type": "code",
   "execution_count": 26,
   "metadata": {},
   "outputs": [
    {
     "data": {
      "image/png": "[encoded data removed]",
      "text/plain": [
       "<Figure size 1080x504 with 1 Axes>"
      ]
     },
     "metadata": {
      "needs_background": "light"
     },
     "output_type": "display_data"
    }
   ],
   "source": [
    "viz_df = reviews_pd_df[['company','current_employee','overall_ratings']].groupby(['company','current_employee']).count().reset_index()\n",
    "\n",
    "## Styling \n",
    "plt.figure(figsize = (15, 7))\n",
    "plt.style.use('seaborn-white')\n",
    "sns.set_context(\"paper\", font_scale=1.5, rc={\"font.size\":10,\"axes.labelsize\":15})\n",
    "\n",
    "ax = sns.barplot(x='company',y='overall_ratings'\n",
    "                 , data = viz_df , hue = 'current_employee', palette = 'Blues_d')\n",
    "ax.set_ylabel('Count of reviews')\n",
    "ax.set_xlabel('Company')\n",
    "ax.set_title('Distribution of reviews : Current Employee & Former Employee')\n",
    "for t, l in zip(ax.get_legend().texts, ['Former Employee','Current Employee']): t.set_text(l)\n",
    "ax.get_legend().set_title('')\n",
    "    \n",
    "for p in ax.patches:\n",
    "    height = p.get_height()\n",
    "    ax.text(p.get_x()+ p.get_width()/2., height + 100, \n",
    "           '{}'.format(int(100 * height / 100)),\n",
    "           ha = 'center' ,fontsize = 12)\n",
    "\n",
    "\n",
    "sns.despine()\n"
   ]
  },
  {
   "cell_type": "markdown",
   "metadata": {},
   "source": [
    "### Plot the distributions of reviews for each company (current and former employees) and their overall ratings\n",
    "- Hint: A Seaborn factorplot will work nicely here\n",
    "    - https://kite.com/python/docs/seaborn.factorplot"
   ]
  },
  {
   "cell_type": "code",
   "execution_count": 27,
   "metadata": {
    "scrolled": false
   },
   "outputs": [
    {
     "data": {
      "image/png": "[encoded data removed]",
      "text/plain": [
       "<Figure size 1080x504 with 1 Axes>"
      ]
     },
     "metadata": {},
     "output_type": "display_data"
    }
   ],
   "source": [
    "viz_df = reviews_pd_df[['company','current_employee','overall_ratings']].groupby(['company','current_employee']).mean().reset_index()\n",
    "\n",
    "## Styling \n",
    "plt.figure(figsize = (15, 7))\n",
    "plt.style.use('seaborn-white')\n",
    "sns.set_context(\"paper\", font_scale=1.5, rc={\"font.size\":10,\"axes.labelsize\":15})\n",
    "\n",
    "ax = sns.barplot(x='company',y='overall_ratings'\n",
    "                 , data = viz_df , hue = 'current_employee', palette = 'Blues_d')\n",
    "ax.set_ylabel('Avg reviews')\n",
    "ax.set_xlabel('Company')\n",
    "ax.set_title('Distribution of overall ratings : Current Employee & Former Employee')\n",
    "for t, l in zip(ax.get_legend().texts, ['Former Employee','Current Employee']): t.set_text(l)\n",
    "ax.get_legend().set_title('')\n",
    "    \n",
    "for p in ax.patches:\n",
    "    height = p.get_height()\n",
    "    ax.text(p.get_x()+ p.get_width()/2., height + 0.1, \n",
    "           '{:1.2f}'.format(100 * height / 100),\n",
    "           ha = 'center' ,fontsize = 12)\n",
    "\n",
    "\n",
    "sns.despine()\n"
   ]
  },
  {
   "cell_type": "markdown",
   "metadata": {},
   "source": [
    "# Lessons Learned\n",
    "- Please feel free to let us know anything you want in this section about the test, what you learned, liked, didn't like, etc"
   ]
  },
  {
   "cell_type": "markdown",
   "metadata": {},
   "source": [
    "This is an interesting assignment with most frequently used transformations in data wrangling.Thanks for the clear instructions on installing spark. I learnt about a library today `findspark`, which helped me to fix missing `py4j` error pretty quickly. "
   ]
  },
  {
   "cell_type": "code",
   "execution_count": 28,
   "metadata": {},
   "outputs": [
    {
     "data": {
      "text/plain": [
       "'/Users/mdobbali/Documents/rakutenusadataengineeringtest'"
      ]
     },
     "execution_count": 28,
     "metadata": {},
     "output_type": "execute_result"
    }
   ],
   "source": [
    "pwd"
   ]
  },
  {
   "cell_type": "code",
   "execution_count": null,
   "metadata": {},
   "outputs": [],
   "source": []
  }
 ],
 "metadata": {
  "kernelspec": {
   "display_name": "Python 3",
   "language": "python",
   "name": "python3"
  },
  "language_info": {
   "codemirror_mode": {
    "name": "ipython",
    "version": 3
   },
   "file_extension": ".py",
   "mimetype": "text/x-python",
   "name": "python",
   "nbconvert_exporter": "python",
   "pygments_lexer": "ipython3",
   "version": "3.7.2"
  }
 },
 "nbformat": 4,
 "nbformat_minor": 2
}
