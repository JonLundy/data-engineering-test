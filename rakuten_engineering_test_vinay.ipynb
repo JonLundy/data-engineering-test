{
 "cells": [
  {
   "cell_type": "markdown",
   "metadata": {},
   "source": [
    "# Rakuten USA - Data Engineering Test\n",
    "\n",
    "### Goal\n",
    "The goal of this test is not ment to be exhaustive, but we do want to test your skills in analytical thinking, SQL, data wrangling, data analysis, and data visualization. \n",
    "\n",
    "**Please remember:** The better that you do on this assignment, the less questions we will have during your on-site interviews. :)\n",
    "\n",
    "### Expectations\n",
    "You can expect this test to use the following technologies:\n",
    "- Python3\n",
    "- Jupyter Notebook\n",
    "- PySpark\n",
    "- PySpark SQL\n",
    "\n",
    "This test will cover the following areas: \n",
    "- Data Cleaning/Wrangling\n",
    "- Exploratory Data Analysis (EDA)\n",
    "- Data Visualization\n",
    "\n",
    "This test should take you no more than 2-4 hours.\n",
    "\n",
    "### What to turn in, and where to send your test\n",
    "Please email stirling.waite@rakuten with your finished notebook\n",
    "- rakuten_engineer_test.ipynb\n",
    " \n",
    "### Questions?\n",
    "Feel free to email me or call me with any questions about this test\n",
    "- Email: stirling.waite@rakuten.com\n",
    "- Phone: 801-856-1426\n",
    "- LinkedIn Chat: https://www.linkedin.com/in/stirlingwaite/\n",
    "- Gchat: stirlingw@gmail.com"
   ]
  },
  {
   "cell_type": "code",
   "execution_count": null,
   "metadata": {},
   "outputs": [],
   "source": []
  },
  {
   "cell_type": "code",
   "execution_count": null,
   "metadata": {},
   "outputs": [],
   "source": []
  },
  {
   "cell_type": "markdown",
   "metadata": {},
   "source": [
    "# About The Dataset\n",
    "\n",
    "Below you will find a modified free Kaggle competition dataset from https://www.kaggle.com/mayank811/employee-reviews/data using scraped data from Glassdoor.com.\n",
    "\n",
    "## Context\n",
    "- Over 67k employee reviews for Google, Amazon, Facebook, Apple, Microsoft, and Netflix.\n",
    "- Web scraped from Glassdoor\n",
    "\n",
    "## Content\n",
    "This dataset contains employee reviews separated into the following categories:\n",
    "\n",
    "- **Index:** index\n",
    "- **Company:** Company name\n",
    "- **Location:** This dataset is global, as such it may include the country's name in parenthesis [i.e \"Toronto, ON(Canada)\"]. However, if the location is in the USA then it will only include the city and state[i.e \"Los Angeles, CA\" ]\n",
    "- **Date Posted:** in the following format MM DD, YYYY\n",
    "- **Job-Title:** This string will also include whether the reviewer is a 'Current' or 'Former' Employee at the time of the review\n",
    "- **Summary:** Short summary of employee review\n",
    "- **Pros:** Pros\n",
    "- **Cons:** Cons\n",
    "- **Overall Rating:** 1-5\n",
    "- **Work/Life Balance Rating:** 1-5\n",
    "- **Culture and Values Rating:** 1-5\n",
    "- **Career Opportunities Rating:** 1-5\n",
    "- **Comp & Benefits Rating:** 1-5\n",
    "- **Senior Management Rating:** 1-5\n",
    "- **Helpful Review Count:** 1-5\n",
    "\n",
    "**Link to Review:** This will provide you with a direct link to the page that contains the review. However it is likely that this link will be outdated\n",
    "\n",
    "**NOTE:** 'none' is placed in all cells where no data value was found.\n",
    "\n"
   ]
  },
  {
   "cell_type": "code",
   "execution_count": null,
   "metadata": {},
   "outputs": [],
   "source": []
  },
  {
   "cell_type": "code",
   "execution_count": null,
   "metadata": {},
   "outputs": [],
   "source": []
  },
  {
   "cell_type": "markdown",
   "metadata": {},
   "source": [
    "# PySpark Initialization"
   ]
  },
  {
   "cell_type": "code",
   "execution_count": 1,
   "metadata": {},
   "outputs": [],
   "source": [
    "import re\n",
    "import pyspark\n",
    "from pyspark import SparkConf, SparkContext, SQLContext\n",
    "from pyspark.sql import SparkSession, Row\n",
    "from pyspark.sql.functions import *\n",
    "from pyspark.sql import functions as fn\n",
    "from pyspark.sql import types as t\n",
    "from pyspark.sql.types import *\n",
    "from datetime import datetime"
   ]
  },
  {
   "cell_type": "code",
   "execution_count": 2,
   "metadata": {},
   "outputs": [],
   "source": [
    "conf = SparkConf()\\\n",
    "                .setMaster(\"local[2]\")\\\n",
    "                .setAppName(\"rakutenHomework\")\n",
    "        \n",
    "sc = SparkContext(conf=conf)\n",
    "sc.setLogLevel(\"ERROR\")\n",
    "sqlContext = SQLContext(sc)\n",
    "spark = SparkSession.builder.appName(\"spark play\").getOrCreate()"
   ]
  },
  {
   "cell_type": "markdown",
   "metadata": {},
   "source": [
    "## Read Dataset into Spark"
   ]
  },
  {
   "cell_type": "code",
   "execution_count": 3,
   "metadata": {},
   "outputs": [
    {
     "name": "stdout",
     "output_type": "stream",
     "text": [
      "27779\n"
     ]
    }
   ],
   "source": [
    "reviews_df = spark.read.csv(\"employee_reviews_usa.csv\", header=True, mode=\"DROPMALFORMED\", inferSchema='true', encoding=\"utf-8\")\n",
    "print(reviews_df.count())\n",
    "# reviews_df.show()"
   ]
  },
  {
   "cell_type": "code",
   "execution_count": null,
   "metadata": {},
   "outputs": [],
   "source": []
  },
  {
   "cell_type": "code",
   "execution_count": null,
   "metadata": {},
   "outputs": [],
   "source": []
  },
  {
   "cell_type": "markdown",
   "metadata": {},
   "source": [
    "# Data Cleaning & Removing Un-Needed Columns\n",
    "\n",
    "No one likes dirty data.  Let's clean up this dataset to make it more usable for our use case.\n",
    "\n",
    " \n",
    "1. Make the date field more data friendly\n",
    "    - Hint #1: Use the provided `review_date_udf` udf provided (it will make your life more simple) \n",
    "2. Using the \"location\" column \n",
    "    - Add new columns for city, state, country columns\n",
    "        - Hint #1: Concider using `fn.split()` to split `location` for columns `city` `state` \n",
    "        - Hint #2: I've narrowed down the country to just US, so please use something like below to create the `country` column\n",
    "            - ```lit(\"US\").alias(\"country\")```\n",
    "3. Using the \"job-title\" column  \n",
    "    - Add a new boolean column titled \"current_employee\" that will show:\n",
    "        - 1,  if reviewer is a current employee\n",
    "        - 0,  if reviewer is not a current employee\n",
    "        - Hint:  Use spark function `fn.when()` and `col(\"job-title\").contains(\"\")`\n",
    "    - Remove \"Former Employee - \" and \"\" from the \"job-title\" column\n",
    "        - Hint: Use the udf function `reg_job_title_udf`\n",
    "4. Drop un-needed columns \n",
    "    - \"_c0\", \"link\", \"pros\", \"cons\", \"advice-to-mgmt\", \"summary\", \"location\""
   ]
  },
  {
   "cell_type": "markdown",
   "metadata": {},
   "source": [
    "##### Useful UDF functions needed for below"
   ]
  },
  {
   "cell_type": "code",
   "execution_count": 4,
   "metadata": {},
   "outputs": [],
   "source": [
    "review_date_udf = fn.udf(\n",
    "    lambda x: datetime.strptime(x, ' %b %d, %Y'), DateType()\n",
    ")"
   ]
  },
  {
   "cell_type": "code",
   "execution_count": 5,
   "metadata": {},
   "outputs": [],
   "source": [
    "def reg_job_title(column):\n",
    "    res_split=[]\n",
    "    reg_patterns=[\"Former Employee - / \", \"Current Employee - / \"]\n",
    "    for i in range(len(reg_patterns)):\n",
    "        res_split=re.findall(r\"[^/]+\",reg_patterns[i])\n",
    "        for x in res_split[0].split(\"|\"):\n",
    "            column = column.replace(x,res_split[1])\n",
    "    return column[1:]\n",
    "\n",
    "reg_job_title_udf = fn.udf(reg_job_title, t.StringType())"
   ]
  },
  {
   "cell_type": "markdown",
   "metadata": {},
   "source": [
    "# Cleaned Spark Dataframe\n",
    "\n",
    "- I've included the starting of dataframe, but in the `select` you will want to add the fixes and columns needed to answer the questions below\n"
   ]
  },
  {
   "cell_type": "code",
   "execution_count": 6,
   "metadata": {},
   "outputs": [
    {
     "name": "stdout",
     "output_type": "stream",
     "text": [
      "+-------+-------------+-----+-------+----------+--------------------+----------------+---------------+------------------+--------------------+--------------------------+------------------+----------------------+-------------+--------------------+\n",
      "|company|         city|state|country|     dates|           job_title|current_employee|overall_ratings|work_balance_stars|culture_values_stars|carrer_opportunities_stars|comp_benefit_stars|senior_mangemnet_stars|helpful_count|                link|\n",
      "+-------+-------------+-----+-------+----------+--------------------+----------------+---------------+------------------+--------------------+--------------------------+------------------+----------------------+-------------+--------------------+\n",
      "| google|Mountain View|   CA|     US|2015-02-08|  Anonymous Employee|               1|            5.0|               2.0|                 5.0|                       5.0|               4.0|                   5.0|          498|https://www.glass...|\n",
      "| google|Mountain View|   CA|     US|2018-12-09|                SDE2|               0|            5.0|               4.0|                 4.0|                       4.0|               5.0|                   4.0|            1|https://www.glass...|\n",
      "| google|     New York|   NY|     US|2018-12-11|   Software Engineer|               1|            5.0|               5.0|                 4.0|                       4.0|               5.0|                   4.0|            0|https://www.glass...|\n",
      "| google|     New York|   NY|     US|2018-12-10|  Anonymous Employee|               1|            5.0|               5.0|                 5.0|                       5.0|               5.0|                   5.0|            0|https://www.glass...|\n",
      "| google|Mountain View|   CA|     US|2018-12-08|  Anonymous Employee|               1|            5.0|               4.0|                 5.0|                       4.0|               4.0|                   3.0|            0|https://www.glass...|\n",
      "| google|San Francisco|   CA|     US|2018-12-03|Sales Operations ...|               1|            5.0|               5.0|                 5.0|                       5.0|               4.0|                   4.0|            1|https://www.glass...|\n",
      "| google|     New York|   NY|     US|2018-11-26|            Designer|               1|            5.0|               3.0|                 4.0|                       3.0|               4.0|                   5.0|            2|https://www.glass...|\n",
      "| google|  Los Angeles|   CA|     US|2018-11-29|    Staff Accountant|               1|            5.0|               5.0|                 5.0|                       5.0|               5.0|                   5.0|            0|https://www.glass...|\n",
      "| google|San Francisco|   CA|     US|2018-11-17|   Program Manager I|               1|            5.0|               5.0|                 5.0|                       5.0|               5.0|                   5.0|            3|https://www.glass...|\n",
      "| google|Mountain View|   CA|     US|2018-12-09|     Senior Director|               0|            3.0|               4.0|                 5.0|                       5.0|               5.0|                   5.0|            0|https://www.glass...|\n",
      "| google|Mountain View|   CA|     US|2018-12-08|Software Engineer...|               1|            4.0|               5.0|                 5.0|                       4.0|               4.0|                   4.0|            0|https://www.glass...|\n",
      "| google|     Dearborn|   MI|     US|2018-11-20|   Google Specialist|               1|            5.0|               3.0|                 4.0|                       4.0|               5.0|                   4.0|            1|https://www.glass...|\n",
      "| google|     New York|   NY|     US|2018-12-06|  Anonymous Employee|               1|            4.0|               4.0|                 3.0|                       3.0|               4.0|                   3.0|            0|https://www.glass...|\n",
      "| google|    Sunnyvale|   CA|     US|2018-11-21|  Anonymous Employee|               1|            5.0|               3.0|                 5.0|                       5.0|               5.0|                   4.0|            0|https://www.glass...|\n",
      "| google|      Seattle|   WA|     US|2018-11-13|Staff Software En...|               1|            5.0|               4.0|                 4.0|                       5.0|               5.0|                   3.0|            2|https://www.glass...|\n",
      "| google|     New York|   NY|     US|2018-11-19|     Program Manager|               1|            5.0|               5.0|                 3.0|                       5.0|               4.0|                   5.0|            0|https://www.glass...|\n",
      "| google|    Sunnyvale|   CA|     US|2018-11-19|   Software Engineer|               1|            5.0|               5.0|                 5.0|                       4.0|               4.0|                   4.0|            0|https://www.glass...|\n",
      "| google|    Ann Arbor|   MI|     US|2018-11-19|Associate Account...|               0|            5.0|               4.0|                 4.0|                       5.0|               5.0|                   2.0|            0|https://www.glass...|\n",
      "| google|Mountain View|   CA|     US|2018-11-16|  Anonymous Employee|               1|            3.0|               2.0|                 1.0|                       2.0|               5.0|                   2.0|            8|https://www.glass...|\n",
      "| google|Mountain View|   CA|     US|2018-11-09|   Software Engineer|               1|            5.0|               5.0|                 5.0|                       5.0|               5.0|                   5.0|            1|https://www.glass...|\n",
      "+-------+-------------+-----+-------+----------+--------------------+----------------+---------------+------------------+--------------------+--------------------------+------------------+----------------------+-------------+--------------------+\n",
      "only showing top 20 rows\n",
      "\n"
     ]
    }
   ],
   "source": [
    "# reviews_df.show()\n",
    "cleaned_reviews_df = reviews_df.where((col(\"dates\") != 'None') & (col(\"dates\") != ' Jan 0, 0000') & (col(\"dates\") != ' Nov 0, 0000') & (~col(\"location\").contains(\"(\")) & (col(\"location\") != \"none\") ) \\\n",
    "                         .select(\n",
    "                             col(\"company\"),\n",
    "                             fn.split(\"location\",\",\")[0].alias(\"city\"),\n",
    "                             fn.split(\"location\",\",\")[1].alias(\"state\"),\n",
    "                             lit(\"US\").alias(\"country\"),\n",
    "                             review_date_udf(\"dates\").alias(\"dates\"),\n",
    "                             reg_job_title_udf(\"job_title\").alias(\"job_title\"),\n",
    "                             fn.when(col(\"job_title\").contains(\"Current Employee\"),1).otherwise(0).alias(\"current_employee\"),\n",
    "                             col(\"overall_ratings\"),\n",
    "                             col(\"work_balance_stars\"),\n",
    "                             col(\"culture_values_stars\"),\n",
    "                             col(\"carrer_opportunities_stars\"),\n",
    "                             col(\"comp_benefit_stars\"),\n",
    "                             col(\"senior_mangemnet_stars\"),\n",
    "                             col(\"helpful_count\"),\n",
    "                             col(\"link\")\n",
    "#                              <remove this, and insert more here>\n",
    "                         )\n",
    "\n",
    "cleaned_reviews_df.show()"
   ]
  },
  {
   "cell_type": "code",
   "execution_count": null,
   "metadata": {},
   "outputs": [],
   "source": []
  },
  {
   "cell_type": "code",
   "execution_count": null,
   "metadata": {},
   "outputs": [],
   "source": []
  },
  {
   "cell_type": "markdown",
   "metadata": {},
   "source": [
    "# Data Questions\n",
    "\n",
    "Each question below will have two parts.   Please solve each problem in PySpark and PySpark SQL.  This is to test your ability to solve the problem in PySpark, and to test your ability to solve the problem in SQL.\n",
    "\n",
    "- PySpark API (https://spark.apache.org/docs/latest/api/python/index.html)\n",
    "- PySpark SQL API (https://spark.apache.org/docs/latest/api/python/pyspark.sql.html)"
   ]
  },
  {
   "cell_type": "code",
   "execution_count": 7,
   "metadata": {},
   "outputs": [],
   "source": [
    "cleaned_reviews_df.createOrReplaceTempView(\"reviews\")"
   ]
  },
  {
   "cell_type": "markdown",
   "metadata": {},
   "source": [
    "### (1) What is the total number of reviews in the data set?"
   ]
  },
  {
   "cell_type": "markdown",
   "metadata": {},
   "source": [
    "##### PySpark Implmentation"
   ]
  },
  {
   "cell_type": "code",
   "execution_count": 8,
   "metadata": {},
   "outputs": [
    {
     "data": {
      "text/plain": [
       "27779"
      ]
     },
     "execution_count": 8,
     "metadata": {},
     "output_type": "execute_result"
    }
   ],
   "source": [
    "cleaned_reviews_df.count()"
   ]
  },
  {
   "cell_type": "markdown",
   "metadata": {},
   "source": [
    "##### Spark SQL Implmentation"
   ]
  },
  {
   "cell_type": "code",
   "execution_count": 9,
   "metadata": {},
   "outputs": [
    {
     "name": "stdout",
     "output_type": "stream",
     "text": [
      "+------------+\n",
      "|review_count|\n",
      "+------------+\n",
      "|       27779|\n",
      "+------------+\n",
      "\n"
     ]
    }
   ],
   "source": [
    "spark.sql(\"SELECT count(*) as review_count from reviews\").show()"
   ]
  },
  {
   "cell_type": "code",
   "execution_count": null,
   "metadata": {},
   "outputs": [],
   "source": []
  },
  {
   "cell_type": "markdown",
   "metadata": {},
   "source": [
    "###  (2) How many reviews exist in the dataset per each company?"
   ]
  },
  {
   "cell_type": "markdown",
   "metadata": {},
   "source": [
    "##### PySpark Implmentation"
   ]
  },
  {
   "cell_type": "code",
   "execution_count": 10,
   "metadata": {},
   "outputs": [
    {
     "name": "stdout",
     "output_type": "stream",
     "text": [
      "+---------+-----+\n",
      "|  company|count|\n",
      "+---------+-----+\n",
      "|microsoft| 7919|\n",
      "|   amazon| 9993|\n",
      "|  netflix|  444|\n",
      "|    apple| 5729|\n",
      "| facebook| 1148|\n",
      "|   google| 2546|\n",
      "+---------+-----+\n",
      "\n"
     ]
    }
   ],
   "source": [
    "cleaned_reviews_df.groupBy(col(\"company\")).count().show()"
   ]
  },
  {
   "cell_type": "markdown",
   "metadata": {},
   "source": [
    "##### Spark SQL Implmentation"
   ]
  },
  {
   "cell_type": "code",
   "execution_count": 11,
   "metadata": {},
   "outputs": [
    {
     "name": "stdout",
     "output_type": "stream",
     "text": [
      "+---------+------------+\n",
      "|  company|review_count|\n",
      "+---------+------------+\n",
      "|microsoft|        7919|\n",
      "|   amazon|        9993|\n",
      "|  netflix|         444|\n",
      "|    apple|        5729|\n",
      "| facebook|        1148|\n",
      "|   google|        2546|\n",
      "+---------+------------+\n",
      "\n"
     ]
    }
   ],
   "source": [
    "spark.sql(\"SELECT company,count(*) as review_count from reviews group by company\").show()"
   ]
  },
  {
   "cell_type": "code",
   "execution_count": null,
   "metadata": {},
   "outputs": [],
   "source": []
  },
  {
   "cell_type": "markdown",
   "metadata": {},
   "source": [
    "###  (3) How many reviews are from former and current employees per each company?"
   ]
  },
  {
   "cell_type": "markdown",
   "metadata": {},
   "source": [
    "##### PySpark Implmentation"
   ]
  },
  {
   "cell_type": "code",
   "execution_count": 12,
   "metadata": {},
   "outputs": [
    {
     "name": "stdout",
     "output_type": "stream",
     "text": [
      "+---------+----------------+-----+\n",
      "|  company|current_employee|count|\n",
      "+---------+----------------+-----+\n",
      "|   amazon|               0| 3342|\n",
      "|   amazon|               1| 6651|\n",
      "|    apple|               0| 2377|\n",
      "|    apple|               1| 3352|\n",
      "| facebook|               1|  931|\n",
      "| facebook|               0|  217|\n",
      "|   google|               0|  926|\n",
      "|   google|               1| 1620|\n",
      "|microsoft|               1| 5129|\n",
      "|microsoft|               0| 2790|\n",
      "|  netflix|               1|  230|\n",
      "|  netflix|               0|  214|\n",
      "+---------+----------------+-----+\n",
      "\n"
     ]
    }
   ],
   "source": [
    "cleaned_reviews_df.select(col(\"company\"),col(\"current_employee\")).groupBy(col(\"company\"),col(\"current_employee\")).count().orderBy(col(\"company\")).show()\n"
   ]
  },
  {
   "cell_type": "markdown",
   "metadata": {},
   "source": [
    "##### Spark SQL Implmentation"
   ]
  },
  {
   "cell_type": "code",
   "execution_count": 13,
   "metadata": {},
   "outputs": [
    {
     "name": "stdout",
     "output_type": "stream",
     "text": [
      "+---------+----------------+------------+\n",
      "|  company|current_employee|review_count|\n",
      "+---------+----------------+------------+\n",
      "|   amazon|               0|        3342|\n",
      "|   amazon|               1|        6651|\n",
      "|    apple|               1|        3352|\n",
      "|    apple|               0|        2377|\n",
      "| facebook|               0|         217|\n",
      "| facebook|               1|         931|\n",
      "|   google|               0|         926|\n",
      "|   google|               1|        1620|\n",
      "|microsoft|               1|        5129|\n",
      "|microsoft|               0|        2790|\n",
      "|  netflix|               1|         230|\n",
      "|  netflix|               0|         214|\n",
      "+---------+----------------+------------+\n",
      "\n"
     ]
    }
   ],
   "source": [
    "spark.sql(\"SELECT company,current_employee,count(*) as review_count from reviews group by company,current_employee order by company\").show()\n",
    "          \n",
    "          \n",
    "          \n",
    "          \n",
    "          \n",
    "          "
   ]
  },
  {
   "cell_type": "code",
   "execution_count": null,
   "metadata": {},
   "outputs": [],
   "source": []
  },
  {
   "cell_type": "markdown",
   "metadata": {},
   "source": [
    "###  (4) What is the average review scores of each current and former employees for each company?"
   ]
  },
  {
   "cell_type": "markdown",
   "metadata": {},
   "source": [
    "##### PySpark Implmentation"
   ]
  },
  {
   "cell_type": "code",
   "execution_count": 14,
   "metadata": {},
   "outputs": [
    {
     "name": "stdout",
     "output_type": "stream",
     "text": [
      "+---------+----------------+------------------+\n",
      "|  company|current_employee|avg(helpful_count)|\n",
      "+---------+----------------+------------------+\n",
      "|   amazon|               1| 1.908735528491956|\n",
      "|   amazon|               0|1.6828246558946738|\n",
      "|    apple|               0|1.2654606647034077|\n",
      "|    apple|               1| 1.404832935560859|\n",
      "| facebook|               1|  2.59828141783029|\n",
      "| facebook|               0| 4.576036866359447|\n",
      "|   google|               0|1.7591792656587473|\n",
      "|   google|               1|               1.8|\n",
      "|microsoft|               1|0.5578085396763501|\n",
      "|microsoft|               0| 0.613978494623656|\n",
      "|  netflix|               1| 4.717391304347826|\n",
      "|  netflix|               0| 7.490654205607477|\n",
      "+---------+----------------+------------------+\n",
      "\n"
     ]
    }
   ],
   "source": [
    "cleaned_reviews_df.select(col(\"company\"),col(\"current_employee\"),col(\"helpful_count\")).groupBy(col(\"company\"),col(\"current_employee\")).agg(avg(col(\"helpful_count\"))).orderBy(col(\"company\")).show()\n"
   ]
  },
  {
   "cell_type": "markdown",
   "metadata": {},
   "source": [
    "##### Spark SQL Implmentation"
   ]
  },
  {
   "cell_type": "code",
   "execution_count": 15,
   "metadata": {},
   "outputs": [
    {
     "name": "stdout",
     "output_type": "stream",
     "text": [
      "+---------+----------------+------------------+\n",
      "|  company|current_employee|  avg_review_score|\n",
      "+---------+----------------+------------------+\n",
      "|   amazon|               0|1.6828246558946738|\n",
      "|   amazon|               1| 1.908735528491956|\n",
      "|    apple|               0|1.2654606647034077|\n",
      "|    apple|               1| 1.404832935560859|\n",
      "| facebook|               1|  2.59828141783029|\n",
      "| facebook|               0| 4.576036866359447|\n",
      "|   google|               0|1.7591792656587473|\n",
      "|   google|               1|               1.8|\n",
      "|microsoft|               0| 0.613978494623656|\n",
      "|microsoft|               1|0.5578085396763501|\n",
      "|  netflix|               1| 4.717391304347826|\n",
      "|  netflix|               0| 7.490654205607477|\n",
      "+---------+----------------+------------------+\n",
      "\n"
     ]
    }
   ],
   "source": [
    "spark.sql(\"SELECT company,current_employee,avg(helpful_count) as avg_review_score from reviews group by company,current_employee order by company\").show()\n",
    "          \n",
    "          "
   ]
  },
  {
   "cell_type": "code",
   "execution_count": null,
   "metadata": {},
   "outputs": [],
   "source": []
  },
  {
   "cell_type": "markdown",
   "metadata": {},
   "source": [
    "###  (5) Show the count of former Google employee reviews and the average work_balance_score ONLY for locations in Seattle, San Francisco, or Utah\n",
    "- Please show in one solution  \n",
    "- Hint:  Since you already broke out the location to city, state, country in the data wrangling phase above you can use the city and state columns in your where statement"
   ]
  },
  {
   "cell_type": "markdown",
   "metadata": {},
   "source": [
    "##### PySpark Implmentation"
   ]
  },
  {
   "cell_type": "code",
   "execution_count": 16,
   "metadata": {},
   "outputs": [
    {
     "name": "stdout",
     "output_type": "stream",
     "text": [
      "+-------+----------------+-----------------------+--------------+\n",
      "|company|current_employee|avg(work_balance_stars)|count(company)|\n",
      "+-------+----------------+-----------------------+--------------+\n",
      "| google|               0|      4.182352941176471|            90|\n",
      "+-------+----------------+-----------------------+--------------+\n",
      "\n"
     ]
    }
   ],
   "source": [
    "cleaned_reviews_df.filter((col(\"current_employee\") == 0) & (col(\"company\") ==\"google\")).filter((col(\"state\") ==\"UT\") | (col(\"city\") ==\"Seattle\") | (col(\"city\") ==\"San Francisco\")).select(col(\"company\"),col(\"current_employee\"),col(\"work_balance_stars\")).groupBy(col(\"company\"),col(\"current_employee\")).agg(avg(col(\"work_balance_stars\")), count(col(\"company\"))).show()\n"
   ]
  },
  {
   "cell_type": "markdown",
   "metadata": {},
   "source": [
    "##### Spark SQL Implmentation"
   ]
  },
  {
   "cell_type": "code",
   "execution_count": 17,
   "metadata": {},
   "outputs": [
    {
     "name": "stdout",
     "output_type": "stream",
     "text": [
      "+-------+----------------+---------------------------------------+--------+\n",
      "|company|current_employee|avg(CAST(work_balance_stars AS DOUBLE))|count(1)|\n",
      "+-------+----------------+---------------------------------------+--------+\n",
      "| google|               0|                      4.182352941176471|      90|\n",
      "+-------+----------------+---------------------------------------+--------+\n",
      "\n"
     ]
    }
   ],
   "source": [
    "spark.sql(\"select company,current_employee,avg(work_balance_stars),count(*) from reviews where company='google' and current_employee=0 and (state='UT' or city='Seattle' or city='San Francisco') group by company,current_employee\").show()\n"
   ]
  },
  {
   "cell_type": "code",
   "execution_count": null,
   "metadata": {},
   "outputs": [],
   "source": []
  },
  {
   "cell_type": "code",
   "execution_count": null,
   "metadata": {},
   "outputs": [],
   "source": []
  },
  {
   "cell_type": "markdown",
   "metadata": {},
   "source": [
    "# Data Visualization\n",
    "1. Turn your Spark dataframe into a Pandas dataframe\n",
    "    - https://pandas.pydata.org/\n",
    "2. Answer the visualization questions with any of the following libraries:\n",
    "    - Matplotlib (https://matplotlib.org/)\n",
    "    - Seaborn (https://seaborn.pydata.org/introduction.html)\n",
    "    - Bookeh (https://bokeh.pydata.org/en/latest/)"
   ]
  },
  {
   "cell_type": "code",
   "execution_count": 18,
   "metadata": {},
   "outputs": [],
   "source": [
    "import numpy as np\n",
    "import pandas as pd\n",
    "import matplotlib.pyplot as plt\n",
    "from matplotlib import style\n",
    "import seaborn as sns"
   ]
  },
  {
   "cell_type": "code",
   "execution_count": 19,
   "metadata": {},
   "outputs": [
    {
     "name": "stdout",
     "output_type": "stream",
     "text": [
      "         company           city state country       dates  \\\n",
      "0         google  Mountain View    CA      US  2015-02-08   \n",
      "1         google  Mountain View    CA      US  2018-12-09   \n",
      "2         google       New York    NY      US  2018-12-11   \n",
      "3         google       New York    NY      US  2018-12-10   \n",
      "4         google  Mountain View    CA      US  2018-12-08   \n",
      "5         google  San Francisco    CA      US  2018-12-03   \n",
      "6         google       New York    NY      US  2018-11-26   \n",
      "7         google    Los Angeles    CA      US  2018-11-29   \n",
      "8         google  San Francisco    CA      US  2018-11-17   \n",
      "9         google  Mountain View    CA      US  2018-12-09   \n",
      "10        google  Mountain View    CA      US  2018-12-08   \n",
      "11        google       Dearborn    MI      US  2018-11-20   \n",
      "12        google       New York    NY      US  2018-12-06   \n",
      "13        google      Sunnyvale    CA      US  2018-11-21   \n",
      "14        google        Seattle    WA      US  2018-11-13   \n",
      "15        google       New York    NY      US  2018-11-19   \n",
      "16        google      Sunnyvale    CA      US  2018-11-19   \n",
      "17        google      Ann Arbor    MI      US  2018-11-19   \n",
      "18        google  Mountain View    CA      US  2018-11-16   \n",
      "19        google  Mountain View    CA      US  2018-11-09   \n",
      "20        google       New York    NY      US  2018-11-05   \n",
      "21        google  Mountain View    CA      US  2018-11-19   \n",
      "22        google  Mountain View    CA      US  2018-11-01   \n",
      "23        google  San Francisco    CA      US  2018-11-04   \n",
      "24        google  Mountain View    CA      US  2018-11-02   \n",
      "25        google     Pittsburgh    PA      US  2018-11-01   \n",
      "26        google  Mountain View    CA      US  2018-11-10   \n",
      "27        google  Mountain View    CA      US  2018-10-21   \n",
      "28        google       New York    NY      US  2018-10-25   \n",
      "29        google        Boulder    CO      US  2018-10-25   \n",
      "...          ...            ...   ...     ...         ...   \n",
      "27749  microsoft          Fargo    ND      US  2008-05-02   \n",
      "27750  microsoft        Redmond    WA      US  2008-04-20   \n",
      "27751  microsoft        Redmond    WA      US  2008-04-21   \n",
      "27752  microsoft        Redmond    WA      US  2008-04-19   \n",
      "27753  microsoft        Atlanta    GA      US  2008-04-18   \n",
      "27754  microsoft        Redmond    WA      US  2008-04-28   \n",
      "27755  microsoft        Redmond    WA      US  2008-04-20   \n",
      "27756  microsoft        Redmond    WA      US  2008-05-03   \n",
      "27757  microsoft        Redmond    WA      US  2008-04-19   \n",
      "27758  microsoft        Redmond    WA      US  2008-05-01   \n",
      "27759  microsoft        Redmond    WA      US  2008-04-18   \n",
      "27760  microsoft        Redmond    WA      US  2008-05-03   \n",
      "27761  microsoft        Redmond    WA      US  2008-05-03   \n",
      "27762  microsoft        Redmond    WA      US  2008-04-25   \n",
      "27763  microsoft        Redmond    WA      US  2008-04-24   \n",
      "27764  microsoft        Redmond    WA      US  2008-04-24   \n",
      "27765  microsoft        Redmond    WA      US  2008-04-26   \n",
      "27766  microsoft          Fargo    ND      US  2008-04-24   \n",
      "27767  microsoft        Redmond    WA      US  2008-04-24   \n",
      "27768  microsoft        Redmond    WA      US  2008-04-24   \n",
      "27769  microsoft       Bellevue    WA      US  2008-04-20   \n",
      "27770  microsoft        Redmond    WA      US  2008-04-19   \n",
      "27771  microsoft      Charlotte    NC      US  2008-04-21   \n",
      "27772  microsoft        Redmond    WA      US  2008-04-26   \n",
      "27773  microsoft        Waltham    MA      US  2008-04-19   \n",
      "27774  microsoft  San Francisco    CA      US  2008-04-16   \n",
      "27775  microsoft  San Francisco    CA      US  2008-03-24   \n",
      "27776  microsoft  San Francisco    CA      US  2008-04-03   \n",
      "27777  microsoft  San Francisco    CA      US  2008-02-27   \n",
      "27778  microsoft  San Francisco    CA      US  2008-02-27   \n",
      "\n",
      "                                          job_title  current_employee  \\\n",
      "0                                Anonymous Employee                 1   \n",
      "1                                              SDE2                 0   \n",
      "2                                 Software Engineer                 1   \n",
      "3                                Anonymous Employee                 1   \n",
      "4                                Anonymous Employee                 1   \n",
      "5                          Sales Operations Analyst                 1   \n",
      "6                                          Designer                 1   \n",
      "7                                  Staff Accountant                 1   \n",
      "8                                 Program Manager I                 1   \n",
      "9                                   Senior Director                 0   \n",
      "10                     Software Engineering Manager                 1   \n",
      "11                                Google Specialist                 1   \n",
      "12                               Anonymous Employee                 1   \n",
      "13                               Anonymous Employee                 1   \n",
      "14                          Staff Software Engineer                 1   \n",
      "15                                  Program Manager                 1   \n",
      "16                                Software Engineer                 1   \n",
      "17                     Associate Account Strategist                 0   \n",
      "18                               Anonymous Employee                 1   \n",
      "19                                Software Engineer                 1   \n",
      "20                               Anonymous Employee                 0   \n",
      "21                                 Legal Specialist                 0   \n",
      "22                               Anonymous Employee                 1   \n",
      "23                        Product Marketing Manager                 1   \n",
      "24                                Software Engineer                 1   \n",
      "25                               Front End Engineer                 1   \n",
      "26                         Senior Software Engineer                 1   \n",
      "27                                            Video                 1   \n",
      "28                         Senior Software Engineer                 1   \n",
      "29                                Product Marketing                 1   \n",
      "...                                             ...               ...   \n",
      "27749                               Product Manager                 1   \n",
      "27750                            Programming Writer                 0   \n",
      "27751  Software Development Engineer In Test (SDET)                 1   \n",
      "27752           Principal Development Engineer Lead                 1   \n",
      "27753                                    Consultant                 1   \n",
      "27754                              Industry Manager                 0   \n",
      "27755                               Program Manager                 1   \n",
      "27756          Senior Software Development Engineer                 1   \n",
      "27757                               General Manager                 1   \n",
      "27758                               Program Manager                 0   \n",
      "27759                               Project Manager                 1   \n",
      "27760                 Software Development Engineer                 1   \n",
      "27761                 Software Development Engineer                 1   \n",
      "27762                    User Experience Researcher                 0   \n",
      "27763                 Software Development Engineer                 0   \n",
      "27764                                        Editor                 1   \n",
      "27765                 Software Development Engineer                 1   \n",
      "27766                               Project Manager                 1   \n",
      "27767                          Lead Program Manager                 1   \n",
      "27768                               Product Manager                 1   \n",
      "27769                                 Group Manager                 0   \n",
      "27770                               Program Manager                 1   \n",
      "27771                                 Federal Sales                 1   \n",
      "27772  Software Development Engineer In Test (SDET)                 1   \n",
      "27773    Senior Account Technology Specialist (ATS)                 1   \n",
      "27774                        Premier Field Engineer                 1   \n",
      "27775                 Software Development Engineer                 1   \n",
      "27776                        Senior Product Manager                 1   \n",
      "27777                             Account Executive                 1   \n",
      "27778                     Technical Account Manager                 1   \n",
      "\n",
      "      overall_ratings work_balance_stars culture_values_stars  \\\n",
      "0                 5.0                2.0                  5.0   \n",
      "1                 5.0                4.0                  4.0   \n",
      "2                 5.0                5.0                  4.0   \n",
      "3                 5.0                5.0                  5.0   \n",
      "4                 5.0                4.0                  5.0   \n",
      "5                 5.0                5.0                  5.0   \n",
      "6                 5.0                3.0                  4.0   \n",
      "7                 5.0                5.0                  5.0   \n",
      "8                 5.0                5.0                  5.0   \n",
      "9                 3.0                4.0                  5.0   \n",
      "10                4.0                5.0                  5.0   \n",
      "11                5.0                3.0                  4.0   \n",
      "12                4.0                4.0                  3.0   \n",
      "13                5.0                3.0                  5.0   \n",
      "14                5.0                4.0                  4.0   \n",
      "15                5.0                5.0                  3.0   \n",
      "16                5.0                5.0                  5.0   \n",
      "17                5.0                4.0                  4.0   \n",
      "18                3.0                2.0                  1.0   \n",
      "19                5.0                5.0                  5.0   \n",
      "20                5.0                2.0                  2.0   \n",
      "21                4.0                5.0                  5.0   \n",
      "22                5.0                5.0                  3.0   \n",
      "23                5.0                4.0                  5.0   \n",
      "24                5.0                5.0                  5.0   \n",
      "25                5.0                4.0                  5.0   \n",
      "26                4.0                5.0                  4.0   \n",
      "27                5.0                4.0                  5.0   \n",
      "28                5.0                5.0                  5.0   \n",
      "29                5.0                3.0                  3.0   \n",
      "...               ...                ...                  ...   \n",
      "27749             5.0                4.0                 none   \n",
      "27750             5.0                5.0                 none   \n",
      "27751             5.0                5.0                 none   \n",
      "27752             5.0                5.0                 none   \n",
      "27753             5.0                5.0                 none   \n",
      "27754             2.0                2.5                 none   \n",
      "27755             5.0                5.0                 none   \n",
      "27756             4.0                5.0                 none   \n",
      "27757             5.0                5.0                 none   \n",
      "27758             4.0                4.0                 none   \n",
      "27759             5.0                5.0                 none   \n",
      "27760             4.0                4.0                 none   \n",
      "27761             4.0                4.0                 none   \n",
      "27762             3.0                3.5                 none   \n",
      "27763             2.0                3.5                 none   \n",
      "27764             3.0                3.5                 none   \n",
      "27765             4.0                4.0                 none   \n",
      "27766             3.0                5.0                 none   \n",
      "27767             4.0                4.5                 none   \n",
      "27768             4.0                4.0                 none   \n",
      "27769             2.0                4.0                 none   \n",
      "27770             3.0                3.5                 none   \n",
      "27771             4.0                3.0                 none   \n",
      "27772             4.0                4.0                 none   \n",
      "27773             2.0                1.5                 none   \n",
      "27774             4.0                3.5                 none   \n",
      "27775             5.0                4.5                 none   \n",
      "27776             3.0                4.0                 none   \n",
      "27777             5.0                4.5                 none   \n",
      "27778             5.0                5.0                 none   \n",
      "\n",
      "      carrer_opportunities_stars comp_benefit_stars senior_mangemnet_stars  \\\n",
      "0                            5.0                4.0                    5.0   \n",
      "1                            4.0                5.0                    4.0   \n",
      "2                            4.0                5.0                    4.0   \n",
      "3                            5.0                5.0                    5.0   \n",
      "4                            4.0                4.0                    3.0   \n",
      "5                            5.0                4.0                    4.0   \n",
      "6                            3.0                4.0                    5.0   \n",
      "7                            5.0                5.0                    5.0   \n",
      "8                            5.0                5.0                    5.0   \n",
      "9                            5.0                5.0                    5.0   \n",
      "10                           4.0                4.0                    4.0   \n",
      "11                           4.0                5.0                    4.0   \n",
      "12                           3.0                4.0                    3.0   \n",
      "13                           5.0                5.0                    4.0   \n",
      "14                           5.0                5.0                    3.0   \n",
      "15                           5.0                4.0                    5.0   \n",
      "16                           4.0                4.0                    4.0   \n",
      "17                           5.0                5.0                    2.0   \n",
      "18                           2.0                5.0                    2.0   \n",
      "19                           5.0                5.0                    5.0   \n",
      "20                           4.0                4.0                    3.0   \n",
      "21                           3.0                5.0                    4.0   \n",
      "22                           5.0                5.0                    4.0   \n",
      "23                           5.0                5.0                    4.0   \n",
      "24                           5.0                5.0                    4.0   \n",
      "25                           5.0                5.0                    4.0   \n",
      "26                           4.0                4.0                    4.0   \n",
      "27                           5.0                5.0                    4.0   \n",
      "28                           5.0                5.0                    5.0   \n",
      "29                           4.0                5.0                    4.0   \n",
      "...                          ...                ...                    ...   \n",
      "27749                        4.0                4.5                    4.0   \n",
      "27750                        5.0                5.0                    5.0   \n",
      "27751                        4.5                5.0                    4.0   \n",
      "27752                        5.0                4.5                    4.5   \n",
      "27753                        5.0                5.0                    5.0   \n",
      "27754                        2.5                3.0                    2.0   \n",
      "27755                        5.0                5.0                    5.0   \n",
      "27756                        4.5                4.5                    4.0   \n",
      "27757                        5.0                5.0                    5.0   \n",
      "27758                        5.0                4.0                    3.5   \n",
      "27759                        5.0                5.0                    4.5   \n",
      "27760                        4.0                4.0                    4.0   \n",
      "27761                        4.0                4.0                    4.0   \n",
      "27762                        3.0                3.0                    2.0   \n",
      "27763                        3.0                3.5                    1.5   \n",
      "27764                        3.0                4.5                    2.0   \n",
      "27765                        4.5                4.5                    3.0   \n",
      "27766                        1.0                3.5                    3.0   \n",
      "27767                        4.0                3.5                    3.5   \n",
      "27768                        3.5                1.5                    2.0   \n",
      "27769                        1.5                3.5                    1.0   \n",
      "27770                        3.5                3.5                    3.0   \n",
      "27771                        5.0                5.0                    5.0   \n",
      "27772                        5.0                4.0                    4.0   \n",
      "27773                        2.5                3.5                    3.0   \n",
      "27774                        4.0                4.5                    4.0   \n",
      "27775                        5.0                4.5                    4.0   \n",
      "27776                        4.0                4.0                    4.0   \n",
      "27777                        5.0                4.0                    4.0   \n",
      "27778                        5.0                5.0                    5.0   \n",
      "\n",
      "      helpful_count                                               link  \n",
      "0               498  https://www.glassdoor.com/Reviews/Google-Revie...  \n",
      "1                 1  https://www.glassdoor.com/Reviews/Google-Revie...  \n",
      "2                 0  https://www.glassdoor.com/Reviews/Google-Revie...  \n",
      "3                 0  https://www.glassdoor.com/Reviews/Google-Revie...  \n",
      "4                 0  https://www.glassdoor.com/Reviews/Google-Revie...  \n",
      "5                 1  https://www.glassdoor.com/Reviews/Google-Revie...  \n",
      "6                 2  https://www.glassdoor.com/Reviews/Google-Revie...  \n",
      "7                 0  https://www.glassdoor.com/Reviews/Google-Revie...  \n",
      "8                 3  https://www.glassdoor.com/Reviews/Google-Revie...  \n",
      "9                 0  https://www.glassdoor.com/Reviews/Google-Revie...  \n",
      "10                0  https://www.glassdoor.com/Reviews/Google-Revie...  \n",
      "11                1  https://www.glassdoor.com/Reviews/Google-Revie...  \n",
      "12                0  https://www.glassdoor.com/Reviews/Google-Revie...  \n",
      "13                0  https://www.glassdoor.com/Reviews/Google-Revie...  \n",
      "14                2  https://www.glassdoor.com/Reviews/Google-Revie...  \n",
      "15                0  https://www.glassdoor.com/Reviews/Google-Revie...  \n",
      "16                0  https://www.glassdoor.com/Reviews/Google-Revie...  \n",
      "17                0  https://www.glassdoor.com/Reviews/Google-Revie...  \n",
      "18                8  https://www.glassdoor.com/Reviews/Google-Revie...  \n",
      "19                1  https://www.glassdoor.com/Reviews/Google-Revie...  \n",
      "20                0  https://www.glassdoor.com/Reviews/Google-Revie...  \n",
      "21                0  https://www.glassdoor.com/Reviews/Google-Revie...  \n",
      "22                1  https://www.glassdoor.com/Reviews/Google-Revie...  \n",
      "23                0  https://www.glassdoor.com/Reviews/Google-Revie...  \n",
      "24                0  https://www.glassdoor.com/Reviews/Google-Revie...  \n",
      "25                0  https://www.glassdoor.com/Reviews/Google-Revie...  \n",
      "26                1  https://www.glassdoor.com/Reviews/Google-Revie...  \n",
      "27                2  https://www.glassdoor.com/Reviews/Google-Revie...  \n",
      "28                0  https://www.glassdoor.com/Reviews/Google-Revie...  \n",
      "29                0  https://www.glassdoor.com/Reviews/Google-Revie...  \n",
      "...             ...                                                ...  \n",
      "27749             0  https://www.glassdoor.com/Reviews/Microsoft-Re...  \n",
      "27750             1  https://www.glassdoor.com/Reviews/Microsoft-Re...  \n",
      "27751             1  https://www.glassdoor.com/Reviews/Microsoft-Re...  \n",
      "27752             1  https://www.glassdoor.com/Reviews/Microsoft-Re...  \n",
      "27753             1  https://www.glassdoor.com/Reviews/Microsoft-Re...  \n",
      "27754             2  https://www.glassdoor.com/Reviews/Microsoft-Re...  \n",
      "27755             1  https://www.glassdoor.com/Reviews/Microsoft-Re...  \n",
      "27756             0  https://www.glassdoor.com/Reviews/Microsoft-Re...  \n",
      "27757             1  https://www.glassdoor.com/Reviews/Microsoft-Re...  \n",
      "27758             0  https://www.glassdoor.com/Reviews/Microsoft-Re...  \n",
      "27759             1  https://www.glassdoor.com/Reviews/Microsoft-Re...  \n",
      "27760             0  https://www.glassdoor.com/Reviews/Microsoft-Re...  \n",
      "27761             0  https://www.glassdoor.com/Reviews/Microsoft-Re...  \n",
      "27762             1  https://www.glassdoor.com/Reviews/Microsoft-Re...  \n",
      "27763             2  https://www.glassdoor.com/Reviews/Microsoft-Re...  \n",
      "27764             0  https://www.glassdoor.com/Reviews/Microsoft-Re...  \n",
      "27765             0  https://www.glassdoor.com/Reviews/Microsoft-Re...  \n",
      "27766             0  https://www.glassdoor.com/Reviews/Microsoft-Re...  \n",
      "27767             0  https://www.glassdoor.com/Reviews/Microsoft-Re...  \n",
      "27768             0  https://www.glassdoor.com/Reviews/Microsoft-Re...  \n",
      "27769             1  https://www.glassdoor.com/Reviews/Microsoft-Re...  \n",
      "27770             1  https://www.glassdoor.com/Reviews/Microsoft-Re...  \n",
      "27771             0  https://www.glassdoor.com/Reviews/Microsoft-Re...  \n",
      "27772             0  https://www.glassdoor.com/Reviews/Microsoft-Re...  \n",
      "27773             1  https://www.glassdoor.com/Reviews/Microsoft-Re...  \n",
      "27774             0  https://www.glassdoor.com/Reviews/Microsoft-Re...  \n",
      "27775             2  https://www.glassdoor.com/Reviews/Microsoft-Re...  \n",
      "27776             0  https://www.glassdoor.com/Reviews/Microsoft-Re...  \n",
      "27777             1  https://www.glassdoor.com/Reviews/Microsoft-Re...  \n",
      "27778             0  https://www.glassdoor.com/Reviews/Microsoft-Re...  \n",
      "\n",
      "[27779 rows x 15 columns]\n"
     ]
    }
   ],
   "source": [
    "reviews_pd_df = cleaned_reviews_df.toPandas()\n",
    "print(reviews_pd_df)"
   ]
  },
  {
   "cell_type": "markdown",
   "metadata": {},
   "source": [
    "### Plot the distributions of reviews for each company (current and former employees) \n",
    "- Hint: A Seaborn factorplot will work nicely here\n",
    "    - https://kite.com/python/docs/seaborn.factorplot\n",
    "    "
   ]
  },
  {
   "cell_type": "code",
   "execution_count": 20,
   "metadata": {},
   "outputs": [
    {
     "data": {
      "text/plain": [
       "<seaborn.axisgrid.FacetGrid at 0x10866f978>"
      ]
     },
     "execution_count": 20,
     "metadata": {},
     "output_type": "execute_result"
    },
    {
     "data": {
      "image/png": "[encoded data removed]",
      "text/plain": [
       "<Figure size 288x288 with 1 Axes>"
      ]
     },
     "metadata": {},
     "output_type": "display_data"
    }
   ],
   "source": [
    "review_dist=cleaned_reviews_df.groupBy(col(\"company\")).count().toPandas()\n",
    "sns.factorplot(data=review_dist, x=\"company\", y=\"count\")"
   ]
  },
  {
   "cell_type": "markdown",
   "metadata": {},
   "source": [
    "### Plot the distributions of reviews for each company (current and former employees) and their overall ratings\n",
    "- Hint: A Seaborn factorplot will work nicely here\n",
    "    - https://kite.com/python/docs/seaborn.factorplot"
   ]
  },
  {
   "cell_type": "code",
   "execution_count": 21,
   "metadata": {},
   "outputs": [
    {
     "data": {
      "text/plain": [
       "<seaborn.axisgrid.FacetGrid at 0x1087e6a58>"
      ]
     },
     "execution_count": 21,
     "metadata": {},
     "output_type": "execute_result"
    },
    {
     "data": {
      "image/png": "[encoded data removed]",
      "text/plain": [
       "<Figure size 288x288 with 1 Axes>"
      ]
     },
     "metadata": {},
     "output_type": "display_data"
    }
   ],
   "source": [
    "review_dist=cleaned_reviews_df.select(\"company\",\"overall_ratings\").groupBy(col(\"company\")).agg(avg(col(\"overall_ratings\"))).toPandas()\n",
    "sns.factorplot(data=review_dist, x=\"company\", y=\"avg(overall_ratings)\")"
   ]
  },
  {
   "cell_type": "code",
   "execution_count": null,
   "metadata": {},
   "outputs": [],
   "source": []
  },
  {
   "cell_type": "code",
   "execution_count": null,
   "metadata": {},
   "outputs": [],
   "source": []
  },
  {
   "cell_type": "markdown",
   "metadata": {},
   "source": [
    "# Lessons Learned\n",
    "- Please feel free to let us know anything you want in this section about the test, what you learned, liked, didn't like, etc"
   ]
  },
  {
   "cell_type": "code",
   "execution_count": 22,
   "metadata": {},
   "outputs": [
    {
     "ename": "SyntaxError",
     "evalue": "invalid syntax (<ipython-input-22-2cecf0ac539e>, line 1)",
     "output_type": "error",
     "traceback": [
      "\u001b[0;36m  File \u001b[0;32m\"<ipython-input-22-2cecf0ac539e>\"\u001b[0;36m, line \u001b[0;32m1\u001b[0m\n\u001b[0;31m    I really did like the test. I have not worked much with python,pyspark or pandas before. it was a good learning. I tried to solve the questions to best of my understanding.\u001b[0m\n\u001b[0m           ^\u001b[0m\n\u001b[0;31mSyntaxError\u001b[0m\u001b[0;31m:\u001b[0m invalid syntax\n"
     ]
    }
   ],
   "source": [
    "I really did like the test. I have not worked much with python,pyspark or pandas before. it was a good learning. I tried to solve the questions to best of my understanding. "
   ]
  }
 ],
 "metadata": {
  "kernelspec": {
   "display_name": "Python 3",
   "language": "python",
   "name": "python3"
  },
  "language_info": {
   "codemirror_mode": {
    "name": "ipython",
    "version": 3
   },
   "file_extension": ".py",
   "mimetype": "text/x-python",
   "name": "python",
   "nbconvert_exporter": "python",
   "pygments_lexer": "ipython3",
   "version": "3.6.4"
  }
 },
 "nbformat": 4,
 "nbformat_minor": 2
}
