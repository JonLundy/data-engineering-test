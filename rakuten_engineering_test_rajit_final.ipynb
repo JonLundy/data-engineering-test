{
 "cells": [
  {
   "cell_type": "markdown",
   "metadata": {
    "slideshow": {
     "slide_type": "slide"
    }
   },
   "source": [
    "# Rakuten USA - Data Engineering Test\n",
    "\n",
    "### Goal\n",
    "The goal of this test is not meant to be exhaustive, but we do want to test your skills in analytical thinking, SQL, data wrangling, data analysis, and data visualization.\n",
    "\n",
    "### Expectations\n",
    "You can expect this test to use the following technologies:\n",
    "- Python3\n",
    "- Jupyter Notebook\n",
    "- PySpark\n",
    "- PySpark SQL\n",
    "\n",
    "This test will cover the following areas: \n",
    "- Data cleaning/wrangling\n",
    "- Exploratory Data Analysis (EDA)\n",
    "- Data Visualization \n",
    "\n",
    "This test should take you no more than 2-4 hours.\n",
    "\n",
    "### What to turn in, and where to send your test\n",
    "Please email stirling.waite@rakuten with your finished notebook\n",
    "- rakuten_engineering_test.ipynb\n",
    " \n",
    "### Questions?\n",
    "Feel free to email me or call me with any questions about this test\n",
    "- stirling.waite@rakuten.com\n",
    "- 801-856-1426"
   ]
  },
  {
   "cell_type": "markdown",
   "metadata": {},
   "source": [
    "### --------------------------------------------------------------------------------------------------------------------------------"
   ]
  },
  {
   "cell_type": "markdown",
   "metadata": {
    "slideshow": {
     "slide_type": "slide"
    }
   },
   "source": [
    "# About The Dataset\n",
    "\n",
    "Below you will find a modified free Kaggle competition dataset from https://www.kaggle.com/mayank811/employee-reviews/data using scraped data from Glassdoor.com.\n",
    "\n",
    "## Context\n",
    "- Over 67k employee reviews for Google, Amazon, Facebook, Apple, Microsoft, and Netflix.\n",
    "- Web scraped from Glassdoor\n",
    "\n",
    "## Content\n",
    "This dataset contains employee reviews separated into the following categories:\n",
    "\n",
    "- **Index:** index\n",
    "- **Company:** Company name\n",
    "- **Location:** This dataset is global, as such it may include the country's name in parenthesis [i.e \"Toronto, ON(Canada)\"]. However, if the location is in the USA then it will only include the city and state[i.e \"Los Angeles, CA\" ]\n",
    "- **Date Posted:** in the following format MM DD, YYYY\n",
    "- **Job-Title:** This string will also include whether the reviewer is a 'Current' or 'Former' Employee at the time of the review\n",
    "- **Summary:** Short summary of employee review\n",
    "- **Pros:** Pros\n",
    "- **Cons:** Cons\n",
    "- **Overall Rating:** 1-5\n",
    "- **Work/Life Balance Rating:** 1-5\n",
    "- **Culture and Values Rating:** 1-5\n",
    "- **Career Opportunities Rating:** 1-5\n",
    "- **Comp & Benefits Rating:** 1-5\n",
    "- **Senior Management Rating:** 1-5\n",
    "- **Helpful Review Count:** 1-5\n",
    "\n",
    "**Link to Review:** This will provide you with a direct link to the page that contains the review. However it is likely that this link will be outdated\n",
    "\n",
    "**NOTE:** 'none' is placed in all cells where no data value was found.\n",
    "\n"
   ]
  },
  {
   "cell_type": "markdown",
   "metadata": {},
   "source": [
    "### --------------------------------------------------------------------------------------------------------------------------------"
   ]
  },
  {
   "cell_type": "markdown",
   "metadata": {
    "slideshow": {
     "slide_type": "subslide"
    }
   },
   "source": [
    "## PySpark Initialization"
   ]
  },
  {
   "cell_type": "code",
   "execution_count": 52,
   "metadata": {
    "slideshow": {
     "slide_type": "subslide"
    }
   },
   "outputs": [],
   "source": [
    "import findspark\n",
    "findspark.init('/home/ubuntu/spark-2.1.1-bin-hadoop2.7')\n",
    "import re\n",
    "import pyspark\n",
    "from pyspark import SparkConf, SparkContext, SQLContext\n",
    "from pyspark.sql import SparkSession, Row\n",
    "from pyspark.sql.functions import *\n",
    "from pyspark.sql import functions as fn\n",
    "from pyspark.sql import types as t\n",
    "from pyspark.sql.types import *\n",
    "from datetime import datetime\n",
    "import warnings\n",
    "warnings.filterwarnings('ignore')\n",
    "\n",
    "import numpy as np\n",
    "import pandas as pd\n",
    "import matplotlib.pyplot as plt\n",
    "from matplotlib import style\n",
    "import seaborn as sns\n"
   ]
  },
  {
   "cell_type": "code",
   "execution_count": 2,
   "metadata": {},
   "outputs": [],
   "source": [
    "conf = SparkConf()\\\n",
    "                .setMaster(\"local[*]\")\\\n",
    "                .setAppName(\"rakutenHomework\")\n",
    "        \n",
    "sc = SparkContext(conf=conf)\n",
    "sc.setLogLevel(\"ERROR\")\n",
    "sqlContext = SQLContext(sc)\n",
    "spark = SparkSession.builder.appName(\"spark play\").getOrCreate()"
   ]
  },
  {
   "cell_type": "markdown",
   "metadata": {},
   "source": [
    "## Read Dataset into Spark"
   ]
  },
  {
   "cell_type": "code",
   "execution_count": 3,
   "metadata": {
    "scrolled": true
   },
   "outputs": [
    {
     "name": "stdout",
     "output_type": "stream",
     "text": [
      "27779\n",
      "+---+-------+-----------------+-------------+--------------------+--------------------+--------------------+--------------------+--------------------+---------------+------------------+--------------------+--------------------------+------------------+----------------------+-------------+--------------------+\n",
      "|_c0|company|         location|        dates|           job_title|             summary|                pros|                cons|      advice_to_mgmt|overall_ratings|work_balance_stars|culture_values_stars|carrer_opportunities_stars|comp_benefit_stars|senior_mangemnet_stars|helpful_count|                link|\n",
      "+---+-------+-----------------+-------------+--------------------+--------------------+--------------------+--------------------+--------------------+---------------+------------------+--------------------+--------------------------+------------------+----------------------+-------------+--------------------+\n",
      "|  0| google|Mountain View, CA|  Feb 8, 2015|Current Employee ...|The best place I'...|You can't find a ...|I live in SF so t...|Keep on NOT micro...|            5.0|               2.0|                 5.0|                       5.0|               4.0|                   5.0|          498|https://www.glass...|\n",
      "|  1| google|Mountain View, CA|  Dec 9, 2018|Former Employee -...|NICE working in G...|People are not th...|Food is not good ...|                none|            5.0|               4.0|                 4.0|                       4.0|               5.0|                   4.0|            1|https://www.glass...|\n",
      "|  2| google|     New York, NY| Dec 11, 2018|Current Employee ...|   Software engineer|Great working env...|Usual big company...|                none|            5.0|               5.0|                 4.0|                       4.0|               5.0|                   4.0|            0|https://www.glass...|\n",
      "|  3| google|     New York, NY| Dec 10, 2018|Current Employee ...|Google Surpasses ...|Great products. V...|Younger employees...|                none|            5.0|               5.0|                 5.0|                       5.0|               5.0|                   5.0|            0|https://www.glass...|\n",
      "|  4| google|Mountain View, CA|  Dec 8, 2018|Current Employee ...|  Nice place to work|* Smart people * ...|Giant company wit...|                none|            5.0|               4.0|                 5.0|                       4.0|               4.0|                   3.0|            0|https://www.glass...|\n",
      "+---+-------+-----------------+-------------+--------------------+--------------------+--------------------+--------------------+--------------------+---------------+------------------+--------------------+--------------------------+------------------+----------------------+-------------+--------------------+\n",
      "only showing top 5 rows\n",
      "\n"
     ]
    }
   ],
   "source": [
    "reviews_df = spark.read.csv(\"employee_reviews_usa.csv\", header=True, mode=\"DROPMALFORMED\", inferSchema='true',\\\n",
    "                            encoding=\"utf-8\")\n",
    "print(reviews_df.count())\n",
    "reviews_df.show(5)"
   ]
  },
  {
   "cell_type": "markdown",
   "metadata": {},
   "source": [
    "## Check the Schema "
   ]
  },
  {
   "cell_type": "code",
   "execution_count": 4,
   "metadata": {
    "scrolled": true
   },
   "outputs": [
    {
     "name": "stdout",
     "output_type": "stream",
     "text": [
      "root\n",
      " |-- _c0: integer (nullable = true)\n",
      " |-- company: string (nullable = true)\n",
      " |-- location: string (nullable = true)\n",
      " |-- dates: string (nullable = true)\n",
      " |-- job_title: string (nullable = true)\n",
      " |-- summary: string (nullable = true)\n",
      " |-- pros: string (nullable = true)\n",
      " |-- cons: string (nullable = true)\n",
      " |-- advice_to_mgmt: string (nullable = true)\n",
      " |-- overall_ratings: string (nullable = true)\n",
      " |-- work_balance_stars: string (nullable = true)\n",
      " |-- culture_values_stars: string (nullable = true)\n",
      " |-- carrer_opportunities_stars: string (nullable = true)\n",
      " |-- comp_benefit_stars: string (nullable = true)\n",
      " |-- senior_mangemnet_stars: string (nullable = true)\n",
      " |-- helpful_count: string (nullable = true)\n",
      " |-- link: string (nullable = true)\n",
      "\n"
     ]
    }
   ],
   "source": [
    "reviews_df.printSchema()"
   ]
  },
  {
   "cell_type": "markdown",
   "metadata": {},
   "source": [
    "## Exploratory Analysis of the data:\n",
    "\n",
    "1. _c0 needs to be removed as it is an index column\n",
    "2. company : No changes required (Categorical Column)\n",
    "3. Location: Split it into 3 columns : City, State, Country\n",
    "4. Date column needs some formatting\n",
    "5. job_title : Modify it into Current Employee column with Boolean values. Also remove the \"Former/Current employee\" tag from the job_title column.\n",
    "6. Summary: Check this more (drop this) \n",
    "7. pros: drop this\n",
    "8. cons : drop this\n",
    "9. advice_to_mgmt : drop this (none values present)\n",
    "10. overall_ratings: string \n",
    "11. work_balance_stars : string (none values present)\n",
    "12. culture_values_stars : string : lot of none values\n",
    "13. carrer_opportunities_stars: string : none values present\n",
    "14. comp_benefit_stars: string : none values present\n",
    "15. senior_mangemnet_stars: string\n",
    "16. helpful_count: what is this column for? It has values greater than 5. Will drop this. \n",
    "17. Link: not useful"
   ]
  },
  {
   "cell_type": "markdown",
   "metadata": {},
   "source": [
    "## Drop the columns which are not needed"
   ]
  },
  {
   "cell_type": "code",
   "execution_count": 5,
   "metadata": {},
   "outputs": [],
   "source": [
    "df = reviews_df.drop(\"_c0\", \"summary\", \"pros\", \"cons\", \"advice_to_mgmt\", \"helpful_count\", \"link\")\n",
    "#df.columns\n",
    "#df.describe().show()\n",
    "#reviews_df.describe().show()"
   ]
  },
  {
   "cell_type": "markdown",
   "metadata": {},
   "source": [
    "## Create the formatted date column "
   ]
  },
  {
   "cell_type": "code",
   "execution_count": 6,
   "metadata": {},
   "outputs": [],
   "source": [
    "review_date_udf = fn.udf(\n",
    "    lambda x: datetime.strptime(x, ' %b %d, %Y'), DateType()\n",
    ")\n",
    "\n",
    "df = df.withColumn('review_date', review_date_udf(col('dates')))\n",
    "\n"
   ]
  },
  {
   "cell_type": "markdown",
   "metadata": {},
   "source": [
    "## Drop the older date column"
   ]
  },
  {
   "cell_type": "code",
   "execution_count": 7,
   "metadata": {
    "scrolled": true
   },
   "outputs": [],
   "source": [
    "df = df.drop(\"dates\")\n"
   ]
  },
  {
   "cell_type": "markdown",
   "metadata": {},
   "source": [
    "## Split the location column"
   ]
  },
  {
   "cell_type": "code",
   "execution_count": 8,
   "metadata": {},
   "outputs": [],
   "source": [
    "split_col = fn.split(df['location'], ',')\n",
    "df = df.withColumn('city', split_col.getItem(0))\n",
    "df = df.withColumn('state', split_col.getItem(1))\n"
   ]
  },
  {
   "cell_type": "markdown",
   "metadata": {},
   "source": [
    "## Create the Country column"
   ]
  },
  {
   "cell_type": "code",
   "execution_count": 9,
   "metadata": {},
   "outputs": [],
   "source": [
    "df = df.withColumn(\"country\", lit(\"US\"))"
   ]
  },
  {
   "cell_type": "markdown",
   "metadata": {},
   "source": [
    "## Drop the location column"
   ]
  },
  {
   "cell_type": "code",
   "execution_count": 10,
   "metadata": {
    "scrolled": true
   },
   "outputs": [],
   "source": [
    "df = df.drop(\"location\")\n"
   ]
  },
  {
   "cell_type": "markdown",
   "metadata": {},
   "source": [
    "## Split the job_title column into current_employee and job_title columns"
   ]
  },
  {
   "cell_type": "code",
   "execution_count": 11,
   "metadata": {},
   "outputs": [],
   "source": [
    "df = df.withColumn('current_employee', split(df['job_title'], '-')[0])\n",
    "df = df.withColumn('job_title', split(df['job_title'], '-')[1])\n"
   ]
  },
  {
   "cell_type": "markdown",
   "metadata": {},
   "source": [
    "## Create a boolean value column for current_employee column"
   ]
  },
  {
   "cell_type": "code",
   "execution_count": 12,
   "metadata": {},
   "outputs": [],
   "source": [
    "df = df.withColumn(\"current_employee\", fn.when(fn.col(\"current_employee\").like(\"%Current Employee%\"), 1).otherwise(0))"
   ]
  },
  {
   "cell_type": "code",
   "execution_count": 13,
   "metadata": {},
   "outputs": [],
   "source": [
    "#df.show()"
   ]
  },
  {
   "cell_type": "markdown",
   "metadata": {},
   "source": [
    "## Rearrange the order of the columns\n"
   ]
  },
  {
   "cell_type": "code",
   "execution_count": 14,
   "metadata": {},
   "outputs": [
    {
     "name": "stdout",
     "output_type": "stream",
     "text": [
      "+-------+-------------+-----+-------+-----------+-------------------+----------------+---------------+------------------+--------------------+--------------------------+------------------+----------------------+\n",
      "|company|         city|state|country|review_date|          job_title|current_employee|overall_ratings|work_balance_stars|culture_values_stars|carrer_opportunities_stars|comp_benefit_stars|senior_mangemnet_stars|\n",
      "+-------+-------------+-----+-------+-----------+-------------------+----------------+---------------+------------------+--------------------+--------------------------+------------------+----------------------+\n",
      "| google|Mountain View|   CA|     US| 2015-02-08| Anonymous Employee|               1|            5.0|               2.0|                 5.0|                       5.0|               4.0|                   5.0|\n",
      "| google|Mountain View|   CA|     US| 2018-12-09|               SDE2|               0|            5.0|               4.0|                 4.0|                       4.0|               5.0|                   4.0|\n",
      "| google|     New York|   NY|     US| 2018-12-11|  Software Engineer|               1|            5.0|               5.0|                 4.0|                       4.0|               5.0|                   4.0|\n",
      "| google|     New York|   NY|     US| 2018-12-10| Anonymous Employee|               1|            5.0|               5.0|                 5.0|                       5.0|               5.0|                   5.0|\n",
      "| google|Mountain View|   CA|     US| 2018-12-08| Anonymous Employee|               1|            5.0|               4.0|                 5.0|                       4.0|               4.0|                   3.0|\n",
      "+-------+-------------+-----+-------+-----------+-------------------+----------------+---------------+------------------+--------------------+--------------------------+------------------+----------------------+\n",
      "only showing top 5 rows\n",
      "\n"
     ]
    }
   ],
   "source": [
    "# management, carrer spelling mistake\n",
    "df=df.select(\"company\",\"city\",\"state\",\"country\",\"review_date\",\"job_title\",\\\n",
    "             \"current_employee\",\"overall_ratings\",\"work_balance_stars\",\\\n",
    "             \"culture_values_stars\",\"carrer_opportunities_stars\",\"comp_benefit_stars\",\"senior_mangemnet_stars\")\n",
    "df.show(5)"
   ]
  },
  {
   "cell_type": "markdown",
   "metadata": {},
   "source": [
    "## Check for the Null/None values"
   ]
  },
  {
   "cell_type": "code",
   "execution_count": 15,
   "metadata": {},
   "outputs": [
    {
     "data": {
      "text/plain": [
       "0"
      ]
     },
     "execution_count": 15,
     "metadata": {},
     "output_type": "execute_result"
    }
   ],
   "source": [
    "df.filter(df.work_balance_stars.isNull()).count()\n",
    "\n",
    "# approx 5000 rows with None values"
   ]
  },
  {
   "cell_type": "markdown",
   "metadata": {},
   "source": [
    "## Removing the None values. Why/Why not?\n",
    "1. If none values are removed approx 5000 rows are removed from the dataset. 5000/27000 i.e. loss of 18% of data. \n",
    "2. If imputation is done on the none values it will bring 18% noise in the data\n",
    "3. I feel imputation needs to be done with more relevant data and not just random values"
   ]
  },
  {
   "cell_type": "markdown",
   "metadata": {},
   "source": [
    "## Replace \"None\" with Null"
   ]
  },
  {
   "cell_type": "code",
   "execution_count": 16,
   "metadata": {
    "scrolled": false
   },
   "outputs": [
    {
     "name": "stdout",
     "output_type": "stream",
     "text": [
      "+-------+-------+--------+-----+-------+---------+-------------------+------------------+------------------+--------------------+--------------------------+------------------+----------------------+\n",
      "|summary|company|    city|state|country|job_title|   current_employee|   overall_ratings|work_balance_stars|culture_values_stars|carrer_opportunities_stars|comp_benefit_stars|senior_mangemnet_stars|\n",
      "+-------+-------+--------+-----+-------+---------+-------------------+------------------+------------------+--------------------+--------------------------+------------------+----------------------+\n",
      "|  count|  27779|   27779|27779|  27779|    27779|              27779|             27779|             27779|               27779|                     27779|             27779|                 27779|\n",
      "|   mean|   null|    null| null|   null|     null| 0.6448396270564095|3.7785737427553188|3.3734953271028036|  3.7328037709497206|         3.617313734290844|3.9743589743589745|     3.300279013649046|\n",
      "| stddev|   null|    null| null|   null|     null|0.47857050383571414|1.1737432572393718|1.2936159800713967|   1.320662779118574|         1.235679827901374|1.0224265472011034|    1.3248882619778553|\n",
      "|    min| amazon|Aberdeen|   AK|     US|         |                  0|               1.0|               1.0|                 1.0|                       1.0|               1.0|                   1.0|\n",
      "|    max|netflix|   Yukon|   WY|     US|  invento|                  1|               5.0|              none|                none|                      none|              none|                  none|\n",
      "+-------+-------+--------+-----+-------+---------+-------------------+------------------+------------------+--------------------+--------------------------+------------------+----------------------+\n",
      "\n"
     ]
    }
   ],
   "source": [
    "df.describe().show()"
   ]
  },
  {
   "cell_type": "code",
   "execution_count": 17,
   "metadata": {},
   "outputs": [],
   "source": [
    "# Function to replace None values\n",
    "def replaceNone(x):\n",
    "    return when(col(x) == (\"none\" or \"None\" or \"NONE\") , None).otherwise(col(x))"
   ]
  },
  {
   "cell_type": "code",
   "execution_count": 18,
   "metadata": {},
   "outputs": [],
   "source": [
    "df = df.withColumn(\"senior_mangemnet_stars\", replaceNone(\"senior_mangemnet_stars\")).\\\n",
    "withColumn(\"comp_benefit_stars\", replaceNone(\"comp_benefit_stars\")).\\\n",
    "withColumn(\"carrer_opportunities_stars\", replaceNone(\"carrer_opportunities_stars\")).\\\n",
    "withColumn(\"culture_values_stars\", replaceNone(\"culture_values_stars\")).\\\n",
    "withColumn(\"work_balance_stars\", replaceNone(\"work_balance_stars\")).\\\n",
    "withColumn(\"overall_ratings\", replaceNone(\"overall_ratings\"))\n"
   ]
  },
  {
   "cell_type": "markdown",
   "metadata": {},
   "source": [
    "## Check for Null values present in each column"
   ]
  },
  {
   "cell_type": "code",
   "execution_count": 19,
   "metadata": {
    "scrolled": true
   },
   "outputs": [
    {
     "name": "stdout",
     "output_type": "stream",
     "text": [
      "+-------+----+-----+-------+-----------+---------+----------------+---------------+------------------+--------------------+--------------------------+------------------+----------------------+\n",
      "|company|city|state|country|review_date|job_title|current_employee|overall_ratings|work_balance_stars|culture_values_stars|carrer_opportunities_stars|comp_benefit_stars|senior_mangemnet_stars|\n",
      "+-------+----+-----+-------+-----------+---------+----------------+---------------+------------------+--------------------+--------------------------+------------------+----------------------+\n",
      "|      0|   0|    0|      0|          0|        0|               0|              0|              1029|                4867|                      1043|              1025|                  1257|\n",
      "+-------+----+-----+-------+-----------+---------+----------------+---------------+------------------+--------------------+--------------------------+------------------+----------------------+\n",
      "\n"
     ]
    }
   ],
   "source": [
    "df.select([count(when(col(c).isNull(), c)).alias(c) for c in df.columns]).show()"
   ]
  },
  {
   "cell_type": "markdown",
   "metadata": {},
   "source": [
    "## Change the required columns to integer type"
   ]
  },
  {
   "cell_type": "code",
   "execution_count": 20,
   "metadata": {
    "scrolled": true
   },
   "outputs": [
    {
     "name": "stdout",
     "output_type": "stream",
     "text": [
      "root\n",
      " |-- company: string (nullable = true)\n",
      " |-- city: string (nullable = true)\n",
      " |-- state: string (nullable = true)\n",
      " |-- country: string (nullable = false)\n",
      " |-- review_date: date (nullable = true)\n",
      " |-- job_title: string (nullable = true)\n",
      " |-- current_employee: integer (nullable = false)\n",
      " |-- overall_ratings: string (nullable = true)\n",
      " |-- work_balance_stars: string (nullable = true)\n",
      " |-- culture_values_stars: string (nullable = true)\n",
      " |-- carrer_opportunities_stars: string (nullable = true)\n",
      " |-- comp_benefit_stars: string (nullable = true)\n",
      " |-- senior_mangemnet_stars: string (nullable = true)\n",
      "\n"
     ]
    }
   ],
   "source": [
    "df.printSchema()"
   ]
  },
  {
   "cell_type": "markdown",
   "metadata": {},
   "source": [
    "## Convert to apt Type"
   ]
  },
  {
   "cell_type": "code",
   "execution_count": 21,
   "metadata": {},
   "outputs": [],
   "source": [
    "df = df.withColumn(\"overall_ratings\", df.overall_ratings.cast(IntegerType()))\n",
    "df = df.withColumn(\"work_balance_stars\", df.work_balance_stars.cast(FloatType()))\n",
    "df = df.withColumn(\"culture_values_stars\", df.culture_values_stars.cast(IntegerType()))\n",
    "df = df.withColumn(\"carrer_opportunities_stars\", df.carrer_opportunities_stars.cast(FloatType()))\n",
    "df = df.withColumn(\"comp_benefit_stars\", df.comp_benefit_stars.cast(FloatType()))\n",
    "df = df.withColumn(\"senior_mangemnet_stars\", df.senior_mangemnet_stars.cast(FloatType()))"
   ]
  },
  {
   "cell_type": "code",
   "execution_count": 22,
   "metadata": {},
   "outputs": [
    {
     "name": "stdout",
     "output_type": "stream",
     "text": [
      "root\n",
      " |-- company: string (nullable = true)\n",
      " |-- city: string (nullable = true)\n",
      " |-- state: string (nullable = true)\n",
      " |-- country: string (nullable = false)\n",
      " |-- review_date: date (nullable = true)\n",
      " |-- job_title: string (nullable = true)\n",
      " |-- current_employee: integer (nullable = false)\n",
      " |-- overall_ratings: integer (nullable = true)\n",
      " |-- work_balance_stars: float (nullable = true)\n",
      " |-- culture_values_stars: integer (nullable = true)\n",
      " |-- carrer_opportunities_stars: float (nullable = true)\n",
      " |-- comp_benefit_stars: float (nullable = true)\n",
      " |-- senior_mangemnet_stars: float (nullable = true)\n",
      "\n"
     ]
    }
   ],
   "source": [
    "df.printSchema()"
   ]
  },
  {
   "cell_type": "code",
   "execution_count": 23,
   "metadata": {},
   "outputs": [
    {
     "name": "stdout",
     "output_type": "stream",
     "text": [
      "+-------+-------+--------+-----+-------+---------+-------------------+------------------+------------------+--------------------+--------------------------+------------------+----------------------+\n",
      "|summary|company|    city|state|country|job_title|   current_employee|   overall_ratings|work_balance_stars|culture_values_stars|carrer_opportunities_stars|comp_benefit_stars|senior_mangemnet_stars|\n",
      "+-------+-------+--------+-----+-------+---------+-------------------+------------------+------------------+--------------------+--------------------------+------------------+----------------------+\n",
      "|  count|  27779|   27779|27779|  27779|    27779|              27779|             27779|             26750|               22912|                     26736|             26754|                 26522|\n",
      "|   mean|   null|    null| null|   null|     null| 0.6448396270564095|3.7785737427553188|3.3734953271028036|  3.7328037709497206|         3.617313734290844|3.9743589743589745|     3.300279013649046|\n",
      "| stddev|   null|    null| null|   null|     null|0.47857050383571414|1.1737432572393718|1.2936159800713967|   1.320662779118574|         1.235679827901374|1.0224265472011034|    1.3248882619778553|\n",
      "|    min| amazon|Aberdeen|   AK|     US|         |                  0|                 1|               1.0|                   1|                       1.0|               1.0|                   1.0|\n",
      "|    max|netflix|   Yukon|   WY|     US|  invento|                  1|                 5|               5.0|                   5|                       5.0|               5.0|                   5.0|\n",
      "+-------+-------+--------+-----+-------+---------+-------------------+------------------+------------------+--------------------+--------------------------+------------------+----------------------+\n",
      "\n"
     ]
    }
   ],
   "source": [
    "df.describe().show()"
   ]
  },
  {
   "cell_type": "markdown",
   "metadata": {},
   "source": [
    "## No Outliers found\n"
   ]
  },
  {
   "cell_type": "code",
   "execution_count": 24,
   "metadata": {
    "scrolled": true
   },
   "outputs": [
    {
     "name": "stdout",
     "output_type": "stream",
     "text": [
      "+-------+----+-----+-------+-----------+---------+----------------+---------------+------------------+--------------------+--------------------------+------------------+----------------------+\n",
      "|company|city|state|country|review_date|job_title|current_employee|overall_ratings|work_balance_stars|culture_values_stars|carrer_opportunities_stars|comp_benefit_stars|senior_mangemnet_stars|\n",
      "+-------+----+-----+-------+-----------+---------+----------------+---------------+------------------+--------------------+--------------------------+------------------+----------------------+\n",
      "|      0|   0|    0|      0|          0|        0|               0|              0|              1029|                4867|                      1043|              1025|                  1257|\n",
      "+-------+----+-----+-------+-----------+---------+----------------+---------------+------------------+--------------------+--------------------------+------------------+----------------------+\n",
      "\n"
     ]
    }
   ],
   "source": [
    "df.select([count(when(col(c).isNull(), c)).alias(c) for c in df.columns]).show()"
   ]
  },
  {
   "cell_type": "markdown",
   "metadata": {},
   "source": [
    "## Imputation\n",
    "\n",
    "- There are approx 5000 missing values in the dataset. I would want to impute them logically to avoid introducing noise in the data. \n",
    "\n",
    "- First approach: Impute average values in the columns. This would be an easier solution to execute but would bring some irrelevant data. For example, there would be a case when a former employee may have given an overall rating as 1 and did not bother to fill the rest of the ratings. If I impute a mean value of 3 in the other ratings columns it would not be relevant. \n",
    "\n",
    "- To overcome this challenge I tried the mllib.imputer function of spark which also imputes mean/median values but since the ratings are more in the form of categories like 1,2,3,4 and 5 I would not want to impute a 3.2 in the column.\n",
    "\n",
    "- Second approach: I decided to go with a manual imputation where I divided the dataset into df_current_employees and df_former_employees where data exist only for the current employees and former employees respectively. Now I would impute mean values (or closer to mean values) in the two data-sets and later join them. \n",
    "\n",
    "- This approach would reduce the noise added by the imputation in the data-set to a large extend. \n",
    "\n"
   ]
  },
  {
   "cell_type": "code",
   "execution_count": 25,
   "metadata": {},
   "outputs": [],
   "source": [
    "# divide the data-set into df_former_employees and df_current_employees\n",
    "df_former_employees=df.filter('current_employee=0')\n",
    "df_current_employees=df.filter('current_employee=1')"
   ]
  },
  {
   "cell_type": "code",
   "execution_count": 26,
   "metadata": {
    "scrolled": true
   },
   "outputs": [
    {
     "name": "stdout",
     "output_type": "stream",
     "text": [
      "+-------+-------+---------+-----+-------+--------------------+----------------+------------------+------------------+--------------------+--------------------------+------------------+----------------------+\n",
      "|summary|company|     city|state|country|           job_title|current_employee|   overall_ratings|work_balance_stars|culture_values_stars|carrer_opportunities_stars|comp_benefit_stars|senior_mangemnet_stars|\n",
      "+-------+-------+---------+-----+-------+--------------------+----------------+------------------+------------------+--------------------+--------------------------+------------------+----------------------+\n",
      "|  count|   9866|     9866| 9866|   9866|                9866|            9866|              9866|              9385|                8229|                      9373|              9384|                  9299|\n",
      "|   mean|   null|     null| null|   null|                null|             0.0|3.4800324346239613|3.0913159296750132|  3.4228946409041194|         3.303371385895658|3.8714833759590794|    2.9640821593719755|\n",
      "| stddev|   null|     null| null|   null|                null|             0.0|1.2453895263892474|1.3417616014980203|  1.4014510263640163|        1.2720992906329842|1.0919570194397812|    1.3497768527775496|\n",
      "|    min| amazon| Aberdeen|   AK|     US| (ICQA) Inventory...|               0|                 1|               1.0|                   1|                       1.0|               1.0|                   1.0|\n",
      "|    max|netflix|Ypsilanti|   WV|     US|                 eot|               0|                 5|               5.0|                   5|                       5.0|               5.0|                   5.0|\n",
      "+-------+-------+---------+-----+-------+--------------------+----------------+------------------+------------------+--------------------+--------------------------+------------------+----------------------+\n",
      "\n"
     ]
    }
   ],
   "source": [
    "df_former_employees.describe().show()"
   ]
  },
  {
   "cell_type": "markdown",
   "metadata": {},
   "source": [
    "## Impute values in the former employees data frame"
   ]
  },
  {
   "cell_type": "code",
   "execution_count": 27,
   "metadata": {},
   "outputs": [],
   "source": [
    "df_former_employees = df_former_employees.na.fill({'work_balance_stars' : '3.0' , 'culture_values_stars' : '3.5', \\\n",
    "                 'carrer_opportunities_stars' : '3.5', 'comp_benefit_stars': '4' , 'senior_mangemnet_stars' : '3'})"
   ]
  },
  {
   "cell_type": "code",
   "execution_count": 28,
   "metadata": {},
   "outputs": [
    {
     "name": "stdout",
     "output_type": "stream",
     "text": [
      "+-------+-------+-------+-----+-------+---------+----------------+-----------------+------------------+--------------------+--------------------------+------------------+----------------------+\n",
      "|summary|company|   city|state|country|job_title|current_employee|  overall_ratings|work_balance_stars|culture_values_stars|carrer_opportunities_stars|comp_benefit_stars|senior_mangemnet_stars|\n",
      "+-------+-------+-------+-----+-------+---------+----------------+-----------------+------------------+--------------------+--------------------------+------------------+----------------------+\n",
      "|  count|  17913|  17913|17913|  17913|    17913|           17913|            17913|             17365|               14683|                     17363|             17370|                 17223|\n",
      "|   mean|   null|   null| null|   null|     null|             1.0|3.943002288840507| 3.526000575871005|  3.9064904992167815|        3.7867879974658756| 4.029936672423719|    3.4817975962375893|\n",
      "| stddev|   null|   null| null|   null|     null|             0.0|1.098254871960238|1.2404324179518116|  1.2397684093087034|        1.1814229695893392|0.9783608688292186|    1.2749551363112115|\n",
      "|    min| amazon|Acworth|   AK|     US|         |               1|                1|               1.0|                   1|                       1.0|               1.0|                   1.0|\n",
      "|    max|netflix|  Yukon|   WY|     US|  invento|               1|                5|               5.0|                   5|                       5.0|               5.0|                   5.0|\n",
      "+-------+-------+-------+-----+-------+---------+----------------+-----------------+------------------+--------------------+--------------------------+------------------+----------------------+\n",
      "\n"
     ]
    }
   ],
   "source": [
    "df_current_employees.describe().show()"
   ]
  },
  {
   "cell_type": "markdown",
   "metadata": {},
   "source": [
    "## Impute values in the current employees data frame"
   ]
  },
  {
   "cell_type": "code",
   "execution_count": 29,
   "metadata": {},
   "outputs": [],
   "source": [
    "df_current_employees = df_current_employees.na.fill({'work_balance_stars' : '3.5' , 'culture_values_stars' : '4', \\\n",
    "                 'carrer_opportunities_stars' : '3.5', 'comp_benefit_stars': '4' , 'senior_mangemnet_stars' : '3.5'})"
   ]
  },
  {
   "cell_type": "markdown",
   "metadata": {},
   "source": [
    "## join the two data frames"
   ]
  },
  {
   "cell_type": "code",
   "execution_count": 30,
   "metadata": {},
   "outputs": [],
   "source": [
    "df=df_current_employees.union(df_former_employees)"
   ]
  },
  {
   "cell_type": "code",
   "execution_count": 31,
   "metadata": {},
   "outputs": [
    {
     "name": "stdout",
     "output_type": "stream",
     "text": [
      "+-------+-------+--------+-----+-------+---------+------------------+------------------+------------------+--------------------+--------------------------+------------------+----------------------+\n",
      "|summary|company|    city|state|country|job_title|  current_employee|   overall_ratings|work_balance_stars|culture_values_stars|carrer_opportunities_stars|comp_benefit_stars|senior_mangemnet_stars|\n",
      "+-------+-------+--------+-----+-------+---------+------------------+------------------+------------------+--------------------+--------------------------+------------------+----------------------+\n",
      "|  count|  27779|   27779|27779|  27779|    27779|             27779|             27779|             27779|               27779|                     27779|             27779|                 27779|\n",
      "|   mean|   null|    null| null|   null|     null|0.6448396270564095|3.7785737427553188| 3.369523740955398|  3.7206882897152527|         3.612909032002592|3.9753050865761907|     3.299110839123079|\n",
      "| stddev|   null|    null| null|   null|     null|0.4785705038357151| 1.173743257239373|1.2704988325177924|  1.2158773412539428|        1.2124645269032128|1.0033972692654924|    1.2956571072391943|\n",
      "|    min| amazon|Aberdeen|   AK|     US|         |                 0|                 1|               1.0|                   1|                       1.0|               1.0|                   1.0|\n",
      "|    max|netflix|   Yukon|   WY|     US|  invento|                 1|                 5|               5.0|                   5|                       5.0|               5.0|                   5.0|\n",
      "+-------+-------+--------+-----+-------+---------+------------------+------------------+------------------+--------------------+--------------------------+------------------+----------------------+\n",
      "\n"
     ]
    }
   ],
   "source": [
    "df.describe().show()"
   ]
  },
  {
   "cell_type": "markdown",
   "metadata": {},
   "source": [
    "## No Null values present"
   ]
  },
  {
   "cell_type": "code",
   "execution_count": 32,
   "metadata": {
    "scrolled": true
   },
   "outputs": [
    {
     "name": "stdout",
     "output_type": "stream",
     "text": [
      "+-------+----+-----+-------+-----------+---------+----------------+---------------+------------------+--------------------+--------------------------+------------------+----------------------+\n",
      "|company|city|state|country|review_date|job_title|current_employee|overall_ratings|work_balance_stars|culture_values_stars|carrer_opportunities_stars|comp_benefit_stars|senior_mangemnet_stars|\n",
      "+-------+----+-----+-------+-----------+---------+----------------+---------------+------------------+--------------------+--------------------------+------------------+----------------------+\n",
      "|      0|   0|    0|      0|          0|        0|               0|              0|                 0|                   0|                         0|                 0|                     0|\n",
      "+-------+----+-----+-------+-----------+---------+----------------+---------------+------------------+--------------------+--------------------------+------------------+----------------------+\n",
      "\n"
     ]
    }
   ],
   "source": [
    "df.select([count(when(col(c).isNull(), c)).alias(c) for c in df.columns]).show()"
   ]
  },
  {
   "cell_type": "code",
   "execution_count": 33,
   "metadata": {},
   "outputs": [
    {
     "data": {
      "text/plain": [
       "27779"
      ]
     },
     "execution_count": 33,
     "metadata": {},
     "output_type": "execute_result"
    }
   ],
   "source": [
    "df.count()"
   ]
  },
  {
   "cell_type": "markdown",
   "metadata": {},
   "source": [
    "## Cleaned Data-set"
   ]
  },
  {
   "cell_type": "code",
   "execution_count": 34,
   "metadata": {},
   "outputs": [],
   "source": [
    "cleaned_df = df"
   ]
  },
  {
   "cell_type": "code",
   "execution_count": 35,
   "metadata": {},
   "outputs": [
    {
     "name": "stdout",
     "output_type": "stream",
     "text": [
      "+-------+-------------+-----+-------+-----------+--------------------+----------------+---------------+------------------+--------------------+--------------------------+------------------+----------------------+\n",
      "|company|         city|state|country|review_date|           job_title|current_employee|overall_ratings|work_balance_stars|culture_values_stars|carrer_opportunities_stars|comp_benefit_stars|senior_mangemnet_stars|\n",
      "+-------+-------------+-----+-------+-----------+--------------------+----------------+---------------+------------------+--------------------+--------------------------+------------------+----------------------+\n",
      "| google|Mountain View|   CA|     US| 2015-02-08|  Anonymous Employee|               1|              5|               2.0|                   5|                       5.0|               4.0|                   5.0|\n",
      "| google|     New York|   NY|     US| 2018-12-11|   Software Engineer|               1|              5|               5.0|                   4|                       4.0|               5.0|                   4.0|\n",
      "| google|     New York|   NY|     US| 2018-12-10|  Anonymous Employee|               1|              5|               5.0|                   5|                       5.0|               5.0|                   5.0|\n",
      "| google|Mountain View|   CA|     US| 2018-12-08|  Anonymous Employee|               1|              5|               4.0|                   5|                       4.0|               4.0|                   3.0|\n",
      "| google|San Francisco|   CA|     US| 2018-12-03| Sales Operations...|               1|              5|               5.0|                   5|                       5.0|               4.0|                   4.0|\n",
      "+-------+-------------+-----+-------+-----------+--------------------+----------------+---------------+------------------+--------------------+--------------------------+------------------+----------------------+\n",
      "only showing top 5 rows\n",
      "\n"
     ]
    }
   ],
   "source": [
    "cleaned_df.count()\n",
    "#27779\n",
    "\n",
    "cleaned_df.show(5)"
   ]
  },
  {
   "cell_type": "markdown",
   "metadata": {},
   "source": [
    "### --------------------------------------------------------------------------------------------------------------------------------"
   ]
  },
  {
   "cell_type": "markdown",
   "metadata": {},
   "source": [
    "# Data Questions\n",
    "\n",
    "Each question below will have two parts.   Please solve each problem in PySpark and PySpark SQL.  This is to test your ability to solve the problem in PySpark, and to test your ability to solve the problem in SQL.\n",
    "\n",
    "- PySpark API (https://spark.apache.org/docs/latest/api/python/index.html)\n",
    "- PySpark SQL API (https://spark.apache.org/docs/latest/api/python/pyspark.sql.html)"
   ]
  },
  {
   "cell_type": "code",
   "execution_count": 36,
   "metadata": {},
   "outputs": [],
   "source": [
    "#cleaned_reviews_df.createOrReplaceTempView(\"reviews\")"
   ]
  },
  {
   "cell_type": "code",
   "execution_count": 37,
   "metadata": {},
   "outputs": [],
   "source": [
    "cleaned_df.createOrReplaceTempView(\"reviews_table\") # my data"
   ]
  },
  {
   "cell_type": "markdown",
   "metadata": {},
   "source": [
    "### (1) What is the total number of reviews in the data set?"
   ]
  },
  {
   "cell_type": "markdown",
   "metadata": {},
   "source": [
    "##### PySpark Implmentation"
   ]
  },
  {
   "cell_type": "code",
   "execution_count": 38,
   "metadata": {
    "scrolled": true
   },
   "outputs": [],
   "source": [
    "#cleaned_reviews_df.count()\n",
    "#27779"
   ]
  },
  {
   "cell_type": "code",
   "execution_count": 39,
   "metadata": {},
   "outputs": [
    {
     "data": {
      "text/plain": [
       "27779"
      ]
     },
     "execution_count": 39,
     "metadata": {},
     "output_type": "execute_result"
    }
   ],
   "source": [
    "cleaned_df.count()"
   ]
  },
  {
   "cell_type": "markdown",
   "metadata": {},
   "source": [
    "There are total 27779 reviews in the data-set"
   ]
  },
  {
   "cell_type": "markdown",
   "metadata": {},
   "source": [
    "##### Spark SQL Implmentation"
   ]
  },
  {
   "cell_type": "code",
   "execution_count": 40,
   "metadata": {},
   "outputs": [],
   "source": [
    "#spark.sql(\"SELECT count(*) as review_count from reviews\").show()"
   ]
  },
  {
   "cell_type": "code",
   "execution_count": 41,
   "metadata": {},
   "outputs": [
    {
     "name": "stdout",
     "output_type": "stream",
     "text": [
      "+------------+\n",
      "|review_count|\n",
      "+------------+\n",
      "|       27779|\n",
      "+------------+\n",
      "\n"
     ]
    }
   ],
   "source": [
    "spark.sql(\"SELECT count(*) as review_count from reviews_table\").show()"
   ]
  },
  {
   "cell_type": "markdown",
   "metadata": {},
   "source": [
    "###  (2) How many reviews exist in the dataset per each company?"
   ]
  },
  {
   "cell_type": "markdown",
   "metadata": {},
   "source": [
    "##### PySpark Implmentation"
   ]
  },
  {
   "cell_type": "code",
   "execution_count": 42,
   "metadata": {},
   "outputs": [
    {
     "name": "stdout",
     "output_type": "stream",
     "text": [
      "+---------+-----+\n",
      "|  company|count|\n",
      "+---------+-----+\n",
      "|   amazon| 9993|\n",
      "|    apple| 5729|\n",
      "| facebook| 1148|\n",
      "|   google| 2546|\n",
      "|microsoft| 7919|\n",
      "|  netflix|  444|\n",
      "+---------+-----+\n",
      "\n"
     ]
    }
   ],
   "source": [
    "cleaned_df.sort(col(\"company\")).groupBy(\"company\").count().show()"
   ]
  },
  {
   "cell_type": "markdown",
   "metadata": {},
   "source": [
    "##### Spark SQL Implmentation"
   ]
  },
  {
   "cell_type": "code",
   "execution_count": 43,
   "metadata": {},
   "outputs": [
    {
     "name": "stdout",
     "output_type": "stream",
     "text": [
      "+---------+------------------------+\n",
      "|  company|review_count_per_company|\n",
      "+---------+------------------------+\n",
      "|   amazon|                    9993|\n",
      "|    apple|                    5729|\n",
      "| facebook|                    1148|\n",
      "|   google|                    2546|\n",
      "|microsoft|                    7919|\n",
      "|  netflix|                     444|\n",
      "+---------+------------------------+\n",
      "\n"
     ]
    }
   ],
   "source": [
    "spark.sql(\"SELECT company,count(*) as review_count_per_company \\\n",
    "from reviews_table group by company order by company\").show()"
   ]
  },
  {
   "cell_type": "markdown",
   "metadata": {},
   "source": [
    "###  (3) How many reviews are from former and current employees per each company?"
   ]
  },
  {
   "cell_type": "markdown",
   "metadata": {},
   "source": [
    "##### PySpark Implmentation"
   ]
  },
  {
   "cell_type": "code",
   "execution_count": 44,
   "metadata": {},
   "outputs": [
    {
     "name": "stdout",
     "output_type": "stream",
     "text": [
      "Reviews from Former Employees per each Company\n",
      "+---------+-----+\n",
      "|  company|count|\n",
      "+---------+-----+\n",
      "|   amazon| 3342|\n",
      "|    apple| 2377|\n",
      "| facebook|  217|\n",
      "|   google|  926|\n",
      "|microsoft| 2790|\n",
      "|  netflix|  214|\n",
      "+---------+-----+\n",
      "\n",
      "Reviews from Current Employees per each Company\n",
      "+---------+-----+\n",
      "|  company|count|\n",
      "+---------+-----+\n",
      "|   amazon| 6651|\n",
      "|    apple| 3352|\n",
      "| facebook|  931|\n",
      "|   google| 1620|\n",
      "|microsoft| 5129|\n",
      "|  netflix|  230|\n",
      "+---------+-----+\n",
      "\n",
      "Reviews from all the Employees per each Company in one table\n",
      "Former = 0, Current = 1\n",
      "+---------+----------------+-----+\n",
      "|  company|current_employee|count|\n",
      "+---------+----------------+-----+\n",
      "|   amazon|               1| 6651|\n",
      "|   amazon|               0| 3342|\n",
      "|    apple|               1| 3352|\n",
      "|    apple|               0| 2377|\n",
      "| facebook|               1|  931|\n",
      "| facebook|               0|  217|\n",
      "|   google|               1| 1620|\n",
      "|   google|               0|  926|\n",
      "|microsoft|               1| 5129|\n",
      "|microsoft|               0| 2790|\n",
      "|  netflix|               1|  230|\n",
      "|  netflix|               0|  214|\n",
      "+---------+----------------+-----+\n",
      "\n"
     ]
    }
   ],
   "source": [
    "print(\"Reviews from Former Employees per each Company\")\n",
    "cleaned_df.filter(col(\"current_employee\") == 0).sort(col(\"company\"))\\\n",
    ".groupBy(\"company\").count().show()\n",
    "\n",
    "\n",
    "print(\"Reviews from Current Employees per each Company\")\n",
    "cleaned_df.filter(col(\"current_employee\") == 1).sort(col(\"company\"))\\\n",
    ".groupBy(\"company\").count().show()\n",
    "\n",
    "print(\"Reviews from all the Employees per each Company in one table\")\n",
    "print(\"Former = 0, Current = 1\")\n",
    "cleaned_df.sort(col(\"company\")).groupBy(\"company\", \"current_employee\")\\\n",
    ".count().show()"
   ]
  },
  {
   "cell_type": "markdown",
   "metadata": {},
   "source": [
    "##### Spark SQL Implmentation"
   ]
  },
  {
   "cell_type": "code",
   "execution_count": 45,
   "metadata": {},
   "outputs": [
    {
     "name": "stdout",
     "output_type": "stream",
     "text": [
      "Reviews from all the Employees per each Company in one table\n",
      "Former = 0, Current = 1\n",
      "+---------+----------------+------------------------+\n",
      "|  company|current_employee|review_count_per_company|\n",
      "+---------+----------------+------------------------+\n",
      "|   amazon|               0|                    3342|\n",
      "|   amazon|               1|                    6651|\n",
      "|    apple|               0|                    2377|\n",
      "|    apple|               1|                    3352|\n",
      "| facebook|               1|                     931|\n",
      "| facebook|               0|                     217|\n",
      "|   google|               0|                     926|\n",
      "|   google|               1|                    1620|\n",
      "|microsoft|               1|                    5129|\n",
      "|microsoft|               0|                    2790|\n",
      "|  netflix|               1|                     230|\n",
      "|  netflix|               0|                     214|\n",
      "+---------+----------------+------------------------+\n",
      "\n"
     ]
    }
   ],
   "source": [
    "print(\"Reviews from all the Employees per each Company in one table\")\n",
    "print(\"Former = 0, Current = 1\")\n",
    "spark.sql(\"SELECT company,current_employee,count(*) as review_count_per_company \\\n",
    "from reviews_table group by company,current_employee order by company\").show()"
   ]
  },
  {
   "cell_type": "markdown",
   "metadata": {},
   "source": [
    "###  (4) What is the average review scores of each current and former employees for each company?"
   ]
  },
  {
   "cell_type": "markdown",
   "metadata": {},
   "source": [
    "##### PySpark Implmentation"
   ]
  },
  {
   "cell_type": "code",
   "execution_count": 46,
   "metadata": {},
   "outputs": [
    {
     "name": "stdout",
     "output_type": "stream",
     "text": [
      "Average Ratings for each company for only Current Employees\n",
      "+---------+-------+------------+--------------+------------------+----------------+--------------+\n",
      "|  Company|Overall|Work_Balance|Culture_Values|Career_Opportunity|Comapny_Benefits|Senior_Mangmnt|\n",
      "+---------+-------+------------+--------------+------------------+----------------+--------------+\n",
      "|   amazon|  3.712|       3.161|         3.673|             3.751|           3.814|         3.369|\n",
      "|    apple|  4.077|        3.46|         4.186|             3.581|           4.074|         3.628|\n",
      "| facebook|  4.704|        4.07|         4.626|             4.533|           4.636|         4.471|\n",
      "|   google|  4.431|       4.068|         4.351|             4.018|           4.417|         3.948|\n",
      "|microsoft|  3.862|       3.763|         3.807|             3.744|           4.031|         3.194|\n",
      "|  netflix|  3.965|       3.674|          4.07|             3.433|           4.359|         3.791|\n",
      "+---------+-------+------------+--------------+------------------+----------------+--------------+\n",
      "\n",
      "Average Ratings for each company for only Former Employees\n",
      "+---------+-------+------------+--------------+------------------+----------------+--------------+\n",
      "|  Company|Overall|Work_Balance|Culture_Values|Career_Opportunity|Comapny_Benefits|Senior_Mangmnt|\n",
      "+---------+-------+------------+--------------+------------------+----------------+--------------+\n",
      "|   amazon|  2.981|       2.561|         2.881|             3.053|           3.517|         2.614|\n",
      "|    apple|   3.83|        3.22|         3.889|             3.298|           3.931|         3.296|\n",
      "| facebook|  3.926|       3.316|         3.783|              3.82|           4.399|         3.528|\n",
      "|   google|  4.156|       3.819|         3.924|             3.729|           4.305|         3.647|\n",
      "|microsoft|  3.561|       3.359|         3.261|             3.509|           4.079|         2.859|\n",
      "|  netflix|  2.944|       2.871|         3.047|             2.671|           3.925|          2.68|\n",
      "+---------+-------+------------+--------------+------------------+----------------+--------------+\n",
      "\n",
      "Average Ratings for Each Company For Current and Former Employees\n",
      "Former Employee = 0, Current Employee = 1\n",
      "+---------+----------------+-------+------------+--------------+------------------+----------------+--------------+\n",
      "|  Company|current_employee|Overall|Work_Balance|Culture_Values|Career_Opportunity|Comapny_Benefits|Senior_Mangmnt|\n",
      "+---------+----------------+-------+------------+--------------+------------------+----------------+--------------+\n",
      "|   amazon|               1|  3.712|       3.161|         3.673|             3.751|           3.814|         3.369|\n",
      "|   amazon|               0|  2.981|       2.561|         2.881|             3.053|           3.517|         2.614|\n",
      "|    apple|               1|  4.077|        3.46|         4.186|             3.581|           4.074|         3.628|\n",
      "|    apple|               0|   3.83|        3.22|         3.889|             3.298|           3.931|         3.296|\n",
      "| facebook|               1|  4.704|        4.07|         4.626|             4.533|           4.636|         4.471|\n",
      "| facebook|               0|  3.926|       3.316|         3.783|              3.82|           4.399|         3.528|\n",
      "|   google|               1|  4.431|       4.068|         4.351|             4.018|           4.417|         3.948|\n",
      "|   google|               0|  4.156|       3.819|         3.924|             3.729|           4.305|         3.647|\n",
      "|microsoft|               1|  3.862|       3.763|         3.807|             3.744|           4.031|         3.194|\n",
      "|microsoft|               0|  3.561|       3.359|         3.261|             3.509|           4.079|         2.859|\n",
      "|  netflix|               1|  3.965|       3.674|          4.07|             3.433|           4.359|         3.791|\n",
      "|  netflix|               0|  2.944|       2.871|         3.047|             2.671|           3.925|          2.68|\n",
      "+---------+----------------+-------+------------+--------------+------------------+----------------+--------------+\n",
      "\n"
     ]
    }
   ],
   "source": [
    "print(\"Average Ratings for each company for only Current Employees\")\n",
    "df.filter(\"current_employee = 1\").sort(col(\"company\")).groupBy('Company').\\\n",
    "agg(bround(avg('overall_ratings'),3).alias(\"Overall\"), bround(avg('work_balance_stars'),3).\\\n",
    "    alias('Work_Balance'), bround(avg('culture_values_stars'),3).\\\n",
    "    alias('Culture_Values'), bround(avg('carrer_opportunities_stars'),3).\\\n",
    "    alias('Career_Opportunity'), bround(avg('comp_benefit_stars'),3).\\\n",
    "    alias('Comapny_Benefits'),bround(avg('senior_mangemnet_stars'),3).alias('Senior_Mangmnt') ).show()\n",
    "\n",
    "print(\"Average Ratings for each company for only Former Employees\")\n",
    "df.filter(\"current_employee = 0\").sort(col(\"company\")).groupBy('Company').\\\n",
    "agg(bround(avg('overall_ratings'),3).alias(\"Overall\"), bround(avg('work_balance_stars'),3).\\\n",
    "    alias('Work_Balance'), bround(avg('culture_values_stars'),3).\\\n",
    "    alias('Culture_Values'), bround(avg('carrer_opportunities_stars'),3).\\\n",
    "    alias('Career_Opportunity'), bround(avg('comp_benefit_stars'),3).\\\n",
    "    alias('Comapny_Benefits'),bround(avg('senior_mangemnet_stars'),3).alias('Senior_Mangmnt') ).show()\n",
    "\n",
    "\n",
    "print(\"Average Ratings for Each Company For Current and Former Employees\")\n",
    "print(\"Former Employee = 0, Current Employee = 1\")\n",
    "df.sort(col(\"company\")).groupBy('Company', 'current_employee')\\\n",
    ".agg(bround(avg('overall_ratings'),3).alias(\"Overall\"), bround(avg('work_balance_stars'),3)\\\n",
    "     .alias('Work_Balance'), bround(avg('culture_values_stars'),3)\\\n",
    "     .alias('Culture_Values'), bround(avg('carrer_opportunities_stars'),3)\\\n",
    "     .alias('Career_Opportunity'), bround(avg('comp_benefit_stars'),3)\\\n",
    "     .alias('Comapny_Benefits'),bround(avg('senior_mangemnet_stars'),3).alias('Senior_Mangmnt') ).show()"
   ]
  },
  {
   "cell_type": "markdown",
   "metadata": {},
   "source": [
    "##### Spark SQL Implmentation"
   ]
  },
  {
   "cell_type": "code",
   "execution_count": 47,
   "metadata": {},
   "outputs": [
    {
     "name": "stdout",
     "output_type": "stream",
     "text": [
      "Average Ratings for each company for only Current Employees\n",
      "+---------+-------+------------+--------------+------------------+----------------+--------------+\n",
      "|  Company|Overall|Work_Balance|Culture_Values|Career_Opportunity|Company_Benefits|Senior_Mangmnt|\n",
      "+---------+-------+------------+--------------+------------------+----------------+--------------+\n",
      "|   amazon|  3.712|       3.161|         3.673|             3.751|           3.814|         3.369|\n",
      "|    apple|  4.077|        3.46|         4.186|             3.581|           4.074|         3.628|\n",
      "| facebook|  4.704|        4.07|         4.626|             4.533|           4.636|         4.471|\n",
      "|   google|  4.431|       4.068|         4.351|             4.018|           4.417|         3.948|\n",
      "|microsoft|  3.862|       3.763|         3.807|             3.744|           4.031|         3.194|\n",
      "|  netflix|  3.965|       3.674|          4.07|             3.433|           4.359|         3.791|\n",
      "+---------+-------+------------+--------------+------------------+----------------+--------------+\n",
      "\n",
      "Average Ratings for each company for only Former Employees\n",
      "+---------+-------+------------+--------------+------------------+----------------+--------------+\n",
      "|  Company|Overall|Work_Balance|Culture_Values|Career_Opportunity|Company_Benefits|Senior_Mangmnt|\n",
      "+---------+-------+------------+--------------+------------------+----------------+--------------+\n",
      "|   amazon|  2.981|       2.561|         2.881|             3.053|           3.517|         2.614|\n",
      "|    apple|   3.83|        3.22|         3.889|             3.298|           3.931|         3.296|\n",
      "| facebook|  3.926|       3.316|         3.783|              3.82|           4.399|         3.528|\n",
      "|   google|  4.156|       3.819|         3.924|             3.729|           4.305|         3.647|\n",
      "|microsoft|  3.561|       3.359|         3.261|             3.509|           4.079|         2.859|\n",
      "|  netflix|  2.944|       2.871|         3.047|             2.671|           3.925|          2.68|\n",
      "+---------+-------+------------+--------------+------------------+----------------+--------------+\n",
      "\n",
      "Average Ratings for Each Company For Current and Former Employees\n",
      "Former Employee = 0, Current Employee = 1\n",
      "+---------+---------------+-------+------------+--------------+------------------+----------------+--------------+\n",
      "|  Company|Employee_Status|Overall|Work_Balance|Culture_Values|Career_Opportunity|Company_Benefits|Senior_Mangmnt|\n",
      "+---------+---------------+-------+------------+--------------+------------------+----------------+--------------+\n",
      "|   amazon|              0|  2.981|       2.561|         2.881|             3.053|           3.517|         2.614|\n",
      "|   amazon|              1|  3.712|       3.161|         3.673|             3.751|           3.814|         3.369|\n",
      "|    apple|              0|   3.83|        3.22|         3.889|             3.298|           3.931|         3.296|\n",
      "|    apple|              1|  4.077|        3.46|         4.186|             3.581|           4.074|         3.628|\n",
      "| facebook|              1|  4.704|        4.07|         4.626|             4.533|           4.636|         4.471|\n",
      "| facebook|              0|  3.926|       3.316|         3.783|              3.82|           4.399|         3.528|\n",
      "|   google|              0|  4.156|       3.819|         3.924|             3.729|           4.305|         3.647|\n",
      "|   google|              1|  4.431|       4.068|         4.351|             4.018|           4.417|         3.948|\n",
      "|microsoft|              1|  3.862|       3.763|         3.807|             3.744|           4.031|         3.194|\n",
      "|microsoft|              0|  3.561|       3.359|         3.261|             3.509|           4.079|         2.859|\n",
      "|  netflix|              1|  3.965|       3.674|          4.07|             3.433|           4.359|         3.791|\n",
      "|  netflix|              0|  2.944|       2.871|         3.047|             2.671|           3.925|          2.68|\n",
      "+---------+---------------+-------+------------+--------------+------------------+----------------+--------------+\n",
      "\n"
     ]
    }
   ],
   "source": [
    "print(\"Average Ratings for each company for only Current Employees\")\n",
    "spark.sql(\"SELECT company AS Company ,  \\\n",
    "round(avg(overall_ratings),3) AS Overall  , \\\n",
    "round(avg(work_balance_stars),3) AS Work_Balance, \\\n",
    "round(avg(culture_values_stars),3) AS Culture_Values, \\\n",
    "round(avg(carrer_opportunities_stars),3) AS Career_Opportunity, \\\n",
    "round(avg(comp_benefit_stars),3) AS Company_Benefits, \\\n",
    "round(avg(senior_mangemnet_stars),3) AS Senior_Mangmnt \\\n",
    "from reviews_table \\\n",
    "WHERE current_employee = 1 \\\n",
    "group by company \\\n",
    "order by company\").show()\n",
    "\n",
    "print(\"Average Ratings for each company for only Former Employees\")\n",
    "spark.sql(\"SELECT company AS Company ,  \\\n",
    "round(avg(overall_ratings),3) AS Overall  ,\\\n",
    "round(avg(work_balance_stars),3) AS Work_Balance, \\\n",
    "round(avg(culture_values_stars),3) AS Culture_Values, \\\n",
    "round(avg(carrer_opportunities_stars),3) AS Career_Opportunity, \\\n",
    "round(avg(comp_benefit_stars),3) AS Company_Benefits, \\\n",
    "round(avg(senior_mangemnet_stars),3) AS Senior_Mangmnt \\\n",
    "from reviews_table WHERE current_employee = 0 \\\n",
    "group by company \\\n",
    "order by company\").show()\n",
    "\n",
    "\n",
    "print(\"Average Ratings for Each Company For Current and Former Employees\")\n",
    "print(\"Former Employee = 0, Current Employee = 1\")\n",
    "spark.sql(\"SELECT company AS Company , \\\n",
    "current_employee AS Employee_Status,\\\n",
    "round(avg(overall_ratings),3) AS Overall  , \\\n",
    "round(avg(work_balance_stars),3) AS Work_Balance, \\\n",
    "round(avg(culture_values_stars),3) AS Culture_Values, \\\n",
    "round(avg(carrer_opportunities_stars),3) AS Career_Opportunity, \\\n",
    "round(avg(comp_benefit_stars),3) AS Company_Benefits, \\\n",
    "round(avg(senior_mangemnet_stars),3) AS Senior_Mangmnt \\\n",
    "from reviews_table  \\\n",
    "group by company, current_employee \\\n",
    "order by company \").show()\n",
    "\n"
   ]
  },
  {
   "cell_type": "markdown",
   "metadata": {},
   "source": [
    "###  (5) Show the count of former Google employee reviews and the average work_balance_score in locations Seattle, San Francisco, or Utah\n",
    "- Please show in one solution  "
   ]
  },
  {
   "cell_type": "markdown",
   "metadata": {},
   "source": [
    "##### PySpark Implmentation"
   ]
  },
  {
   "cell_type": "code",
   "execution_count": 48,
   "metadata": {},
   "outputs": [
    {
     "name": "stdout",
     "output_type": "stream",
     "text": [
      "Table showing count of former google employees reviews and the AverageWork Balance Ratings with Location either Seattle, San Francisco Or Utah\n",
      "+-----+--------------------------+\n",
      "|Count|Average_Work_Balance_Score|\n",
      "+-----+--------------------------+\n",
      "|   90|                      4.12|\n",
      "+-----+--------------------------+\n",
      "\n"
     ]
    }
   ],
   "source": [
    "print(\"Table showing count of former google employees reviews and the Average\\\n",
    "Work Balance Ratings with Location either Seattle, San Francisco Or Utah\")\n",
    "\n",
    "\n",
    "df.filter((col('current_employee') == 0) & \\\n",
    "          ((col('city') == ('Seattle'))|(col('state') == 'UT') | (col('city') == 'San Francisco') ) & \\\n",
    "          (col('company') == 'google'))\\\n",
    ".agg(fn.count(col('current_employee')).alias(\"Count\"),bround(avg(col('work_balance_stars')),2)\\\n",
    "     .alias(\"Average_Work_Balance_Score\")).show()\n",
    "\n"
   ]
  },
  {
   "cell_type": "markdown",
   "metadata": {},
   "source": [
    "##### Spark SQL Implmentation"
   ]
  },
  {
   "cell_type": "code",
   "execution_count": 49,
   "metadata": {},
   "outputs": [
    {
     "name": "stdout",
     "output_type": "stream",
     "text": [
      "Table showing count of former google employees reviews and the Average Work Balance Ratings withLocation either Seattle, San Francisco Or Utah\n",
      "+-----+--------------------------+\n",
      "|Count|Average_Work_Balance_Score|\n",
      "+-----+--------------------------+\n",
      "|   90|                      4.12|\n",
      "+-----+--------------------------+\n",
      "\n"
     ]
    }
   ],
   "source": [
    "print(\"Table showing count of former google employees reviews and the Average Work Balance Ratings with\\\n",
    "Location either Seattle, San Francisco Or Utah\")\n",
    "\n",
    "spark.sql(\"SELECT count(*) AS Count, \\\n",
    "round(avg(work_balance_stars),2) AS Average_Work_Balance_Score \\\n",
    "FROM reviews_table \\\n",
    "WHERE (current_employee = 0) AND (company = 'google') AND \\\n",
    "(city IN ('Seattle','San Francisco') OR state IN ('UT'))\").show()"
   ]
  },
  {
   "cell_type": "code",
   "execution_count": 50,
   "metadata": {},
   "outputs": [
    {
     "name": "stdout",
     "output_type": "stream",
     "text": [
      "Table showing count of former google employees reviews and the Average Work Balance Ratings withLocation either Seattle, San Francisco Or Utah\n",
      "+-------+-------------+-----+-------+-----------+--------------------+----------------+---------------+------------------+--------------------+--------------------------+------------------+----------------------+\n",
      "|company|         city|state|country|review_date|           job_title|current_employee|overall_ratings|work_balance_stars|culture_values_stars|carrer_opportunities_stars|comp_benefit_stars|senior_mangemnet_stars|\n",
      "+-------+-------------+-----+-------+-----------+--------------------+----------------+---------------+------------------+--------------------+--------------------------+------------------+----------------------+\n",
      "| google|      Seattle|   WA|     US| 2018-08-13|        Test Manager|               0|              5|               5.0|                   5|                       4.0|               5.0|                   3.0|\n",
      "| google|San Francisco|   CA|     US| 2018-06-23| Chief Executive ...|               0|              2|               4.0|                   1|                       3.0|               5.0|                   1.0|\n",
      "| google|      Seattle|   WA|     US| 2018-06-11|     Product Manager|               0|              4|               5.0|                   5|                       5.0|               5.0|                   5.0|\n",
      "| google|San Francisco|   CA|     US| 2018-05-07| Senior Software ...|               0|              5|               5.0|                   5|                       5.0|               5.0|                   5.0|\n",
      "| google|      Seattle|   WA|     US| 2018-04-02|   Software Engineer|               0|              5|               5.0|                   5|                       5.0|               5.0|                   5.0|\n",
      "| google|San Francisco|   CA|     US| 2018-03-27|  Anonymous Employee|               0|              5|               5.0|                   5|                       5.0|               5.0|                   5.0|\n",
      "| google|San Francisco|   CA|     US| 2018-02-25|        Data Analyst|               0|              5|               4.0|                   5|                       5.0|               4.0|                   5.0|\n",
      "| google|San Francisco|   CA|     US| 2018-03-02|     Program Manager|               0|              2|               2.0|                   2|                       2.0|               5.0|                   3.0|\n",
      "| google|San Francisco|   CA|     US| 2018-03-05|  Anonymous Employee|               0|              4|               4.0|                   4|                       3.0|               5.0|                   4.0|\n",
      "| google|San Francisco|   CA|     US| 2018-02-22|             Partner|               0|              4|               5.0|                   4|                       3.0|               5.0|                   2.0|\n",
      "| google|      Seattle|   WA|     US| 2018-02-19|   Software Engineer|               0|              2|               1.0|                   1|                       2.0|               3.0|                   1.0|\n",
      "| google|San Francisco|   CA|     US| 2018-02-06|  Marketing Director|               0|              3|               2.0|                   3|                       3.0|               4.0|                   3.0|\n",
      "| google|San Francisco|   CA|     US| 2018-01-23| Senior Software ...|               0|              5|               5.0|                   4|                       5.0|               5.0|                   5.0|\n",
      "| google|San Francisco|   CA|     US| 2018-01-15|    Systems Engineer|               0|              5|               4.0|                   5|                       5.0|               5.0|                   5.0|\n",
      "| google|San Francisco|   CA|     US| 2018-01-19| Senior Site Reli...|               0|              4|               5.0|                   3|                       4.0|               4.0|                   4.0|\n",
      "| google|San Francisco|   CA|     US| 2017-12-11|     Product Manager|               0|              5|               5.0|                   5|                       5.0|               5.0|                   5.0|\n",
      "| google|San Francisco|   CA|     US| 2017-11-27| Junior Software ...|               0|              5|               3.0|                   4|                       5.0|               5.0|                   4.0|\n",
      "| google|      Seattle|   WA|     US| 2017-12-06|   Software Engineer|               0|              4|               4.0|                   4|                       3.0|               5.0|                   3.0|\n",
      "| google|San Francisco|   CA|     US| 2017-11-21| Global Product Lead|               0|              5|               5.0|                   5|                       5.0|               4.0|                   5.0|\n",
      "| google|San Francisco|   CA|     US| 2017-11-14|   Software Engineer|               0|              5|               5.0|                   5|                       4.0|               5.0|                   4.0|\n",
      "| google|      Seattle|   WA|     US| 2017-11-15| Senior Software ...|               0|              4|               3.0|                   3|                       3.5|               4.0|                   3.0|\n",
      "| google|San Francisco|   CA|     US| 2017-10-23|     Systems Analyst|               0|              5|               4.0|                   5|                       4.0|               5.0|                   4.0|\n",
      "| google|San Francisco|   CA|     US| 2017-11-09|      People Analyst|               0|              4|               4.0|                   4|                       4.0|               5.0|                   5.0|\n",
      "| google|San Francisco|   CA|     US| 2017-10-17|   Software Engineer|               0|              5|               5.0|                   5|                       5.0|               5.0|                   5.0|\n",
      "| google|San Francisco|   CA|     US| 2017-10-13|             Manager|               0|              5|               4.0|                   3|                       5.0|               4.0|                   3.0|\n",
      "| google|San Francisco|   CA|     US| 2018-12-06|             Intern |               0|              4|               3.0|                   3|                       4.0|               4.0|                   4.0|\n",
      "| google|      Seattle|   WA|     US| 2017-10-19|  Anonymous Employee|               0|              4|               5.0|                   4|                       4.0|               3.0|                   4.0|\n",
      "| google|San Francisco|   CA|     US| 2017-07-12|   Software Engineer|               0|              5|               5.0|                   4|                       4.0|               5.0|                   4.0|\n",
      "| google|San Francisco|   CA|     US| 2017-05-02|           Developer|               0|              5|               5.0|                   5|                       5.0|               5.0|                   5.0|\n",
      "| google|San Francisco|   CA|     US| 2017-04-24| Chief Technology...|               0|              5|               5.0|                   5|                       4.0|               4.0|                   4.0|\n",
      "| google|San Francisco|   CA|     US| 2017-03-23|   Software Engineer|               0|              5|               5.0|                   3|                       5.0|               5.0|                   5.0|\n",
      "| google|San Francisco|   CA|     US| 2016-12-25|     Account Manager|               0|              4|               4.0|                   4|                       4.0|               4.0|                   3.0|\n",
      "| google|San Francisco|   CA|     US| 2016-12-21|   Software Engineer|               0|              4|               2.0|                   3|                       5.0|               5.0|                   3.0|\n",
      "| google|      Seattle|   WA|     US| 2016-10-14|   Software Engineer|               0|              4|               5.0|                   1|                       5.0|               5.0|                   3.0|\n",
      "| google|San Francisco|   CA|     US| 2016-09-13|  Anonymous Employee|               0|              5|               3.0|                   3|                       3.5|               4.0|                   3.0|\n",
      "| google|San Francisco|   CA|     US| 2016-07-07|   Community Manager|               0|              5|               5.0|                   5|                       3.0|               5.0|                   5.0|\n",
      "| google|San Francisco|   CA|     US| 2016-07-13|  Anonymous Employee|               0|              4|               3.0|                   4|                       4.0|               5.0|                   3.0|\n",
      "| google|San Francisco|   CA|     US| 2016-07-04| Network Test Eng...|               0|              5|               4.0|                   4|                       4.0|               4.0|                   4.0|\n",
      "| google|      Seattle|   WA|     US| 2016-06-29|  Anonymous Employee|               0|              5|               2.0|                   5|                       5.0|               5.0|                   5.0|\n",
      "| google|San Francisco|   CA|     US| 2016-06-26|   Account Executive|               0|              1|               2.0|                   1|                       1.0|               3.0|                   1.0|\n",
      "| google|San Francisco|   CA|     US| 2016-05-01| Global Business ...|               0|              5|               3.0|                   3|                       3.5|               4.0|                   3.0|\n",
      "| google|San Francisco|   CA|     US| 2016-04-11|  Anonymous Employee|               0|              5|               5.0|                   5|                       5.0|               5.0|                   5.0|\n",
      "| google|San Francisco|   CA|     US| 2016-02-21|              Intern|               0|              5|               5.0|                   5|                       5.0|               5.0|                   5.0|\n",
      "| google|      Seattle|   WA|     US| 2016-02-19|       Web Developer|               0|              3|               3.0|                   3|                       2.0|               4.0|                   3.0|\n",
      "| google|San Francisco|   CA|     US| 2016-01-20|  Anonymous Employee|               0|              5|               4.0|                   4|                       5.0|               5.0|                   4.0|\n",
      "| google|San Francisco|   CA|     US| 2015-12-17|   Software Engineer|               0|              5|               5.0|                   5|                       5.0|               5.0|                   5.0|\n",
      "| google|San Francisco|   CA|     US| 2015-12-20|  Account Strategist|               0|              4|               4.0|                   5|                       4.0|               5.0|                   3.0|\n",
      "| google|      Seattle|   WA|     US| 2015-12-20|   Software Engineer|               0|              3|               3.0|                   3|                       2.0|               2.0|                   3.0|\n",
      "| google|      Seattle|   WA|     US| 2015-11-21|  Anonymous Employee|               0|              5|               2.0|                   5|                       4.0|               4.0|                   4.0|\n",
      "| google|San Francisco|   CA|     US| 2015-11-17|   Software Engineer|               0|              5|               5.0|                   5|                       5.0|               5.0|                   5.0|\n",
      "| google|San Francisco|   CA|     US| 2015-10-09|       Head of Sales|               0|              4|               4.0|                   5|                       3.0|               3.0|                   3.0|\n",
      "| google|San Francisco|   CA|     US| 2015-10-10| Compliance Risk ...|               0|              4|               5.0|                   5|                       4.0|               3.0|                   4.0|\n",
      "| google|San Francisco|   CA|     US| 2015-09-29|  Anonymous Employee|               0|              4|               5.0|                   5|                       3.0|               4.0|                   4.0|\n",
      "| google|San Francisco|   CA|     US| 2015-09-09|  Anonymous Employee|               0|              5|               3.0|                   3|                       5.0|               4.0|                   3.0|\n",
      "| google|San Francisco|   CA|     US| 2015-08-26|  Anonymous Employee|               0|              5|               5.0|                   5|                       5.0|               5.0|                   5.0|\n",
      "| google|      Seattle|   WA|     US| 2015-09-06|   Software Engineer|               0|              4|               4.0|                   4|                       5.0|               3.0|                   4.0|\n",
      "| google|San Francisco|   CA|     US| 2015-08-30|  Anonymous Employee|               0|              4|               5.0|                   5|                       4.0|               5.0|                   4.0|\n",
      "| google|San Francisco|   CA|     US| 2015-08-16|     Account Manager|               0|              5|               5.0|                   5|                       5.0|               5.0|                   5.0|\n",
      "| google|San Francisco|   CA|     US| 2015-08-07|  Account Strategist|               0|              5|               4.0|                   4|                       4.0|               4.0|                   4.0|\n",
      "| google|San Francisco|   CA|     US| 2015-07-24|  Anonymous Employee|               0|              5|               5.0|                   5|                       5.0|               5.0|                   4.0|\n",
      "| google|San Francisco|   CA|     US| 2015-07-21|     Product Manager|               0|              4|               3.0|                   4|                       4.0|               5.0|                   3.0|\n",
      "| google|San Francisco|   CA|     US| 2015-05-25| Online Marketing...|               0|              5|               5.0|                   5|                       4.0|               5.0|                   4.0|\n",
      "| google|San Francisco|   CA|     US| 2015-05-06|   Account Executive|               0|              5|               4.0|                   5|                       4.0|               5.0|                   4.0|\n",
      "| google|San Francisco|   CA|     US| 2015-03-19| Staff Software E...|               0|              3|               3.0|                   3|                       3.0|               5.0|                   2.0|\n",
      "| google|San Francisco|   CA|     US| 2015-02-04|       Sales Manager|               0|              5|               5.0|                   5|                       5.0|               5.0|                   5.0|\n",
      "| google|San Francisco|   CA|     US| 2014-12-08| Senior Account M...|               0|              5|               5.0|                   5|                       3.0|               5.0|                   4.0|\n",
      "| google|      Seattle|   WA|     US| 2014-12-11| Google Student A...|               0|              5|               5.0|                   5|                       5.0|               5.0|                   5.0|\n",
      "| google|San Francisco|   CA|     US| 2014-10-28|           Developer|               0|              5|               5.0|                   5|                       5.0|               5.0|                   5.0|\n",
      "| google|San Francisco|   CA|     US| 2014-10-21|     Product Manager|               0|              5|               5.0|                   5|                       5.0|               5.0|                   1.0|\n",
      "| google|San Francisco|   CA|     US| 2014-07-25|     Account Manager|               0|              4|               5.0|                   5|                       4.0|               4.0|                   4.0|\n",
      "| google|San Francisco|   CA|     US| 2014-03-24|           Tech Lead|               0|              2|               2.0|                   3|                       1.0|               2.0|                   1.0|\n",
      "| google|San Francisco|   CA|     US| 2014-03-14| Senior Software ...|               0|              5|               5.0|                   4|                       3.0|               5.0|                   4.0|\n",
      "| google|San Francisco|   CA|     US| 2014-03-16| Relationship Man...|               0|              4|               5.0|                   4|                       2.0|               5.0|                   3.0|\n",
      "| google|San Francisco|   CA|     US| 2014-02-14|  Product Specialist|               0|              5|               5.0|                   5|                       4.0|               5.0|                   5.0|\n",
      "| google|San Francisco|   CA|     US| 2014-02-08|   Senior Strategist|               0|              4|               5.0|                   4|                       3.0|               4.0|                   3.0|\n",
      "| google|      Seattle|   WA|     US| 2014-01-30| Manager, Online ...|               0|              5|               5.0|                   5|                       5.0|               5.0|                   5.0|\n",
      "| google|San Francisco|   CA|     US| 2014-01-01| Development Asso...|               0|              4|               5.0|                   4|                       3.0|               5.0|                   2.0|\n",
      "| google|San Francisco|   CA|     US| 2013-09-04|   Software Engineer|               0|              5|               5.0|                   4|                       4.0|               5.0|                   4.0|\n",
      "| google|San Francisco|   CA|     US| 2013-06-10|  Account Strategist|               0|              4|               3.0|                   4|                       2.0|               5.0|                   5.0|\n",
      "| google|San Francisco|   CA|     US| 2013-01-08|   Senior Strategist|               0|              5|               5.0|                   5|                       4.0|               5.0|                   4.0|\n",
      "| google|San Francisco|   CA|     US| 2012-10-17| Senior Account E...|               0|              3|               3.0|                   5|                       2.0|               5.0|                   3.0|\n",
      "| google|      Seattle|   WA|     US| 2012-07-12|     Product Manager|               0|              5|               4.0|                   5|                       3.0|               5.0|                   4.0|\n",
      "| google|San Francisco|   CA|     US| 2012-05-24|  Account Strategist|               0|              5|               5.0|                   5|                       5.0|               5.0|                   5.0|\n",
      "| google|      Seattle|   WA|     US| 2011-08-31|   Software Engineer|               0|              3|               3.0|                   3|                       2.5|               3.5|                   3.5|\n",
      "| google|San Francisco|   CA|     US| 2011-08-18|            Designer|               0|              5|               4.5|                   3|                       4.5|               4.0|                   3.5|\n",
      "| google|      Seattle|   WA|     US| 2010-11-22| Software Enginee...|               0|              1|               1.0|                   3|                       1.0|               1.0|                   1.0|\n",
      "| google|San Francisco|   CA|     US| 2010-06-17| Online Sales &am...|               0|              5|               5.0|                   3|                       3.5|               4.5|                   4.0|\n",
      "| google|San Francisco|   CA|     US| 2010-05-31| Senior Account E...|               0|              3|               4.0|                   3|                       3.0|               5.0|                   3.0|\n",
      "| google|San Francisco|   CA|     US| 2008-07-08| Technical Recruiter|               0|              5|               5.0|                   3|                       3.5|               4.0|                   5.0|\n",
      "| google|      Seattle|   WA|     US| 2008-06-25| Manager, Online ...|               0|              4|               1.0|                   3|                       5.0|               3.0|                   4.0|\n",
      "+-------+-------------+-----+-------+-----------+--------------------+----------------+---------------+------------------+--------------------+--------------------------+------------------+----------------------+\n",
      "\n"
     ]
    }
   ],
   "source": [
    "print(\"Table showing count of former google employees reviews and the Average Work Balance Ratings with\\\n",
    "Location either Seattle, San Francisco Or Utah\")\n",
    "spark.sql(\"SELECT *  FROM reviews_table \\\n",
    "WHERE (current_employee = 0) AND (company = 'google') \\\n",
    "AND (city = ('Seattle') OR  city =('San Francisco')) OR state IN ('UT')\").show(100)"
   ]
  },
  {
   "cell_type": "markdown",
   "metadata": {},
   "source": [
    "# Data Visualization\n",
    "1. Turn your Spark dataframe into a Pandas dataframe\n",
    "    - https://pandas.pydata.org/\n",
    "2. Answer the visualization questions with any of the following libraries:\n",
    "    - Matplotlib (https://matplotlib.org/)\n",
    "    - Seaborn (https://seaborn.pydata.org/introduction.html)\n",
    "    - Bookeh (https://bokeh.pydata.org/en/latest/)"
   ]
  },
  {
   "cell_type": "code",
   "execution_count": 53,
   "metadata": {
    "scrolled": true
   },
   "outputs": [
    {
     "name": "stdout",
     "output_type": "stream",
     "text": [
      "         company           city state country review_date  \\\n",
      "0         google  Mountain View    CA      US  2015-02-08   \n",
      "1         google       New York    NY      US  2018-12-11   \n",
      "2         google       New York    NY      US  2018-12-10   \n",
      "3         google  Mountain View    CA      US  2018-12-08   \n",
      "4         google  San Francisco    CA      US  2018-12-03   \n",
      "5         google       New York    NY      US  2018-11-26   \n",
      "6         google    Los Angeles    CA      US  2018-11-29   \n",
      "7         google  San Francisco    CA      US  2018-11-17   \n",
      "8         google  Mountain View    CA      US  2018-12-08   \n",
      "9         google       Dearborn    MI      US  2018-11-20   \n",
      "10        google       New York    NY      US  2018-12-06   \n",
      "11        google      Sunnyvale    CA      US  2018-11-21   \n",
      "12        google        Seattle    WA      US  2018-11-13   \n",
      "13        google       New York    NY      US  2018-11-19   \n",
      "14        google      Sunnyvale    CA      US  2018-11-19   \n",
      "15        google  Mountain View    CA      US  2018-11-16   \n",
      "16        google  Mountain View    CA      US  2018-11-09   \n",
      "17        google  Mountain View    CA      US  2018-11-01   \n",
      "18        google  San Francisco    CA      US  2018-11-04   \n",
      "19        google  Mountain View    CA      US  2018-11-02   \n",
      "20        google     Pittsburgh    PA      US  2018-11-01   \n",
      "21        google  Mountain View    CA      US  2018-11-10   \n",
      "22        google  Mountain View    CA      US  2018-10-21   \n",
      "23        google       New York    NY      US  2018-10-25   \n",
      "24        google        Boulder    CO      US  2018-10-25   \n",
      "25        google  San Francisco    CA      US  2018-10-25   \n",
      "26        google  Mountain View    CA      US  2018-10-30   \n",
      "27        google  Mountain View    CA      US  2018-10-23   \n",
      "28        google       New York    NY      US  2018-11-06   \n",
      "29        google  San Francisco    CA      US  2018-10-21   \n",
      "...          ...            ...   ...     ...         ...   \n",
      "27749  microsoft        Redmond    WA      US  2008-06-17   \n",
      "27750  microsoft  Mountain View    CA      US  2008-06-12   \n",
      "27751  microsoft        Redmond    WA      US  2008-06-16   \n",
      "27752  microsoft        Redmond    WA      US  2008-06-11   \n",
      "27753  microsoft        Redmond    WA      US  2008-06-15   \n",
      "27754  microsoft        Redmond    WA      US  2008-06-11   \n",
      "27755  microsoft        Redmond    WA      US  2008-06-11   \n",
      "27756  microsoft        Redmond    WA      US  2008-06-12   \n",
      "27757  microsoft        Redmond    WA      US  2008-06-12   \n",
      "27758  microsoft  Mountain View    CA      US  2008-06-12   \n",
      "27759  microsoft        Redmond    WA      US  2008-06-13   \n",
      "27760  microsoft        Redmond    WA      US  2008-06-11   \n",
      "27761  microsoft        Redmond    WA      US  2008-06-11   \n",
      "27762  microsoft        Redmond    WA      US  2008-06-11   \n",
      "27763  microsoft        Redmond    WA      US  2008-06-11   \n",
      "27764  microsoft        Redmond    WA      US  2008-06-11   \n",
      "27765  microsoft        Redmond    WA      US  2008-06-12   \n",
      "27766  microsoft        Redmond    WA      US  2008-06-11   \n",
      "27767  microsoft        Redmond    WA      US  2008-06-11   \n",
      "27768  microsoft        Redmond    WA      US  2008-06-05   \n",
      "27769  microsoft    Kansas City    MO      US  2008-06-25   \n",
      "27770  microsoft        Redmond    WA      US  2008-05-23   \n",
      "27771  microsoft        Redmond    WA      US  2008-05-14   \n",
      "27772  microsoft        Redmond    WA      US  2008-04-24   \n",
      "27773  microsoft        Redmond    WA      US  2008-04-20   \n",
      "27774  microsoft        Redmond    WA      US  2008-04-28   \n",
      "27775  microsoft        Redmond    WA      US  2008-05-01   \n",
      "27776  microsoft        Redmond    WA      US  2008-04-25   \n",
      "27777  microsoft        Redmond    WA      US  2008-04-24   \n",
      "27778  microsoft       Bellevue    WA      US  2008-04-20   \n",
      "\n",
      "                                           job_title  current_employee  \\\n",
      "0                                 Anonymous Employee                 1   \n",
      "1                                  Software Engineer                 1   \n",
      "2                                 Anonymous Employee                 1   \n",
      "3                                 Anonymous Employee                 1   \n",
      "4                           Sales Operations Analyst                 1   \n",
      "5                                           Designer                 1   \n",
      "6                                   Staff Accountant                 1   \n",
      "7                                  Program Manager I                 1   \n",
      "8                       Software Engineering Manager                 1   \n",
      "9                                  Google Specialist                 1   \n",
      "10                                Anonymous Employee                 1   \n",
      "11                                Anonymous Employee                 1   \n",
      "12                           Staff Software Engineer                 1   \n",
      "13                                   Program Manager                 1   \n",
      "14                                 Software Engineer                 1   \n",
      "15                                Anonymous Employee                 1   \n",
      "16                                 Software Engineer                 1   \n",
      "17                                Anonymous Employee                 1   \n",
      "18                         Product Marketing Manager                 1   \n",
      "19                                 Software Engineer                 1   \n",
      "20                                Front End Engineer                 1   \n",
      "21                          Senior Software Engineer                 1   \n",
      "22                                             Video                 1   \n",
      "23                          Senior Software Engineer                 1   \n",
      "24                                 Product Marketing                 1   \n",
      "25                          User Experience Engineer                 1   \n",
      "26                   Administrative Business Partner                 1   \n",
      "27                          Senior Software Engineer                 1   \n",
      "28                              Vice President Sales                 1   \n",
      "29                                     Creative LEad                 1   \n",
      "...                                              ...               ...   \n",
      "27749                                     Programmer                 0   \n",
      "27750                       Software Design Engineer                 0   \n",
      "27751                              Software Engineer                 0   \n",
      "27752                       Software Design Engineer                 0   \n",
      "27753                              Software Engineer                 0   \n",
      "27754                             Group Test Manager                 0   \n",
      "27755                                             GM                 0   \n",
      "27756                       Senior Software Engineer                 0   \n",
      "27757                       Senior Software Engineer                 0   \n",
      "27758                             Software Developer                 0   \n",
      "27759                             Anonymous Employee                 0   \n",
      "27760                                 Security Guard                 0   \n",
      "27761                            Staffing Consultant                 0   \n",
      "27762                                 Security Guard                 0   \n",
      "27763                            Staffing Consultant                 0   \n",
      "27764                                Program Manager                 0   \n",
      "27765                              Software Engineer                 0   \n",
      "27766                                Program Manager                 0   \n",
      "27767   Software Development Engineer In Test (SDET)                 0   \n",
      "27768                         Senior Program Manager                 0   \n",
      "27769                                Account Manager                 0   \n",
      "27770                           Lead Product Planner                 0   \n",
      "27771                         Senior Product Manager                 0   \n",
      "27772                                Program Manager                 0   \n",
      "27773                             Programming Writer                 0   \n",
      "27774                               Industry Manager                 0   \n",
      "27775                                Program Manager                 0   \n",
      "27776                     User Experience Researcher                 0   \n",
      "27777                  Software Development Engineer                 0   \n",
      "27778                                  Group Manager                 0   \n",
      "\n",
      "       overall_ratings  work_balance_stars  culture_values_stars  \\\n",
      "0                    5                 2.0                     5   \n",
      "1                    5                 5.0                     4   \n",
      "2                    5                 5.0                     5   \n",
      "3                    5                 4.0                     5   \n",
      "4                    5                 5.0                     5   \n",
      "5                    5                 3.0                     4   \n",
      "6                    5                 5.0                     5   \n",
      "7                    5                 5.0                     5   \n",
      "8                    4                 5.0                     5   \n",
      "9                    5                 3.0                     4   \n",
      "10                   4                 4.0                     3   \n",
      "11                   5                 3.0                     5   \n",
      "12                   5                 4.0                     4   \n",
      "13                   5                 5.0                     3   \n",
      "14                   5                 5.0                     5   \n",
      "15                   3                 2.0                     1   \n",
      "16                   5                 5.0                     5   \n",
      "17                   5                 5.0                     3   \n",
      "18                   5                 4.0                     5   \n",
      "19                   5                 5.0                     5   \n",
      "20                   5                 4.0                     5   \n",
      "21                   4                 5.0                     4   \n",
      "22                   5                 4.0                     5   \n",
      "23                   5                 5.0                     5   \n",
      "24                   5                 3.0                     3   \n",
      "25                   5                 4.0                     5   \n",
      "26                   3                 3.0                     5   \n",
      "27                   5                 4.0                     5   \n",
      "28                   4                 5.0                     5   \n",
      "29                   5                 5.0                     4   \n",
      "...                ...                 ...                   ...   \n",
      "27749                4                 4.0                     3   \n",
      "27750                4                 5.0                     3   \n",
      "27751                3                 3.0                     3   \n",
      "27752                3                 2.5                     3   \n",
      "27753                4                 4.5                     3   \n",
      "27754                2                 3.0                     3   \n",
      "27755                2                 3.0                     3   \n",
      "27756                4                 3.0                     3   \n",
      "27757                4                 3.0                     3   \n",
      "27758                3                 5.0                     3   \n",
      "27759                4                 4.0                     3   \n",
      "27760                3                 3.0                     3   \n",
      "27761                3                 3.5                     3   \n",
      "27762                3                 3.0                     3   \n",
      "27763                3                 3.5                     3   \n",
      "27764                3                 4.5                     3   \n",
      "27765                3                 3.0                     3   \n",
      "27766                3                 3.5                     3   \n",
      "27767                4                 4.0                     3   \n",
      "27768                3                 4.0                     3   \n",
      "27769                1                 1.0                     3   \n",
      "27770                4                 4.0                     3   \n",
      "27771                4                 3.0                     3   \n",
      "27772                5                 4.5                     3   \n",
      "27773                5                 5.0                     3   \n",
      "27774                2                 2.5                     3   \n",
      "27775                4                 4.0                     3   \n",
      "27776                3                 3.5                     3   \n",
      "27777                2                 3.5                     3   \n",
      "27778                2                 4.0                     3   \n",
      "\n",
      "       carrer_opportunities_stars  comp_benefit_stars  senior_mangemnet_stars  \n",
      "0                             5.0                 4.0                     5.0  \n",
      "1                             4.0                 5.0                     4.0  \n",
      "2                             5.0                 5.0                     5.0  \n",
      "3                             4.0                 4.0                     3.0  \n",
      "4                             5.0                 4.0                     4.0  \n",
      "5                             3.0                 4.0                     5.0  \n",
      "6                             5.0                 5.0                     5.0  \n",
      "7                             5.0                 5.0                     5.0  \n",
      "8                             4.0                 4.0                     4.0  \n",
      "9                             4.0                 5.0                     4.0  \n",
      "10                            3.0                 4.0                     3.0  \n",
      "11                            5.0                 5.0                     4.0  \n",
      "12                            5.0                 5.0                     3.0  \n",
      "13                            5.0                 4.0                     5.0  \n",
      "14                            4.0                 4.0                     4.0  \n",
      "15                            2.0                 5.0                     2.0  \n",
      "16                            5.0                 5.0                     5.0  \n",
      "17                            5.0                 5.0                     4.0  \n",
      "18                            5.0                 5.0                     4.0  \n",
      "19                            5.0                 5.0                     4.0  \n",
      "20                            5.0                 5.0                     4.0  \n",
      "21                            4.0                 4.0                     4.0  \n",
      "22                            5.0                 5.0                     4.0  \n",
      "23                            5.0                 5.0                     5.0  \n",
      "24                            4.0                 5.0                     4.0  \n",
      "25                            5.0                 5.0                     5.0  \n",
      "26                            2.0                 3.0                     3.0  \n",
      "27                            5.0                 5.0                     5.0  \n",
      "28                            3.0                 5.0                     4.0  \n",
      "29                            5.0                 5.0                     4.0  \n",
      "...                           ...                 ...                     ...  \n",
      "27749                         4.0                 4.0                     4.0  \n",
      "27750                         4.0                 3.5                     4.0  \n",
      "27751                         3.0                 4.0                     4.0  \n",
      "27752                         1.0                 3.5                     2.5  \n",
      "27753                         3.5                 4.0                     3.0  \n",
      "27754                         4.0                 4.5                     2.0  \n",
      "27755                         2.0                 4.0                     1.0  \n",
      "27756                         4.0                 5.0                     4.0  \n",
      "27757                         4.0                 5.0                     4.0  \n",
      "27758                         4.0                 4.0                     2.5  \n",
      "27759                         4.0                 4.0                     3.0  \n",
      "27760                         3.0                 3.0                     3.0  \n",
      "27761                         4.0                 4.5                     3.0  \n",
      "27762                         3.0                 3.0                     3.0  \n",
      "27763                         4.0                 4.5                     3.0  \n",
      "27764                         3.5                 4.5                     4.0  \n",
      "27765                         3.0                 4.0                     3.0  \n",
      "27766                         3.0                 3.0                     4.0  \n",
      "27767                         3.0                 3.0                     3.5  \n",
      "27768                         2.5                 3.5                     1.5  \n",
      "27769                         1.0                 1.0                     1.0  \n",
      "27770                         4.0                 4.5                     3.5  \n",
      "27771                         4.0                 4.5                     4.5  \n",
      "27772                         5.0                 5.0                     3.5  \n",
      "27773                         5.0                 5.0                     5.0  \n",
      "27774                         2.5                 3.0                     2.0  \n",
      "27775                         5.0                 4.0                     3.5  \n",
      "27776                         3.0                 3.0                     2.0  \n",
      "27777                         3.0                 3.5                     1.5  \n",
      "27778                         1.5                 3.5                     1.0  \n",
      "\n",
      "[27779 rows x 13 columns]\n"
     ]
    }
   ],
   "source": [
    "reviews_pd_df = df.toPandas()\n",
    "print(reviews_pd_df)"
   ]
  },
  {
   "cell_type": "code",
   "execution_count": 54,
   "metadata": {
    "scrolled": true
   },
   "outputs": [
    {
     "data": {
      "text/html": [
       "<div>\n",
       "<style scoped>\n",
       "    .dataframe tbody tr th:only-of-type {\n",
       "        vertical-align: middle;\n",
       "    }\n",
       "\n",
       "    .dataframe tbody tr th {\n",
       "        vertical-align: top;\n",
       "    }\n",
       "\n",
       "    .dataframe thead th {\n",
       "        text-align: right;\n",
       "    }\n",
       "</style>\n",
       "<table border=\"1\" class=\"dataframe\">\n",
       "  <thead>\n",
       "    <tr style=\"text-align: right;\">\n",
       "      <th></th>\n",
       "      <th>company</th>\n",
       "      <th>city</th>\n",
       "      <th>state</th>\n",
       "      <th>country</th>\n",
       "      <th>review_date</th>\n",
       "      <th>job_title</th>\n",
       "      <th>current_employee</th>\n",
       "      <th>overall_ratings</th>\n",
       "      <th>work_balance_stars</th>\n",
       "      <th>culture_values_stars</th>\n",
       "      <th>carrer_opportunities_stars</th>\n",
       "      <th>comp_benefit_stars</th>\n",
       "      <th>senior_mangemnet_stars</th>\n",
       "    </tr>\n",
       "  </thead>\n",
       "  <tbody>\n",
       "    <tr>\n",
       "      <th>count</th>\n",
       "      <td>27779</td>\n",
       "      <td>27779</td>\n",
       "      <td>27779</td>\n",
       "      <td>27779</td>\n",
       "      <td>27779</td>\n",
       "      <td>27779</td>\n",
       "      <td>27779.000000</td>\n",
       "      <td>27779.000000</td>\n",
       "      <td>27779.000000</td>\n",
       "      <td>27779.000000</td>\n",
       "      <td>27779.000000</td>\n",
       "      <td>27779.000000</td>\n",
       "      <td>27779.000000</td>\n",
       "    </tr>\n",
       "    <tr>\n",
       "      <th>unique</th>\n",
       "      <td>6</td>\n",
       "      <td>1180</td>\n",
       "      <td>61</td>\n",
       "      <td>1</td>\n",
       "      <td>3688</td>\n",
       "      <td>4415</td>\n",
       "      <td>NaN</td>\n",
       "      <td>NaN</td>\n",
       "      <td>NaN</td>\n",
       "      <td>NaN</td>\n",
       "      <td>NaN</td>\n",
       "      <td>NaN</td>\n",
       "      <td>NaN</td>\n",
       "    </tr>\n",
       "    <tr>\n",
       "      <th>top</th>\n",
       "      <td>amazon</td>\n",
       "      <td>Redmond</td>\n",
       "      <td>WA</td>\n",
       "      <td>US</td>\n",
       "      <td>2017-09-19</td>\n",
       "      <td>Anonymous Employee</td>\n",
       "      <td>NaN</td>\n",
       "      <td>NaN</td>\n",
       "      <td>NaN</td>\n",
       "      <td>NaN</td>\n",
       "      <td>NaN</td>\n",
       "      <td>NaN</td>\n",
       "      <td>NaN</td>\n",
       "    </tr>\n",
       "    <tr>\n",
       "      <th>freq</th>\n",
       "      <td>9993</td>\n",
       "      <td>5070</td>\n",
       "      <td>10376</td>\n",
       "      <td>27779</td>\n",
       "      <td>107</td>\n",
       "      <td>3666</td>\n",
       "      <td>NaN</td>\n",
       "      <td>NaN</td>\n",
       "      <td>NaN</td>\n",
       "      <td>NaN</td>\n",
       "      <td>NaN</td>\n",
       "      <td>NaN</td>\n",
       "      <td>NaN</td>\n",
       "    </tr>\n",
       "    <tr>\n",
       "      <th>mean</th>\n",
       "      <td>NaN</td>\n",
       "      <td>NaN</td>\n",
       "      <td>NaN</td>\n",
       "      <td>NaN</td>\n",
       "      <td>NaN</td>\n",
       "      <td>NaN</td>\n",
       "      <td>0.644840</td>\n",
       "      <td>3.778574</td>\n",
       "      <td>3.369524</td>\n",
       "      <td>3.720688</td>\n",
       "      <td>3.612909</td>\n",
       "      <td>3.975305</td>\n",
       "      <td>3.299111</td>\n",
       "    </tr>\n",
       "    <tr>\n",
       "      <th>std</th>\n",
       "      <td>NaN</td>\n",
       "      <td>NaN</td>\n",
       "      <td>NaN</td>\n",
       "      <td>NaN</td>\n",
       "      <td>NaN</td>\n",
       "      <td>NaN</td>\n",
       "      <td>0.478571</td>\n",
       "      <td>1.173743</td>\n",
       "      <td>1.270499</td>\n",
       "      <td>1.215877</td>\n",
       "      <td>1.212465</td>\n",
       "      <td>1.003397</td>\n",
       "      <td>1.295657</td>\n",
       "    </tr>\n",
       "    <tr>\n",
       "      <th>min</th>\n",
       "      <td>NaN</td>\n",
       "      <td>NaN</td>\n",
       "      <td>NaN</td>\n",
       "      <td>NaN</td>\n",
       "      <td>NaN</td>\n",
       "      <td>NaN</td>\n",
       "      <td>0.000000</td>\n",
       "      <td>1.000000</td>\n",
       "      <td>1.000000</td>\n",
       "      <td>1.000000</td>\n",
       "      <td>1.000000</td>\n",
       "      <td>1.000000</td>\n",
       "      <td>1.000000</td>\n",
       "    </tr>\n",
       "    <tr>\n",
       "      <th>25%</th>\n",
       "      <td>NaN</td>\n",
       "      <td>NaN</td>\n",
       "      <td>NaN</td>\n",
       "      <td>NaN</td>\n",
       "      <td>NaN</td>\n",
       "      <td>NaN</td>\n",
       "      <td>0.000000</td>\n",
       "      <td>3.000000</td>\n",
       "      <td>3.000000</td>\n",
       "      <td>3.000000</td>\n",
       "      <td>3.000000</td>\n",
       "      <td>3.000000</td>\n",
       "      <td>2.000000</td>\n",
       "    </tr>\n",
       "    <tr>\n",
       "      <th>50%</th>\n",
       "      <td>NaN</td>\n",
       "      <td>NaN</td>\n",
       "      <td>NaN</td>\n",
       "      <td>NaN</td>\n",
       "      <td>NaN</td>\n",
       "      <td>NaN</td>\n",
       "      <td>1.000000</td>\n",
       "      <td>4.000000</td>\n",
       "      <td>3.500000</td>\n",
       "      <td>4.000000</td>\n",
       "      <td>4.000000</td>\n",
       "      <td>4.000000</td>\n",
       "      <td>3.000000</td>\n",
       "    </tr>\n",
       "    <tr>\n",
       "      <th>75%</th>\n",
       "      <td>NaN</td>\n",
       "      <td>NaN</td>\n",
       "      <td>NaN</td>\n",
       "      <td>NaN</td>\n",
       "      <td>NaN</td>\n",
       "      <td>NaN</td>\n",
       "      <td>1.000000</td>\n",
       "      <td>5.000000</td>\n",
       "      <td>4.000000</td>\n",
       "      <td>5.000000</td>\n",
       "      <td>5.000000</td>\n",
       "      <td>5.000000</td>\n",
       "      <td>4.000000</td>\n",
       "    </tr>\n",
       "    <tr>\n",
       "      <th>max</th>\n",
       "      <td>NaN</td>\n",
       "      <td>NaN</td>\n",
       "      <td>NaN</td>\n",
       "      <td>NaN</td>\n",
       "      <td>NaN</td>\n",
       "      <td>NaN</td>\n",
       "      <td>1.000000</td>\n",
       "      <td>5.000000</td>\n",
       "      <td>5.000000</td>\n",
       "      <td>5.000000</td>\n",
       "      <td>5.000000</td>\n",
       "      <td>5.000000</td>\n",
       "      <td>5.000000</td>\n",
       "    </tr>\n",
       "  </tbody>\n",
       "</table>\n",
       "</div>"
      ],
      "text/plain": [
       "       company     city  state country review_date            job_title  \\\n",
       "count    27779    27779  27779   27779       27779                27779   \n",
       "unique       6     1180     61       1        3688                 4415   \n",
       "top     amazon  Redmond     WA      US  2017-09-19   Anonymous Employee   \n",
       "freq      9993     5070  10376   27779         107                 3666   \n",
       "mean       NaN      NaN    NaN     NaN         NaN                  NaN   \n",
       "std        NaN      NaN    NaN     NaN         NaN                  NaN   \n",
       "min        NaN      NaN    NaN     NaN         NaN                  NaN   \n",
       "25%        NaN      NaN    NaN     NaN         NaN                  NaN   \n",
       "50%        NaN      NaN    NaN     NaN         NaN                  NaN   \n",
       "75%        NaN      NaN    NaN     NaN         NaN                  NaN   \n",
       "max        NaN      NaN    NaN     NaN         NaN                  NaN   \n",
       "\n",
       "        current_employee  overall_ratings  work_balance_stars  \\\n",
       "count       27779.000000     27779.000000        27779.000000   \n",
       "unique               NaN              NaN                 NaN   \n",
       "top                  NaN              NaN                 NaN   \n",
       "freq                 NaN              NaN                 NaN   \n",
       "mean            0.644840         3.778574            3.369524   \n",
       "std             0.478571         1.173743            1.270499   \n",
       "min             0.000000         1.000000            1.000000   \n",
       "25%             0.000000         3.000000            3.000000   \n",
       "50%             1.000000         4.000000            3.500000   \n",
       "75%             1.000000         5.000000            4.000000   \n",
       "max             1.000000         5.000000            5.000000   \n",
       "\n",
       "        culture_values_stars  carrer_opportunities_stars  comp_benefit_stars  \\\n",
       "count           27779.000000                27779.000000        27779.000000   \n",
       "unique                   NaN                         NaN                 NaN   \n",
       "top                      NaN                         NaN                 NaN   \n",
       "freq                     NaN                         NaN                 NaN   \n",
       "mean                3.720688                    3.612909            3.975305   \n",
       "std                 1.215877                    1.212465            1.003397   \n",
       "min                 1.000000                    1.000000            1.000000   \n",
       "25%                 3.000000                    3.000000            3.000000   \n",
       "50%                 4.000000                    4.000000            4.000000   \n",
       "75%                 5.000000                    5.000000            5.000000   \n",
       "max                 5.000000                    5.000000            5.000000   \n",
       "\n",
       "        senior_mangemnet_stars  \n",
       "count             27779.000000  \n",
       "unique                     NaN  \n",
       "top                        NaN  \n",
       "freq                       NaN  \n",
       "mean                  3.299111  \n",
       "std                   1.295657  \n",
       "min                   1.000000  \n",
       "25%                   2.000000  \n",
       "50%                   3.000000  \n",
       "75%                   4.000000  \n",
       "max                   5.000000  "
      ]
     },
     "execution_count": 54,
     "metadata": {},
     "output_type": "execute_result"
    }
   ],
   "source": [
    "reviews_pd_df.describe(include='all')"
   ]
  },
  {
   "cell_type": "code",
   "execution_count": 55,
   "metadata": {},
   "outputs": [],
   "source": [
    "plot_df = reviews_pd_df[[\"company\",\"current_employee\", \"overall_ratings\", \"work_balance_stars\" ,\\\n",
    "                         \"culture_values_stars\", \"carrer_opportunities_stars\",\"comp_benefit_stars\",\\\n",
    "                         \"senior_mangemnet_stars\"]]\n"
   ]
  },
  {
   "cell_type": "code",
   "execution_count": 56,
   "metadata": {},
   "outputs": [],
   "source": [
    "plot_df['current_employee'] = plot_df['current_employee'].map({1: 'Current Employee', 0: 'Former Employee'})"
   ]
  },
  {
   "cell_type": "markdown",
   "metadata": {},
   "source": [
    "### Plot the distribution of reviewers who are current and former employees\n",
    "- Hint: A Seaborn factorplot will work nicely here\n",
    "    - https://kite.com/python/docs/seaborn.factorplot\n",
    "    "
   ]
  },
  {
   "cell_type": "code",
   "execution_count": 57,
   "metadata": {
    "scrolled": false
   },
   "outputs": [
    {
     "data": {
      "image/png": "[encoded data removed]",
      "text/plain": [
       "<Figure size 1224x648 with 1 Axes>"
      ]
     },
     "metadata": {},
     "output_type": "display_data"
    }
   ],
   "source": [
    "sns.set(font_scale = 1.2)\n",
    "sns.set_style(\"whitegrid\")\n",
    "\n",
    "g = sns.factorplot(data=plot_df, x=\"current_employee\",orient=\"h\",kind = \"count\", legend_out = True,\\\n",
    "                   palette = \"husl\",alpha=0.8)\n",
    "g.fig.subplots_adjust(top=0.9,right=0.8)\n",
    "\n",
    "plt.gcf().set_size_inches(17, 9)\n",
    "\n",
    "g.set_xlabels('Employee Status')\n",
    "g.set_ylabels('Number of reviews')\n",
    "#g.set_title('Distribution of current and former employee reviewers')\n",
    "g.fig.suptitle('Distribution of current and former employee reviewers')\n",
    "\n",
    "# exact count on bars\n",
    "ax = plt.gca()\n",
    "for p in ax.patches:\n",
    "    ax.text(p.get_x() + p.get_width()/2., p.get_height(), '%d' % int(p.get_height()), \n",
    "            fontsize=12, color='black', ha='center', va='bottom')\n",
    "\n"
   ]
  },
  {
   "cell_type": "markdown",
   "metadata": {},
   "source": [
    "- Former Employee reviews are 35.55% of the total reviews.\n",
    "- Current Employee reviews are 64.48% of the total reviews."
   ]
  },
  {
   "cell_type": "code",
   "execution_count": 58,
   "metadata": {
    "scrolled": false
   },
   "outputs": [
    {
     "data": {
      "image/png": "[encoded data removed]",
      "text/plain": [
       "<Figure size 1224x648 with 1 Axes>"
      ]
     },
     "metadata": {},
     "output_type": "display_data"
    }
   ],
   "source": [
    "\n",
    "g = sns.factorplot(data=plot_df, x=\"current_employee\",orient=\"h\",\\\n",
    "                   kind = \"count\",hue='company', legend_out = True,palette = \"Paired\",alpha=0.65)\n",
    "g.fig.subplots_adjust(top=0.9,right=0.9)\n",
    "plt.gcf().set_size_inches(17, 9)\n",
    "sns.set(font_scale = 1.2)\n",
    "sns.set_style(\"whitegrid\")\n",
    "\n",
    "\n",
    "g.set_xlabels('Employee Status')\n",
    "g.set_ylabels('Number of reviews')\n",
    "#g.set_title('Distribution of current and former employee reviewers')\n",
    "g.fig.suptitle('Distribution of current and former employee reviewers (company wise)')\n",
    "\n",
    "# exact count on bars\n",
    "ax = plt.gca()\n",
    "for p in ax.patches:\n",
    "    ax.text(p.get_x() + p.get_width()/2., p.get_height(), '%d' % int(p.get_height()), \n",
    "            fontsize=12, color='black', ha='center', va='bottom')\n",
    "\n"
   ]
  },
  {
   "cell_type": "markdown",
   "metadata": {},
   "source": [
    "- Amazon has the highest number of current and former employee reviews"
   ]
  },
  {
   "cell_type": "markdown",
   "metadata": {},
   "source": [
    "### Plot the distributions of reviews for each company (current and former employees) and their overall ratings\n",
    "- Hint: A Seaborn factorplot will work nicely here\n",
    "    - https://kite.com/python/docs/seaborn.factorplot"
   ]
  },
  {
   "cell_type": "code",
   "execution_count": 59,
   "metadata": {},
   "outputs": [],
   "source": [
    "#934 rows with all none\n",
    "#28306"
   ]
  },
  {
   "cell_type": "code",
   "execution_count": 60,
   "metadata": {
    "scrolled": false
   },
   "outputs": [
    {
     "data": {
      "image/png": "[encoded data removed]",
      "text/plain": [
       "<Figure size 1800x1440 with 6 Axes>"
      ]
     },
     "metadata": {},
     "output_type": "display_data"
    }
   ],
   "source": [
    "sns.set(font_scale = 2)\n",
    "sns.set_style(\"whitegrid\")\n",
    "\n",
    "g=sns.factorplot(data=plot_df, x=\"overall_ratings\", hue=\"current_employee\",\\\n",
    "                 kind = \"count\", legend_out = True, col =\"company\", col_wrap = 3,palette = \"husl\",alpha=0.8)\n",
    "g.fig.subplots_adjust(top=0.9,right=0.8)\n",
    "plt.gcf().set_size_inches(25,20)\n",
    "g.fig.suptitle('Distribution of current and former employee reviewers with overall ratings for each company',\\\n",
    "               x= 0.5, y=1)\n",
    "#plt.suptitle(country, x=0.1, y=.95, horizontalalignment='left', verticalalignment='top', fontsize = 15)\n",
    "\n",
    "\n",
    "#each label\n",
    "\n",
    "titles = [\"Google\", \"Amazon\", \"Facebook\", \"Netflix\", \"Apple\", \"Microsoft\"]\n",
    "for ax, title in zip(g.axes.flat, titles):\n",
    "    ax.set_title(title)\n",
    "    \n",
    "    \n",
    "\n",
    "titles = [\" \", \" \", \" \", \"Overall Ratings\", \"Overall Ratings\", \"Overall Ratings\"]\n",
    "for ax, title in zip(g.axes.flat, titles):\n",
    "    ax.set_xlabel(title)\n",
    "\n",
    "titles = [\"Number of Reviews \", \" \", \" \", \"Number of Reviews\", \"   \", \"   \"]\n",
    "for ax, title in zip(g.axes.flat, titles):\n",
    "    ax.set_ylabel(title)    \n",
    "    \n",
    "#Legend\n",
    "legend = g._legend\n",
    "legend.set_title(\"Employee Type\")\n",
    "for t, l in zip(legend.texts,(\"Current Employee\", \"Former Employee\")):\n",
    "    t.set_text(l)\n",
    "\n",
    "\n",
    "\n"
   ]
  },
  {
   "cell_type": "markdown",
   "metadata": {},
   "source": [
    "- Google has a similar trend in the former and current employee category but the number of reviews are lesser when compared to Amazon or Apple.\n",
    "- Amazon`s most current employees have rated an overall 5 but former employees do not have the same opinion and they have rated a 3 most of the times.\n",
    "- Facebook`s current employees have given an overall rating of 5 most of the times but the number of reviews are very less for Facebook\n",
    "- Netflix has negligible reviews data\n",
    "- Apple`s current employees have rated 5 most of the times and former employees have rated an overall 4 most of the times.\n",
    "- Microsoft`s current and former employees both have rated 4 most of the times"
   ]
  },
  {
   "cell_type": "code",
   "execution_count": 61,
   "metadata": {
    "scrolled": false
   },
   "outputs": [
    {
     "data": {
      "image/png": "[encoded data removed]",
      "text/plain": [
       "<Figure size 1440x720 with 1 Axes>"
      ]
     },
     "metadata": {},
     "output_type": "display_data"
    }
   ],
   "source": [
    "sns.set(font_scale = 1.2)\n",
    "sns.set_style(\"whitegrid\")\n",
    "boxplot = sns.boxplot(data=plot_df,y=\"overall_ratings\",x='current_employee',\\\n",
    "                      orient=\"v\",hue=\"company\",palette=\"Paired\",\\\n",
    "                      saturation=0.7,width = 0.7,fliersize =7, linewidth = 0.7,notch = False,\\\n",
    "                      boxprops=dict(alpha=.65))\n",
    "plt.legend(bbox_to_anchor=(1.05, 1), loc=2, borderaxespad=0.5)\n",
    "plt.gcf().set_size_inches(20, 10)\n",
    "boxplot.set_ylim(0.5,5.5)\n",
    "\n",
    "\n",
    "\n",
    "\n",
    "#labels\n",
    "boxplot.set_xlabel('Employee Status',size=17)\n",
    "boxplot.set_ylabel('Overall Ratings',size=17)\n",
    "boxplot.set_title('Boxplot of current and former employee reviewers with overall ratings for each company',\\\n",
    "                  pad=30,size=20)\n",
    "\n",
    "plt.legend(bbox_to_anchor=(1.01, 1), loc=2, borderaxespad=0.3)\n",
    "plt.show()"
   ]
  },
  {
   "cell_type": "markdown",
   "metadata": {},
   "source": [
    "- Facebook has no boxplot visible for the current employees because its current employees have mostly rated an overall 5 and there are very few points for the other ratings\n",
    "- Current employees tend to give higher ratings than the former employees"
   ]
  },
  {
   "cell_type": "markdown",
   "metadata": {},
   "source": [
    "## Extra Plots"
   ]
  },
  {
   "cell_type": "code",
   "execution_count": 62,
   "metadata": {
    "scrolled": false
   },
   "outputs": [
    {
     "data": {
      "image/png": "[encoded data removed]",
      "text/plain": [
       "<Figure size 936x720 with 1 Axes>"
      ]
     },
     "metadata": {},
     "output_type": "display_data"
    }
   ],
   "source": [
    "sns.kdeplot(plot_df.overall_ratings[plot_df.current_employee== \"Former Employee\"], label='Former Employee',\\\n",
    "            shade=True, gridsize=1000)\n",
    "sns.kdeplot(plot_df.overall_ratings[plot_df.current_employee == \"Current Employee\"], label='Current Employee',\\\n",
    "            shade=True,gridsize= 1000)\n",
    "\n",
    "plt.xlabel('Overall Ratings')\n",
    "plt.gcf().set_size_inches(13, 10)"
   ]
  },
  {
   "cell_type": "markdown",
   "metadata": {},
   "source": [
    "- Current employees have rated 5 more often than former employees"
   ]
  },
  {
   "cell_type": "markdown",
   "metadata": {},
   "source": [
    "### --------------------------------------------------------------------------------------------------------------------------------"
   ]
  },
  {
   "cell_type": "markdown",
   "metadata": {},
   "source": [
    "## Hints"
   ]
  },
  {
   "cell_type": "code",
   "execution_count": 63,
   "metadata": {},
   "outputs": [],
   "source": [
    "#Cleaned Dataset\n",
    "\n",
    "\n",
    "cleaned_df = df.where ((col(\"work_balance_stars\") != \"none\") & (col(\"culture_values_stars\") != \"none\")&\n",
    "(col(\"carrer_opportunities_stars\") != \"none\") & (col(\"comp_benefit_stars\") != \"none\")& (col(\"senior_mangemnet_stars\") != \"none\"))\\\n",
    "                         .select(\n",
    "                             col(\"company\"),\n",
    "                             col(\"city\"), col(\"state\"), col(\"country\"), col(\"review_date\"), col(\"job_title\"), col(\"current_employee\"),\n",
    "                            col(\"overall_ratings\"), col(\"work_balance_stars\"), col(\"culture_values_stars\"), col(\"carrer_opportunities_stars\"),\n",
    "                            col(\"comp_benefit_stars\"), col(\"senior_mangemnet_stars\")\n",
    "                         )\n",
    "\n"
   ]
  },
  {
   "cell_type": "markdown",
   "metadata": {},
   "source": [
    "# Data Cleaning & Removing Un-Needed Columns\n",
    "\n",
    "No one likes dirty data.  Let's clean up this dataset to make it more usable for our use case.\n",
    "\n",
    " \n",
    "1. Make the date field more data friendly\n",
    "    - Hint #1: Use the provided `review_date_udf` udf provided (it will make your life more simple) \n",
    "2. Using the \"location\" column \n",
    "    - Add new columns for city, state, country columns\n",
    "        - Hint #1: Concider using `fn.split()` to split `location` for columns `city` `state` \n",
    "        - Hint #2: I've narrowed down the country to just US, so please use something like below to create the `country` column\n",
    "            - ```lit(\"US\").alias(\"country\")```\n",
    "3. Using the \"job-title\" column  \n",
    "    - Add a new boolean column titled \"current_employee\" that will show:\n",
    "        - 1,  if reviewer is a current employee\n",
    "        - 0,  if reviewer is not a current employee\n",
    "        - Hint:  Use spark function `fn.when()` and `col(\"job-title\").contains(\"\")`\n",
    "    - Remove \"Former Employee - \" and \"\" from the \"job-title\" column\n",
    "        - Hint: Use the udf function `reg_job_title_udf`\n",
    "4. Drop un-needed columns \n",
    "    - \"_c0\", \"link\", \"pros\", \"cons\", \"advice-to-mgmt\", \"summary\", \"location\""
   ]
  },
  {
   "cell_type": "code",
   "execution_count": 64,
   "metadata": {},
   "outputs": [],
   "source": [
    "review_date_udf = fn.udf(\n",
    "    lambda x: datetime.strptime(x, ' %b %d, %Y'), DateType()\n",
    ")"
   ]
  },
  {
   "cell_type": "code",
   "execution_count": 65,
   "metadata": {},
   "outputs": [],
   "source": [
    "def reg_job_title(column):\n",
    "    res_split=[]\n",
    "    reg_patterns=[\"Former Employee - / \", \"Current Employee - / \"]\n",
    "    for i in range(len(reg_patterns)):\n",
    "        res_split=re.findall(r\"[^/]+\",reg_patterns[i])\n",
    "        for x in res_split[0].split(\"|\"):\n",
    "            column = column.replace(x,res_split[1])\n",
    "    return column[1:]\n",
    "\n",
    "#reg_job_title_udf = fn.udf(reg_job_title, t.StringType())\n",
    "\n"
   ]
  },
  {
   "cell_type": "markdown",
   "metadata": {},
   "source": [
    "# Cleaned Spark Dataframe\n",
    "\n",
    "- I've included the starting of dataframe, but in the `select` you will want to add the fixes and columns needed to answer the questions below\n"
   ]
  },
  {
   "cell_type": "code",
   "execution_count": 66,
   "metadata": {},
   "outputs": [],
   "source": [
    "#cleaned_reviews_df = reviews_df.where((col(\"dates\") != 'None') & (col(\"dates\") != ' Jan 0, 0000') & (col(\"dates\") != ' Nov 0, 0000') & (~col(\"location\").contains(\"(\")) & (col(\"location\") != \"none\")) .select(col(\"company\"),\n",
    "                             \n",
    "                        \n",
    "#cleaned_reviews_df.show()"
   ]
  },
  {
   "cell_type": "markdown",
   "metadata": {},
   "source": [
    "\n",
    "|company|         city|state|country|review_date|           job_title|current_employee|overall_ratings|work_balance_stars|culture_values_stars|carrer_opportunities_stars|comp_benefit_stars|senior_mangemnet_stars|helpful_count|\n",
    "+-------+-------------+-----+-------+-----------+--------------------+----------------+---------------+------------------+--------------------+--------------------------+------------------+----------------------+-------------+\n",
    "| google|Mountain View|   CA|     US| 2015-02-08|  Anonymous Employee|               1|            5.0|               2.0|                 5.0|                       5.0|               4.0|                   5.0|          498|\n",
    "| google|Mountain View|   CA|     US| 2018-12-09|                SDE2|               0|            5.0|               4.0|                 4.0|                       4.0|               5.0|                   4.0|            1|\n",
    "| google|     New York|   NY|     US| 2018-12-11|   Software Engineer|               1|            5.0|               5.0|                 4.0|                       4.0|               5.0|                   4.0|            0|\n",
    "| google|     New York|   NY|     US| 2018-12-10|  Anonymous Employee|               1|            5.0|               5.0|                 5.0|                       5.0|               5.0|                   5.0|            0|\n",
    "| google|Mountain View|   CA|     US| 2018-12-08|  Anonymous Employee|               1|            5.0|               4.0|                 5.0|                       4.0|               4.0|                   3.0|            0|\n",
    "| google|San Francisco|   CA|     US| 2018-12-03|Sales Operations ...|               1|            5.0|               5.0|                 5.0|                       5.0|               4.0|                   4.0|            1|\n",
    "| google|     New York|   NY|     US| 2018-11-26|            Designer|               1|            5.0|               3.0|                 4.0|                       3.0|               4.0|                   5.0|            2|\n",
    "| google|  Los Angeles|   CA|     US| 2018-11-29|    Staff Accountant|               1|            5.0|               5.0|                 5.0|                       5.0|               5.0|                   5.0|            0|\n",
    "| google|San Francisco|   CA|     US| 2018-11-17|   Program Manager I|               1|            5.0|               5.0|                 5.0|                       5.0|               5.0|                   5.0|            3|\n",
    "| google|Mountain View|   CA|     US| 2018-12-09|     Senior Director|               0|            3.0|               4.0|                 5.0|                       5.0|               5.0|                   5.0|            0|\n",
    "| google|Mountain View|   CA|     US| 2018-12-08|Software Engineer...|               1|            4.0|               5.0|                 5.0|                       4.0|               4.0|                   4.0|            0|\n",
    "| google|     Dearborn|   MI|     US| 2018-11-20|   Google Specialist|               1|            5.0|               3.0|                 4.0|                       4.0|               5.0|                   4.0|            1|\n",
    "| google|     New York|   NY|     US| 2018-12-06|  Anonymous Employee|               1|            4.0|               4.0|                 3.0|                       3.0|               4.0|                   3.0|            0|\n",
    "| google|    Sunnyvale|   CA|     US| 2018-11-21|  Anonymous Employee|               1|            5.0|               3.0|                 5.0|                       5.0|               5.0|                   4.0|            0|\n",
    "| google|      Seattle|   WA|     US| 2018-11-13|Staff Software En...|               1|            5.0|               4.0|                 4.0|                       5.0|               5.0|                   3.0|            2|\n",
    "| google|     New York|   NY|     US| 2018-11-19|     Program Manager|               1|            5.0|               5.0|                 3.0|                       5.0|               4.0|                   5.0|            0|\n",
    "| google|    Sunnyvale|   CA|     US| 2018-11-19|   Software Engineer|               1|            5.0|               5.0|                 5.0|                       4.0|               4.0|                   4.0|            0|\n",
    "| google|    Ann Arbor|   MI|     US| 2018-11-19|Associate Account...|               0|            5.0|               4.0|                 4.0|                       5.0|               5.0|                   2.0|            0|\n",
    "| google|Mountain View|   CA|     US| 2018-11-16|  Anonymous Employee|               1|            3.0|               2.0|                 1.0|                       2.0|               5.0|                   2.0|            8|\n",
    "| google|Mountain View|   CA|     US| 2018-11-09|   Software Engineer|               1|            5.0|               5.0|                 5.0|                       5.0|               5.0|                   5.0|            1|\n",
    "+-------+-------------+-----+-------+-----------+--------------------+----------------+---------------+------------------+--------------------+--------------------------+------------------+----------------------+-------------+\n",
    "only showing top 20 rows"
   ]
  }
 ],
 "metadata": {
  "kernelspec": {
   "display_name": "Python 3",
   "language": "python",
   "name": "python3"
  },
  "language_info": {
   "codemirror_mode": {
    "name": "ipython",
    "version": 3
   },
   "file_extension": ".py",
   "mimetype": "text/x-python",
   "name": "python",
   "nbconvert_exporter": "python",
   "pygments_lexer": "ipython3",
   "version": "3.6.4"
  }
 },
 "nbformat": 4,
 "nbformat_minor": 2
}
