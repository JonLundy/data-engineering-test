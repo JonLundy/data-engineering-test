{
 "cells": [
  {
   "cell_type": "markdown",
   "metadata": {},
   "source": [
    "# Rakuten USA - Data Engineering Test\n",
    "\n",
    "### Goal\n",
    "The goal of this test is not ment to be exhaustive, but we do want to test your skills in analytical thinking, SQL, data wrangling, data analysis, and data visualization. \n",
    "\n",
    "**Please remember:** The better that you do on this assignment, the less questions we will have during your on-site interviews. :)\n",
    "\n",
    "### Expectations\n",
    "You can expect this test to use the following technologies:\n",
    "- Python3\n",
    "- Jupyter Notebook\n",
    "- PySpark\n",
    "- PySpark SQL\n",
    "\n",
    "This test will cover the following areas: \n",
    "- Data Cleaning/Wrangling\n",
    "- Exploratory Data Analysis (EDA)\n",
    "- Data Visualization\n",
    "\n",
    "This test should take you no more than 2-4 hours.\n",
    "\n",
    "### What to turn in, and where to send your test\n",
    "Please email stirling.waite@rakuten with your finished notebook\n",
    "- rakuten_engineer_test.ipynb\n",
    " \n",
    "### Questions?\n",
    "Feel free to email me or call me with any questions about this test\n",
    "- Email: stirling.waite@rakuten.com\n",
    "- Phone: 801-856-1426\n",
    "- LinkedIn Chat: https://www.linkedin.com/in/stirlingwaite/\n",
    "- Gchat: stirlingw@gmail.com"
   ]
  },
  {
   "cell_type": "code",
   "execution_count": null,
   "metadata": {},
   "outputs": [],
   "source": []
  },
  {
   "cell_type": "code",
   "execution_count": null,
   "metadata": {},
   "outputs": [],
   "source": []
  },
  {
   "cell_type": "markdown",
   "metadata": {},
   "source": [
    "# About The Dataset\n",
    "\n",
    "Below you will find a modified free Kaggle competition dataset from https://www.kaggle.com/mayank811/employee-reviews/data using scraped data from Glassdoor.com.\n",
    "\n",
    "## Context\n",
    "- Over 67k employee reviews for Google, Amazon, Facebook, Apple, Microsoft, and Netflix.\n",
    "- Web scraped from Glassdoor\n",
    "\n",
    "## Content\n",
    "This dataset contains employee reviews separated into the following categories:\n",
    "\n",
    "- **Index:** index\n",
    "- **Company:** Company name\n",
    "- **Location:** This dataset is global, as such it may include the country's name in parenthesis [i.e \"Toronto, ON(Canada)\"]. However, if the location is in the USA then it will only include the city and state[i.e \"Los Angeles, CA\" ]\n",
    "- **Date Posted:** in the following format MM DD, YYYY\n",
    "- **Job-Title:** This string will also include whether the reviewer is a 'Current' or 'Former' Employee at the time of the review\n",
    "- **Summary:** Short summary of employee review\n",
    "- **Pros:** Pros\n",
    "- **Cons:** Cons\n",
    "- **Overall Rating:** 1-5\n",
    "- **Work/Life Balance Rating:** 1-5\n",
    "- **Culture and Values Rating:** 1-5\n",
    "- **Career Opportunities Rating:** 1-5\n",
    "- **Comp & Benefits Rating:** 1-5\n",
    "- **Senior Management Rating:** 1-5\n",
    "- **Helpful Review Count:** 1-5\n",
    "\n",
    "**Link to Review:** This will provide you with a direct link to the page that contains the review. However it is likely that this link will be outdated\n",
    "\n",
    "**NOTE:** 'none' is placed in all cells where no data value was found.\n",
    "\n"
   ]
  },
  {
   "cell_type": "code",
   "execution_count": null,
   "metadata": {},
   "outputs": [],
   "source": []
  },
  {
   "cell_type": "code",
   "execution_count": null,
   "metadata": {},
   "outputs": [],
   "source": []
  },
  {
   "cell_type": "markdown",
   "metadata": {},
   "source": [
    "# PySpark Initialization"
   ]
  },
  {
   "cell_type": "code",
   "execution_count": 1,
   "metadata": {},
   "outputs": [],
   "source": [
    "import re\n",
    "import pyspark\n",
    "from pyspark import SparkConf, SparkContext, SQLContext\n",
    "from pyspark.sql import SparkSession, Row\n",
    "from pyspark.sql.functions import *\n",
    "from pyspark.sql import functions as fn\n",
    "from pyspark.sql import types as t\n",
    "from pyspark.sql.types import *\n",
    "from datetime import datetime"
   ]
  },
  {
   "cell_type": "code",
   "execution_count": 2,
   "metadata": {},
   "outputs": [],
   "source": [
    "conf = SparkConf()\\\n",
    "                .setMaster(\"local[*]\")\\\n",
    "                .setAppName(\"rakutenHomework\")\n",
    "\n",
    "sc = SparkContext(conf=conf)\n",
    "sc.setLogLevel(\"ERROR\")\n",
    "sqlContext = SQLContext(sc)\n",
    "spark = SparkSession.builder.appName(\"spark play\").getOrCreate()"
   ]
  },
  {
   "cell_type": "markdown",
   "metadata": {},
   "source": [
    "## Read Dataset into Spark"
   ]
  },
  {
   "cell_type": "code",
   "execution_count": 3,
   "metadata": {
    "scrolled": true
   },
   "outputs": [
    {
     "name": "stdout",
     "output_type": "stream",
     "text": [
      "28357\n",
      "root\n",
      " |-- _c0: integer (nullable = true)\n",
      " |-- company: string (nullable = true)\n",
      " |-- location: string (nullable = true)\n",
      " |-- dates: string (nullable = true)\n",
      " |-- job_title: string (nullable = true)\n",
      " |-- summary: string (nullable = true)\n",
      " |-- pros: string (nullable = true)\n",
      " |-- cons: string (nullable = true)\n",
      " |-- advice_to_mgmt: string (nullable = true)\n",
      " |-- overall_ratings: string (nullable = true)\n",
      " |-- work_balance_stars: string (nullable = true)\n",
      " |-- culture_values_stars: string (nullable = true)\n",
      " |-- carrer_opportunities_stars: string (nullable = true)\n",
      " |-- comp_benefit_stars: string (nullable = true)\n",
      " |-- senior_mangemnet_stars: string (nullable = true)\n",
      " |-- helpful_count: string (nullable = true)\n",
      " |-- link: string (nullable = true)\n",
      "\n",
      "+---+-------+-----------------+-------------+--------------------+--------------------+--------------------+--------------------+--------------------+---------------+------------------+--------------------+--------------------------+------------------+----------------------+-------------+--------------------+\n",
      "|_c0|company|         location|        dates|           job_title|             summary|                pros|                cons|      advice_to_mgmt|overall_ratings|work_balance_stars|culture_values_stars|carrer_opportunities_stars|comp_benefit_stars|senior_mangemnet_stars|helpful_count|                link|\n",
      "+---+-------+-----------------+-------------+--------------------+--------------------+--------------------+--------------------+--------------------+---------------+------------------+--------------------+--------------------------+------------------+----------------------+-------------+--------------------+\n",
      "|  0| google|Mountain View, CA|  Feb 8, 2015|Current Employee ...|The best place I'...|You can't find a ...|I live in SF so t...|Keep on NOT micro...|            5.0|               2.0|                 5.0|                       5.0|               4.0|                   5.0|          498|https://www.glass...|\n",
      "|  1| google|Mountain View, CA|  Dec 9, 2018|Former Employee -...|NICE working in G...|People are not th...|Food is not good ...|                none|            5.0|               4.0|                 4.0|                       4.0|               5.0|                   4.0|            1|https://www.glass...|\n",
      "|  2| google|     New York, NY| Dec 11, 2018|Current Employee ...|   Software engineer|Great working env...|Usual big company...|                none|            5.0|               5.0|                 4.0|                       4.0|               5.0|                   4.0|            0|https://www.glass...|\n",
      "|  3| google|     New York, NY| Dec 10, 2018|Current Employee ...|Google Surpasses ...|Great products. V...|Younger employees...|                none|            5.0|               5.0|                 5.0|                       5.0|               5.0|                   5.0|            0|https://www.glass...|\n",
      "|  4| google|Mountain View, CA|  Dec 8, 2018|Current Employee ...|  Nice place to work|* Smart people * ...|Giant company wit...|                none|            5.0|               4.0|                 5.0|                       4.0|               4.0|                   3.0|            0|https://www.glass...|\n",
      "|  5| google|San Francisco, CA|  Dec 3, 2018|Current Employee ...|Still the best pl...|Amazing company. ...|Size, which limit...|                none|            5.0|               5.0|                 5.0|                       5.0|               4.0|                   4.0|            1|https://www.glass...|\n",
      "|  6| google|     New York, NY| Nov 26, 2018|Current Employee ...|Great, but great ...|Great team and su...|Lots of bureaucra...|                none|            5.0|               3.0|                 4.0|                       3.0|               4.0|                   5.0|            2|https://www.glass...|\n",
      "|  7| google|  Los Angeles, CA| Nov 29, 2018|Current Employee ...|          Accountant|I like and learne...|High clerical wor...|Management and Fi...|            5.0|               5.0|                 5.0|                       5.0|               5.0|                   5.0|            0|https://www.glass...|\n",
      "|  8| google|San Francisco, CA| Nov 17, 2018|Current Employee ...|Not perfect, but ...|- A company cultu...|- A company with ...|- Just because a ...|            5.0|               5.0|                 5.0|                       5.0|               5.0|                   5.0|            3|https://www.glass...|\n",
      "|  9| google|Mountain View, CA|  Dec 9, 2018|Former Employee -...|     Senior Director|So many brilliant...|Becoming highly b...|                none|            3.0|               4.0|                 5.0|                       5.0|               5.0|                   5.0|            0|https://www.glass...|\n",
      "| 10| google|Mountain View, CA|  Dec 8, 2018|Current Employee ...|Google is still t...|Great place to wo...|Large company iss...|                none|            4.0|               5.0|                 5.0|                       4.0|               4.0|                   4.0|            0|https://www.glass...|\n",
      "| 11| google|     Dearborn, MI| Nov 20, 2018|Current Employee ...|              Google|Google is one of ...|You have to work ...|                none|            5.0|               3.0|                 4.0|                       4.0|               5.0|                   4.0|            1|https://www.glass...|\n",
      "| 12| google|     New York, NY|  Dec 6, 2018|Current Employee ...|   Good compensation|Better than avera...|Big and beurocrat...|                none|            4.0|               4.0|                 3.0|                       3.0|               4.0|                   3.0|            0|https://www.glass...|\n",
      "| 13| google|    Sunnyvale, CA| Nov 21, 2018|Current Employee ...|    Best of the best|The best company ...|Set hours for bre...|                none|            5.0|               3.0|                 5.0|                       5.0|               5.0|                   4.0|            0|https://www.glass...|\n",
      "| 14| google|      Seattle, WA| Nov 13, 2018|Current Employee ...|        Hard to beat|Amazing compensat...|Growing pains as ...|                none|            5.0|               4.0|                 4.0|                       5.0|               5.0|                   3.0|            2|https://www.glass...|\n",
      "| 15| google|     New York, NY| Nov 19, 2018|Current Employee ...| Great place to work|Ambitious mission...|Everyone is eager...|                none|            5.0|               5.0|                 3.0|                       5.0|               4.0|                   5.0|            0|https://www.glass...|\n",
      "| 16| google|    Sunnyvale, CA| Nov 19, 2018|Current Employee ...|Positive Experiences|Good opportunitie...|Difficult to adva...|                none|            5.0|               5.0|                 5.0|                       4.0|               4.0|                   4.0|            0|https://www.glass...|\n",
      "| 17| google|    Ann Arbor, MI| Nov 19, 2018|Former Employee -...|Make sure you kno...|Employees, food, ...|Company has becom...|Stop putting peop...|            5.0|               4.0|                 4.0|                       5.0|               5.0|                   2.0|            0|https://www.glass...|\n",
      "| 18| google|Mountain View, CA| Nov 16, 2018|Current Employee ...|                 meh|Pays really well ...|Google wants 60-h...|Add ethics to the...|            3.0|               2.0|                 1.0|                       2.0|               5.0|                   2.0|            8|https://www.glass...|\n",
      "| 19| google|Mountain View, CA|  Nov 9, 2018|Current Employee ...| Best Job I Ever Had|Amazing and talen...|All the perks mak...|                none|            5.0|               5.0|                 5.0|                       5.0|               5.0|                   5.0|            1|https://www.glass...|\n",
      "+---+-------+-----------------+-------------+--------------------+--------------------+--------------------+--------------------+--------------------+---------------+------------------+--------------------+--------------------------+------------------+----------------------+-------------+--------------------+\n",
      "only showing top 20 rows\n",
      "\n"
     ]
    }
   ],
   "source": [
    "reviews_df = spark.read.csv(\"employee_reviews_usa.csv\", header=True, mode=\"DROPMALFORMED\", inferSchema='true', encoding=\"utf-8\")\n",
    "print(reviews_df.count())\n",
    "reviews_df.printSchema()\n",
    "reviews_df.show()"
   ]
  },
  {
   "cell_type": "code",
   "execution_count": 4,
   "metadata": {},
   "outputs": [
    {
     "name": "stdout",
     "output_type": "stream",
     "text": [
      "True\n"
     ]
    }
   ],
   "source": [
    "# quick sanity check on job_title\n",
    "\n",
    "current_employees_count = reviews_df.filter(col(\"job_title\").startswith(\"Current Employee\")).count()\n",
    "former_employees_count = reviews_df.filter(col(\"job_title\").startswith(\"Former\")).count()\n",
    "print(current_employees_count + former_employees_count == reviews_df.count())"
   ]
  },
  {
   "cell_type": "code",
   "execution_count": null,
   "metadata": {},
   "outputs": [],
   "source": []
  },
  {
   "cell_type": "markdown",
   "metadata": {},
   "source": [
    "# Data Cleaning & Removing Un-Needed Columns\n",
    "\n",
    "No one likes dirty data.  Let's clean up this dataset to make it more usable for our use case.\n",
    "\n",
    " \n",
    "1. Make the date field more data friendly\n",
    "    - Hint #1: Use the provided `review_date_udf` udf provided (it will make your life more simple) \n",
    "2. Using the \"location\" column \n",
    "    - Add new columns for city, state, country columns\n",
    "        - Hint #1: Concider using `fn.split()` to split `location` for columns `city` `state` \n",
    "        - Hint #2: I've narrowed down the country to just US, so please use something like below to create the `country` column\n",
    "            - ```lit(\"US\").alias(\"country\")```\n",
    "3. Using the \"job-title\" column  \n",
    "    - Add a new boolean column titled \"current_employee\" that will show:\n",
    "        - 1,  if reviewer is a current employee\n",
    "        - 0,  if reviewer is not a current employee\n",
    "        - Hint:  Use spark function `fn.when()` and `col(\"job-title\").contains(\"\")`\n",
    "    - Remove \"Former Employee - \" and \"\" from the \"job-title\" column\n",
    "        - Hint: Use the udf function `reg_job_title_udf`\n",
    "4. Drop un-needed columns \n",
    "    - \"_c0\", \"link\", \"pros\", \"cons\", \"advice-to-mgmt\", \"summary\", \"location\""
   ]
  },
  {
   "cell_type": "markdown",
   "metadata": {},
   "source": [
    "##### Useful UDF functions needed for below"
   ]
  },
  {
   "cell_type": "code",
   "execution_count": 5,
   "metadata": {},
   "outputs": [],
   "source": [
    "review_date_udf = fn.udf(\n",
    "    lambda x: datetime.strptime(x, ' %b %d, %Y'), DateType()\n",
    ")"
   ]
  },
  {
   "cell_type": "code",
   "execution_count": 6,
   "metadata": {},
   "outputs": [],
   "source": [
    "def reg_job_title(column):\n",
    "    res_split=[]\n",
    "    reg_patterns=[\"Former Employee - / \", \"Current Employee - / \"]\n",
    "    for i in range(len(reg_patterns)):\n",
    "        res_split=re.findall(r\"[^/]+\",reg_patterns[i])\n",
    "        for x in res_split[0].split(\"|\"):\n",
    "            column = column.replace(x,res_split[1])\n",
    "    return column[1:]\n",
    "\n",
    "reg_job_title_udf = fn.udf(reg_job_title, t.StringType())"
   ]
  },
  {
   "cell_type": "markdown",
   "metadata": {},
   "source": [
    "# Cleaned Spark Dataframe\n",
    "\n",
    "- I've included the starting of dataframe, but in the `select` you will want to add the fixes and columns needed to answer the questions below\n"
   ]
  },
  {
   "cell_type": "code",
   "execution_count": 7,
   "metadata": {},
   "outputs": [
    {
     "name": "stdout",
     "output_type": "stream",
     "text": [
      "root\n",
      " |-- company: string (nullable = true)\n",
      " |-- dates: date (nullable = true)\n",
      " |-- current_employee: boolean (nullable = false)\n",
      " |-- country: string (nullable = false)\n",
      " |-- job_title: string (nullable = true)\n",
      " |-- overall_ratings: float (nullable = true)\n",
      " |-- work_balance_stars: float (nullable = true)\n",
      " |-- culture_values_stars: float (nullable = true)\n",
      " |-- career_opportunities_stars: float (nullable = true)\n",
      " |-- comp_benefit_stars: float (nullable = true)\n",
      " |-- senior_management_stars: float (nullable = true)\n",
      " |-- helpful_count: integer (nullable = true)\n",
      " |-- city: string (nullable = true)\n",
      " |-- state: string (nullable = true)\n",
      "\n",
      "+-------+----------+----------------+-------+--------------------+---------------+------------------+--------------------+--------------------------+------------------+-----------------------+-------------+-------------+-----+\n",
      "|company|     dates|current_employee|country|           job_title|overall_ratings|work_balance_stars|culture_values_stars|career_opportunities_stars|comp_benefit_stars|senior_management_stars|helpful_count|         city|state|\n",
      "+-------+----------+----------------+-------+--------------------+---------------+------------------+--------------------+--------------------------+------------------+-----------------------+-------------+-------------+-----+\n",
      "| google|2015-02-08|            true|     US|  Anonymous Employee|            5.0|               2.0|                 5.0|                       5.0|               4.0|                    5.0|          498|Mountain View|   CA|\n",
      "| google|2018-12-09|           false|     US|                SDE2|            5.0|               4.0|                 4.0|                       4.0|               5.0|                    4.0|            1|Mountain View|   CA|\n",
      "| google|2018-12-11|            true|     US|   Software Engineer|            5.0|               5.0|                 4.0|                       4.0|               5.0|                    4.0|            0|     New York|   NY|\n",
      "| google|2018-12-10|            true|     US|  Anonymous Employee|            5.0|               5.0|                 5.0|                       5.0|               5.0|                    5.0|            0|     New York|   NY|\n",
      "| google|2018-12-08|            true|     US|  Anonymous Employee|            5.0|               4.0|                 5.0|                       4.0|               4.0|                    3.0|            0|Mountain View|   CA|\n",
      "| google|2018-12-03|            true|     US|Sales Operations ...|            5.0|               5.0|                 5.0|                       5.0|               4.0|                    4.0|            1|San Francisco|   CA|\n",
      "| google|2018-11-26|            true|     US|            Designer|            5.0|               3.0|                 4.0|                       3.0|               4.0|                    5.0|            2|     New York|   NY|\n",
      "| google|2018-11-29|            true|     US|    Staff Accountant|            5.0|               5.0|                 5.0|                       5.0|               5.0|                    5.0|            0|  Los Angeles|   CA|\n",
      "| google|2018-11-17|            true|     US|   Program Manager I|            5.0|               5.0|                 5.0|                       5.0|               5.0|                    5.0|            3|San Francisco|   CA|\n",
      "| google|2018-12-09|           false|     US|     Senior Director|            3.0|               4.0|                 5.0|                       5.0|               5.0|                    5.0|            0|Mountain View|   CA|\n",
      "| google|2018-12-08|            true|     US|Software Engineer...|            4.0|               5.0|                 5.0|                       4.0|               4.0|                    4.0|            0|Mountain View|   CA|\n",
      "| google|2018-11-20|            true|     US|   Google Specialist|            5.0|               3.0|                 4.0|                       4.0|               5.0|                    4.0|            1|     Dearborn|   MI|\n",
      "| google|2018-12-06|            true|     US|  Anonymous Employee|            4.0|               4.0|                 3.0|                       3.0|               4.0|                    3.0|            0|     New York|   NY|\n",
      "| google|2018-11-21|            true|     US|  Anonymous Employee|            5.0|               3.0|                 5.0|                       5.0|               5.0|                    4.0|            0|    Sunnyvale|   CA|\n",
      "| google|2018-11-13|            true|     US|Staff Software En...|            5.0|               4.0|                 4.0|                       5.0|               5.0|                    3.0|            2|      Seattle|   WA|\n",
      "| google|2018-11-19|            true|     US|     Program Manager|            5.0|               5.0|                 3.0|                       5.0|               4.0|                    5.0|            0|     New York|   NY|\n",
      "| google|2018-11-19|            true|     US|   Software Engineer|            5.0|               5.0|                 5.0|                       4.0|               4.0|                    4.0|            0|    Sunnyvale|   CA|\n",
      "| google|2018-11-19|           false|     US|Associate Account...|            5.0|               4.0|                 4.0|                       5.0|               5.0|                    2.0|            0|    Ann Arbor|   MI|\n",
      "| google|2018-11-16|            true|     US|  Anonymous Employee|            3.0|               2.0|                 1.0|                       2.0|               5.0|                    2.0|            8|Mountain View|   CA|\n",
      "| google|2018-11-09|            true|     US|   Software Engineer|            5.0|               5.0|                 5.0|                       5.0|               5.0|                    5.0|            1|Mountain View|   CA|\n",
      "+-------+----------+----------------+-------+--------------------+---------------+------------------+--------------------+--------------------------+------------------+-----------------------+-------------+-------------+-----+\n",
      "only showing top 20 rows\n",
      "\n"
     ]
    }
   ],
   "source": [
    "cleaned_reviews_df = reviews_df.where((col(\"dates\") != 'None') & (col(\"dates\") != ' Jan 0, 0000') & (col(\"dates\") != ' Nov 0, 0000') & (~col(\"location\").contains(\"(\")) & (col(\"location\") != \"none\")) \\\n",
    "                         .select(\n",
    "                               col(\"company\"),\n",
    "                               review_date_udf(col(\"dates\")).alias(\"dates\"), # dates reformatting,\n",
    "                               when(col(\"job_title\").startswith(\"Current Employee\"), True).otherwise(False).alias(\"current_employee\"),\n",
    "                               col(\"location\"),\n",
    "                               lit(\"US\").alias(\"country\"), # set country to USA for US-only dataset\n",
    "                               reg_job_title_udf(col(\"job_title\")).alias(\"job_title\"), # strip Former Employee\n",
    "                               col(\"overall_ratings\").cast(\"float\"), # casting to numerical types makes sense here\n",
    "                               col(\"work_balance_stars\").cast(\"float\"),\n",
    "                               col(\"culture_values_stars\").cast(\"float\"),\n",
    "                               col(\"carrer_opportunities_stars\").cast(\"float\").alias(\"career_opportunities_stars\"),\n",
    "                               col(\"comp_benefit_stars\").cast(\"float\"),\n",
    "                               col(\"senior_mangemnet_stars\").cast(\"float\").alias(\"senior_management_stars\"),\n",
    "                               col(\"helpful_count\").cast(\"int\"))\n",
    "\n",
    "# split location into city, state\n",
    "# should verify that split produced list with length >= 2\n",
    "#\n",
    "# could also try fn.posexplode\n",
    "split_location_col = fn.split(cleaned_reviews_df[\"location\"], \", *\")\n",
    "cleaned_reviews_df = cleaned_reviews_df.withColumn('city', split_location_col.getItem(0))\\\n",
    "                                       .withColumn('state', split_location_col.getItem(1))\\\n",
    "                                       .drop(\"location\")\n",
    "\n",
    "cleaned_reviews_df.printSchema()\n",
    "cleaned_reviews_df.show()"
   ]
  },
  {
   "cell_type": "code",
   "execution_count": 8,
   "metadata": {},
   "outputs": [
    {
     "name": "stdout",
     "output_type": "stream",
     "text": [
      "+---------------+------------------+--------------------+--------------------------+------------------+-----------------------+\n",
      "|overall_ratings|work_balance_stars|culture_values_stars|career_opportunities_stars|comp_benefit_stars|senior_management_stars|\n",
      "+---------------+------------------+--------------------+--------------------------+------------------+-----------------------+\n",
      "|              0|                 0|                   0|                         0|                 0|                      0|\n",
      "+---------------+------------------+--------------------+--------------------------+------------------+-----------------------+\n",
      "\n"
     ]
    }
   ],
   "source": [
    "# another sanity check\n",
    "\n",
    "# any nan values in ratings columns?\n",
    "cleaned_reviews_df.select(\n",
    "    [fn.count(fn.when(fn.isnan(c), c)).alias(c)\n",
    "     for c in [\"overall_ratings\", \"work_balance_stars\", \"culture_values_stars\", \"career_opportunities_stars\", \"comp_benefit_stars\", \"senior_management_stars\"]])\\\n",
    "   .show()\n",
    "\n",
    "# TODO:\n",
    "# is it worth dropping the null ratings?\n",
    "# could a forward / backward filling strategy work here?"
   ]
  },
  {
   "cell_type": "code",
   "execution_count": null,
   "metadata": {},
   "outputs": [],
   "source": []
  },
  {
   "cell_type": "markdown",
   "metadata": {},
   "source": [
    "# Data Questions\n",
    "\n",
    "Each question below will have two parts.   Please solve each problem in PySpark and PySpark SQL.  This is to test your ability to solve the problem in PySpark, and to test your ability to solve the problem in SQL.\n",
    "\n",
    "- PySpark API (https://spark.apache.org/docs/latest/api/python/index.html)\n",
    "- PySpark SQL API (https://spark.apache.org/docs/latest/api/python/pyspark.sql.html)"
   ]
  },
  {
   "cell_type": "code",
   "execution_count": 9,
   "metadata": {},
   "outputs": [],
   "source": [
    "cleaned_reviews_df.createOrReplaceTempView(\"reviews\")"
   ]
  },
  {
   "cell_type": "markdown",
   "metadata": {},
   "source": [
    "### (1) What is the total number of reviews in the data set?"
   ]
  },
  {
   "cell_type": "markdown",
   "metadata": {},
   "source": [
    "##### PySpark Implmentation"
   ]
  },
  {
   "cell_type": "code",
   "execution_count": 10,
   "metadata": {},
   "outputs": [
    {
     "data": {
      "text/plain": [
       "28357"
      ]
     },
     "execution_count": 10,
     "metadata": {},
     "output_type": "execute_result"
    }
   ],
   "source": [
    "cleaned_reviews_df.count()"
   ]
  },
  {
   "cell_type": "markdown",
   "metadata": {},
   "source": [
    "##### Spark SQL Implmentation"
   ]
  },
  {
   "cell_type": "code",
   "execution_count": 11,
   "metadata": {},
   "outputs": [
    {
     "name": "stdout",
     "output_type": "stream",
     "text": [
      "+------------+\n",
      "|review_count|\n",
      "+------------+\n",
      "|       28357|\n",
      "+------------+\n",
      "\n"
     ]
    }
   ],
   "source": [
    "spark.sql(\"SELECT count(*) as review_count from reviews\").show()"
   ]
  },
  {
   "cell_type": "code",
   "execution_count": null,
   "metadata": {},
   "outputs": [],
   "source": []
  },
  {
   "cell_type": "markdown",
   "metadata": {},
   "source": [
    "###  (2) How many reviews exist in the dataset per each company?"
   ]
  },
  {
   "cell_type": "markdown",
   "metadata": {},
   "source": [
    "##### PySpark Implmentation"
   ]
  },
  {
   "cell_type": "code",
   "execution_count": 12,
   "metadata": {
    "scrolled": true
   },
   "outputs": [
    {
     "name": "stdout",
     "output_type": "stream",
     "text": [
      "+---------+-----+\n",
      "|  company|count|\n",
      "+---------+-----+\n",
      "|   amazon|10164|\n",
      "|    apple| 5853|\n",
      "| facebook| 1167|\n",
      "|   google| 2601|\n",
      "|microsoft| 8114|\n",
      "|  netflix|  458|\n",
      "+---------+-----+\n",
      "\n"
     ]
    }
   ],
   "source": [
    "cleaned_reviews_df.groupBy(\"company\").count().orderBy(\"company\").show()"
   ]
  },
  {
   "cell_type": "markdown",
   "metadata": {},
   "source": [
    "##### Spark SQL Implmentation"
   ]
  },
  {
   "cell_type": "code",
   "execution_count": 13,
   "metadata": {},
   "outputs": [
    {
     "name": "stdout",
     "output_type": "stream",
     "text": [
      "+---------+-----+\n",
      "|  company|count|\n",
      "+---------+-----+\n",
      "|   amazon|10164|\n",
      "|    apple| 5853|\n",
      "| facebook| 1167|\n",
      "|   google| 2601|\n",
      "|microsoft| 8114|\n",
      "|  netflix|  458|\n",
      "+---------+-----+\n",
      "\n"
     ]
    }
   ],
   "source": [
    "spark.sql(\"SELECT company,count(*) as count from reviews GROUP BY company ORDER BY company\").show()"
   ]
  },
  {
   "cell_type": "code",
   "execution_count": null,
   "metadata": {},
   "outputs": [],
   "source": []
  },
  {
   "cell_type": "markdown",
   "metadata": {},
   "source": [
    "###  (3) How many reviews are from former and current employees per each company?"
   ]
  },
  {
   "cell_type": "markdown",
   "metadata": {},
   "source": [
    "##### PySpark Implmentation"
   ]
  },
  {
   "cell_type": "code",
   "execution_count": 14,
   "metadata": {
    "scrolled": true
   },
   "outputs": [
    {
     "name": "stdout",
     "output_type": "stream",
     "text": [
      "+---------+----------------+-----+\n",
      "|  company|current_employee|count|\n",
      "+---------+----------------+-----+\n",
      "|   amazon|            true| 6753|\n",
      "|   amazon|           false| 3411|\n",
      "|    apple|            true| 3408|\n",
      "|    apple|           false| 2445|\n",
      "| facebook|            true|  945|\n",
      "| facebook|           false|  222|\n",
      "|   google|            true| 1655|\n",
      "|   google|           false|  946|\n",
      "|microsoft|            true| 5249|\n",
      "|microsoft|           false| 2865|\n",
      "|  netflix|            true|  235|\n",
      "|  netflix|           false|  223|\n",
      "+---------+----------------+-----+\n",
      "\n"
     ]
    }
   ],
   "source": [
    "cleaned_reviews_df.groupBy(\"company\", \"current_employee\").count()\\\n",
    "                  .orderBy([\"company\", \"current_employee\"], ascending=[1,0]).show()"
   ]
  },
  {
   "cell_type": "markdown",
   "metadata": {},
   "source": [
    "##### Spark SQL Implmentation"
   ]
  },
  {
   "cell_type": "code",
   "execution_count": 15,
   "metadata": {},
   "outputs": [
    {
     "name": "stdout",
     "output_type": "stream",
     "text": [
      "+---------+----------------+-----+\n",
      "|  company|current_employee|count|\n",
      "+---------+----------------+-----+\n",
      "|   amazon|            true| 6753|\n",
      "|   amazon|           false| 3411|\n",
      "|    apple|            true| 3408|\n",
      "|    apple|           false| 2445|\n",
      "| facebook|            true|  945|\n",
      "| facebook|           false|  222|\n",
      "|   google|            true| 1655|\n",
      "|   google|           false|  946|\n",
      "|microsoft|            true| 5249|\n",
      "|microsoft|           false| 2865|\n",
      "|  netflix|            true|  235|\n",
      "|  netflix|           false|  223|\n",
      "+---------+----------------+-----+\n",
      "\n"
     ]
    }
   ],
   "source": [
    "spark.sql(\n",
    "          \"SELECT company, current_employee, count(*) as count \"\n",
    "          \"from reviews GROUP BY company, current_employee ORDER BY company ASC, current_employee DESC\")\\\n",
    "     .show()"
   ]
  },
  {
   "cell_type": "code",
   "execution_count": null,
   "metadata": {},
   "outputs": [],
   "source": []
  },
  {
   "cell_type": "markdown",
   "metadata": {},
   "source": [
    "###  (4) What is the average review scores of each current and former employees for each company?"
   ]
  },
  {
   "cell_type": "markdown",
   "metadata": {},
   "source": [
    "##### PySpark Implmentation"
   ]
  },
  {
   "cell_type": "code",
   "execution_count": 16,
   "metadata": {},
   "outputs": [
    {
     "name": "stdout",
     "output_type": "stream",
     "text": [
      "+---------+----------------+--------------------+\n",
      "|  company|current_employee|avg(overall_ratings)|\n",
      "+---------+----------------+--------------------+\n",
      "|   amazon|            true|   3.711772665764547|\n",
      "|   amazon|           false|   2.981448234590066|\n",
      "|    apple|            true|   4.077267303102626|\n",
      "|    apple|           false|   3.830037862852335|\n",
      "| facebook|            true|   4.703544575725027|\n",
      "| facebook|           false|  3.9262672811059907|\n",
      "|   google|            true|   4.430864197530864|\n",
      "|   google|           false|   4.155507559395248|\n",
      "|microsoft|            true|  3.8619613959836228|\n",
      "|microsoft|           false|  3.5612903225806454|\n",
      "|  netflix|            true|   3.965217391304348|\n",
      "|  netflix|           false|    2.94392523364486|\n",
      "+---------+----------------+--------------------+\n",
      "\n"
     ]
    }
   ],
   "source": [
    "cleaned_reviews_df.groupBy(\"company\", \"current_employee\").agg({\"overall_ratings\": \"avg\"})\\\n",
    "                  .orderBy([\"company\", \"current_employee\"], ascending=[1,0]).show()"
   ]
  },
  {
   "cell_type": "markdown",
   "metadata": {},
   "source": [
    "##### Spark SQL Implmentation"
   ]
  },
  {
   "cell_type": "code",
   "execution_count": 17,
   "metadata": {},
   "outputs": [
    {
     "name": "stdout",
     "output_type": "stream",
     "text": [
      "+---------+----------------+--------------------+\n",
      "|  company|current_employee|avg(overall_ratings)|\n",
      "+---------+----------------+--------------------+\n",
      "|   amazon|            true|   3.711772665764547|\n",
      "|   amazon|           false|   2.981448234590066|\n",
      "|    apple|            true|   4.077267303102626|\n",
      "|    apple|           false|   3.830037862852335|\n",
      "| facebook|            true|   4.703544575725027|\n",
      "| facebook|           false|  3.9262672811059907|\n",
      "|   google|            true|   4.430864197530864|\n",
      "|   google|           false|   4.155507559395248|\n",
      "|microsoft|            true|  3.8619613959836228|\n",
      "|microsoft|           false|  3.5612903225806454|\n",
      "|  netflix|            true|   3.965217391304348|\n",
      "|  netflix|           false|    2.94392523364486|\n",
      "+---------+----------------+--------------------+\n",
      "\n"
     ]
    }
   ],
   "source": [
    "spark.sql(\n",
    "          \"SELECT company, current_employee, avg(overall_ratings) from reviews \"\n",
    "          \"GROUP BY company, current_employee ORDER BY company ASC, current_employee DESC\")\\\n",
    "     .show()"
   ]
  },
  {
   "cell_type": "code",
   "execution_count": null,
   "metadata": {},
   "outputs": [],
   "source": []
  },
  {
   "cell_type": "markdown",
   "metadata": {},
   "source": [
    "###  (5) Show the count of former Google employee reviews and the average work_balance_score ONLY for locations in Seattle, San Francisco, or Utah\n",
    "- Please show in one solution  \n",
    "- Hint:  Since you already broke out the location to city, state, country in the data wrangling phase above you can use the city and state columns in your where statement"
   ]
  },
  {
   "cell_type": "markdown",
   "metadata": {},
   "source": [
    "##### PySpark Implmentation"
   ]
  },
  {
   "cell_type": "code",
   "execution_count": 18,
   "metadata": {},
   "outputs": [
    {
     "name": "stdout",
     "output_type": "stream",
     "text": [
      "+-------+-------------+-----+-----------------------+--------------+\n",
      "|company|         city|state|avg(work_balance_stars)|count(company)|\n",
      "+-------+-------------+-----+-----------------------+--------------+\n",
      "| google|      Seattle|   WA|     3.5294117647058822|            19|\n",
      "| google|San Francisco|   CA|      4.340579710144928|            72|\n",
      "| google|        Kanab|   UT|                    5.0|             1|\n",
      "+-------+-------------+-----+-----------------------+--------------+\n",
      "\n"
     ]
    }
   ],
   "source": [
    "cleaned_reviews_df.where((cleaned_reviews_df.company == \"google\") & (cleaned_reviews_df.current_employee == False))\\\n",
    "                  .where((cleaned_reviews_df.city == \"Seattle\") |\\\n",
    "                         (cleaned_reviews_df.city == \"San Francisco\") |\\\n",
    "                         (cleaned_reviews_df.state == \"UT\"))\\\n",
    "                  .groupBy(\"company\", \"city\", \"state\")\\\n",
    "                  .agg(fn.avg(\"work_balance_stars\"), fn.count(\"company\")).show()"
   ]
  },
  {
   "cell_type": "markdown",
   "metadata": {},
   "source": [
    "##### Spark SQL Implmentation"
   ]
  },
  {
   "cell_type": "code",
   "execution_count": 19,
   "metadata": {},
   "outputs": [
    {
     "name": "stdout",
     "output_type": "stream",
     "text": [
      "+-------+-------------+-----+-----------------------+--------------+\n",
      "|company|         city|state|avg(work_balance_stars)|count(company)|\n",
      "+-------+-------------+-----+-----------------------+--------------+\n",
      "| google|      Seattle|   WA|     3.5294117647058822|            19|\n",
      "| google|San Francisco|   CA|      4.340579710144928|            72|\n",
      "| google|        Kanab|   UT|                    5.0|             1|\n",
      "+-------+-------------+-----+-----------------------+--------------+\n",
      "\n"
     ]
    }
   ],
   "source": [
    "spark.sql(\n",
    "          \"SELECT company, city, state, avg(work_balance_stars), count(company) from reviews \"\n",
    "          \"WHERE (company='google' AND current_employee=false) AND \"\n",
    "          \"(city='Seattle' OR city='San Francisco' OR state='UT') GROUP BY company, city, state\")\\\n",
    "     .show()"
   ]
  },
  {
   "cell_type": "code",
   "execution_count": null,
   "metadata": {},
   "outputs": [],
   "source": []
  },
  {
   "cell_type": "code",
   "execution_count": null,
   "metadata": {},
   "outputs": [],
   "source": []
  },
  {
   "cell_type": "markdown",
   "metadata": {},
   "source": [
    "# Data Visualization\n",
    "1. Turn your Spark dataframe into a Pandas dataframe\n",
    "    - https://pandas.pydata.org/\n",
    "2. Answer the visualization questions with any of the following libraries:\n",
    "    - Matplotlib (https://matplotlib.org/)\n",
    "    - Seaborn (https://seaborn.pydata.org/introduction.html)\n",
    "    - Bookeh (https://bokeh.pydata.org/en/latest/)"
   ]
  },
  {
   "cell_type": "code",
   "execution_count": 20,
   "metadata": {},
   "outputs": [],
   "source": [
    "import numpy as np\n",
    "import pandas as pd\n",
    "import matplotlib.pyplot as plt\n",
    "from matplotlib import style\n",
    "import seaborn as sns\n",
    "\n",
    "%matplotlib inline"
   ]
  },
  {
   "cell_type": "code",
   "execution_count": 21,
   "metadata": {},
   "outputs": [
    {
     "name": "stdout",
     "output_type": "stream",
     "text": [
      "         company       dates  current_employee country  \\\n",
      "0         google  2015-02-08              True      US   \n",
      "1         google  2018-12-09             False      US   \n",
      "2         google  2018-12-11              True      US   \n",
      "3         google  2018-12-10              True      US   \n",
      "4         google  2018-12-08              True      US   \n",
      "5         google  2018-12-03              True      US   \n",
      "6         google  2018-11-26              True      US   \n",
      "7         google  2018-11-29              True      US   \n",
      "8         google  2018-11-17              True      US   \n",
      "9         google  2018-12-09             False      US   \n",
      "10        google  2018-12-08              True      US   \n",
      "11        google  2018-11-20              True      US   \n",
      "12        google  2018-12-06              True      US   \n",
      "13        google  2018-11-21              True      US   \n",
      "14        google  2018-11-13              True      US   \n",
      "15        google  2018-11-19              True      US   \n",
      "16        google  2018-11-19              True      US   \n",
      "17        google  2018-11-19             False      US   \n",
      "18        google  2018-11-16              True      US   \n",
      "19        google  2018-11-09              True      US   \n",
      "20        google  2018-11-05             False      US   \n",
      "21        google  2018-11-19             False      US   \n",
      "22        google  2018-11-01              True      US   \n",
      "23        google  2018-11-04              True      US   \n",
      "24        google  2018-11-02              True      US   \n",
      "25        google  2018-11-01              True      US   \n",
      "26        google  2018-11-10              True      US   \n",
      "27        google  2018-10-21              True      US   \n",
      "28        google  2018-10-25              True      US   \n",
      "29        google  2018-10-25              True      US   \n",
      "...          ...         ...               ...     ...   \n",
      "28327  microsoft  2008-04-19              True      US   \n",
      "28328  microsoft  2008-04-18              True      US   \n",
      "28329  microsoft  2008-04-28             False      US   \n",
      "28330  microsoft  2008-04-20              True      US   \n",
      "28331  microsoft  2008-04-30              True      US   \n",
      "28332  microsoft  2008-05-03              True      US   \n",
      "28333  microsoft  2008-04-19              True      US   \n",
      "28334  microsoft  2008-05-01             False      US   \n",
      "28335  microsoft  2008-04-18              True      US   \n",
      "28336  microsoft  2008-05-03              True      US   \n",
      "28337  microsoft  2008-05-03              True      US   \n",
      "28338  microsoft  2008-04-25             False      US   \n",
      "28339  microsoft  2008-04-24             False      US   \n",
      "28340  microsoft  2008-04-24             False      US   \n",
      "28341  microsoft  2008-04-28              True      US   \n",
      "28342  microsoft  2008-04-24              True      US   \n",
      "28343  microsoft  2008-04-26              True      US   \n",
      "28344  microsoft  2008-04-24              True      US   \n",
      "28345  microsoft  2008-04-24              True      US   \n",
      "28346  microsoft  2008-04-24              True      US   \n",
      "28347  microsoft  2008-04-20             False      US   \n",
      "28348  microsoft  2008-04-19              True      US   \n",
      "28349  microsoft  2008-04-21              True      US   \n",
      "28350  microsoft  2008-04-26              True      US   \n",
      "28351  microsoft  2008-04-19              True      US   \n",
      "28352  microsoft  2008-04-16              True      US   \n",
      "28353  microsoft  2008-03-24              True      US   \n",
      "28354  microsoft  2008-04-03              True      US   \n",
      "28355  microsoft  2008-02-27              True      US   \n",
      "28356  microsoft  2008-02-27              True      US   \n",
      "\n",
      "                                          job_title  overall_ratings  \\\n",
      "0                                Anonymous Employee              5.0   \n",
      "1                                              SDE2              5.0   \n",
      "2                                 Software Engineer              5.0   \n",
      "3                                Anonymous Employee              5.0   \n",
      "4                                Anonymous Employee              5.0   \n",
      "5                          Sales Operations Analyst              5.0   \n",
      "6                                          Designer              5.0   \n",
      "7                                  Staff Accountant              5.0   \n",
      "8                                 Program Manager I              5.0   \n",
      "9                                   Senior Director              3.0   \n",
      "10                     Software Engineering Manager              4.0   \n",
      "11                                Google Specialist              5.0   \n",
      "12                               Anonymous Employee              4.0   \n",
      "13                               Anonymous Employee              5.0   \n",
      "14                          Staff Software Engineer              5.0   \n",
      "15                                  Program Manager              5.0   \n",
      "16                                Software Engineer              5.0   \n",
      "17                     Associate Account Strategist              5.0   \n",
      "18                               Anonymous Employee              3.0   \n",
      "19                                Software Engineer              5.0   \n",
      "20                               Anonymous Employee              5.0   \n",
      "21                                 Legal Specialist              4.0   \n",
      "22                               Anonymous Employee              5.0   \n",
      "23                        Product Marketing Manager              5.0   \n",
      "24                                Software Engineer              5.0   \n",
      "25                               Front End Engineer              5.0   \n",
      "26                         Senior Software Engineer              4.0   \n",
      "27                                            Video              5.0   \n",
      "28                         Senior Software Engineer              5.0   \n",
      "29                                Product Marketing              5.0   \n",
      "...                                             ...              ...   \n",
      "28327           Principal Development Engineer Lead              5.0   \n",
      "28328                                    Consultant              5.0   \n",
      "28329                              Industry Manager              2.0   \n",
      "28330                               Program Manager              5.0   \n",
      "28331                               Product Manager              NaN   \n",
      "28332          Senior Software Development Engineer              4.0   \n",
      "28333                               General Manager              5.0   \n",
      "28334                               Program Manager              4.0   \n",
      "28335                               Project Manager              5.0   \n",
      "28336                 Software Development Engineer              4.0   \n",
      "28337                 Software Development Engineer              4.0   \n",
      "28338                    User Experience Researcher              3.0   \n",
      "28339              Marketing Communications Manager              NaN   \n",
      "28340                 Software Development Engineer              2.0   \n",
      "28341          Senior Software Development Engineer              NaN   \n",
      "28342                                        Editor              3.0   \n",
      "28343                 Software Development Engineer              4.0   \n",
      "28344                               Project Manager              3.0   \n",
      "28345                          Lead Program Manager              4.0   \n",
      "28346                               Product Manager              4.0   \n",
      "28347                                 Group Manager              2.0   \n",
      "28348                               Program Manager              3.0   \n",
      "28349                                 Federal Sales              4.0   \n",
      "28350  Software Development Engineer In Test (SDET)              4.0   \n",
      "28351    Senior Account Technology Specialist (ATS)              2.0   \n",
      "28352                        Premier Field Engineer              4.0   \n",
      "28353                 Software Development Engineer              5.0   \n",
      "28354                        Senior Product Manager              3.0   \n",
      "28355                             Account Executive              5.0   \n",
      "28356                     Technical Account Manager              5.0   \n",
      "\n",
      "       work_balance_stars  culture_values_stars  career_opportunities_stars  \\\n",
      "0                     2.0                   5.0                         5.0   \n",
      "1                     4.0                   4.0                         4.0   \n",
      "2                     5.0                   4.0                         4.0   \n",
      "3                     5.0                   5.0                         5.0   \n",
      "4                     4.0                   5.0                         4.0   \n",
      "5                     5.0                   5.0                         5.0   \n",
      "6                     3.0                   4.0                         3.0   \n",
      "7                     5.0                   5.0                         5.0   \n",
      "8                     5.0                   5.0                         5.0   \n",
      "9                     4.0                   5.0                         5.0   \n",
      "10                    5.0                   5.0                         4.0   \n",
      "11                    3.0                   4.0                         4.0   \n",
      "12                    4.0                   3.0                         3.0   \n",
      "13                    3.0                   5.0                         5.0   \n",
      "14                    4.0                   4.0                         5.0   \n",
      "15                    5.0                   3.0                         5.0   \n",
      "16                    5.0                   5.0                         4.0   \n",
      "17                    4.0                   4.0                         5.0   \n",
      "18                    2.0                   1.0                         2.0   \n",
      "19                    5.0                   5.0                         5.0   \n",
      "20                    2.0                   2.0                         4.0   \n",
      "21                    5.0                   5.0                         3.0   \n",
      "22                    5.0                   3.0                         5.0   \n",
      "23                    4.0                   5.0                         5.0   \n",
      "24                    5.0                   5.0                         5.0   \n",
      "25                    4.0                   5.0                         5.0   \n",
      "26                    5.0                   4.0                         4.0   \n",
      "27                    4.0                   5.0                         5.0   \n",
      "28                    5.0                   5.0                         5.0   \n",
      "29                    3.0                   3.0                         4.0   \n",
      "...                   ...                   ...                         ...   \n",
      "28327                 5.0                   NaN                         5.0   \n",
      "28328                 5.0                   NaN                         5.0   \n",
      "28329                 2.5                   NaN                         2.5   \n",
      "28330                 5.0                   NaN                         5.0   \n",
      "28331                 2.0                   4.5                         NaN   \n",
      "28332                 5.0                   NaN                         4.5   \n",
      "28333                 5.0                   NaN                         5.0   \n",
      "28334                 4.0                   NaN                         5.0   \n",
      "28335                 5.0                   NaN                         5.0   \n",
      "28336                 4.0                   NaN                         4.0   \n",
      "28337                 4.0                   NaN                         4.0   \n",
      "28338                 3.5                   NaN                         3.0   \n",
      "28339                 4.0                   4.0                         NaN   \n",
      "28340                 3.5                   NaN                         3.0   \n",
      "28341                 NaN                   NaN                         4.0   \n",
      "28342                 3.5                   NaN                         3.0   \n",
      "28343                 4.0                   NaN                         4.5   \n",
      "28344                 5.0                   NaN                         1.0   \n",
      "28345                 4.5                   NaN                         4.0   \n",
      "28346                 4.0                   NaN                         3.5   \n",
      "28347                 4.0                   NaN                         1.5   \n",
      "28348                 3.5                   NaN                         3.5   \n",
      "28349                 3.0                   NaN                         5.0   \n",
      "28350                 4.0                   NaN                         5.0   \n",
      "28351                 1.5                   NaN                         2.5   \n",
      "28352                 3.5                   NaN                         4.0   \n",
      "28353                 4.5                   NaN                         5.0   \n",
      "28354                 4.0                   NaN                         4.0   \n",
      "28355                 4.5                   NaN                         5.0   \n",
      "28356                 5.0                   NaN                         5.0   \n",
      "\n",
      "       comp_benefit_stars  senior_management_stars  helpful_count  \\\n",
      "0                     4.0                      5.0          498.0   \n",
      "1                     5.0                      4.0            1.0   \n",
      "2                     5.0                      4.0            0.0   \n",
      "3                     5.0                      5.0            0.0   \n",
      "4                     4.0                      3.0            0.0   \n",
      "5                     4.0                      4.0            1.0   \n",
      "6                     4.0                      5.0            2.0   \n",
      "7                     5.0                      5.0            0.0   \n",
      "8                     5.0                      5.0            3.0   \n",
      "9                     5.0                      5.0            0.0   \n",
      "10                    4.0                      4.0            0.0   \n",
      "11                    5.0                      4.0            1.0   \n",
      "12                    4.0                      3.0            0.0   \n",
      "13                    5.0                      4.0            0.0   \n",
      "14                    5.0                      3.0            2.0   \n",
      "15                    4.0                      5.0            0.0   \n",
      "16                    4.0                      4.0            0.0   \n",
      "17                    5.0                      2.0            0.0   \n",
      "18                    5.0                      2.0            8.0   \n",
      "19                    5.0                      5.0            1.0   \n",
      "20                    4.0                      3.0            0.0   \n",
      "21                    5.0                      4.0            0.0   \n",
      "22                    5.0                      4.0            1.0   \n",
      "23                    5.0                      4.0            0.0   \n",
      "24                    5.0                      4.0            0.0   \n",
      "25                    5.0                      4.0            0.0   \n",
      "26                    4.0                      4.0            1.0   \n",
      "27                    5.0                      4.0            2.0   \n",
      "28                    5.0                      5.0            0.0   \n",
      "29                    5.0                      4.0            0.0   \n",
      "...                   ...                      ...            ...   \n",
      "28327                 4.5                      4.5            1.0   \n",
      "28328                 5.0                      5.0            1.0   \n",
      "28329                 3.0                      2.0            2.0   \n",
      "28330                 5.0                      5.0            1.0   \n",
      "28331                 3.5                      3.5            1.0   \n",
      "28332                 4.5                      4.0            0.0   \n",
      "28333                 5.0                      5.0            1.0   \n",
      "28334                 4.0                      3.5            0.0   \n",
      "28335                 5.0                      4.5            1.0   \n",
      "28336                 4.0                      4.0            0.0   \n",
      "28337                 4.0                      4.0            0.0   \n",
      "28338                 3.0                      2.0            1.0   \n",
      "28339                 5.0                      5.0            4.0   \n",
      "28340                 3.5                      1.5            2.0   \n",
      "28341                 5.0                      NaN            4.0   \n",
      "28342                 4.5                      2.0            0.0   \n",
      "28343                 4.5                      3.0            0.0   \n",
      "28344                 3.5                      3.0            0.0   \n",
      "28345                 3.5                      3.5            0.0   \n",
      "28346                 1.5                      2.0            0.0   \n",
      "28347                 3.5                      1.0            1.0   \n",
      "28348                 3.5                      3.0            1.0   \n",
      "28349                 5.0                      5.0            0.0   \n",
      "28350                 4.0                      4.0            0.0   \n",
      "28351                 3.5                      3.0            1.0   \n",
      "28352                 4.5                      4.0            0.0   \n",
      "28353                 4.5                      4.0            2.0   \n",
      "28354                 4.0                      4.0            0.0   \n",
      "28355                 4.0                      4.0            1.0   \n",
      "28356                 5.0                      5.0            0.0   \n",
      "\n",
      "                city state  \n",
      "0      Mountain View    CA  \n",
      "1      Mountain View    CA  \n",
      "2           New York    NY  \n",
      "3           New York    NY  \n",
      "4      Mountain View    CA  \n",
      "5      San Francisco    CA  \n",
      "6           New York    NY  \n",
      "7        Los Angeles    CA  \n",
      "8      San Francisco    CA  \n",
      "9      Mountain View    CA  \n",
      "10     Mountain View    CA  \n",
      "11          Dearborn    MI  \n",
      "12          New York    NY  \n",
      "13         Sunnyvale    CA  \n",
      "14           Seattle    WA  \n",
      "15          New York    NY  \n",
      "16         Sunnyvale    CA  \n",
      "17         Ann Arbor    MI  \n",
      "18     Mountain View    CA  \n",
      "19     Mountain View    CA  \n",
      "20          New York    NY  \n",
      "21     Mountain View    CA  \n",
      "22     Mountain View    CA  \n",
      "23     San Francisco    CA  \n",
      "24     Mountain View    CA  \n",
      "25        Pittsburgh    PA  \n",
      "26     Mountain View    CA  \n",
      "27     Mountain View    CA  \n",
      "28          New York    NY  \n",
      "29           Boulder    CO  \n",
      "...              ...   ...  \n",
      "28327        Redmond    WA  \n",
      "28328        Atlanta    GA  \n",
      "28329        Redmond    WA  \n",
      "28330        Redmond    WA  \n",
      "28331        Redmond    WA  \n",
      "28332        Redmond    WA  \n",
      "28333        Redmond    WA  \n",
      "28334        Redmond    WA  \n",
      "28335        Redmond    WA  \n",
      "28336        Redmond    WA  \n",
      "28337        Redmond    WA  \n",
      "28338        Redmond    WA  \n",
      "28339        Redmond    WA  \n",
      "28340        Redmond    WA  \n",
      "28341        Redmond    WA  \n",
      "28342        Redmond    WA  \n",
      "28343        Redmond    WA  \n",
      "28344          Fargo    ND  \n",
      "28345        Redmond    WA  \n",
      "28346        Redmond    WA  \n",
      "28347       Bellevue    WA  \n",
      "28348        Redmond    WA  \n",
      "28349      Charlotte    NC  \n",
      "28350        Redmond    WA  \n",
      "28351        Waltham    MA  \n",
      "28352  San Francisco    CA  \n",
      "28353  San Francisco    CA  \n",
      "28354  San Francisco    CA  \n",
      "28355  San Francisco    CA  \n",
      "28356  San Francisco    CA  \n",
      "\n",
      "[28357 rows x 14 columns]\n",
      "<class 'pandas.core.frame.DataFrame'>\n",
      "RangeIndex: 28357 entries, 0 to 28356\n",
      "Data columns (total 14 columns):\n",
      "company                       28357 non-null object\n",
      "dates                         28357 non-null object\n",
      "current_employee              28357 non-null bool\n",
      "country                       28357 non-null object\n",
      "job_title                     28357 non-null object\n",
      "overall_ratings               27779 non-null float32\n",
      "work_balance_stars            26993 non-null float32\n",
      "culture_values_stars          23298 non-null float32\n",
      "career_opportunities_stars    27153 non-null float32\n",
      "comp_benefit_stars            27235 non-null float32\n",
      "senior_management_stars       27031 non-null float32\n",
      "helpful_count                 28311 non-null float64\n",
      "city                          28357 non-null object\n",
      "state                         28357 non-null object\n",
      "dtypes: bool(1), float32(6), float64(1), object(6)\n",
      "memory usage: 2.2+ MB\n",
      "None\n"
     ]
    }
   ],
   "source": [
    "reviews_pd_df = cleaned_reviews_df.toPandas()\n",
    "print(reviews_pd_df)\n",
    "print(reviews_pd_df.info())"
   ]
  },
  {
   "cell_type": "code",
   "execution_count": null,
   "metadata": {},
   "outputs": [],
   "source": []
  },
  {
   "cell_type": "markdown",
   "metadata": {},
   "source": [
    "### Plot the distributions of reviews for each company (current and former employees) \n",
    "- Hint: A Seaborn factorplot will work nicely here\n",
    "    - https://kite.com/python/docs/seaborn.factorplot\n",
    "    "
   ]
  },
  {
   "cell_type": "code",
   "execution_count": 22,
   "metadata": {
    "scrolled": true
   },
   "outputs": [
    {
     "name": "stderr",
     "output_type": "stream",
     "text": [
      "/home/ayla/miniconda3/lib/python3.7/site-packages/seaborn/categorical.py:3666: UserWarning: The `factorplot` function has been renamed to `catplot`. The original name will be removed in a future release. Please update your code. Note that the default `kind` in `factorplot` (`'point'`) has changed `'strip'` in `catplot`.\n",
      "  warnings.warn(msg)\n",
      "/home/ayla/miniconda3/lib/python3.7/site-packages/seaborn/categorical.py:3672: UserWarning: The `size` paramter has been renamed to `height`; please update your code.\n",
      "  warnings.warn(msg, UserWarning)\n"
     ]
    },
    {
     "data": {
      "image/png": "[encoded data removed]",
      "text/plain": [
       "<Figure size 738.955x288 with 1 Axes>"
      ]
     },
     "metadata": {
      "needs_background": "light"
     },
     "output_type": "display_data"
    }
   ],
   "source": [
    "sns.set_context(\"paper\", font_scale=2)\n",
    "plot = sns.factorplot(x=\"company\", y=None, hue=\"current_employee\", kind=\"count\",\n",
    "                         data=reviews_pd_df, palette=\"deep\", size=4, aspect=2, legend_out=True)"
   ]
  },
  {
   "cell_type": "code",
   "execution_count": null,
   "metadata": {},
   "outputs": [],
   "source": []
  },
  {
   "cell_type": "markdown",
   "metadata": {},
   "source": [
    "### Plot the distributions of reviews for each company (current and former employees) and their overall ratings\n",
    "- Hint: A Seaborn factorplot will work nicely here\n",
    "    - https://kite.com/python/docs/seaborn.factorplot"
   ]
  },
  {
   "cell_type": "code",
   "execution_count": 23,
   "metadata": {},
   "outputs": [
    {
     "name": "stderr",
     "output_type": "stream",
     "text": [
      "/home/ayla/miniconda3/lib/python3.7/site-packages/seaborn/categorical.py:3666: UserWarning: The `factorplot` function has been renamed to `catplot`. The original name will be removed in a future release. Please update your code. Note that the default `kind` in `factorplot` (`'point'`) has changed `'strip'` in `catplot`.\n",
      "  warnings.warn(msg)\n",
      "/home/ayla/miniconda3/lib/python3.7/site-packages/seaborn/categorical.py:3672: UserWarning: The `size` paramter has been renamed to `height`; please update your code.\n",
      "  warnings.warn(msg, UserWarning)\n",
      "/home/ayla/miniconda3/lib/python3.7/site-packages/scipy/stats/stats.py:1713: FutureWarning: Using a non-tuple sequence for multidimensional indexing is deprecated; use `arr[tuple(seq)]` instead of `arr[seq]`. In the future this will be interpreted as an array index, `arr[np.array(seq)]`, which will result either in an error or a different result.\n",
      "  return np.add.reduce(sorted[indexer] * weights, axis=axis) / sumval\n"
     ]
    },
    {
     "data": {
      "image/png": "[encoded data removed]",
      "text/plain": [
       "<Figure size 1026.96x288 with 1 Axes>"
      ]
     },
     "metadata": {
      "needs_background": "light"
     },
     "output_type": "display_data"
    }
   ],
   "source": [
    "sns.set_context(\"paper\", font_scale=2)\n",
    "plot = sns.factorplot(x=\"company\", y=\"overall_ratings\", hue=\"current_employee\", kind=\"bar\",\n",
    "                         data=reviews_pd_df, palette=\"deep\", size=4, aspect=3, legend_out=True)"
   ]
  },
  {
   "cell_type": "code",
   "execution_count": 24,
   "metadata": {
    "scrolled": true
   },
   "outputs": [
    {
     "name": "stderr",
     "output_type": "stream",
     "text": [
      "/home/ayla/miniconda3/lib/python3.7/site-packages/scipy/stats/stats.py:1713: FutureWarning: Using a non-tuple sequence for multidimensional indexing is deprecated; use `arr[tuple(seq)]` instead of `arr[seq]`. In the future this will be interpreted as an array index, `arr[np.array(seq)]`, which will result either in an error or a different result.\n",
      "  return np.add.reduce(sorted[indexer] * weights, axis=axis) / sumval\n"
     ]
    },
    {
     "data": {
      "text/plain": [
       "<seaborn.axisgrid.FacetGrid at 0x7f98c59905f8>"
      ]
     },
     "execution_count": 24,
     "metadata": {},
     "output_type": "execute_result"
    },
    {
     "data": {
      "image/png": "[encoded data removed]",
      "text/plain": [
       "<Figure size 1026.96x288 with 1 Axes>"
      ]
     },
     "metadata": {
      "needs_background": "light"
     },
     "output_type": "display_data"
    }
   ],
   "source": [
    "# try catplot also\n",
    "\n",
    "sns.set_context(\"paper\", font_scale=2)\n",
    "sns.catplot(x=\"company\", y=\"overall_ratings\", hue=\"current_employee\", kind=\"bar\",\n",
    "            data=reviews_pd_df, palette=\"deep\", height=4, aspect=3, legend_out=True)"
   ]
  },
  {
   "cell_type": "code",
   "execution_count": 25,
   "metadata": {},
   "outputs": [
    {
     "data": {
      "image/png": "[encoded data removed]",
      "text/plain": [
       "<Figure size 864x576 with 1 Axes>"
      ]
     },
     "metadata": {
      "needs_background": "light"
     },
     "output_type": "display_data"
    }
   ],
   "source": [
    "# what does the box plot look like?\n",
    "\n",
    "sns.set_context(\"paper\", font_scale=2)\n",
    "plt.figure(figsize=(12, 8))\n",
    "sns.boxplot(x=\"company\", y=\"overall_ratings\", hue=\"current_employee\", data=reviews_pd_df, palette=\"deep\")\n",
    "\n",
    "plot_legend = plt.legend(loc=\"lower right\")\n",
    "plot_legend.get_texts()[0].set_text('former employee')\n",
    "plot_legend.get_texts()[1].set_text('current employee')"
   ]
  },
  {
   "cell_type": "code",
   "execution_count": 26,
   "metadata": {
    "scrolled": true
   },
   "outputs": [
    {
     "data": {
      "image/png": "[encoded data removed]",
      "text/plain": [
       "<Figure size 864x576 with 1 Axes>"
      ]
     },
     "metadata": {
      "needs_background": "light"
     },
     "output_type": "display_data"
    }
   ],
   "source": [
    "# what does the box plot look like for work balance?\n",
    "\n",
    "sns.set_context(\"paper\", font_scale=2)\n",
    "plt.figure(figsize=(12, 8))\n",
    "sns.boxplot(x=\"company\", y=\"work_balance_stars\", hue=\"current_employee\", data=reviews_pd_df, palette=\"deep\")\n",
    "\n",
    "plot_legend = plt.legend(loc=\"lower right\")\n",
    "plot_legend.get_texts()[0].set_text('former employee')\n",
    "plot_legend.get_texts()[1].set_text('current employee')"
   ]
  },
  {
   "cell_type": "markdown",
   "metadata": {},
   "source": [
    "# Lessons Learned\n",
    "- Please feel free to let us know anything you want in this section about the test, what you learned, liked, didn't like, etc"
   ]
  },
  {
   "cell_type": "markdown",
   "metadata": {},
   "source": [
    "1. I think it's more intuitive to reason about data in SQL, but as an engineer I tend to gravitate more towards writing pyspark functions.\n",
    "\n",
    "2. Deciding to handle null values or not is a complicated question with this kind of data. Simply filling in zeros implies that a company got a bad review. Since pyspark handles nulls gracefully, it seemed reasonable to check for NaN values and leave the null values alone.\n",
    "\n",
    "3. Converting the ratings columns to numeric types during the initial cleanup was easier than doing the casting in Pandas."
   ]
  }
 ],
 "metadata": {
  "kernelspec": {
   "display_name": "Python 3",
   "language": "python",
   "name": "python3"
  },
  "language_info": {
   "codemirror_mode": {
    "name": "ipython",
    "version": 3
   },
   "file_extension": ".py",
   "mimetype": "text/x-python",
   "name": "python",
   "nbconvert_exporter": "python",
   "pygments_lexer": "ipython3",
   "version": "3.7.2"
  }
 },
 "nbformat": 4,
 "nbformat_minor": 2
}
