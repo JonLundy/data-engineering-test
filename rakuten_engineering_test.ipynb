{
 "cells": [
  {
   "cell_type": "markdown",
   "metadata": {},
   "source": [
    "# Rakuten USA - Data Engineering Test\n",
    "\n",
    "### Goal\n",
    "The goal of this test is not ment to be exhaustive, but we do want to test your skills in analytical thinking, SQL, data wrangling, data analysis, and data visualization.\n",
    "\n",
    "### Expectations\n",
    "You can expect this test to use the following technologies:\n",
    "- Python3\n",
    "- Jupyter Notebook\n",
    "- PySpark\n",
    "- PySpark SQL\n",
    "\n",
    "This test will cover the following areas: \n",
    "- Data cleaning/wrangling\n",
    "- Exploratory Data Analysis (EDA)\n",
    "- Data Visualization (Bonus)\n",
    "- Lessons learned\n",
    "\n",
    "This test should take you no more than 2-4 hours.\n",
    "\n",
    "### What do you need to turn in, and what should I turn in?\n",
    "Please email stirling.waite@rakuten with your finished notebook\n",
    "- rakuten_engineering_test.ipynb\n",
    " \n",
    "### Questions?\n",
    "Feel free to email me or call me with any questions about this test\n",
    "- stirling.waite@rakuten.com\n",
    "- 801-856-1426"
   ]
  },
  {
   "cell_type": "code",
   "execution_count": null,
   "metadata": {},
   "outputs": [],
   "source": []
  },
  {
   "cell_type": "code",
   "execution_count": null,
   "metadata": {},
   "outputs": [],
   "source": []
  },
  {
   "cell_type": "markdown",
   "metadata": {},
   "source": [
    "# About The Dataset\n",
    "\n",
    "Below you will find a free Kaggle competition dataset from https://www.kaggle.com/mayank811/employee-reviews/data using scraped data from Glassdoor.com.\n",
    "\n",
    "## Context\n",
    "- Over 67k employee reviews for Google, Amazon, Facebook, Apple, Microsoft, and Netflix.\n",
    "- Web scraped from Glassdoor\n",
    "\n",
    "## Content\n",
    "This dataset contains employee reviews separated into the following categories:\n",
    "\n",
    "- **Index:** index\n",
    "- **Company:** Company name\n",
    "- **Location:** This dataset is global, as such it may include the country's name in parenthesis [i.e \"Toronto, ON(Canada)\"]. However, if the location is in the USA then it will only include the city and state[i.e \"Los Angeles, CA\" ]\n",
    "- **Date Posted:** in the following format MM DD, YYYY\n",
    "- **Job-Title:** This string will also include whether the reviewer is a 'Current' or 'Former' Employee at the time of the review\n",
    "- **Summary:** Short summary of employee review\n",
    "- **Pros:** Pros\n",
    "- **Cons:** Cons\n",
    "- **Overall Rating:** 1-5\n",
    "- **Work/Life Balance Rating:** 1-5\n",
    "- **Culture and Values Rating:** 1-5\n",
    "- **Career Opportunities Rating:** 1-5\n",
    "- **Comp & Benefits Rating:** 1-5\n",
    "- **Senior Management Rating:** 1-5\n",
    "- **Helpful Review Count:** 1-5\n",
    "\n",
    "**Link to Review:** This will provide you with a direct link to the page that contains the review. However it is likely that this link will be outdated\n",
    "\n",
    "**NOTE:** 'none' is placed in all cells where no data value was found.\n",
    "\n"
   ]
  },
  {
   "cell_type": "code",
   "execution_count": null,
   "metadata": {},
   "outputs": [],
   "source": []
  },
  {
   "cell_type": "code",
   "execution_count": null,
   "metadata": {},
   "outputs": [],
   "source": []
  },
  {
   "cell_type": "markdown",
   "metadata": {},
   "source": [
    "# PySpark Initialization"
   ]
  },
  {
   "cell_type": "code",
   "execution_count": 1,
   "metadata": {},
   "outputs": [],
   "source": [
    "import re\n",
    "import pyspark\n",
    "from pyspark import SparkConf, SparkContext, SQLContext\n",
    "from pyspark.sql import SparkSession, Row\n",
    "from pyspark.sql.functions import *\n",
    "from pyspark.sql import functions as fn\n",
    "from pyspark.sql import types as t\n",
    "from pyspark.sql.types import *\n",
    "from datetime import datetime"
   ]
  },
  {
   "cell_type": "code",
   "execution_count": 2,
   "metadata": {},
   "outputs": [],
   "source": [
    "conf = SparkConf()\\\n",
    "                .setMaster(\"local[*]\")\\\n",
    "                .setAppName(\"rakutenHomework\")\n",
    "        \n",
    "sc = SparkContext(conf=conf)\n",
    "sc.setLogLevel(\"ERROR\")\n",
    "sqlContext = SQLContext(sc)\n",
    "spark = SparkSession.builder.appName(\"spark play\").getOrCreate()"
   ]
  },
  {
   "cell_type": "markdown",
   "metadata": {},
   "source": [
    "## Read Dataset into Spark"
   ]
  },
  {
   "cell_type": "code",
   "execution_count": 40,
   "metadata": {},
   "outputs": [
    {
     "name": "stdout",
     "output_type": "stream",
     "text": [
      "27779\n",
      "+---+-------+-----------------+-------------+--------------------+--------------------+--------------------+--------------------+--------------------+---------------+------------------+--------------------+--------------------------+------------------+----------------------+-------------+--------------------+\n",
      "|_c0|company|         location|        dates|           job_title|             summary|                pros|                cons|      advice_to_mgmt|overall_ratings|work_balance_stars|culture_values_stars|carrer_opportunities_stars|comp_benefit_stars|senior_mangemnet_stars|helpful_count|                link|\n",
      "+---+-------+-----------------+-------------+--------------------+--------------------+--------------------+--------------------+--------------------+---------------+------------------+--------------------+--------------------------+------------------+----------------------+-------------+--------------------+\n",
      "|  0| google|Mountain View, CA|  Feb 8, 2015|Current Employee ...|The best place I'...|You can't find a ...|I live in SF so t...|Keep on NOT micro...|            5.0|               2.0|                 5.0|                       5.0|               4.0|                   5.0|          498|https://www.glass...|\n",
      "|  1| google|Mountain View, CA|  Dec 9, 2018|Former Employee -...|NICE working in G...|People are not th...|Food is not good ...|                none|            5.0|               4.0|                 4.0|                       4.0|               5.0|                   4.0|            1|https://www.glass...|\n",
      "|  2| google|     New York, NY| Dec 11, 2018|Current Employee ...|   Software engineer|Great working env...|Usual big company...|                none|            5.0|               5.0|                 4.0|                       4.0|               5.0|                   4.0|            0|https://www.glass...|\n",
      "|  3| google|     New York, NY| Dec 10, 2018|Current Employee ...|Google Surpasses ...|Great products. V...|Younger employees...|                none|            5.0|               5.0|                 5.0|                       5.0|               5.0|                   5.0|            0|https://www.glass...|\n",
      "|  4| google|Mountain View, CA|  Dec 8, 2018|Current Employee ...|  Nice place to work|* Smart people * ...|Giant company wit...|                none|            5.0|               4.0|                 5.0|                       4.0|               4.0|                   3.0|            0|https://www.glass...|\n",
      "|  5| google|San Francisco, CA|  Dec 3, 2018|Current Employee ...|Still the best pl...|Amazing company. ...|Size, which limit...|                none|            5.0|               5.0|                 5.0|                       5.0|               4.0|                   4.0|            1|https://www.glass...|\n",
      "|  6| google|     New York, NY| Nov 26, 2018|Current Employee ...|Great, but great ...|Great team and su...|Lots of bureaucra...|                none|            5.0|               3.0|                 4.0|                       3.0|               4.0|                   5.0|            2|https://www.glass...|\n",
      "|  7| google|  Los Angeles, CA| Nov 29, 2018|Current Employee ...|          Accountant|I like and learne...|High clerical wor...|Management and Fi...|            5.0|               5.0|                 5.0|                       5.0|               5.0|                   5.0|            0|https://www.glass...|\n",
      "|  8| google|San Francisco, CA| Nov 17, 2018|Current Employee ...|Not perfect, but ...|- A company cultu...|- A company with ...|- Just because a ...|            5.0|               5.0|                 5.0|                       5.0|               5.0|                   5.0|            3|https://www.glass...|\n",
      "|  9| google|Mountain View, CA|  Dec 9, 2018|Former Employee -...|     Senior Director|So many brilliant...|Becoming highly b...|                none|            3.0|               4.0|                 5.0|                       5.0|               5.0|                   5.0|            0|https://www.glass...|\n",
      "| 10| google|Mountain View, CA|  Dec 8, 2018|Current Employee ...|Google is still t...|Great place to wo...|Large company iss...|                none|            4.0|               5.0|                 5.0|                       4.0|               4.0|                   4.0|            0|https://www.glass...|\n",
      "| 11| google|     Dearborn, MI| Nov 20, 2018|Current Employee ...|              Google|Google is one of ...|You have to work ...|                none|            5.0|               3.0|                 4.0|                       4.0|               5.0|                   4.0|            1|https://www.glass...|\n",
      "| 12| google|     New York, NY|  Dec 6, 2018|Current Employee ...|   Good compensation|Better than avera...|Big and beurocrat...|                none|            4.0|               4.0|                 3.0|                       3.0|               4.0|                   3.0|            0|https://www.glass...|\n",
      "| 13| google|    Sunnyvale, CA| Nov 21, 2018|Current Employee ...|    Best of the best|The best company ...|Set hours for bre...|                none|            5.0|               3.0|                 5.0|                       5.0|               5.0|                   4.0|            0|https://www.glass...|\n",
      "| 14| google|      Seattle, WA| Nov 13, 2018|Current Employee ...|        Hard to beat|Amazing compensat...|Growing pains as ...|                none|            5.0|               4.0|                 4.0|                       5.0|               5.0|                   3.0|            2|https://www.glass...|\n",
      "| 15| google|     New York, NY| Nov 19, 2018|Current Employee ...| Great place to work|Ambitious mission...|Everyone is eager...|                none|            5.0|               5.0|                 3.0|                       5.0|               4.0|                   5.0|            0|https://www.glass...|\n",
      "| 16| google|    Sunnyvale, CA| Nov 19, 2018|Current Employee ...|Positive Experiences|Good opportunitie...|Difficult to adva...|                none|            5.0|               5.0|                 5.0|                       4.0|               4.0|                   4.0|            0|https://www.glass...|\n",
      "| 17| google|    Ann Arbor, MI| Nov 19, 2018|Former Employee -...|Make sure you kno...|Employees, food, ...|Company has becom...|Stop putting peop...|            5.0|               4.0|                 4.0|                       5.0|               5.0|                   2.0|            0|https://www.glass...|\n",
      "| 18| google|Mountain View, CA| Nov 16, 2018|Current Employee ...|                 meh|Pays really well ...|Google wants 60-h...|Add ethics to the...|            3.0|               2.0|                 1.0|                       2.0|               5.0|                   2.0|            8|https://www.glass...|\n",
      "| 19| google|Mountain View, CA|  Nov 9, 2018|Current Employee ...| Best Job I Ever Had|Amazing and talen...|All the perks mak...|                none|            5.0|               5.0|                 5.0|                       5.0|               5.0|                   5.0|            1|https://www.glass...|\n",
      "+---+-------+-----------------+-------------+--------------------+--------------------+--------------------+--------------------+--------------------+---------------+------------------+--------------------+--------------------------+------------------+----------------------+-------------+--------------------+\n",
      "only showing top 20 rows\n",
      "\n"
     ]
    }
   ],
   "source": [
    "reviews_df = spark.read.csv(\"employee_reviews_usa.csv\", header=True, mode=\"DROPMALFORMED\", inferSchema='true', encoding=\"utf-8\")\n",
    "print(reviews_df.count())\n",
    "reviews_df.show()"
   ]
  },
  {
   "cell_type": "code",
   "execution_count": 41,
   "metadata": {},
   "outputs": [],
   "source": []
  },
  {
   "cell_type": "code",
   "execution_count": 42,
   "metadata": {},
   "outputs": [],
   "source": []
  },
  {
   "cell_type": "markdown",
   "metadata": {},
   "source": [
    "# Data Cleaning & Removing Un-Needed Columns\n",
    "\n",
    "No one likes dirty data.  Let's clean up this dataset to make it more usable for our use case.\n",
    "\n",
    " \n",
    "1. Make the date field more data friendly\n",
    "    - Hint #1: Use the provided `review_date_udf` udf provided (it will make your life more simple) \n",
    "2. Using the \"location\" column \n",
    "    - Add new columns for city, state, country columns\n",
    "        - Hint #1: If location is not in US it will show as Toronto, ON(Canada)\n",
    "        - Hint #2: Use something like the following to input the `country` column\n",
    "            - ```lit(\"US\").alias(\"country\")```\n",
    "3. Using the \"job-title\" column  \n",
    "    - Add a new boolean column titled \"current_employee\" that will show:\n",
    "        - 1,  if reviewer is a current employee\n",
    "        - 0,  if reviewer is not a current employee\n",
    "    - Remove \"Former Employee - \" and \"\" from the \"job-title\" column\n",
    "        - Hint: Use the udf function `reg_job_title_udf`\n",
    "4. Drop un-needed columns \n",
    "    - \"_c0\", \"link\", \"pros\", \"cons\", \"advice-to-mgmt\", \"summary\", \"location\""
   ]
  },
  {
   "cell_type": "markdown",
   "metadata": {},
   "source": [
    "##### Useful UDF functions needed for below"
   ]
  },
  {
   "cell_type": "code",
   "execution_count": 43,
   "metadata": {},
   "outputs": [],
   "source": [
    "review_date_udf = fn.udf(\n",
    "    lambda x: datetime.strptime(x, ' %b %d, %Y'), DateType()\n",
    ")"
   ]
  },
  {
   "cell_type": "code",
   "execution_count": 44,
   "metadata": {},
   "outputs": [],
   "source": [
    "def reg_job_title(column):\n",
    "    res_split=[]\n",
    "    reg_patterns=[\"Former Employee - / \", \"Current Employee - / \"]\n",
    "    for i in range(len(reg_patterns)):\n",
    "        res_split=re.findall(r\"[^/]+\",reg_patterns[i])\n",
    "        for x in res_split[0].split(\"|\"):\n",
    "            column = column.replace(x,res_split[1])\n",
    "    return column[1:]\n",
    "\n",
    "reg_job_title_udf = fn.udf(reg_job_title, t.StringType())"
   ]
  },
  {
   "cell_type": "code",
   "execution_count": 54,
   "metadata": {},
   "outputs": [
    {
     "name": "stdout",
     "output_type": "stream",
     "text": [
      "+-------+-------------+-----+-------+-----------+--------------------+----------------+---------------+------------------+--------------------+--------------------------+------------------+----------------------+-------------+\n",
      "|company|         city|state|country|review_date|           job_title|current_employee|overall_ratings|work_balance_stars|culture_values_stars|carrer_opportunities_stars|comp_benefit_stars|senior_mangemnet_stars|helpful_count|\n",
      "+-------+-------------+-----+-------+-----------+--------------------+----------------+---------------+------------------+--------------------+--------------------------+------------------+----------------------+-------------+\n",
      "| google|Mountain View|   CA|     US| 2015-02-08|  Anonymous Employee|               1|            5.0|               2.0|                 5.0|                       5.0|               4.0|                   5.0|          498|\n",
      "| google|Mountain View|   CA|     US| 2018-12-09|                SDE2|               0|            5.0|               4.0|                 4.0|                       4.0|               5.0|                   4.0|            1|\n",
      "| google|     New York|   NY|     US| 2018-12-11|   Software Engineer|               1|            5.0|               5.0|                 4.0|                       4.0|               5.0|                   4.0|            0|\n",
      "| google|     New York|   NY|     US| 2018-12-10|  Anonymous Employee|               1|            5.0|               5.0|                 5.0|                       5.0|               5.0|                   5.0|            0|\n",
      "| google|Mountain View|   CA|     US| 2018-12-08|  Anonymous Employee|               1|            5.0|               4.0|                 5.0|                       4.0|               4.0|                   3.0|            0|\n",
      "| google|San Francisco|   CA|     US| 2018-12-03|Sales Operations ...|               1|            5.0|               5.0|                 5.0|                       5.0|               4.0|                   4.0|            1|\n",
      "| google|     New York|   NY|     US| 2018-11-26|            Designer|               1|            5.0|               3.0|                 4.0|                       3.0|               4.0|                   5.0|            2|\n",
      "| google|  Los Angeles|   CA|     US| 2018-11-29|    Staff Accountant|               1|            5.0|               5.0|                 5.0|                       5.0|               5.0|                   5.0|            0|\n",
      "| google|San Francisco|   CA|     US| 2018-11-17|   Program Manager I|               1|            5.0|               5.0|                 5.0|                       5.0|               5.0|                   5.0|            3|\n",
      "| google|Mountain View|   CA|     US| 2018-12-09|     Senior Director|               0|            3.0|               4.0|                 5.0|                       5.0|               5.0|                   5.0|            0|\n",
      "| google|Mountain View|   CA|     US| 2018-12-08|Software Engineer...|               1|            4.0|               5.0|                 5.0|                       4.0|               4.0|                   4.0|            0|\n",
      "| google|     Dearborn|   MI|     US| 2018-11-20|   Google Specialist|               1|            5.0|               3.0|                 4.0|                       4.0|               5.0|                   4.0|            1|\n",
      "| google|     New York|   NY|     US| 2018-12-06|  Anonymous Employee|               1|            4.0|               4.0|                 3.0|                       3.0|               4.0|                   3.0|            0|\n",
      "| google|    Sunnyvale|   CA|     US| 2018-11-21|  Anonymous Employee|               1|            5.0|               3.0|                 5.0|                       5.0|               5.0|                   4.0|            0|\n",
      "| google|      Seattle|   WA|     US| 2018-11-13|Staff Software En...|               1|            5.0|               4.0|                 4.0|                       5.0|               5.0|                   3.0|            2|\n",
      "| google|     New York|   NY|     US| 2018-11-19|     Program Manager|               1|            5.0|               5.0|                 3.0|                       5.0|               4.0|                   5.0|            0|\n",
      "| google|    Sunnyvale|   CA|     US| 2018-11-19|   Software Engineer|               1|            5.0|               5.0|                 5.0|                       4.0|               4.0|                   4.0|            0|\n",
      "| google|    Ann Arbor|   MI|     US| 2018-11-19|Associate Account...|               0|            5.0|               4.0|                 4.0|                       5.0|               5.0|                   2.0|            0|\n",
      "| google|Mountain View|   CA|     US| 2018-11-16|  Anonymous Employee|               1|            3.0|               2.0|                 1.0|                       2.0|               5.0|                   2.0|            8|\n",
      "| google|Mountain View|   CA|     US| 2018-11-09|   Software Engineer|               1|            5.0|               5.0|                 5.0|                       5.0|               5.0|                   5.0|            1|\n",
      "+-------+-------------+-----+-------+-----------+--------------------+----------------+---------------+------------------+--------------------+--------------------------+------------------+----------------------+-------------+\n",
      "only showing top 20 rows\n",
      "\n"
     ]
    }
   ],
   "source": [
    "cleaned_reviews_df = reviews_df.where((col(\"dates\") != 'None') & (col(\"dates\") != ' Jan 0, 0000') & (col(\"dates\") != ' Nov 0, 0000') & (~col(\"location\").contains(\"(\")) & (col(\"location\") != \"none\")) \\\n",
    "                         .select(\n",
    "                             col(\"company\")\n",
    "                         )\n",
    "\n",
    "cleaned_reviews_df.show()"
   ]
  },
  {
   "cell_type": "code",
   "execution_count": null,
   "metadata": {},
   "outputs": [],
   "source": []
  },
  {
   "cell_type": "code",
   "execution_count": null,
   "metadata": {},
   "outputs": [],
   "source": []
  },
  {
   "cell_type": "markdown",
   "metadata": {},
   "source": [
    "# Testing Questions\n",
    "\n",
    "Each question below will have two parts.   Please solve each problem in PySpark and PySpark SQL.  This is to test your ability to solve the problem in PySpark, and to test your ability to solve the problem in SQL.\n",
    "\n",
    "- PySpark API: https://spark.apache.org/docs/latest/api/python/index.html\n",
    "- PySpark SQL API: https://spark.apache.org/docs/latest/api/python/pyspark.sql.html"
   ]
  },
  {
   "cell_type": "code",
   "execution_count": 61,
   "metadata": {},
   "outputs": [],
   "source": [
    "cleaned_reviews_df.createOrReplaceTempView(\"reviews\")"
   ]
  },
  {
   "cell_type": "markdown",
   "metadata": {},
   "source": [
    "### (1) What is the total number of reviews in the data set?"
   ]
  },
  {
   "cell_type": "markdown",
   "metadata": {},
   "source": [
    "##### PySpark Implmentation"
   ]
  },
  {
   "cell_type": "code",
   "execution_count": 47,
   "metadata": {},
   "outputs": [
    {
     "data": {
      "text/plain": [
       "27779"
      ]
     },
     "execution_count": 47,
     "metadata": {},
     "output_type": "execute_result"
    }
   ],
   "source": [
    "cleaned_reviews_df.count()"
   ]
  },
  {
   "cell_type": "markdown",
   "metadata": {},
   "source": [
    "##### Spark SQL Implmentation"
   ]
  },
  {
   "cell_type": "code",
   "execution_count": 48,
   "metadata": {},
   "outputs": [
    {
     "name": "stdout",
     "output_type": "stream",
     "text": [
      "+------------+\n",
      "|review_count|\n",
      "+------------+\n",
      "|       27779|\n",
      "+------------+\n",
      "\n"
     ]
    }
   ],
   "source": [
    "spark.sql(\"SELECT count(*) as review_count from reviews\").show()"
   ]
  },
  {
   "cell_type": "code",
   "execution_count": null,
   "metadata": {},
   "outputs": [],
   "source": []
  },
  {
   "cell_type": "markdown",
   "metadata": {},
   "source": [
    "###  (2) How many reviews exist in the dataset per each company?"
   ]
  },
  {
   "cell_type": "markdown",
   "metadata": {},
   "source": [
    "##### PySpark Implmentation"
   ]
  },
  {
   "cell_type": "code",
   "execution_count": null,
   "metadata": {},
   "outputs": [],
   "source": []
  },
  {
   "cell_type": "markdown",
   "metadata": {},
   "source": [
    "##### Spark SQL Implmentation"
   ]
  },
  {
   "cell_type": "code",
   "execution_count": null,
   "metadata": {},
   "outputs": [],
   "source": []
  },
  {
   "cell_type": "code",
   "execution_count": null,
   "metadata": {},
   "outputs": [],
   "source": []
  },
  {
   "cell_type": "markdown",
   "metadata": {},
   "source": [
    "###  (3) How many reviews are from former and current employees per each company?"
   ]
  },
  {
   "cell_type": "markdown",
   "metadata": {},
   "source": [
    "##### PySpark Implmentation"
   ]
  },
  {
   "cell_type": "code",
   "execution_count": null,
   "metadata": {},
   "outputs": [],
   "source": []
  },
  {
   "cell_type": "markdown",
   "metadata": {},
   "source": [
    "##### Spark SQL Implmentation"
   ]
  },
  {
   "cell_type": "code",
   "execution_count": null,
   "metadata": {},
   "outputs": [],
   "source": []
  },
  {
   "cell_type": "code",
   "execution_count": null,
   "metadata": {},
   "outputs": [],
   "source": []
  },
  {
   "cell_type": "markdown",
   "metadata": {},
   "source": [
    "###  (4) What is the average review scores of each current and former employees for each company?"
   ]
  },
  {
   "cell_type": "markdown",
   "metadata": {},
   "source": [
    "##### PySpark Implmentation"
   ]
  },
  {
   "cell_type": "code",
   "execution_count": null,
   "metadata": {},
   "outputs": [],
   "source": []
  },
  {
   "cell_type": "markdown",
   "metadata": {},
   "source": [
    "##### Spark SQL Implmentation"
   ]
  },
  {
   "cell_type": "code",
   "execution_count": null,
   "metadata": {},
   "outputs": [],
   "source": []
  },
  {
   "cell_type": "code",
   "execution_count": null,
   "metadata": {},
   "outputs": [],
   "source": []
  },
  {
   "cell_type": "markdown",
   "metadata": {},
   "source": [
    "###  (5) Show the following in one solution:\n",
    "1. Get all the former Google employee reviewers in locations Seattle, San Francisco, or Utah\n",
    "\n",
    "- Also, get the count and average work_balance_score for reviews in #1"
   ]
  },
  {
   "cell_type": "markdown",
   "metadata": {},
   "source": [
    "##### PySpark Implmentation"
   ]
  },
  {
   "cell_type": "code",
   "execution_count": null,
   "metadata": {},
   "outputs": [],
   "source": []
  },
  {
   "cell_type": "markdown",
   "metadata": {},
   "source": [
    "##### Spark SQL Implmentation"
   ]
  },
  {
   "cell_type": "code",
   "execution_count": null,
   "metadata": {},
   "outputs": [],
   "source": []
  },
  {
   "cell_type": "code",
   "execution_count": null,
   "metadata": {},
   "outputs": [],
   "source": []
  },
  {
   "cell_type": "code",
   "execution_count": null,
   "metadata": {},
   "outputs": [],
   "source": []
  },
  {
   "cell_type": "markdown",
   "metadata": {},
   "source": [
    "# Visualize Your Data (Bonus Points)\n",
    "1. Turn your Spark dataframe into a Pandas dataframe\n",
    "2. Answer the visualization questions with any of the following libraries:\n",
    "    - Matplotlib\n",
    "    - Seaborn\n",
    "    - Bookeh"
   ]
  },
  {
   "cell_type": "code",
   "execution_count": 20,
   "metadata": {},
   "outputs": [],
   "source": [
    "import numpy as np\n",
    "import pandas as pd\n",
    "import matplotlib.pyplot as plt\n",
    "from matplotlib import style\n",
    "import seaborn as sns"
   ]
  },
  {
   "cell_type": "code",
   "execution_count": 21,
   "metadata": {},
   "outputs": [
    {
     "name": "stdout",
     "output_type": "stream",
     "text": [
      "         company           city state country review_date  \\\n",
      "0         google  Mountain View    CA      US  2015-02-08   \n",
      "1         google  Mountain View    CA      US  2018-12-09   \n",
      "2         google       New York    NY      US  2018-12-11   \n",
      "3         google       New York    NY      US  2018-12-10   \n",
      "4         google  Mountain View    CA      US  2018-12-08   \n",
      "5         google  San Francisco    CA      US  2018-12-03   \n",
      "6         google       New York    NY      US  2018-11-26   \n",
      "7         google    Los Angeles    CA      US  2018-11-29   \n",
      "8         google  San Francisco    CA      US  2018-11-17   \n",
      "9         google  Mountain View    CA      US  2018-12-09   \n",
      "10        google  Mountain View    CA      US  2018-12-08   \n",
      "11        google       Dearborn    MI      US  2018-11-20   \n",
      "12        google       New York    NY      US  2018-12-06   \n",
      "13        google      Sunnyvale    CA      US  2018-11-21   \n",
      "14        google        Seattle    WA      US  2018-11-13   \n",
      "15        google       New York    NY      US  2018-11-19   \n",
      "16        google      Sunnyvale    CA      US  2018-11-19   \n",
      "17        google      Ann Arbor    MI      US  2018-11-19   \n",
      "18        google  Mountain View    CA      US  2018-11-16   \n",
      "19        google  Mountain View    CA      US  2018-11-09   \n",
      "20        google       New York    NY      US  2018-11-05   \n",
      "21        google  Mountain View    CA      US  2018-11-19   \n",
      "22        google  Mountain View    CA      US  2018-11-01   \n",
      "23        google  San Francisco    CA      US  2018-11-04   \n",
      "24        google  Mountain View    CA      US  2018-11-02   \n",
      "25        google     Pittsburgh    PA      US  2018-11-01   \n",
      "26        google  Mountain View    CA      US  2018-11-10   \n",
      "27        google  Mountain View    CA      US  2018-10-21   \n",
      "28        google       New York    NY      US  2018-10-25   \n",
      "29        google        Boulder    CO      US  2018-10-25   \n",
      "...          ...            ...   ...     ...         ...   \n",
      "27749  microsoft          Fargo    ND      US  2008-05-02   \n",
      "27750  microsoft        Redmond    WA      US  2008-04-20   \n",
      "27751  microsoft        Redmond    WA      US  2008-04-21   \n",
      "27752  microsoft        Redmond    WA      US  2008-04-19   \n",
      "27753  microsoft        Atlanta    GA      US  2008-04-18   \n",
      "27754  microsoft        Redmond    WA      US  2008-04-28   \n",
      "27755  microsoft        Redmond    WA      US  2008-04-20   \n",
      "27756  microsoft        Redmond    WA      US  2008-05-03   \n",
      "27757  microsoft        Redmond    WA      US  2008-04-19   \n",
      "27758  microsoft        Redmond    WA      US  2008-05-01   \n",
      "27759  microsoft        Redmond    WA      US  2008-04-18   \n",
      "27760  microsoft        Redmond    WA      US  2008-05-03   \n",
      "27761  microsoft        Redmond    WA      US  2008-05-03   \n",
      "27762  microsoft        Redmond    WA      US  2008-04-25   \n",
      "27763  microsoft        Redmond    WA      US  2008-04-24   \n",
      "27764  microsoft        Redmond    WA      US  2008-04-24   \n",
      "27765  microsoft        Redmond    WA      US  2008-04-26   \n",
      "27766  microsoft          Fargo    ND      US  2008-04-24   \n",
      "27767  microsoft        Redmond    WA      US  2008-04-24   \n",
      "27768  microsoft        Redmond    WA      US  2008-04-24   \n",
      "27769  microsoft       Bellevue    WA      US  2008-04-20   \n",
      "27770  microsoft        Redmond    WA      US  2008-04-19   \n",
      "27771  microsoft      Charlotte    NC      US  2008-04-21   \n",
      "27772  microsoft        Redmond    WA      US  2008-04-26   \n",
      "27773  microsoft        Waltham    MA      US  2008-04-19   \n",
      "27774  microsoft  San Francisco    CA      US  2008-04-16   \n",
      "27775  microsoft  San Francisco    CA      US  2008-03-24   \n",
      "27776  microsoft  San Francisco    CA      US  2008-04-03   \n",
      "27777  microsoft  San Francisco    CA      US  2008-02-27   \n",
      "27778  microsoft  San Francisco    CA      US  2008-02-27   \n",
      "\n",
      "                                          job_title  current_employee  \\\n",
      "0                                Anonymous Employee                 1   \n",
      "1                                              SDE2                 0   \n",
      "2                                 Software Engineer                 1   \n",
      "3                                Anonymous Employee                 1   \n",
      "4                                Anonymous Employee                 1   \n",
      "5                          Sales Operations Analyst                 1   \n",
      "6                                          Designer                 1   \n",
      "7                                  Staff Accountant                 1   \n",
      "8                                 Program Manager I                 1   \n",
      "9                                   Senior Director                 0   \n",
      "10                     Software Engineering Manager                 1   \n",
      "11                                Google Specialist                 1   \n",
      "12                               Anonymous Employee                 1   \n",
      "13                               Anonymous Employee                 1   \n",
      "14                          Staff Software Engineer                 1   \n",
      "15                                  Program Manager                 1   \n",
      "16                                Software Engineer                 1   \n",
      "17                     Associate Account Strategist                 0   \n",
      "18                               Anonymous Employee                 1   \n",
      "19                                Software Engineer                 1   \n",
      "20                               Anonymous Employee                 0   \n",
      "21                                 Legal Specialist                 0   \n",
      "22                               Anonymous Employee                 1   \n",
      "23                        Product Marketing Manager                 1   \n",
      "24                                Software Engineer                 1   \n",
      "25                               Front End Engineer                 1   \n",
      "26                         Senior Software Engineer                 1   \n",
      "27                                            Video                 1   \n",
      "28                         Senior Software Engineer                 1   \n",
      "29                                Product Marketing                 1   \n",
      "...                                             ...               ...   \n",
      "27749                               Product Manager                 1   \n",
      "27750                            Programming Writer                 0   \n",
      "27751  Software Development Engineer In Test (SDET)                 1   \n",
      "27752           Principal Development Engineer Lead                 1   \n",
      "27753                                    Consultant                 1   \n",
      "27754                              Industry Manager                 0   \n",
      "27755                               Program Manager                 1   \n",
      "27756          Senior Software Development Engineer                 1   \n",
      "27757                               General Manager                 1   \n",
      "27758                               Program Manager                 0   \n",
      "27759                               Project Manager                 1   \n",
      "27760                 Software Development Engineer                 1   \n",
      "27761                 Software Development Engineer                 1   \n",
      "27762                    User Experience Researcher                 0   \n",
      "27763                 Software Development Engineer                 0   \n",
      "27764                                        Editor                 1   \n",
      "27765                 Software Development Engineer                 1   \n",
      "27766                               Project Manager                 1   \n",
      "27767                          Lead Program Manager                 1   \n",
      "27768                               Product Manager                 1   \n",
      "27769                                 Group Manager                 0   \n",
      "27770                               Program Manager                 1   \n",
      "27771                                 Federal Sales                 1   \n",
      "27772  Software Development Engineer In Test (SDET)                 1   \n",
      "27773    Senior Account Technology Specialist (ATS)                 1   \n",
      "27774                        Premier Field Engineer                 1   \n",
      "27775                 Software Development Engineer                 1   \n",
      "27776                        Senior Product Manager                 1   \n",
      "27777                             Account Executive                 1   \n",
      "27778                     Technical Account Manager                 1   \n",
      "\n",
      "      overall_ratings work_balance_stars culture_values_stars  \\\n",
      "0                 5.0                2.0                  5.0   \n",
      "1                 5.0                4.0                  4.0   \n",
      "2                 5.0                5.0                  4.0   \n",
      "3                 5.0                5.0                  5.0   \n",
      "4                 5.0                4.0                  5.0   \n",
      "5                 5.0                5.0                  5.0   \n",
      "6                 5.0                3.0                  4.0   \n",
      "7                 5.0                5.0                  5.0   \n",
      "8                 5.0                5.0                  5.0   \n",
      "9                 3.0                4.0                  5.0   \n",
      "10                4.0                5.0                  5.0   \n",
      "11                5.0                3.0                  4.0   \n",
      "12                4.0                4.0                  3.0   \n",
      "13                5.0                3.0                  5.0   \n",
      "14                5.0                4.0                  4.0   \n",
      "15                5.0                5.0                  3.0   \n",
      "16                5.0                5.0                  5.0   \n",
      "17                5.0                4.0                  4.0   \n",
      "18                3.0                2.0                  1.0   \n",
      "19                5.0                5.0                  5.0   \n",
      "20                5.0                2.0                  2.0   \n",
      "21                4.0                5.0                  5.0   \n",
      "22                5.0                5.0                  3.0   \n",
      "23                5.0                4.0                  5.0   \n",
      "24                5.0                5.0                  5.0   \n",
      "25                5.0                4.0                  5.0   \n",
      "26                4.0                5.0                  4.0   \n",
      "27                5.0                4.0                  5.0   \n",
      "28                5.0                5.0                  5.0   \n",
      "29                5.0                3.0                  3.0   \n",
      "...               ...                ...                  ...   \n",
      "27749             5.0                4.0                 none   \n",
      "27750             5.0                5.0                 none   \n",
      "27751             5.0                5.0                 none   \n",
      "27752             5.0                5.0                 none   \n",
      "27753             5.0                5.0                 none   \n",
      "27754             2.0                2.5                 none   \n",
      "27755             5.0                5.0                 none   \n",
      "27756             4.0                5.0                 none   \n",
      "27757             5.0                5.0                 none   \n",
      "27758             4.0                4.0                 none   \n",
      "27759             5.0                5.0                 none   \n",
      "27760             4.0                4.0                 none   \n",
      "27761             4.0                4.0                 none   \n",
      "27762             3.0                3.5                 none   \n",
      "27763             2.0                3.5                 none   \n",
      "27764             3.0                3.5                 none   \n",
      "27765             4.0                4.0                 none   \n",
      "27766             3.0                5.0                 none   \n",
      "27767             4.0                4.5                 none   \n",
      "27768             4.0                4.0                 none   \n",
      "27769             2.0                4.0                 none   \n",
      "27770             3.0                3.5                 none   \n",
      "27771             4.0                3.0                 none   \n",
      "27772             4.0                4.0                 none   \n",
      "27773             2.0                1.5                 none   \n",
      "27774             4.0                3.5                 none   \n",
      "27775             5.0                4.5                 none   \n",
      "27776             3.0                4.0                 none   \n",
      "27777             5.0                4.5                 none   \n",
      "27778             5.0                5.0                 none   \n",
      "\n",
      "      carrer_opportunities_stars comp_benefit_stars senior_mangemnet_stars  \\\n",
      "0                            5.0                4.0                    5.0   \n",
      "1                            4.0                5.0                    4.0   \n",
      "2                            4.0                5.0                    4.0   \n",
      "3                            5.0                5.0                    5.0   \n",
      "4                            4.0                4.0                    3.0   \n",
      "5                            5.0                4.0                    4.0   \n",
      "6                            3.0                4.0                    5.0   \n",
      "7                            5.0                5.0                    5.0   \n",
      "8                            5.0                5.0                    5.0   \n",
      "9                            5.0                5.0                    5.0   \n",
      "10                           4.0                4.0                    4.0   \n",
      "11                           4.0                5.0                    4.0   \n",
      "12                           3.0                4.0                    3.0   \n",
      "13                           5.0                5.0                    4.0   \n",
      "14                           5.0                5.0                    3.0   \n",
      "15                           5.0                4.0                    5.0   \n",
      "16                           4.0                4.0                    4.0   \n",
      "17                           5.0                5.0                    2.0   \n",
      "18                           2.0                5.0                    2.0   \n",
      "19                           5.0                5.0                    5.0   \n",
      "20                           4.0                4.0                    3.0   \n",
      "21                           3.0                5.0                    4.0   \n",
      "22                           5.0                5.0                    4.0   \n",
      "23                           5.0                5.0                    4.0   \n",
      "24                           5.0                5.0                    4.0   \n",
      "25                           5.0                5.0                    4.0   \n",
      "26                           4.0                4.0                    4.0   \n",
      "27                           5.0                5.0                    4.0   \n",
      "28                           5.0                5.0                    5.0   \n",
      "29                           4.0                5.0                    4.0   \n",
      "...                          ...                ...                    ...   \n",
      "27749                        4.0                4.5                    4.0   \n",
      "27750                        5.0                5.0                    5.0   \n",
      "27751                        4.5                5.0                    4.0   \n",
      "27752                        5.0                4.5                    4.5   \n",
      "27753                        5.0                5.0                    5.0   \n",
      "27754                        2.5                3.0                    2.0   \n",
      "27755                        5.0                5.0                    5.0   \n",
      "27756                        4.5                4.5                    4.0   \n",
      "27757                        5.0                5.0                    5.0   \n",
      "27758                        5.0                4.0                    3.5   \n",
      "27759                        5.0                5.0                    4.5   \n",
      "27760                        4.0                4.0                    4.0   \n",
      "27761                        4.0                4.0                    4.0   \n",
      "27762                        3.0                3.0                    2.0   \n",
      "27763                        3.0                3.5                    1.5   \n",
      "27764                        3.0                4.5                    2.0   \n",
      "27765                        4.5                4.5                    3.0   \n",
      "27766                        1.0                3.5                    3.0   \n",
      "27767                        4.0                3.5                    3.5   \n",
      "27768                        3.5                1.5                    2.0   \n",
      "27769                        1.5                3.5                    1.0   \n",
      "27770                        3.5                3.5                    3.0   \n",
      "27771                        5.0                5.0                    5.0   \n",
      "27772                        5.0                4.0                    4.0   \n",
      "27773                        2.5                3.5                    3.0   \n",
      "27774                        4.0                4.5                    4.0   \n",
      "27775                        5.0                4.5                    4.0   \n",
      "27776                        4.0                4.0                    4.0   \n",
      "27777                        5.0                4.0                    4.0   \n",
      "27778                        5.0                5.0                    5.0   \n",
      "\n",
      "      helpful_count  \n",
      "0               498  \n",
      "1                 1  \n",
      "2                 0  \n",
      "3                 0  \n",
      "4                 0  \n",
      "5                 1  \n",
      "6                 2  \n",
      "7                 0  \n",
      "8                 3  \n",
      "9                 0  \n",
      "10                0  \n",
      "11                1  \n",
      "12                0  \n",
      "13                0  \n",
      "14                2  \n",
      "15                0  \n",
      "16                0  \n",
      "17                0  \n",
      "18                8  \n",
      "19                1  \n",
      "20                0  \n",
      "21                0  \n",
      "22                1  \n",
      "23                0  \n",
      "24                0  \n",
      "25                0  \n",
      "26                1  \n",
      "27                2  \n",
      "28                0  \n",
      "29                0  \n",
      "...             ...  \n",
      "27749             0  \n",
      "27750             1  \n",
      "27751             1  \n",
      "27752             1  \n",
      "27753             1  \n",
      "27754             2  \n",
      "27755             1  \n",
      "27756             0  \n",
      "27757             1  \n",
      "27758             0  \n",
      "27759             1  \n",
      "27760             0  \n",
      "27761             0  \n",
      "27762             1  \n",
      "27763             2  \n",
      "27764             0  \n",
      "27765             0  \n",
      "27766             0  \n",
      "27767             0  \n",
      "27768             0  \n",
      "27769             1  \n",
      "27770             1  \n",
      "27771             0  \n",
      "27772             0  \n",
      "27773             1  \n",
      "27774             0  \n",
      "27775             2  \n",
      "27776             0  \n",
      "27777             1  \n",
      "27778             0  \n",
      "\n",
      "[27779 rows x 14 columns]\n"
     ]
    }
   ],
   "source": [
    "reviews_pd_df = cleaned_reviews_df.toPandas()\n",
    "print(reviews_pd_df)"
   ]
  },
  {
   "cell_type": "markdown",
   "metadata": {},
   "source": [
    "### Plot the distribution of reviewers who are current and former employees\n",
    "- Hint: A Seaborn factorplot will work nicely here"
   ]
  },
  {
   "cell_type": "code",
   "execution_count": null,
   "metadata": {},
   "outputs": [],
   "source": []
  },
  {
   "cell_type": "markdown",
   "metadata": {},
   "source": [
    "### Plot the distributions of reviews for each company (current and former employees) and their overall ratings\n",
    "- Hint: A Seaborn factorplot will work nicely here"
   ]
  },
  {
   "cell_type": "code",
   "execution_count": null,
   "metadata": {},
   "outputs": [],
   "source": []
  },
  {
   "cell_type": "code",
   "execution_count": null,
   "metadata": {},
   "outputs": [],
   "source": []
  },
  {
   "cell_type": "markdown",
   "metadata": {},
   "source": [
    "# Lessons Learned\n",
    "- Enter anything below you want us to know about the test"
   ]
  },
  {
   "cell_type": "code",
   "execution_count": null,
   "metadata": {},
   "outputs": [],
   "source": []
  }
 ],
 "metadata": {
  "kernelspec": {
   "display_name": "Python 3",
   "language": "python",
   "name": "python3"
  },
  "language_info": {
   "codemirror_mode": {
    "name": "ipython",
    "version": 3
   },
   "file_extension": ".py",
   "mimetype": "text/x-python",
   "name": "python",
   "nbconvert_exporter": "python",
   "pygments_lexer": "ipython3",
   "version": "3.6.4"
  }
 },
 "nbformat": 4,
 "nbformat_minor": 2
}
