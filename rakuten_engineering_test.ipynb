{
 "cells": [
  {
   "cell_type": "markdown",
   "metadata": {},
   "source": [
    "# Rakuten USA - Data Engineering Test\n",
    "\n",
    "### Goals\n",
    "To demonstrate your engineering skills. \n",
    "\n",
    "### Expectations\n",
    "You can expect this test to use the following technologies:\n",
    "- Python3\n",
    "- Jupyter Notebook\n",
    "- PySpark\n",
    "- PySpark SQL\n",
    "\n",
    "This test will cover the following areas:\n",
    "- Dataset \n",
    "- Data cleaning/wrangling\n",
    "- Exploratory Data Analysis (EDA)\n",
    "- Data Visualization (Bonus)\n",
    "- Lessons learned\n",
    "\n",
    "### Where do you turn this test in?\n",
    "Please email stirling.waite@rakuten with your finished notebook\n",
    "- rakuten_engineering_test.ipynb\n",
    " \n",
    "### Questions?\n",
    "Feel free to email me or call me with any questions about this test\n",
    "- stirling.waite@rakuten.com\n",
    "- 801-856-1426"
   ]
  },
  {
   "cell_type": "markdown",
   "metadata": {},
   "source": [
    "# About The Dataset\n",
    "\n",
    "Below you will find a free Kaggle competition dataset from https://www.kaggle.com/mayank811/employee-reviews/data using scraped data from Glassdoor.com.\n",
    "\n",
    "## Context\n",
    "- Over 67k employee reviews for Google, Amazon, Facebook, Apple, Microsoft, and Netflix.\n",
    "- Web scraped from Glassdoor\n",
    "\n",
    "## Content\n",
    "This dataset contains employee reviews separated into the following categories:\n",
    "\n",
    "- **Index:** index\n",
    "- **Company:** Company name\n",
    "- **Location:** This dataset is global, as such it may include the country's name in parenthesis [i.e \"Toronto, ON(Canada)\"]. However, if the location is in the USA then it will only include the city and state[i.e \"Los Angeles, CA\" ]\n",
    "- **Date Posted:** in the following format MM DD, YYYY\n",
    "- **Job-Title:** This string will also include whether the reviewer is a 'Current' or 'Former' Employee at the time of the review\n",
    "- **Summary:** Short summary of employee review\n",
    "- **Pros:** Pros\n",
    "- **Cons:** Cons\n",
    "- **Overall Rating:** 1-5\n",
    "- **Work/Life Balance Rating:** 1-5\n",
    "- **Culture and Values Rating:** 1-5\n",
    "- **Career Opportunities Rating:** 1-5\n",
    "- **Comp & Benefits Rating:** 1-5\n",
    "- **Senior Management Rating:** 1-5\n",
    "- **Helpful Review Count:** 1-5\n",
    "\n",
    "**Link to Review:** This will provide you with a direct link to the page that contains the review. However it is likely that this link will be outdated\n",
    "\n",
    "**NOTE:** 'none' is placed in all cells where no data value was found.\n",
    "\n"
   ]
  },
  {
   "cell_type": "code",
   "execution_count": 133,
   "metadata": {},
   "outputs": [],
   "source": [
    "import re\n",
    "import pyspark\n",
    "from pyspark import SparkConf, SparkContext, SQLContext\n",
    "from pyspark.sql import SparkSession, Row\n",
    "from pyspark.sql.functions import *\n",
    "from pyspark.sql import functions as fn\n",
    "from pyspark.sql import types as t\n",
    "from pyspark.sql.types import *\n",
    "from datetime import datetime"
   ]
  },
  {
   "cell_type": "code",
   "execution_count": 2,
   "metadata": {},
   "outputs": [],
   "source": [
    "conf = SparkConf()\\\n",
    "                .setMaster(\"local[*]\")\\\n",
    "                .setAppName(\"rakutenHomework\")\n",
    "        \n",
    "sc = SparkContext(conf=conf)\n",
    "sc.setLogLevel(\"ERROR\")\n",
    "sqlContext = SQLContext(sc)\n",
    "spark = SparkSession.builder.appName(\"spark play\").getOrCreate()"
   ]
  },
  {
   "cell_type": "code",
   "execution_count": 31,
   "metadata": {},
   "outputs": [
    {
     "name": "stdout",
     "output_type": "stream",
     "text": [
      "+---+-------+-----------------+-------------+--------------------+--------------------+--------------------+--------------------+--------------------+---------------+------------------+--------------------+--------------------------+------------------+----------------------+-------------+--------------------+\n",
      "|_c0|company|         location|        dates|           job-title|             summary|                pros|                cons|      advice-to-mgmt|overall-ratings|work-balance-stars|culture-values-stars|carrer-opportunities-stars|comp-benefit-stars|senior-mangemnet-stars|helpful-count|                link|\n",
      "+---+-------+-----------------+-------------+--------------------+--------------------+--------------------+--------------------+--------------------+---------------+------------------+--------------------+--------------------------+------------------+----------------------+-------------+--------------------+\n",
      "|  1| google|             none| Dec 11, 2018|Current Employee ...|Best Company to w...|People are smart ...|Bureaucracy is sl...|                none|            5.0|               4.0|                 5.0|                       5.0|               4.0|                   5.0|            0|https://www.glass...|\n",
      "|  4| google|Mountain View, CA|  Feb 8, 2015|Current Employee ...|The best place I'...|You can't find a ...|I live in SF so t...|Keep on NOT micro...|            5.0|               2.0|                 5.0|                       5.0|               4.0|                   5.0|          498|https://www.glass...|\n",
      "|  6| google|Mountain View, CA|  Dec 9, 2018|Former Employee -...|NICE working in G...|People are not th...|Food is not good ...|                none|            5.0|               4.0|                 4.0|                       4.0|               5.0|                   4.0|            1|https://www.glass...|\n",
      "|  7| google|     New York, NY| Dec 11, 2018|Current Employee ...|   Software engineer|Great working env...|Usual big company...|                none|            5.0|               5.0|                 4.0|                       4.0|               5.0|                   4.0|            0|https://www.glass...|\n",
      "|  8| google|             none| Dec 11, 2018|Former Employee -...|great place to wo...|work culture, ben...|No cons that i ca...|                none|            5.0|               5.0|                 5.0|                       5.0|               5.0|                   5.0|            0|https://www.glass...|\n",
      "|  9| google|     New York, NY| Dec 10, 2018|Current Employee ...|Google Surpasses ...|Great products. V...|Younger employees...|                none|            5.0|               5.0|                 5.0|                       5.0|               5.0|                   5.0|            0|https://www.glass...|\n",
      "| 10| google|             none|  Dec 9, 2018|Current Employee ...|Execellent for en...|Impact driven. Be...|Size matters. Eng...|                none|            5.0|               5.0|                 5.0|                       5.0|               5.0|                   5.0|            0|https://www.glass...|\n",
      "| 11| google|Mountain View, CA|  Dec 8, 2018|Current Employee ...|  Nice place to work|* Smart people * ...|Giant company wit...|                none|            5.0|               4.0|                 5.0|                       4.0|               4.0|                   3.0|            0|https://www.glass...|\n",
      "| 12| google|             none|  Dec 8, 2018|Current Employee ...|   Software Engineer|* There is endles...|* There's always ...|                none|            5.0|               5.0|                 5.0|                       5.0|               5.0|                   5.0|            0|https://www.glass...|\n",
      "| 13| google|             none|  Dec 4, 2018|Former Employee -...|Best Company to W...|Atmosphere that p...|It can be an over...|                none|            5.0|               5.0|                 5.0|                       5.0|               5.0|                   5.0|            1|https://www.glass...|\n",
      "| 14| google|San Francisco, CA|  Dec 3, 2018|Current Employee ...|Still the best pl...|Amazing company. ...|Size, which limit...|                none|            5.0|               5.0|                 5.0|                       5.0|               4.0|                   4.0|            1|https://www.glass...|\n",
      "| 15| google|             none|  Dec 6, 2018|Current Employee ...|          Mba Intern|Perks, autonomy, ...|Slow career progr...|                none|            5.0|               4.0|                 5.0|                       3.0|               5.0|                   5.0|            0|https://www.glass...|\n",
      "| 16| google|             none|  Dec 6, 2018|Current Employee ...|              Review|The people are gr...|There is lower co...|                none|            5.0|              none|                none|                      none|              none|                  none|            0|https://www.glass...|\n",
      "| 17| google|             none| Nov 29, 2018|Current Employee ...|    Review of Google|The people are gr...|Wide variety in e...|                none|            5.0|               4.0|                 5.0|                       5.0|               5.0|                   4.0|            2|https://www.glass...|\n",
      "| 18| google|             none|  Dec 2, 2018|Former Employee -...|            Analysts|Good managers, be...|Long hours, far l...|                none|            5.0|              none|                none|                       2.0|              none|                  none|            1|https://www.glass...|\n",
      "| 19| google|             none|  Dec 1, 2018|Former Employee -...|Great Company Wit...|Really fun work e...|Really no down si...|                none|            5.0|               5.0|                 5.0|                       5.0|               5.0|                   5.0|            1|https://www.glass...|\n",
      "| 20| google|             none|  Dec 3, 2018|Current Employee ...|Senior Account Ma...|Great benefits, g...|Must be located i...|                none|            5.0|               5.0|                 5.0|                       5.0|               5.0|                   5.0|            0|https://www.glass...|\n",
      "| 21| google|     New York, NY| Nov 26, 2018|Current Employee ...|Great, but great ...|Great team and su...|Lots of bureaucra...|                none|            5.0|               3.0|                 4.0|                       3.0|               4.0|                   5.0|            2|https://www.glass...|\n",
      "| 22| google|             none|  Dec 2, 2018|Current Employee ...|Great company to ...| I love Google a lot|Some things are n...|                none|            5.0|               5.0|                 5.0|                       5.0|               5.0|                   5.0|            0|https://www.glass...|\n",
      "| 23| google|             none|  Dec 1, 2018|Current Employee ...|                 n/a|it's a great plac...|too much red tape...|                none|            5.0|              none|                none|                       5.0|              none|                  none|            0|https://www.glass...|\n",
      "+---+-------+-----------------+-------------+--------------------+--------------------+--------------------+--------------------+--------------------+---------------+------------------+--------------------+--------------------------+------------------+----------------------+-------------+--------------------+\n",
      "only showing top 20 rows\n",
      "\n"
     ]
    }
   ],
   "source": [
    "reviews = spark.read.csv(\"employee_reviews.csv\", header=True, mode=\"DROPMALFORMED\", inferSchema='true', encoding=\"utf-8\")\n",
    "reviews.show()"
   ]
  },
  {
   "cell_type": "code",
   "execution_count": null,
   "metadata": {},
   "outputs": [],
   "source": []
  },
  {
   "cell_type": "code",
   "execution_count": null,
   "metadata": {},
   "outputs": [],
   "source": []
  },
  {
   "cell_type": "markdown",
   "metadata": {},
   "source": [
    "# Data Cleaning & Removing Un-needed Columns\n",
    "\n",
    "No one likes dirty data.  Let's clean up this dataset to make it more usable for our use case.\n",
    "\n",
    " \n",
    "1. Make the date field more data friendly\n",
    "    - Hint #1: Use the provided `review_date_udf` udf provided (it will make your life more simple) \n",
    "2. Using the \"location\" column \n",
    "    - Add new columns for city, state, country columns\n",
    "        - Hint #1: If location is not in US it will show as Toronto, ON(Canada)\n",
    "        - Hint #2: Use something like the following to extract the `country` column\n",
    "            - ```fn.when(~col(\"location\").contains(\"(\"), \"USA\").otherwise(regexp_extract(col(\"location\"), \"\\((.*?)\\)\", 1)).alias(\"country\")```\n",
    "3. Using the \"job-title\" column  \n",
    "    - Add a new boolean column titled \"current_employee\" that will show:\n",
    "        - 1,  if reviewer is a current employee\n",
    "        - 0,  if reviewer is not a current employee\n",
    "    - Remove \"Former Employee - \" and \"\" from the \"job-title\" column\n",
    "        - Hint: Use the udf function `reg_job_title_udf`\n",
    "4. Drop un-needed columns \n",
    "    - \"_c0\", \"link\", \"pros\", \"cons\", \"advice-to-mgmt\", \"summary\""
   ]
  },
  {
   "cell_type": "markdown",
   "metadata": {},
   "source": [
    "##### Useful UDF functions needed for below"
   ]
  },
  {
   "cell_type": "code",
   "execution_count": 165,
   "metadata": {},
   "outputs": [],
   "source": [
    "review_date_udf = fn.udf(\n",
    "    lambda x: datetime.strptime(x, ' %b %d, %Y'), DateType()\n",
    ")"
   ]
  },
  {
   "cell_type": "code",
   "execution_count": 170,
   "metadata": {},
   "outputs": [],
   "source": [
    "def reg_job_title(column):\n",
    "    res_split=[]\n",
    "    reg_patterns=[\"Former Employee - / \", \"Current Employee - / \"]\n",
    "    for i in range(len(reg_patterns)):\n",
    "        res_split=re.findall(r\"[^/]+\",reg_patterns[i])\n",
    "        for x in res_split[0].split(\"|\"):\n",
    "            column = column.replace(x,res_split[1])\n",
    "    return column[1:]\n",
    "\n",
    "reg_job_title_udf = fn.udf(reg_job_title, t.StringType())"
   ]
  },
  {
   "cell_type": "code",
   "execution_count": 206,
   "metadata": {},
   "outputs": [
    {
     "name": "stdout",
     "output_type": "stream",
     "text": [
      "+-------+-----------------+-------+-----------+--------------------+----------------+---------------+------------------+--------------------+--------------------------+------------------+----------------------+-------------+\n",
      "|company|         location|country|review_date|           job_title|current_employee|overall_ratings|work_balance_stars|culture_values_stars|carrer_opportunities_stars|comp_benefit_stars|senior_mangemnet_stars|helpful_count|\n",
      "+-------+-----------------+-------+-----------+--------------------+----------------+---------------+------------------+--------------------+--------------------------+------------------+----------------------+-------------+\n",
      "| google|             none|    USA| 2018-12-11|  Anonymous Employee|               1|            5.0|               4.0|                 5.0|                       5.0|               4.0|                   5.0|            0|\n",
      "| google|Mountain View, CA|    USA| 2015-02-08|  Anonymous Employee|               1|            5.0|               2.0|                 5.0|                       5.0|               4.0|                   5.0|          498|\n",
      "| google|Mountain View, CA|    USA| 2018-12-09|                SDE2|               0|            5.0|               4.0|                 4.0|                       4.0|               5.0|                   4.0|            1|\n",
      "| google|     New York, NY|    USA| 2018-12-11|   Software Engineer|               1|            5.0|               5.0|                 4.0|                       4.0|               5.0|                   4.0|            0|\n",
      "| google|             none|    USA| 2018-12-11|  Anonymous Employee|               0|            5.0|               5.0|                 5.0|                       5.0|               5.0|                   5.0|            0|\n",
      "| google|     New York, NY|    USA| 2018-12-10|  Anonymous Employee|               1|            5.0|               5.0|                 5.0|                       5.0|               5.0|                   5.0|            0|\n",
      "| google|             none|    USA| 2018-12-09|  Anonymous Employee|               1|            5.0|               5.0|                 5.0|                       5.0|               5.0|                   5.0|            0|\n",
      "| google|Mountain View, CA|    USA| 2018-12-08|  Anonymous Employee|               1|            5.0|               4.0|                 5.0|                       4.0|               4.0|                   3.0|            0|\n",
      "| google|             none|    USA| 2018-12-08|  Anonymous Employee|               1|            5.0|               5.0|                 5.0|                       5.0|               5.0|                   5.0|            0|\n",
      "| google|             none|    USA| 2018-12-04|  Anonymous Employee|               0|            5.0|               5.0|                 5.0|                       5.0|               5.0|                   5.0|            1|\n",
      "| google|San Francisco, CA|    USA| 2018-12-03|Sales Operations ...|               1|            5.0|               5.0|                 5.0|                       5.0|               4.0|                   4.0|            1|\n",
      "| google|             none|    USA| 2018-12-06|  Anonymous Employee|               1|            5.0|               4.0|                 5.0|                       3.0|               5.0|                   5.0|            0|\n",
      "| google|             none|    USA| 2018-12-06|  Anonymous Employee|               1|            5.0|              none|                none|                      none|              none|                  none|            0|\n",
      "| google|             none|    USA| 2018-11-29|  Anonymous Employee|               1|            5.0|               4.0|                 5.0|                       5.0|               5.0|                   4.0|            2|\n",
      "| google|             none|    USA| 2018-12-02|  Anonymous Employee|               0|            5.0|              none|                none|                       2.0|              none|                  none|            1|\n",
      "| google|             none|    USA| 2018-12-01|  Anonymous Employee|               0|            5.0|               5.0|                 5.0|                       5.0|               5.0|                   5.0|            1|\n",
      "| google|             none|    USA| 2018-12-03|  Anonymous Employee|               1|            5.0|               5.0|                 5.0|                       5.0|               5.0|                   5.0|            0|\n",
      "| google|     New York, NY|    USA| 2018-11-26|            Designer|               1|            5.0|               3.0|                 4.0|                       3.0|               4.0|                   5.0|            2|\n",
      "| google|             none|    USA| 2018-12-02|  Anonymous Employee|               1|            5.0|               5.0|                 5.0|                       5.0|               5.0|                   5.0|            0|\n",
      "| google|             none|    USA| 2018-12-01|  Anonymous Employee|               1|            5.0|              none|                none|                       5.0|              none|                  none|            0|\n",
      "+-------+-----------------+-------+-----------+--------------------+----------------+---------------+------------------+--------------------+--------------------------+------------------+----------------------+-------------+\n",
      "only showing top 20 rows\n",
      "\n"
     ]
    }
   ],
   "source": [
    "new_reviews_df = reviews.where((col(\"dates\") != 'None') & (col(\"dates\") != ' Jan 0, 0000') & (col(\"dates\") != ' Nov 0, 0000')) \\\n",
    "                         .select(\n",
    "                            col(\"company\"),\n",
    "                            col(\"location\"),\n",
    "                            fn.when(~col(\"location\").contains(\"(\"), \"USA\").otherwise(regexp_extract(col(\"location\"), \"\\((.*?)\\)\", 1)).alias(\"country\"),\n",
    "                            review_date_udf(col('dates')).alias(\"review_date\"),\n",
    "                            reg_job_title_udf(col(\"job-title\")).alias(\"job_title\"),\n",
    "                            fn.when(col(\"job-title\").contains('Current'), 1).otherwise(0).alias(\"current_employee\"),\n",
    "                            col(\"overall-ratings\").alias(\"overall_ratings\"),\n",
    "                            col(\"work-balance-stars\").alias(\"work_balance_stars\"),\n",
    "                            col(\"culture-values-stars\").alias(\"culture_values_stars\"),\n",
    "                            col(\"carrer-opportunities-stars\").alias(\"carrer_opportunities_stars\"),\n",
    "                            col(\"comp-benefit-stars\").alias(\"comp_benefit_stars\"),\n",
    "                            col(\"senior-mangemnet-stars\").alias(\"senior_mangemnet_stars\"),\n",
    "                            col(\"helpful-count\").alias(\"helpful_count\")\n",
    "                         )\n",
    "\n",
    "new_reviews_df.count()\n",
    "new_reviews_df.show()"
   ]
  },
  {
   "cell_type": "code",
   "execution_count": 208,
   "metadata": {},
   "outputs": [],
   "source": [
    "new_reviews_df.createOrReplaceTempView(\"reviews\")"
   ]
  },
  {
   "cell_type": "markdown",
   "metadata": {},
   "source": [
    "### (1) What is the total number of reviews in the data set?"
   ]
  },
  {
   "cell_type": "markdown",
   "metadata": {},
   "source": [
    "##### PySpark Implmentation"
   ]
  },
  {
   "cell_type": "code",
   "execution_count": 215,
   "metadata": {},
   "outputs": [
    {
     "data": {
      "text/plain": [
       "64623"
      ]
     },
     "execution_count": 215,
     "metadata": {},
     "output_type": "execute_result"
    }
   ],
   "source": [
    "new_reviews_df.count()"
   ]
  },
  {
   "cell_type": "markdown",
   "metadata": {},
   "source": [
    "##### Spark SQL Implmentation"
   ]
  },
  {
   "cell_type": "code",
   "execution_count": 210,
   "metadata": {},
   "outputs": [
    {
     "name": "stdout",
     "output_type": "stream",
     "text": [
      "+------------+\n",
      "|review_count|\n",
      "+------------+\n",
      "|       64623|\n",
      "+------------+\n",
      "\n"
     ]
    }
   ],
   "source": [
    "spark.sql(\"SELECT count(*) as review_count from reviews\").show()\n"
   ]
  },
  {
   "cell_type": "markdown",
   "metadata": {},
   "source": [
    "###  (2) How many reviews per each company?"
   ]
  },
  {
   "cell_type": "markdown",
   "metadata": {},
   "source": [
    "##### PySpark Implmentation"
   ]
  },
  {
   "cell_type": "code",
   "execution_count": 216,
   "metadata": {},
   "outputs": [
    {
     "name": "stdout",
     "output_type": "stream",
     "text": [
      "+---------+-----+\n",
      "|  company|count|\n",
      "+---------+-----+\n",
      "|   amazon|25335|\n",
      "|microsoft|17150|\n",
      "|    apple|12397|\n",
      "|   google| 7552|\n",
      "| facebook| 1492|\n",
      "|  netflix|  697|\n",
      "+---------+-----+\n",
      "\n"
     ]
    }
   ],
   "source": [
    "company_reviews = new_reviews_df.select(\"company\").groupBy('company').count().orderBy('count', ascending=[0])\n",
    "company_reviews.show()"
   ]
  },
  {
   "cell_type": "markdown",
   "metadata": {},
   "source": [
    "##### Spark SQL Implmentation"
   ]
  },
  {
   "cell_type": "code",
   "execution_count": 214,
   "metadata": {},
   "outputs": [
    {
     "name": "stdout",
     "output_type": "stream",
     "text": [
      "+---------+------------+\n",
      "|  company|review_count|\n",
      "+---------+------------+\n",
      "|   amazon|       25335|\n",
      "|microsoft|       17150|\n",
      "|    apple|       12397|\n",
      "|   google|        7552|\n",
      "| facebook|        1492|\n",
      "|  netflix|         697|\n",
      "+---------+------------+\n",
      "\n"
     ]
    }
   ],
   "source": [
    "spark.sql(\"\"\"SELECT \n",
    "                company,\n",
    "                count(*) as review_count \n",
    "             from reviews\n",
    "             group by company\n",
    "             order by review_count DESC\n",
    "           \"\"\"\n",
    "         )\\\n",
    "         .show()"
   ]
  },
  {
   "cell_type": "markdown",
   "metadata": {},
   "source": [
    "###  (3) How many reviews (former and current) per each company are in the dataset?"
   ]
  },
  {
   "cell_type": "markdown",
   "metadata": {},
   "source": [
    "##### PySpark Implmentation"
   ]
  },
  {
   "cell_type": "code",
   "execution_count": 217,
   "metadata": {},
   "outputs": [
    {
     "name": "stdout",
     "output_type": "stream",
     "text": [
      "+---------+----------------+-----+\n",
      "|  company|current_employee|count|\n",
      "+---------+----------------+-----+\n",
      "|   amazon|               0| 8391|\n",
      "|   amazon|               1|16944|\n",
      "|    apple|               0| 5373|\n",
      "|    apple|               1| 7024|\n",
      "| facebook|               0|  288|\n",
      "| facebook|               1| 1204|\n",
      "|   google|               0| 3011|\n",
      "|   google|               1| 4541|\n",
      "|microsoft|               0| 6292|\n",
      "|microsoft|               1|10858|\n",
      "|  netflix|               0|  342|\n",
      "|  netflix|               1|  355|\n",
      "+---------+----------------+-----+\n",
      "\n"
     ]
    }
   ],
   "source": [
    "company_current_reviews = new_reviews_df.select(\n",
    "                                        col(\"company\"), \n",
    "                                        col(\"current_employee\")\n",
    "                                     ) \\\n",
    "                                     .groupBy(['company', 'current_employee']) \\\n",
    "                                     .count() \\\n",
    "                                     .orderBy(['company','count'])\n",
    "company_current_reviews.show()"
   ]
  },
  {
   "cell_type": "markdown",
   "metadata": {},
   "source": [
    "##### Spark SQL Implmentation"
   ]
  },
  {
   "cell_type": "code",
   "execution_count": 219,
   "metadata": {},
   "outputs": [
    {
     "name": "stdout",
     "output_type": "stream",
     "text": [
      "+---------+----------------+------------+\n",
      "|  company|current_employee|review_count|\n",
      "+---------+----------------+------------+\n",
      "|   amazon|               0|        8391|\n",
      "|   amazon|               1|       16944|\n",
      "|    apple|               0|        5373|\n",
      "|    apple|               1|        7024|\n",
      "| facebook|               0|         288|\n",
      "| facebook|               1|        1204|\n",
      "|   google|               0|        3011|\n",
      "|   google|               1|        4541|\n",
      "|microsoft|               0|        6292|\n",
      "|microsoft|               1|       10858|\n",
      "|  netflix|               0|         342|\n",
      "|  netflix|               1|         355|\n",
      "+---------+----------------+------------+\n",
      "\n"
     ]
    }
   ],
   "source": [
    "spark.sql(\"\"\"SELECT \n",
    "                company,\n",
    "                current_employee,\n",
    "                count(*) as review_count \n",
    "             from reviews\n",
    "             group by company, current_employee\n",
    "             order by company, review_count ASC\n",
    "           \"\"\"\n",
    "         )\\\n",
    "         .show()"
   ]
  },
  {
   "cell_type": "markdown",
   "metadata": {},
   "source": [
    "###  (4) What is the average review scores of each current and former employees for each company?"
   ]
  },
  {
   "cell_type": "markdown",
   "metadata": {},
   "source": [
    "##### PySpark Implmentation"
   ]
  },
  {
   "cell_type": "code",
   "execution_count": 185,
   "metadata": {},
   "outputs": [
    {
     "name": "stdout",
     "output_type": "stream",
     "text": [
      "+---------+----------------+------------------+\n",
      "|  company|current_employee|avg_overall_rating|\n",
      "+---------+----------------+------------------+\n",
      "|   amazon|               1|  3.81952313503305|\n",
      "|   amazon|               0|3.2210701942557503|\n",
      "|    apple|               1| 4.088126423690205|\n",
      "|    apple|               0| 3.868416154848316|\n",
      "| facebook|               1| 4.679401993355482|\n",
      "| facebook|               0| 3.888888888888889|\n",
      "|   google|               1|4.4441752917859505|\n",
      "|   google|               0| 4.244104948522086|\n",
      "|microsoft|               1|3.9408730889666606|\n",
      "|microsoft|               0| 3.690241576605213|\n",
      "|  netflix|               1| 3.963380281690141|\n",
      "|  netflix|               0| 3.043859649122807|\n",
      "+---------+----------------+------------------+\n",
      "\n"
     ]
    }
   ],
   "source": [
    "company_current_avg_review_scores = new_reviews.select(\n",
    "                                                col(\"company\"), \n",
    "                                                col(\"current_employee\"),\n",
    "                                                col(\"overall_ratings\")\n",
    "                                             ) \\\n",
    "                                             .groupBy(['company', 'current_employee']) \\\n",
    "                                             .agg(avg(col(\"overall_ratings\")).alias(\"avg_overall_rating\")) \\\n",
    "                                             .orderBy(['company', 'avg_overall_rating'], ascending=[1,0])\n",
    "company_current_avg_review_scores.show()"
   ]
  },
  {
   "cell_type": "markdown",
   "metadata": {},
   "source": [
    "##### Spark SQL Implmentation"
   ]
  },
  {
   "cell_type": "code",
   "execution_count": 221,
   "metadata": {},
   "outputs": [
    {
     "name": "stdout",
     "output_type": "stream",
     "text": [
      "+---------+----------------+------------------+\n",
      "|  company|current_employee|avg_overall_rating|\n",
      "+---------+----------------+------------------+\n",
      "|   amazon|               1|  3.81952313503305|\n",
      "|   amazon|               0|3.2210701942557503|\n",
      "|    apple|               1| 4.088126423690205|\n",
      "|    apple|               0| 3.868416154848316|\n",
      "| facebook|               1| 4.679401993355482|\n",
      "| facebook|               0| 3.888888888888889|\n",
      "|   google|               1|4.4441752917859505|\n",
      "|   google|               0| 4.244104948522086|\n",
      "|microsoft|               1|3.9408730889666606|\n",
      "|microsoft|               0| 3.690241576605213|\n",
      "|  netflix|               1| 3.963380281690141|\n",
      "|  netflix|               0| 3.043859649122807|\n",
      "+---------+----------------+------------------+\n",
      "\n"
     ]
    }
   ],
   "source": [
    "spark.sql(\"\"\"SELECT \n",
    "                company,\n",
    "                current_employee,\n",
    "                avg(overall_ratings) AS avg_overall_rating\n",
    "             from reviews\n",
    "             group by company, current_employee\n",
    "             order by company, avg_overall_rating DESC\n",
    "           \"\"\"\n",
    "         )\\\n",
    "         .show()"
   ]
  },
  {
   "cell_type": "markdown",
   "metadata": {},
   "source": [
    "###  (5) Show the following:\n",
    "1. Former Google employee reviewers \n",
    "2. For locations in Utah, San Francisco, or Japan\n",
    "3. Show count and average work_balance_score "
   ]
  },
  {
   "cell_type": "markdown",
   "metadata": {},
   "source": [
    "##### PySpark Implmentation"
   ]
  },
  {
   "cell_type": "code",
   "execution_count": 205,
   "metadata": {},
   "outputs": [
    {
     "name": "stdout",
     "output_type": "stream",
     "text": [
      "+---------+--------------------+-------+------------+----------------------+\n",
      "|  company|            location|country|review_count|work_balance_stars_avg|\n",
      "+---------+--------------------+-------+------------+----------------------+\n",
      "|   amazon|Ichikawa, Chiba (...|  Japan|           2|                   5.0|\n",
      "|microsoft|          Murray, UT|    USA|           2|                   5.0|\n",
      "|microsoft|         Redmond, UT|    USA|           2|                   5.0|\n",
      "|    apple|       Bountiful, UT|    USA|           1|                   5.0|\n",
      "|    apple|          Murray, UT|    USA|           1|                   5.0|\n",
      "|   google|           Kanab, UT|    USA|           1|                   5.0|\n",
      "|   google|   San Francisco, CA|    USA|          72|     4.355072463768116|\n",
      "|   google|       Tokyo (Japan)|  Japan|           5|                   4.2|\n",
      "|    apple|  Salt Lake City, UT|    USA|          15|     4.153846153846154|\n",
      "|microsoft|    Hachiōji (Japan)|  Japan|           1|                   4.0|\n",
      "|    apple|          Layton, UT|    USA|           1|                   4.0|\n",
      "|   google|Sakai, Osaka (Japan)|  Japan|           1|                   4.0|\n",
      "|microsoft|       Tokyo (Japan)|  Japan|           5|                   3.6|\n",
      "| facebook|   San Francisco, CA|    USA|          11|                   3.5|\n",
      "|    apple|       Tokyo (Japan)|  Japan|           4|                   3.5|\n",
      "|microsoft|  Salt Lake City, UT|    USA|           4|                   3.5|\n",
      "|microsoft|   San Francisco, CA|    USA|          32|    3.4193548387096775|\n",
      "|    apple|   San Francisco, CA|    USA|          76|    3.1597222222222223|\n",
      "|   amazon|  Salt Lake City, UT|    USA|           1|                   3.0|\n",
      "|    apple|       Copperton, UT|    USA|           1|                   3.0|\n",
      "+---------+--------------------+-------+------------+----------------------+\n",
      "only showing top 20 rows\n",
      "\n"
     ]
    }
   ],
   "source": [
    "reviews_by_country = new_reviews.select(\n",
    "                                    col(\"company\"),\n",
    "                                    col(\"location\"),\n",
    "                                    col(\"country\"),\n",
    "                                    col(\"current_employee\"),\n",
    "                                    col(\"work_balance_stars\")\n",
    "                                ) \\\n",
    "                                .where(((col(\"current_employee\").contains(0))) & ((col(\"location\").contains(\"UT\")) | (col(\"location\").contains(\"San Francisco\")) | (col(\"Country\") == \"Japan\"))) \\\n",
    "                                .groupBy([\"company\", \"location\", \"country\"]) \\\n",
    "                                .agg(\n",
    "                                    fn.count(fn.lit(1)).alias(\"review_count\"),\n",
    "                                    avg(col(\"work_balance_stars\")).alias(\"work_balance_stars_avg\")\n",
    "                                ) \\\n",
    "                                .orderBy(['work_balance_stars_avg', 'review_count'], ascending=[0, 0])\n",
    "\n",
    "reviews_by_country.show()"
   ]
  },
  {
   "cell_type": "markdown",
   "metadata": {},
   "source": [
    "##### Spark SQL Implmentation"
   ]
  },
  {
   "cell_type": "code",
   "execution_count": 224,
   "metadata": {},
   "outputs": [
    {
     "name": "stdout",
     "output_type": "stream",
     "text": [
      "+---------+--------------------+-------+------------+----------------------+\n",
      "|  company|            location|country|review_count|work_balance_stars_avg|\n",
      "+---------+--------------------+-------+------------+----------------------+\n",
      "|    apple|       Hollywood, CA|    USA|           2|                  null|\n",
      "|microsoft|       Shoreline, WA|    USA|           1|                  null|\n",
      "|   amazon|        Ringgold, GA|    USA|           1|                  null|\n",
      "|   amazon|     Kansas City, MO|    USA|           1|                  null|\n",
      "|   amazon|  Sparrows Point, MD|    USA|           1|                  null|\n",
      "|microsoft|Palm Beach Garden...|    USA|           1|                  null|\n",
      "|    apple|Longueuil, QC (Ca...| Canada|           1|                  null|\n",
      "|microsoft|      Indore (India)|  India|           1|                  null|\n",
      "|   amazon|   Overland Park, KS|    USA|           1|                  null|\n",
      "|   amazon|         Pomfret, MD|    USA|           1|                  null|\n",
      "|    apple|      Plantation, FL|    USA|           1|                  null|\n",
      "|   amazon|  Fredericksburg, VA|    USA|           1|                  null|\n",
      "|microsoft|   Black Diamond, WA|    USA|           1|                  null|\n",
      "|   amazon|Calgary, AB (Canada)| Canada|           1|                  null|\n",
      "|   amazon|       North Sea, NY|    USA|           1|                  null|\n",
      "|microsoft|      Menlo Park, CA|    USA|           1|                  null|\n",
      "|   google| College Station, TX|    USA|           1|                  null|\n",
      "|    apple|  Woodland Hills, CA|    USA|           1|                  null|\n",
      "|    apple|        Glendale, AZ|    USA|           1|                  null|\n",
      "|microsoft|         Poulsbo, WA|    USA|           1|                  null|\n",
      "+---------+--------------------+-------+------------+----------------------+\n",
      "only showing top 20 rows\n",
      "\n"
     ]
    }
   ],
   "source": [
    "spark.sql(\"\"\"SELECT \n",
    "                company,\n",
    "                location,\n",
    "                country,\n",
    "                count(*) AS review_count,\n",
    "                avg(work_balance_stars) AS work_balance_stars_avg\n",
    "             from reviews\n",
    "             WHERE current_employee = 0\n",
    "             group by company, location, country\n",
    "             order by work_balance_stars_avg, review_count DESC\n",
    "           \"\"\"\n",
    "         )\\\n",
    "         .show()"
   ]
  },
  {
   "cell_type": "markdown",
   "metadata": {},
   "source": [
    "# Visualize Your Data (Bonus Points)"
   ]
  },
  {
   "cell_type": "code",
   "execution_count": null,
   "metadata": {},
   "outputs": [],
   "source": []
  }
 ],
 "metadata": {
  "kernelspec": {
   "display_name": "Python 3",
   "language": "python",
   "name": "python3"
  },
  "language_info": {
   "codemirror_mode": {
    "name": "ipython",
    "version": 3
   },
   "file_extension": ".py",
   "mimetype": "text/x-python",
   "name": "python",
   "nbconvert_exporter": "python",
   "pygments_lexer": "ipython3",
   "version": "3.6.4"
  }
 },
 "nbformat": 4,
 "nbformat_minor": 2
}
